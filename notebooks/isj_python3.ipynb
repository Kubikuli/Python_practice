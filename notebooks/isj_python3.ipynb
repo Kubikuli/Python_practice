{
 "cells": [
  {
   "cell_type": "markdown",
   "metadata": {
    "slideshow": {
     "slide_type": "slide"
    }
   },
   "source": [
    "## Shebang, docstrings, comments"
   ]
  },
  {
   "cell_type": "markdown",
   "metadata": {
    "slideshow": {
     "slide_type": "subslide"
    }
   },
   "source": [
    "- https://en.wikipedia.org/wiki/Shebang_(Unix)\n",
    "- https://www.python.org/dev/peps/pep-0008/\n",
    "- https://www.youtube.com/watch?v=hgI0p1zf31k\n",
    "- https://www.python.org/dev/peps/pep-0257/\n",
    "- http://stackoverflow.com/questions/3898572/what-is-the-standard-python-docstring-format\n",
    "- https://docs.python.org/3/library/doctest.html"
   ]
  },
  {
   "cell_type": "markdown",
   "metadata": {
    "slideshow": {
     "slide_type": "subslide"
    }
   },
   "source": [
    "A lot of things given by naming conventions\n",
    "\n",
    "For example, Python does not have constants\n",
    "\n",
    "What a developer sees as a constant, it should use an UPPERCASE name"
   ]
  },
  {
   "cell_type": "code",
   "execution_count": null,
   "metadata": {
    "slideshow": {
     "slide_type": "subslide"
    }
   },
   "outputs": [],
   "source": [
    "NUMBERS = [2, 1, 3, 4, 7, 11, 18]\n",
    "numb = NUMBERS\n",
    "numb.append(42)\n",
    "print(NUMBERS)"
   ]
  },
  {
   "cell_type": "markdown",
   "metadata": {
    "slideshow": {
     "slide_type": "slide"
    }
   },
   "source": [
    "## String formatting"
   ]
  },
  {
   "cell_type": "code",
   "execution_count": null,
   "metadata": {
    "slideshow": {
     "slide_type": "subslide"
    }
   },
   "outputs": [],
   "source": [
    "world = \"Earth\""
   ]
  },
  {
   "cell_type": "code",
   "execution_count": null,
   "metadata": {
    "slideshow": {
     "slide_type": "subslide"
    }
   },
   "outputs": [],
   "source": [
    "# method 1a\n",
    "\"Hello, %s\" % world"
   ]
  },
  {
   "cell_type": "code",
   "execution_count": null,
   "metadata": {
    "slideshow": {
     "slide_type": "subslide"
    }
   },
   "outputs": [],
   "source": [
    "# method 1b\n",
    "\"Hello, %(planet)s\" % {\"planet\": world}"
   ]
  },
  {
   "cell_type": "code",
   "execution_count": null,
   "metadata": {
    "slideshow": {
     "slide_type": "subslide"
    }
   },
   "outputs": [],
   "source": [
    "# method 2a\n",
    "\"Hello, {0}\".format(world)"
   ]
  },
  {
   "cell_type": "code",
   "execution_count": null,
   "metadata": {
    "slideshow": {
     "slide_type": "subslide"
    }
   },
   "outputs": [],
   "source": [
    "# method 2b\n",
    "\"Hello, {planet}\".format(planet=world)"
   ]
  },
  {
   "cell_type": "code",
   "execution_count": null,
   "metadata": {
    "slideshow": {
     "slide_type": "subslide"
    }
   },
   "outputs": [],
   "source": [
    "from string import Template\n",
    "\n",
    "# method 3\n",
    "Template(\"Hello, $planet\").substitute(planet=world)"
   ]
  },
  {
   "cell_type": "code",
   "execution_count": null,
   "metadata": {
    "slideshow": {
     "slide_type": "subslide"
    }
   },
   "outputs": [],
   "source": [
    "world = 'world'\n",
    "print(f'Hello, {world}.')"
   ]
  },
  {
   "cell_type": "code",
   "execution_count": null,
   "metadata": {
    "slideshow": {
     "slide_type": "subslide"
    }
   },
   "outputs": [],
   "source": [
    "what = 'world'\n",
    "print(f'{what=}')"
   ]
  },
  {
   "cell_type": "markdown",
   "metadata": {
    "slideshow": {
     "slide_type": "slide"
    }
   },
   "source": [
    "**References:**\n",
    "\n",
    "1. https://docs.python.org/3/reference/lexical_analysis.html#f-strings\n",
    "\n",
    "2. https://docs.python.org/3/library/string.html#format-specification-mini-language\n",
    "\n",
    "3. https://strftime.org/\n",
    "\n",
    "4. https://medium.com/geekculture/python-f-string-codes-i-use-every-day-e03558f12057\n",
    "\n",
    "5. https://stackoverflow.com/questions/72469286/python-f-string-integer-with-thousands-comma-and-space-padded"
   ]
  },
  {
   "cell_type": "markdown",
   "metadata": {
    "slideshow": {
     "slide_type": "slide"
    }
   },
   "source": [
    "## Basic usage"
   ]
  },
  {
   "cell_type": "code",
   "execution_count": null,
   "metadata": {
    "slideshow": {
     "slide_type": "slide"
    }
   },
   "outputs": [],
   "source": [
    "author = \"pawjast\"\n",
    "year = 2022\n",
    "\n",
    "print(f\"Example 1: {author}\")  # string\n",
    "print(f\"Example 2: {year}\")  # number\n",
    "print(f\"Example 3: {2 + 2}\")  # expression"
   ]
  },
  {
   "cell_type": "markdown",
   "metadata": {
    "slideshow": {
     "slide_type": "slide"
    }
   },
   "source": [
    "**Note:** By using the `=` sign we can print variable name with value."
   ]
  },
  {
   "cell_type": "code",
   "execution_count": null,
   "metadata": {
    "slideshow": {
     "slide_type": "slide"
    }
   },
   "outputs": [],
   "source": [
    "text = \"Data Science Blog\"\n",
    "\n",
    "print(f\"{text=}\")"
   ]
  },
  {
   "cell_type": "markdown",
   "metadata": {
    "slideshow": {
     "slide_type": "slide"
    }
   },
   "source": [
    "## Recap on numbers"
   ]
  },
  {
   "cell_type": "code",
   "execution_count": 3,
   "metadata": {
    "slideshow": {
     "slide_type": "slide"
    }
   },
   "outputs": [
    {
     "name": "stdout",
     "output_type": "stream",
     "text": [
      "Example 1 - int: 1\n",
      "Example 2 - int with _ as thousands separator: 1000\n",
      "Example 3 - float: 1.125\n",
      "Example 4 - float with trailing zero: 3.5\n",
      "Example 5 - float in scientific notation: 123.0\n"
     ]
    }
   ],
   "source": [
    "int_1 = 1\n",
    "int_with_separator = 1_000  # `int` with 1,000 separator\n",
    "float_1 = 1.125\n",
    "float_2 = 3.50\n",
    "scientific_1 = 1.23e2  # 1.23 * 10^2\n",
    "\n",
    "print(f\"Example 1 - int: {int_1}\")\n",
    "print(f\"Example 2 - int with _ as thousands separator: {int_with_separator}\")\n",
    "print(f\"Example 3 - float: {float_1}\")\n",
    "print(f\"Example 4 - float with trailing zero: {float_2}\")\n",
    "print(f\"Example 5 - float in scientific notation: {scientific_1}\")"
   ]
  },
  {
   "cell_type": "markdown",
   "metadata": {
    "slideshow": {
     "slide_type": "slide"
    }
   },
   "source": [
    "## Type `f` - floats"
   ]
  },
  {
   "cell_type": "code",
   "execution_count": 4,
   "metadata": {
    "slideshow": {
     "slide_type": "slide"
    }
   },
   "outputs": [
    {
     "name": "stdout",
     "output_type": "stream",
     "text": [
      "Example 1: 3.141592\n",
      "Example 2: 3\n",
      "Example 3: 3.1\n",
      "Example 4: 3.142\n"
     ]
    }
   ],
   "source": [
    "pi_val = 3.141592\n",
    "\n",
    "print(f\"Example 1: {pi_val:f}\")\n",
    "print(f\"Example 2: {pi_val:.0f}\")\n",
    "print(f\"Example 3: {pi_val:.1f}\")\n",
    "print(f\"Example 4: {pi_val:.3f}\")"
   ]
  },
  {
   "cell_type": "markdown",
   "metadata": {
    "slideshow": {
     "slide_type": "slide"
    }
   },
   "source": [
    "**Note:** nested expressions are possible."
   ]
  },
  {
   "cell_type": "code",
   "execution_count": 5,
   "metadata": {
    "slideshow": {
     "slide_type": "slide"
    }
   },
   "outputs": [
    {
     "name": "stdout",
     "output_type": "stream",
     "text": [
      "1.500\n"
     ]
    }
   ],
   "source": [
    "float_val = 1.5\n",
    "precision = 3\n",
    "\n",
    "print(f\"{float_val:.{precision}f}\")"
   ]
  },
  {
   "cell_type": "markdown",
   "metadata": {
    "slideshow": {
     "slide_type": "slide"
    }
   },
   "source": [
    "## Type `%`"
   ]
  },
  {
   "cell_type": "code",
   "execution_count": 6,
   "metadata": {
    "slideshow": {
     "slide_type": "slide"
    }
   },
   "outputs": [
    {
     "name": "stdout",
     "output_type": "stream",
     "text": [
      "Example 1: 50.000000%\n",
      "Example 2: 50%\n"
     ]
    }
   ],
   "source": [
    "val = 0.5\n",
    "\n",
    "print(f\"Example 1: {val:%}\")\n",
    "print(f\"Example 2: {val:.0%}\")\n"
   ]
  },
  {
   "cell_type": "code",
   "execution_count": 7,
   "metadata": {
    "slideshow": {
     "slide_type": "slide"
    }
   },
   "outputs": [
    {
     "name": "stdout",
     "output_type": "stream",
     "text": [
      "Example 1: 125%\n",
      "Example 2: 125.5%\n"
     ]
    }
   ],
   "source": [
    "val = 1.255\n",
    "\n",
    "print(f\"Example 1: {val:.0%}\")\n",
    "print(f\"Example 2: {val:.1%}\")"
   ]
  },
  {
   "cell_type": "markdown",
   "metadata": {
    "slideshow": {
     "slide_type": "slide"
    }
   },
   "source": [
    "## Type `e`/`E` - scientific notation"
   ]
  },
  {
   "cell_type": "code",
   "execution_count": null,
   "metadata": {
    "slideshow": {
     "slide_type": "slide"
    }
   },
   "outputs": [],
   "source": [
    "val = 1.23e3  # 1.23 * 10^3\n",
    "\n",
    "print(f\"Example 1: {val:e}\")\n",
    "print(f\"Example 2: {val:E}\")"
   ]
  },
  {
   "cell_type": "code",
   "execution_count": 11,
   "metadata": {
    "slideshow": {
     "slide_type": "slide"
    }
   },
   "outputs": [
    {
     "name": "stdout",
     "output_type": "stream",
     "text": [
      "1.23e+03\n"
     ]
    }
   ],
   "source": [
    "# limited precision\n",
    "val = 1.2345e3\n",
    "\n",
    "print(f\"{val:.2e}\")"
   ]
  },
  {
   "cell_type": "code",
   "execution_count": 12,
   "metadata": {
    "slideshow": {
     "slide_type": "slide"
    }
   },
   "outputs": [
    {
     "name": "stdout",
     "output_type": "stream",
     "text": [
      "2.025e+03\n"
     ]
    }
   ],
   "source": [
    "# Printing regular number in scientific notation\n",
    "val = 2025\n",
    "\n",
    "print(f\"{val:.3e}\")"
   ]
  },
  {
   "cell_type": "markdown",
   "metadata": {
    "slideshow": {
     "slide_type": "slide"
    }
   },
   "source": [
    "## Type `d` - integers"
   ]
  },
  {
   "cell_type": "code",
   "execution_count": 13,
   "metadata": {
    "slideshow": {
     "slide_type": "slide"
    }
   },
   "outputs": [
    {
     "name": "stdout",
     "output_type": "stream",
     "text": [
      "1\n"
     ]
    }
   ],
   "source": [
    "val = 1\n",
    "\n",
    "print(f\"{val:d}\")"
   ]
  },
  {
   "cell_type": "code",
   "execution_count": 14,
   "metadata": {
    "slideshow": {
     "slide_type": "slide"
    }
   },
   "outputs": [
    {
     "name": "stdout",
     "output_type": "stream",
     "text": [
      "1,000\n",
      "1,000,000,000\n"
     ]
    }
   ],
   "source": [
    "# Printing thousands separator\n",
    "int_1 = 1000\n",
    "int_2 = 1000_000_000\n",
    "\n",
    "print(f\"{int_1:,d}\")\n",
    "print(f\"{int_2:,d}\")"
   ]
  },
  {
   "cell_type": "markdown",
   "metadata": {
    "slideshow": {
     "slide_type": "slide"
    }
   },
   "source": [
    "## Type `n` - numbers"
   ]
  },
  {
   "cell_type": "code",
   "execution_count": 15,
   "metadata": {
    "slideshow": {
     "slide_type": "slide"
    }
   },
   "outputs": [
    {
     "name": "stdout",
     "output_type": "stream",
     "text": [
      "val_int = 1\n",
      "val_float = 1.234\n",
      "val_scient = 456.7\n"
     ]
    }
   ],
   "source": [
    "val_int = 1\n",
    "val_float = 1.234\n",
    "val_scient = 4.567e2\n",
    "\n",
    "print(f\"{val_int =: n}\")\n",
    "print(f\"{val_float =: n}\")\n",
    "print(f\"{val_scient =: n}\")"
   ]
  },
  {
   "cell_type": "code",
   "execution_count": 16,
   "metadata": {
    "slideshow": {
     "slide_type": "slide"
    }
   },
   "outputs": [
    {
     "name": "stdout",
     "output_type": "stream",
     "text": [
      "val_float_1 = 1.2\n",
      "val_float_2 = 20\n",
      "val_float_3 = 1.2e+02\n"
     ]
    }
   ],
   "source": [
    "val_float_1 = 1.234\n",
    "val_float_2 = 20.234\n",
    "val_float_3 = 123.456\n",
    "print(f\"{val_float_1 =: .2n}\")  # prints as truncated float\n",
    "print(f\"{val_float_2 =: .2n}\")  # prints as int\n",
    "print(f\"{val_float_3 =: .2n}\")  # prints as scientific notation"
   ]
  },
  {
   "cell_type": "markdown",
   "metadata": {
    "slideshow": {
     "slide_type": "slide"
    }
   },
   "source": [
    "## Dates"
   ]
  },
  {
   "cell_type": "code",
   "execution_count": 18,
   "metadata": {
    "slideshow": {
     "slide_type": "slide"
    }
   },
   "outputs": [],
   "source": [
    "from datetime import date, datetime"
   ]
  },
  {
   "cell_type": "code",
   "execution_count": 19,
   "metadata": {
    "slideshow": {
     "slide_type": "slide"
    }
   },
   "outputs": [
    {
     "name": "stdout",
     "output_type": "stream",
     "text": [
      "2022-09-01\n"
     ]
    }
   ],
   "source": [
    "day = date(\n",
    "    year=2022,\n",
    "    month=9,\n",
    "    day=1\n",
    ")\n",
    "\n",
    "print(f\"{day}\")"
   ]
  },
  {
   "cell_type": "code",
   "execution_count": 20,
   "metadata": {
    "slideshow": {
     "slide_type": "slide"
    }
   },
   "outputs": [
    {
     "name": "stdout",
     "output_type": "stream",
     "text": [
      "2022-09-01\n",
      "2022/09/01\n"
     ]
    }
   ],
   "source": [
    "# Recreate the default format\n",
    "print(f\"{day:%Y-%m-%d}\")\n",
    "print(f\"{day:%Y/%m/%d}\")  # use / as separator"
   ]
  },
  {
   "cell_type": "code",
   "execution_count": null,
   "metadata": {
    "slideshow": {
     "slide_type": "slide"
    }
   },
   "outputs": [],
   "source": [
    "# Turn month into text (short/long version)\n",
    "print(f\"{day:%Y %b %d}\")\n",
    "print(f\"{day:%Y %B %d}\")"
   ]
  },
  {
   "cell_type": "code",
   "execution_count": null,
   "metadata": {
    "slideshow": {
     "slide_type": "slide"
    }
   },
   "outputs": [],
   "source": [
    "# Re-use the same variable multiple times and in different formats\n",
    "print(f\"{day:%b or %B}?\")\n",
    "print(f\"{day:%Y %Y %Y}\")"
   ]
  },
  {
   "cell_type": "code",
   "execution_count": null,
   "metadata": {
    "slideshow": {
     "slide_type": "slide"
    }
   },
   "outputs": [],
   "source": [
    "print(f\"{day:%Y %b %d (%A)}\")"
   ]
  },
  {
   "cell_type": "code",
   "execution_count": null,
   "metadata": {
    "slideshow": {
     "slide_type": "slide"
    }
   },
   "outputs": [],
   "source": [
    "print(f\"{day:%y.%m.%d}\")"
   ]
  },
  {
   "cell_type": "markdown",
   "metadata": {
    "slideshow": {
     "slide_type": "slide"
    }
   },
   "source": [
    "## Datetimes"
   ]
  },
  {
   "cell_type": "code",
   "execution_count": 22,
   "metadata": {
    "slideshow": {
     "slide_type": "slide"
    }
   },
   "outputs": [
    {
     "name": "stdout",
     "output_type": "stream",
     "text": [
      "2022-09-01 17:30:45\n",
      "2025-04-02 07:56:42.817186\n"
     ]
    }
   ],
   "source": [
    "day_and_time = datetime(\n",
    "    year=2022,\n",
    "    month=9,\n",
    "    day=1,\n",
    "    hour=17,\n",
    "    minute=30,\n",
    "    second=45\n",
    ")\n",
    "now = datetime.now()\n",
    "\n",
    "print(f\"{day_and_time}\")\n",
    "print(f\"{now}\")  # with microseconds"
   ]
  },
  {
   "cell_type": "code",
   "execution_count": 24,
   "metadata": {
    "slideshow": {
     "slide_type": "slide"
    }
   },
   "outputs": [
    {
     "name": "stdout",
     "output_type": "stream",
     "text": [
      "2025-04-02 07:56:42.817186\n"
     ]
    }
   ],
   "source": [
    "# Recreate the default format:\n",
    "print(f\"{now:%Y-%m-%d %H:%M:%S.%f}\")"
   ]
  },
  {
   "cell_type": "code",
   "execution_count": 25,
   "metadata": {
    "slideshow": {
     "slide_type": "slide"
    }
   },
   "outputs": [
    {
     "data": {
      "text/plain": [
       "str"
      ]
     },
     "execution_count": 25,
     "metadata": {},
     "output_type": "execute_result"
    }
   ],
   "source": [
    "type(f\"{now:%Y-%m-%d %H:%M:%S.%f}\")"
   ]
  },
  {
   "cell_type": "code",
   "execution_count": 26,
   "metadata": {
    "slideshow": {
     "slide_type": "slide"
    }
   },
   "outputs": [
    {
     "name": "stdout",
     "output_type": "stream",
     "text": [
      "2025-04-02 07:56:42.81\n"
     ]
    }
   ],
   "source": [
    "# Recreate the default format and reduce precision on microseconds with slicing\n",
    "print(f\"{now:%Y-%m-%d %H:%M:%S.%f}\"[:22])"
   ]
  },
  {
   "cell_type": "code",
   "execution_count": 27,
   "metadata": {
    "slideshow": {
     "slide_type": "slide"
    }
   },
   "outputs": [
    {
     "name": "stdout",
     "output_type": "stream",
     "text": [
      "24hr: 2022-09-01 17:30:45\n",
      "12hr: 2022-09-01 05:30:45\n",
      "12hr with AM/PM: 2022-09-01 05:30:45 PM\n"
     ]
    }
   ],
   "source": [
    "# Change 24hr format to 12hr format:\n",
    "print(f\"24hr: {day_and_time:%Y-%m-%d %H:%M:%S}\")\n",
    "print(f\"12hr: {day_and_time:%Y-%m-%d %I:%M:%S}\")\n",
    "print(f\"12hr with AM/PM: {day_and_time:%Y-%m-%d %I:%M:%S %p}\")"
   ]
  },
  {
   "cell_type": "markdown",
   "metadata": {
    "slideshow": {
     "slide_type": "slide"
    }
   },
   "source": [
    "**Note:** other useful date codes."
   ]
  },
  {
   "cell_type": "code",
   "execution_count": 28,
   "metadata": {
    "slideshow": {
     "slide_type": "slide"
    }
   },
   "outputs": [
    {
     "name": "stdout",
     "output_type": "stream",
     "text": [
      "The date: 2018-09-17\n",
      "Day of the year:  260\n",
      "Week of the year (Mon):  38\n",
      "Week of the year (Sun):  37\n"
     ]
    }
   ],
   "source": [
    "day = date(\n",
    "    year=2018,\n",
    "    month=9,\n",
    "    day=17\n",
    ")\n",
    "\n",
    "print(f\"The date: {day}\")\n",
    "print(f\"Day of the year: {day: %j}\")\n",
    "print(f\"Week of the year (Mon): {day: %W}\")\n",
    "print(f\"Week of the year (Sun): {day: %U}\")"
   ]
  },
  {
   "cell_type": "markdown",
   "metadata": {
    "slideshow": {
     "slide_type": "slide"
    }
   },
   "source": [
    "## Padding"
   ]
  },
  {
   "cell_type": "code",
   "execution_count": 29,
   "metadata": {
    "slideshow": {
     "slide_type": "slide"
    }
   },
   "outputs": [
    {
     "name": "stdout",
     "output_type": "stream",
     "text": [
      "1: 1\n",
      "2:  1\n",
      "3:   1\n"
     ]
    }
   ],
   "source": [
    "# Padding with empty space\n",
    "val = 1\n",
    "\n",
    "print(f\"1: {val:1d}\")\n",
    "print(f\"2: {val:2d}\")\n",
    "print(f\"3: {val:3d}\")"
   ]
  },
  {
   "cell_type": "code",
   "execution_count": 30,
   "metadata": {
    "slideshow": {
     "slide_type": "slide"
    }
   },
   "outputs": [
    {
     "name": "stdout",
     "output_type": "stream",
     "text": [
      "1: 1\n",
      "2: 01\n",
      "3: 001\n"
     ]
    }
   ],
   "source": [
    "# Padding with zeros\n",
    "val = 1\n",
    "\n",
    "print(f\"1: {val:01d}\")\n",
    "print(f\"2: {val:02d}\")\n",
    "print(f\"3: {val:03d}\")"
   ]
  },
  {
   "cell_type": "code",
   "execution_count": 31,
   "metadata": {
    "slideshow": {
     "slide_type": "slide"
    }
   },
   "outputs": [
    {
     "name": "stdout",
     "output_type": "stream",
     "text": [
      "00\n",
      "01\n",
      "02\n",
      "03\n",
      "04\n",
      "05\n",
      "06\n",
      "07\n",
      "08\n",
      "09\n",
      "10\n"
     ]
    }
   ],
   "source": [
    "# Useful in loops\n",
    "for i in range(11):\n",
    "    print(f\"{i:02d}\")"
   ]
  },
  {
   "cell_type": "code",
   "execution_count": 36,
   "metadata": {
    "slideshow": {
     "slide_type": "slide"
    }
   },
   "outputs": [
    {
     "ename": "ValueError",
     "evalue": "Unknown format code 'd' for object of type 'float'",
     "output_type": "error",
     "traceback": [
      "\u001b[1;31m---------------------------------------------------------------------------\u001b[0m",
      "\u001b[1;31mValueError\u001b[0m                                Traceback (most recent call last)",
      "Cell \u001b[1;32mIn[36], line 2\u001b[0m\n\u001b[0;32m      1\u001b[0m a \u001b[38;5;241m=\u001b[39m \u001b[38;5;241m1.23\u001b[39m\n\u001b[1;32m----> 2\u001b[0m \u001b[38;5;28mprint\u001b[39m(\u001b[38;5;124mf\u001b[39m\u001b[38;5;124m\"\u001b[39m\u001b[38;5;132;01m{\u001b[39;00ma\u001b[38;5;132;01m:\u001b[39;00m\u001b[38;5;124m12,d\u001b[39m\u001b[38;5;132;01m}\u001b[39;00m\u001b[38;5;124m\"\u001b[39m)\n",
      "\u001b[1;31mValueError\u001b[0m: Unknown format code 'd' for object of type 'float'"
     ]
    }
   ],
   "source": [
    "a = 1.23\n",
    "print(f\"{a:12,d}\") "
   ]
  },
  {
   "cell_type": "code",
   "execution_count": 32,
   "metadata": {
    "slideshow": {
     "slide_type": "slide"
    }
   },
   "outputs": [
    {
     "name": "stdout",
     "output_type": "stream",
     "text": [
      " 123,456,789\n",
      "  12,345,678\n"
     ]
    }
   ],
   "source": [
    "a = 123456789\n",
    "b = 12345678\n",
    "print(f\"{a:12,d}\\n{b:12,d}\") "
   ]
  },
  {
   "cell_type": "code",
   "execution_count": 38,
   "metadata": {
    "slideshow": {
     "slide_type": "slide"
    }
   },
   "outputs": [
    {
     "name": "stdout",
     "output_type": "stream",
     "text": [
      " 12,345,678\n",
      "123,456,789\n"
     ]
    }
   ],
   "source": [
    "numbers = [12345678, 123456789]\n",
    "num_strs = [f'{num:,d}' for num in numbers]\n",
    "max_len = max(len(s) for s in num_strs)\n",
    "right_aligned = [f'{s:>{max_len}}' for s in num_strs]\n",
    "print('\\n'.join(right_aligned))"
   ]
  },
  {
   "cell_type": "markdown",
   "metadata": {
    "slideshow": {
     "slide_type": "slide"
    }
   },
   "source": [
    "## Sign: `+`, `-` or ` `"
   ]
  },
  {
   "cell_type": "code",
   "execution_count": 39,
   "metadata": {
    "slideshow": {
     "slide_type": "slide"
    }
   },
   "outputs": [
    {
     "name": "stdout",
     "output_type": "stream",
     "text": [
      "1: +1.23   -1.23\n",
      "2: 1.23   -1.23\n",
      "3:  1.23   -1.23\n"
     ]
    }
   ],
   "source": [
    "positive = 1.23\n",
    "negative = -1.23\n",
    "\n",
    "print(f\"1: {positive:+.2f}   {negative:+.2f}\")\n",
    "print(f\"2: {positive:-.2f}   {negative:-.2f}\")\n",
    "print(f\"3: {positive: .2f}   {negative: .2f}\")"
   ]
  },
  {
   "cell_type": "markdown",
   "metadata": {
    "slideshow": {
     "slide_type": "slide"
    }
   },
   "source": [
    "## Example\n",
    "\n",
    "Putting all things together."
   ]
  },
  {
   "cell_type": "code",
   "execution_count": 42,
   "metadata": {
    "slideshow": {
     "slide_type": "slide"
    }
   },
   "outputs": [
    {
     "name": "stdout",
     "output_type": "stream",
     "text": [
      "val = 11,500.235\n"
     ]
    }
   ],
   "source": [
    "# print variable with name, limit precision and thousands separator\n",
    "val = 11500.23456\n",
    "\n",
    "print(f\"{val = :,.3f}\")"
   ]
  },
  {
   "cell_type": "code",
   "execution_count": 49,
   "metadata": {
    "slideshow": {
     "slide_type": "slide"
    }
   },
   "outputs": [
    {
     "name": "stdout",
     "output_type": "stream",
     "text": [
      "123,457\n"
     ]
    }
   ],
   "source": [
    "import locale\n",
    "locale.setlocale(locale.LC_ALL, 'cs_CZ')\n",
    "position = 123.4567\n",
    "print(f'{position:n}')  "
   ]
  },
  {
   "cell_type": "code",
   "execution_count": 61,
   "metadata": {
    "slideshow": {
     "slide_type": "slide"
    }
   },
   "outputs": [
    {
     "data": {
      "text/plain": [
       "'Position: 123,456'"
      ]
     },
     "execution_count": 61,
     "metadata": {},
     "output_type": "execute_result"
    }
   ],
   "source": [
    "position = 123.456\n",
    "f\"Position: {str(position).replace('.',',')}\""
   ]
  },
  {
   "cell_type": "markdown",
   "metadata": {
    "slideshow": {
     "slide_type": "slide"
    }
   },
   "source": [
    "# Logging > printing"
   ]
  },
  {
   "cell_type": "markdown",
   "metadata": {
    "slideshow": {
     "slide_type": "subslide"
    }
   },
   "source": [
    "Python logging library is much better than putting print statements everywhere\n",
    "\n",
    "https://www.loggly.com/blog/4-reasons-a-python-logging-library-is-much-better-than-putting-print-statements-everywhere/"
   ]
  },
  {
   "cell_type": "markdown",
   "metadata": {
    "slideshow": {
     "slide_type": "subslide"
    }
   },
   "source": [
    "The Python logging library lets you:\n",
    "\n",
    "- Control what’s emitted\n",
    "- Define what types of information you want to include in your logs\n",
    "- Configure how it looks when it’s emitted\n",
    "- Set the destination for your logs "
   ]
  },
  {
   "cell_type": "code",
   "execution_count": null,
   "metadata": {
    "slideshow": {
     "slide_type": "subslide"
    }
   },
   "outputs": [],
   "source": [
    "import logging\n",
    "\n",
    "# Get the top-level logger object\n",
    "log = logging.getLogger()\n",
    "\n",
    "# make it print to the console.\n",
    "console = logging.StreamHandler()\n",
    "log.addHandler(console)\n",
    "\n",
    "# emit a warning to the puny Humans\n",
    "log.warning('Citizens of Earth, be warned!')"
   ]
  },
  {
   "cell_type": "markdown",
   "metadata": {
    "slideshow": {
     "slide_type": "subslide"
    }
   },
   "source": [
    "Levels of logging:\n",
    "- CRITICAL\t50\n",
    "- ERROR\t40\n",
    "- WARNING\t30\n",
    "- INFO\t20\n",
    "- DEBUG\t10\n",
    "- NOTSET\t0"
   ]
  },
  {
   "cell_type": "code",
   "execution_count": null,
   "metadata": {
    "slideshow": {
     "slide_type": "subslide"
    }
   },
   "outputs": [],
   "source": [
    "import logging\n",
    "logging.warning('Watch out!')  # will print a message to the console\n",
    "logging.info('I told you so')  # will not print anything"
   ]
  },
  {
   "cell_type": "code",
   "execution_count": null,
   "metadata": {
    "slideshow": {
     "slide_type": "subslide"
    }
   },
   "outputs": [],
   "source": [
    "import logging\n",
    "\n",
    "log = logging.getLogger(__name__)\n",
    "\n",
    "def do_something():\n",
    "    log.debug(\"Doing something!\")"
   ]
  },
  {
   "cell_type": "code",
   "execution_count": null,
   "metadata": {
    "slideshow": {
     "slide_type": "subslide"
    }
   },
   "outputs": [],
   "source": [
    "import logging\n",
    "logging.basicConfig(filename='example.log', encoding='utf-8', level=logging.DEBUG)\n",
    "logging.debug('This message should go to the log file')\n",
    "logging.info('So should this')\n",
    "logging.warning('And this, too')\n",
    "logging.error('And non-ASCII stuff, too, like Øresund and Malmö')"
   ]
  },
  {
   "cell_type": "code",
   "execution_count": null,
   "metadata": {
    "slideshow": {
     "slide_type": "subslide"
    }
   },
   "outputs": [],
   "source": [
    "import logging\n",
    "log = logging.getLogger()\n",
    "\n",
    "# Set a severity threshold to one above WARN\n",
    "log.setLevel(logging.ERROR)\n",
    "\n",
    "# This WARNING will not reach the Humans.\n",
    "log.warning('Citizens of Earth, be warned!')\n",
    "\n",
    "# This CRITICAL message, however, will not be ignored.\n",
    "log.critical('Citizens of Earth, your planet will be removed NOW!')"
   ]
  },
  {
   "cell_type": "code",
   "execution_count": null,
   "metadata": {
    "slideshow": {
     "slide_type": "subslide"
    }
   },
   "outputs": [],
   "source": [
    "import logging\n",
    "import os\n",
    "\n",
    "logging.basicConfig(level=os.environ.get(\"LOGLEVEL\", \"INFO\"))\n",
    "\n",
    "exit(main())"
   ]
  },
  {
   "cell_type": "markdown",
   "metadata": {
    "slideshow": {
     "slide_type": "slide"
    }
   },
   "source": [
    "# Errors and exceptions"
   ]
  },
  {
   "cell_type": "markdown",
   "metadata": {
    "slideshow": {
     "slide_type": "subslide"
    }
   },
   "source": [
    "### What is wrong with the following code?"
   ]
  },
  {
   "cell_type": "code",
   "execution_count": null,
   "metadata": {
    "slideshow": {
     "slide_type": "fragment"
    }
   },
   "outputs": [],
   "source": [
    "import os\n",
    "def get_status(file):\n",
    "    if not os.path.exists(file):\n",
    "        print(\"file not found\")\n",
    "        sys.exit(1)\n",
    "    return open(file).readline()\n"
   ]
  },
  {
   "cell_type": "markdown",
   "metadata": {
    "slideshow": {
     "slide_type": "subslide"
    }
   },
   "source": [
    "the file could be deleted between os.path.exists() and open()\n",
    "\n",
    "the file could exist but could be inaccessible for reading  \n",
    "(the last line then raises IOError)"
   ]
  },
  {
   "cell_type": "code",
   "execution_count": null,
   "metadata": {
    "slideshow": {
     "slide_type": "subslide"
    }
   },
   "outputs": [],
   "source": [
    "def get_status(file):\n",
    "    try:\n",
    "        return open(file).readline()\n",
    "    except (IOError, OSError):\n",
    "        print(\"file not found\")\n",
    "        sys.exit(1)\n"
   ]
  },
  {
   "cell_type": "code",
   "execution_count": null,
   "metadata": {
    "slideshow": {
     "slide_type": "subslide"
    }
   },
   "outputs": [],
   "source": [
    "while True\n",
    "    print('Hello world')"
   ]
  },
  {
   "cell_type": "markdown",
   "metadata": {
    "slideshow": {
     "slide_type": "fragment"
    }
   },
   "source": [
    "*Syntax errors*, also known as *parsing errors*, are perhaps the most common kind of complaint you get while you are still learning Python"
   ]
  },
  {
   "cell_type": "markdown",
   "metadata": {
    "slideshow": {
     "slide_type": "subslide"
    }
   },
   "source": [
    "Even if a statement or expression is syntactically correct, it may cause an error when an attempt is made to execute it"
   ]
  },
  {
   "cell_type": "markdown",
   "metadata": {
    "slideshow": {
     "slide_type": "subslide"
    }
   },
   "source": [
    "Errors detected during *execution* are called exceptions and are not unconditionally fatal"
   ]
  },
  {
   "cell_type": "markdown",
   "metadata": {
    "slideshow": {
     "slide_type": "subslide"
    }
   },
   "source": [
    "Most exceptions are not handled by programs, however, and result in error messages"
   ]
  },
  {
   "cell_type": "code",
   "execution_count": null,
   "metadata": {
    "slideshow": {
     "slide_type": "subslide"
    }
   },
   "outputs": [],
   "source": [
    "10 * (1/0)"
   ]
  },
  {
   "cell_type": "code",
   "execution_count": null,
   "metadata": {
    "slideshow": {
     "slide_type": "subslide"
    }
   },
   "outputs": [],
   "source": [
    "4 + undefined_name * 3"
   ]
  },
  {
   "cell_type": "code",
   "execution_count": null,
   "metadata": {
    "slideshow": {
     "slide_type": "subslide"
    }
   },
   "outputs": [],
   "source": [
    "'1' + 1"
   ]
  },
  {
   "cell_type": "code",
   "execution_count": null,
   "metadata": {
    "slideshow": {
     "slide_type": "subslide"
    }
   },
   "outputs": [],
   "source": [
    "d = {'two':2}\n",
    "d['does not exist']"
   ]
  },
  {
   "cell_type": "markdown",
   "metadata": {
    "slideshow": {
     "slide_type": "subslide"
    }
   },
   "source": [
    "To handle exceptions gracefully, we must enclose them in a `try:` *block*"
   ]
  },
  {
   "cell_type": "markdown",
   "metadata": {
    "slideshow": {
     "slide_type": "subslide"
    }
   },
   "source": [
    "## try and except"
   ]
  },
  {
   "cell_type": "markdown",
   "metadata": {
    "slideshow": {
     "slide_type": "subslide"
    }
   },
   "source": [
    "The basic terminology and syntax used to handle errors in Python is the **try** and **except** statements. The code which can cause an exception to occue is put in the *try* block and the handling of the exception is the implemented in the *except* block of code"
   ]
  },
  {
   "cell_type": "markdown",
   "metadata": {
    "slideshow": {
     "slide_type": "subslide"
    }
   },
   "source": [
    "    try:\n",
    "       Do your operations here\n",
    "       ...\n",
    "    except ExceptionI:\n",
    "       If ExceptionI is raised, then execute this block\n",
    "    except ExceptionII:\n",
    "       If ExceptionII is raised, then execute this block\n",
    "    ...\n",
    "    else:\n",
    "       If there is no exception, then execute this block\n",
    "    finally:\n",
    "       This will always run "
   ]
  },
  {
   "cell_type": "markdown",
   "metadata": {
    "slideshow": {
     "slide_type": "subslide"
    }
   },
   "source": [
    "We can also just check for any exception with just using except:\n",
    "\n",
    "**BUT** ..."
   ]
  },
  {
   "cell_type": "code",
   "execution_count": null,
   "metadata": {
    "slideshow": {
     "slide_type": "subslide"
    }
   },
   "outputs": [],
   "source": [
    "try:\n",
    "    z = 1/0\n",
    "    foo = open(\"file\")\n",
    "except:\n",
    "    print(\"could not open file!\")"
   ]
  },
  {
   "cell_type": "code",
   "execution_count": null,
   "metadata": {
    "slideshow": {
     "slide_type": "subslide"
    }
   },
   "outputs": [],
   "source": [
    "try:\n",
    "    z = 1/0\n",
    "    foo = open(\"file\")\n",
    "except IOError:\n",
    "    print(\"could not open file!\")"
   ]
  },
  {
   "cell_type": "markdown",
   "metadata": {
    "slideshow": {
     "slide_type": "subslide"
    }
   },
   "source": [
    "https://docs.python.org/3/library/exceptions.html#bltin-exceptions"
   ]
  },
  {
   "cell_type": "code",
   "execution_count": null,
   "metadata": {
    "slideshow": {
     "slide_type": "subslide"
    }
   },
   "outputs": [],
   "source": [
    "try:\n",
    "    x = d['does not exist']\n",
    "    print('This statement never executes!')\n",
    "except KeyError:\n",
    "    print('There was a key error!')"
   ]
  },
  {
   "cell_type": "markdown",
   "metadata": {
    "slideshow": {
     "slide_type": "subslide"
    }
   },
   "source": [
    "We can also write code that will *always* run, whether an exception is raised or not:"
   ]
  },
  {
   "cell_type": "code",
   "execution_count": null,
   "metadata": {
    "scrolled": true,
    "slideshow": {
     "slide_type": "subslide"
    }
   },
   "outputs": [],
   "source": [
    "try:\n",
    "    x = d['does not exist']\n",
    "except KeyError:\n",
    "    print('There was a key error!')\n",
    "finally:\n",
    "    print('This always runs!')"
   ]
  },
  {
   "cell_type": "code",
   "execution_count": null,
   "metadata": {
    "scrolled": true,
    "slideshow": {
     "slide_type": "subslide"
    }
   },
   "outputs": [],
   "source": [
    "d = {'key1':1}\n",
    "try:\n",
    "    x = d['key2']\n",
    "except KeyError:\n",
    "    print('There was a key error!')\n",
    "finally:\n",
    "    print('This always runs!')"
   ]
  },
  {
   "cell_type": "markdown",
   "metadata": {
    "slideshow": {
     "slide_type": "subslide"
    }
   },
   "source": [
    "If we want code that only runs when there is *not* an error, we can use the `else:` clause:"
   ]
  },
  {
   "cell_type": "code",
   "execution_count": null,
   "metadata": {
    "scrolled": true,
    "slideshow": {
     "slide_type": "subslide"
    }
   },
   "outputs": [],
   "source": [
    "d={'key1':223}\n",
    "try:\n",
    "    x = d['key1']\n",
    "except KeyError:\n",
    "    print('There was a key error!')\n",
    "else:\n",
    "    print('The try: block completed without error.')\n",
    "finally:\n",
    "    print('This always runs!')"
   ]
  },
  {
   "cell_type": "markdown",
   "metadata": {
    "slideshow": {
     "slide_type": "subslide"
    }
   },
   "source": [
    "To *cause* an exception, use the `raise` keyword:"
   ]
  },
  {
   "cell_type": "code",
   "execution_count": null,
   "metadata": {
    "scrolled": true,
    "slideshow": {
     "slide_type": "subslide"
    }
   },
   "outputs": [],
   "source": [
    "raise KeyError('This is a key error')"
   ]
  },
  {
   "cell_type": "code",
   "execution_count": null,
   "metadata": {
    "slideshow": {
     "slide_type": "subslide"
    }
   },
   "outputs": [],
   "source": [
    "numbdict = {}\n",
    "while True:\n",
    "    try:\n",
    "        x = int(input(\"Please enter a number: \"))\n",
    "        numbdict[x] = 'value'\n",
    "        print(numbdict[x], 'was entered')\n",
    "        break\n",
    "    except ValueError:\n",
    "        print(\"Oops!  That was no valid number.  Try again...\")\n",
    "        print(numbdict[1])\n",
    "    except KeyError:\n",
    "        print(\"Unknown Key\")\n",
    "        "
   ]
  },
  {
   "cell_type": "code",
   "execution_count": null,
   "metadata": {
    "slideshow": {
     "slide_type": "subslide"
    }
   },
   "outputs": [],
   "source": [
    "numbdict = {}\n",
    "while True:\n",
    "    try:\n",
    "        x = int(input(\"Please enter a number: \"))\n",
    "        numbdict[x] = 'value'\n",
    "        print(numbdict[x], 'was entered')\n",
    "        break\n",
    "    except ValueError:\n",
    "        print(\"Oops!  That was no valid number.  Try again...\")\n",
    "        try:\n",
    "            print(numbdict[1])\n",
    "        except KeyError:\n",
    "            print(\"Unknown Key\")\n",
    "        "
   ]
  },
  {
   "cell_type": "markdown",
   "metadata": {
    "slideshow": {
     "slide_type": "subslide"
    }
   },
   "source": [
    "Handlers only handle exceptions that occur in the corresponding try clause, not in other handlers of the same try statement"
   ]
  },
  {
   "cell_type": "markdown",
   "metadata": {
    "slideshow": {
     "slide_type": "subslide"
    }
   },
   "source": [
    "    except (RuntimeError, TypeError, NameError):\n",
    "        pass"
   ]
  },
  {
   "cell_type": "markdown",
   "metadata": {
    "slideshow": {
     "slide_type": "subslide"
    }
   },
   "source": [
    "The last except clause may omit the exception name(s), to serve as a wildcard"
   ]
  },
  {
   "cell_type": "markdown",
   "metadata": {
    "slideshow": {
     "slide_type": "subslide"
    }
   },
   "source": [
    "Use this with extreme caution, since it is easy to mask a real programming error in this way!"
   ]
  },
  {
   "cell_type": "markdown",
   "metadata": {
    "slideshow": {
     "slide_type": "subslide"
    }
   },
   "source": [
    "It can also be used to print an error message and then re-raise the exception (allowing a caller to handle the exception as well)"
   ]
  },
  {
   "cell_type": "code",
   "execution_count": null,
   "metadata": {
    "slideshow": {
     "slide_type": "subslide"
    }
   },
   "outputs": [],
   "source": [
    "import sys\n",
    "\n",
    "try:\n",
    "    f = open('myfile.txt')\n",
    "    s = f.readline()\n",
    "    i = int(s.strip())\n",
    "except OSError as err:\n",
    "    print(\"OS error: {0}\".format(err))\n",
    "except ValueError:\n",
    "    print(\"Could not convert data to an integer.\")\n",
    "except:\n",
    "    print(\"Unexpected error:\", sys.exc_info()[0])\n",
    "    raise"
   ]
  },
  {
   "cell_type": "markdown",
   "metadata": {
    "slideshow": {
     "slide_type": "subslide"
    }
   },
   "source": [
    "The except clause may specify a variable after the exception name"
   ]
  },
  {
   "cell_type": "markdown",
   "metadata": {
    "slideshow": {
     "slide_type": "subslide"
    }
   },
   "source": [
    "The variable is bound to an exception instance with the arguments stored in instance.args"
   ]
  },
  {
   "cell_type": "markdown",
   "metadata": {
    "slideshow": {
     "slide_type": "subslide"
    }
   },
   "source": [
    "For convenience, the exception instance defines `__str__()` so the arguments can be printed directly without having to reference .args"
   ]
  },
  {
   "cell_type": "markdown",
   "metadata": {
    "collapsed": true,
    "slideshow": {
     "slide_type": "subslide"
    }
   },
   "source": [
    "One may also instantiate an exception first before raising it and add any attributes to it as desired"
   ]
  },
  {
   "cell_type": "code",
   "execution_count": null,
   "metadata": {
    "slideshow": {
     "slide_type": "subslide"
    }
   },
   "outputs": [],
   "source": [
    "try:\n",
    "    raise Exception('spam', 'eggs')\n",
    "except Exception as inst:\n",
    "    print(type(inst))    # the exception instance\n",
    "    print(inst.args)     # arguments stored in .args\n",
    "    print(inst)          # __str__ allows args to be printed directly,\n",
    "                         # but may be overridden in exception subclasses\n",
    "    x, y = inst.args     # unpack args\n",
    "    print('x =', x)\n",
    "    print('y =', y)"
   ]
  },
  {
   "cell_type": "markdown",
   "metadata": {
    "slideshow": {
     "slide_type": "subslide"
    }
   },
   "source": [
    "If an exception has arguments, they are printed as the last part (‘detail’) of the message for unhandled exceptions"
   ]
  },
  {
   "cell_type": "markdown",
   "metadata": {
    "slideshow": {
     "slide_type": "subslide"
    }
   },
   "source": [
    "Exception handlers don’t just handle exceptions if they occur immediately in the try clause, but also if they occur inside functions that are called (even indirectly) in the try clause"
   ]
  },
  {
   "cell_type": "code",
   "execution_count": null,
   "metadata": {
    "slideshow": {
     "slide_type": "subslide"
    }
   },
   "outputs": [],
   "source": [
    "def this_fails():\n",
    "    x = 1/0\n",
    "\n",
    "try:\n",
    "    this_fails()\n",
    "except ZeroDivisionError as err:\n",
    "    print('Handling run-time error:', err)"
   ]
  },
  {
   "cell_type": "markdown",
   "metadata": {
    "slideshow": {
     "slide_type": "subslide"
    }
   },
   "source": [
    "## Creating Custom Exceptions"
   ]
  },
  {
   "cell_type": "markdown",
   "metadata": {
    "slideshow": {
     "slide_type": "subslide"
    }
   },
   "source": [
    "In Python, users can define custom exceptions by creating a new class\n",
    "\n",
    "This exception class has to be derived, either directly or indirectly, from the built-in Exception class\n",
    "\n",
    "Most of the built-in exceptions are also derived from this class"
   ]
  },
  {
   "cell_type": "code",
   "execution_count": null,
   "metadata": {
    "slideshow": {
     "slide_type": "subslide"
    }
   },
   "outputs": [],
   "source": [
    "class CustomError(Exception):\n",
    "    pass\n",
    "\n",
    "raise CustomError"
   ]
  },
  {
   "cell_type": "code",
   "execution_count": null,
   "metadata": {
    "slideshow": {
     "slide_type": "subslide"
    }
   },
   "outputs": [],
   "source": [
    "raise CustomError('This is my text')"
   ]
  },
  {
   "cell_type": "markdown",
   "metadata": {
    "slideshow": {
     "slide_type": "slide"
    }
   },
   "source": [
    "## Unpacking argument lists and dictionaries"
   ]
  },
  {
   "cell_type": "markdown",
   "metadata": {
    "slideshow": {
     "slide_type": "subslide"
    }
   },
   "source": [
    "https://docs.python.org/3/tutorial/controlflow.html#tut-unpacking-arguments"
   ]
  },
  {
   "cell_type": "markdown",
   "metadata": {
    "slideshow": {
     "slide_type": "subslide"
    }
   },
   "source": [
    "Unpacking in Python refers to an operation that consists of assigning an iterable of values to a tuple (or list) of variables in a single assignment statement\n",
    "\n",
    "As a complement, the term packing can be used when we collect several values in a single variable using the iterable unpacking operator, *"
   ]
  },
  {
   "cell_type": "markdown",
   "metadata": {
    "slideshow": {
     "slide_type": "subslide"
    }
   },
   "source": [
    "Sometimes, arguments are already in a <span style=\"color:red\">list</span> or <span style=\"color:red\">tuple</span> but need to be unpacked for a function call requiring separate positional arguments"
   ]
  },
  {
   "cell_type": "markdown",
   "metadata": {
    "slideshow": {
     "slide_type": "subslide"
    }
   },
   "source": [
    "For instance, the built-in <span style=\"color:red\">range()</span> function expects separate <span style=\"color:red\">start</span> and <span style=\"color:red\">stop</span> arguments\n",
    "\n",
    "If they are not available separately, write the function call with the *-operator to unpack the arguments out of a list or tuple "
   ]
  },
  {
   "cell_type": "code",
   "execution_count": null,
   "metadata": {
    "slideshow": {
     "slide_type": "subslide"
    }
   },
   "outputs": [],
   "source": [
    "list(range(3, 6))        # normal call with separate arguments"
   ]
  },
  {
   "cell_type": "code",
   "execution_count": null,
   "metadata": {
    "slideshow": {
     "slide_type": "subslide"
    }
   },
   "outputs": [],
   "source": [
    "args = [3, 4, 5]\n",
    "list(range(*args))       # call with arguments unpacked from a list"
   ]
  },
  {
   "cell_type": "markdown",
   "metadata": {
    "slideshow": {
     "slide_type": "subslide"
    }
   },
   "source": [
    "In the same fashion, dictionaries can deliver keyword arguments with the double-*-operator:"
   ]
  },
  {
   "cell_type": "code",
   "execution_count": null,
   "metadata": {
    "slideshow": {
     "slide_type": "subslide"
    }
   },
   "outputs": [],
   "source": [
    "def parrot(voltage, state='a stiff', action='voom'):\n",
    "    print(\"-- This parrot wouldn't\", action, end=' ')\n",
    "    print(\"if you put\", voltage, \"volts through it.\", end=' ')\n",
    "    print(\"E's\", state, \"!\")\n",
    "    \n",
    "d = {\"voltage\": \"four million\", \"state\": \"bleedin' demised\", \"action\": \"VOOM\"}\n",
    "parrot(**d)"
   ]
  },
  {
   "cell_type": "code",
   "execution_count": null,
   "metadata": {
    "slideshow": {
     "slide_type": "subslide"
    }
   },
   "outputs": [],
   "source": [
    "a, b, c, d = 1, 2, 3"
   ]
  },
  {
   "cell_type": "code",
   "execution_count": null,
   "metadata": {},
   "outputs": [],
   "source": []
  },
  {
   "cell_type": "code",
   "execution_count": null,
   "metadata": {
    "slideshow": {
     "slide_type": "subslide"
    }
   },
   "outputs": [],
   "source": [
    "import sys\n",
    "\n",
    "new_file = sys.argv[1]\n",
    "old_file = sys.argv[2]\n",
    "print(f\"Copying {new_file} to {old_file}\")"
   ]
  },
  {
   "cell_type": "code",
   "execution_count": null,
   "metadata": {
    "slideshow": {
     "slide_type": "subslide"
    }
   },
   "outputs": [],
   "source": [
    "$ my_program.py file1.txt file2.txt file3.txt\n",
    "Copying file1.txt to file2.txt"
   ]
  },
  {
   "cell_type": "code",
   "execution_count": null,
   "metadata": {
    "slideshow": {
     "slide_type": "subslide"
    }
   },
   "outputs": [],
   "source": [
    "import sys\n",
    "\n",
    "_, new_file, old_file = sys.argv\n",
    "print(f\"Copying {new_file} to {old_file}\")"
   ]
  },
  {
   "cell_type": "code",
   "execution_count": null,
   "metadata": {
    "slideshow": {
     "slide_type": "subslide"
    }
   },
   "outputs": [],
   "source": [
    "color, (x, y, z) = (\"red\", (1, 2, 3))"
   ]
  },
  {
   "cell_type": "code",
   "execution_count": null,
   "metadata": {
    "slideshow": {
     "slide_type": "subslide"
    }
   },
   "outputs": [],
   "source": [
    "(color, (x, y, z)) = (\"red\", (1, 2, 3))"
   ]
  },
  {
   "cell_type": "code",
   "execution_count": null,
   "metadata": {
    "slideshow": {
     "slide_type": "subslide"
    }
   },
   "outputs": [],
   "source": [
    "#increases readability\n",
    "(color, (x, y, z)) = (\"red\", (1, 2, 3))"
   ]
  },
  {
   "cell_type": "code",
   "execution_count": null,
   "metadata": {
    "slideshow": {
     "slide_type": "subslide"
    }
   },
   "outputs": [],
   "source": [
    "start_points = [(1, 2), (3, 4), (5, 6)]\n",
    "end_points = [(-1, -2), (-3, 4), (-6, -5)]"
   ]
  },
  {
   "cell_type": "code",
   "execution_count": null,
   "metadata": {
    "slideshow": {
     "slide_type": "subslide"
    }
   },
   "outputs": [],
   "source": [
    "for start, end in zip(start_points, end_points):\n",
    "    if start[0] == -end[0] and start[1] == -end[1]:\n",
    "        print(f\"Point {start[0]},{start[1]} was negated.\")"
   ]
  },
  {
   "cell_type": "code",
   "execution_count": null,
   "metadata": {
    "slideshow": {
     "slide_type": "subslide"
    }
   },
   "outputs": [],
   "source": [
    "for (x1, y1), (x2, y2) in zip(start_points, end_points):\n",
    "    if x1 == -x2 and y1 == -y2:\n",
    "        print(f\"Point {x1},{y1} was negated.\")"
   ]
  },
  {
   "cell_type": "code",
   "execution_count": null,
   "metadata": {
    "slideshow": {
     "slide_type": "subslide"
    }
   },
   "outputs": [],
   "source": [
    "items = [1, 2, 3, 4, 2, 1]\n",
    "for i, (first, last) in enumerate(zip(items, reversed(items))):\n",
    "    if first != last:\n",
    "        raise ValueError(f\"Item {i} doesn't match: {first} != {last}\")"
   ]
  },
  {
   "cell_type": "code",
   "execution_count": null,
   "metadata": {
    "slideshow": {
     "slide_type": "subslide"
    }
   },
   "outputs": [],
   "source": [
    "points = ((1, 2), (-1, -2))\n",
    "points[0][0] == -points[1][0] and points[0][1] == -points[1][1]"
   ]
  },
  {
   "cell_type": "code",
   "execution_count": null,
   "metadata": {
    "slideshow": {
     "slide_type": "subslide"
    }
   },
   "outputs": [],
   "source": [
    "points = ((1, 2, 4), (-1, -2, 3), (6, 4, 5))\n",
    ">>> points[0][0] == -points[1][0] and points[0][1] == -points[1][1]\n",
    "True"
   ]
  },
  {
   "cell_type": "code",
   "execution_count": null,
   "metadata": {
    "slideshow": {
     "slide_type": "subslide"
    }
   },
   "outputs": [],
   "source": [
    "points = ((1, 2), (-1, -2))\n",
    "(x1, y1), (x2, y2) = points\n",
    "x1 == -x2 and y1 == -y2"
   ]
  },
  {
   "cell_type": "code",
   "execution_count": null,
   "metadata": {
    "slideshow": {
     "slide_type": "subslide"
    }
   },
   "outputs": [],
   "source": [
    "points = ((1, 2, 4), (-1, -2, 3), (6, 4, 5))\n",
    "(x1, y1), (x2, y2) = points"
   ]
  },
  {
   "cell_type": "markdown",
   "metadata": {
    "slideshow": {
     "slide_type": "slide"
    }
   },
   "source": [
    "http://stackoverflow.com/questions/6967632/unpacking-extended-unpacking-and-nested-extended-unpacking"
   ]
  },
  {
   "cell_type": "code",
   "execution_count": null,
   "metadata": {
    "slideshow": {
     "slide_type": "subslide"
    }
   },
   "outputs": [],
   "source": [
    "a, b = 1, 2                          # simple sequence assignment\n",
    "a, b = ['green', 'blue']             # list assignment\n",
    "a, b = 'XY'                          # string assignment\n",
    "a, b = range(1,5,2)                  # any iterable will do\n",
    "\n",
    "                                     # nested sequence assignment\n",
    "(a,b), c = \"XY\", \"Z\"                 # a = 'X', b = 'Y', c = 'Z' \n",
    "(a,b), c, = [1,2],'this'             # a = '1', b = '2', c = 'this'"
   ]
  },
  {
   "cell_type": "code",
   "execution_count": null,
   "metadata": {
    "slideshow": {
     "slide_type": "subslide"
    }
   },
   "outputs": [],
   "source": [
    "a, *b = 1,2,3,4,5                    # a = 1, b = [2,3,4,5]\n",
    "*a, b = 1,2,3,4,5                    # a = [1,2,3,4], b = 5\n",
    "a, *b, c = 1,2,3,4,5                 # a = 1, b = [2,3,4], c = 5\n",
    "\n",
    "a, *b = 'X'                          # a = 'X', b = []\n",
    "*a, b = 'X'                          # a = [], b = 'X'\n",
    "a, *b, c = \"XY\"                      # a = 'X', b = [], c = 'Y'\n",
    "a, *b, c = \"X...Y\"                   # a = 'X', b = ['.','.','.'], c = 'Y'\n",
    "\n",
    "a, b, *c = 1,2,3                     # a = 1, b = 2, c = [3]\n",
    "a, b, c, *d = 1,2,3                  # a = 1, b = 2, c = 3, d = []\n",
    "\n",
    "(a,b), c = [1,2],'this'              # a = '1', b = '2', c = 'this'\n",
    "(a,b), *c = [1,2],'this'             # a = '1', b = '2', c = ['this']"
   ]
  },
  {
   "cell_type": "code",
   "execution_count": null,
   "metadata": {
    "slideshow": {
     "slide_type": "subslide"
    }
   },
   "outputs": [],
   "source": [
    "args12=[1,2]\n",
    "args34=(3,4)\n",
    "print(*args12, 'a', *args34, sep = ' &&& ')"
   ]
  },
  {
   "cell_type": "code",
   "execution_count": null,
   "metadata": {
    "slideshow": {
     "slide_type": "subslide"
    }
   },
   "outputs": [],
   "source": [
    "a1b2 = dict(a=1,b=2)\n",
    "c3d4 = dict(c=3,d=4)\n",
    "print(a1b2)\n",
    "print(c3d4)"
   ]
  },
  {
   "cell_type": "code",
   "execution_count": null,
   "metadata": {
    "slideshow": {
     "slide_type": "subslide"
    }
   },
   "outputs": [],
   "source": [
    "print(dict(**a1b2, y=2, **c3d4))"
   ]
  },
  {
   "cell_type": "code",
   "execution_count": null,
   "metadata": {
    "slideshow": {
     "slide_type": "subslide"
    }
   },
   "outputs": [],
   "source": [
    "*range(4), 4"
   ]
  },
  {
   "cell_type": "code",
   "execution_count": null,
   "metadata": {
    "slideshow": {
     "slide_type": "subslide"
    }
   },
   "outputs": [],
   "source": [
    "[*range(4), 4]"
   ]
  },
  {
   "cell_type": "code",
   "execution_count": null,
   "metadata": {
    "slideshow": {
     "slide_type": "subslide"
    }
   },
   "outputs": [],
   "source": [
    "{*range(4), 4}"
   ]
  },
  {
   "cell_type": "code",
   "execution_count": null,
   "metadata": {},
   "outputs": [],
   "source": [
    "a1b2 = dict(a=1,b=2)\n",
    "print(*a1b2)"
   ]
  },
  {
   "cell_type": "markdown",
   "metadata": {
    "slideshow": {
     "slide_type": "subslide"
    }
   },
   "source": [
    "In dictionaries, later values will always override earlier ones"
   ]
  },
  {
   "cell_type": "code",
   "execution_count": null,
   "metadata": {
    "slideshow": {
     "slide_type": "subslide"
    }
   },
   "outputs": [],
   "source": [
    "print({'x': 1, **{'x': 2}})\n",
    "print({**{'x': 2}, 'x': 1})"
   ]
  },
  {
   "cell_type": "markdown",
   "metadata": {
    "slideshow": {
     "slide_type": "subslide"
    }
   },
   "source": [
    "## Functions"
   ]
  },
  {
   "cell_type": "markdown",
   "metadata": {
    "slideshow": {
     "slide_type": "subslide"
    }
   },
   "source": [
    "Terminology:  \n",
    "* **Parameters** are defined by the names that appear in a <span style=\"color:green\">function definition</span>\n",
    "* **Arguments** are the values actually passed to a function when <span style=\"color:green\">calling</span> it\n",
    "\n",
    "Parameters define what types of arguments a function can accept \n"
   ]
  },
  {
   "cell_type": "markdown",
   "metadata": {
    "slideshow": {
     "slide_type": "subslide"
    }
   },
   "source": [
    "http://www.informit.com/articles/article.aspx?p=2314818\n",
    "\n",
    "http://dailytechvideo.com/video-227-brett-slatkin-how-to-be-more-effective-with-functions/"
   ]
  },
  {
   "cell_type": "code",
   "execution_count": 63,
   "metadata": {
    "slideshow": {
     "slide_type": "subslide"
    }
   },
   "outputs": [
    {
     "name": "stdout",
     "output_type": "stream",
     "text": [
      "My numbers are: 1, 2\n",
      "Hi there\n"
     ]
    }
   ],
   "source": [
    "def log(message, values):\n",
    "    if not values:\n",
    "        print(message)\n",
    "    else:\n",
    "        values_str = ', '.join(str(x) for x in values)\n",
    "        print(f'{message}: {values_str}')\n",
    "\n",
    "log('My numbers are', [1, 2])\n",
    "log('Hi there', [])"
   ]
  },
  {
   "cell_type": "markdown",
   "metadata": {
    "slideshow": {
     "slide_type": "subslide"
    }
   },
   "source": [
    "Having to pass an empty list when you have no values to log is cumbersome and noisy\n",
    "\n",
    "It’d be better to leave out the second argument entirely"
   ]
  },
  {
   "cell_type": "markdown",
   "metadata": {
    "slideshow": {
     "slide_type": "subslide"
    }
   },
   "source": [
    "### Variable positional arguments"
   ]
  },
  {
   "cell_type": "markdown",
   "metadata": {
    "slideshow": {
     "slide_type": "subslide"
    }
   },
   "source": [
    "You can do this in Python by prefixing the last positional parameter name with *\n",
    "\n",
    "The first parameter for the log message is required, whereas any number of subsequent positional arguments are optional"
   ]
  },
  {
   "cell_type": "code",
   "execution_count": 64,
   "metadata": {
    "compare_code": true,
    "slideshow": {
     "slide_type": "subslide",
     "transition": "none"
    }
   },
   "outputs": [
    {
     "name": "stdout",
     "output_type": "stream",
     "text": [
      "My numbers are: 1, 2\n",
      "Hi there\n"
     ]
    }
   ],
   "source": [
    "#old code\n",
    "def log(message, values):\n",
    "    if not values:\n",
    "        print(message)\n",
    "    else:\n",
    "        values_str = ', '.join(str(x) for x in values)\n",
    "        print(f'{message}: {values_str}')\n",
    "\n",
    "log('My numbers are', [1, 2])\n",
    "log('Hi there', [])"
   ]
  },
  {
   "cell_type": "code",
   "execution_count": 65,
   "metadata": {
    "compare_code": true,
    "slideshow": {
     "slide_type": "subslide"
    }
   },
   "outputs": [
    {
     "name": "stdout",
     "output_type": "stream",
     "text": [
      "My numbers are: 1, 2\n",
      "Hi there\n"
     ]
    }
   ],
   "source": [
    "#new code\n",
    "def log(message, *values):  # The only difference\n",
    "    if not values:\n",
    "        print(message)\n",
    "    else:\n",
    "        values_str = ', '.join(str(x) for x in values)\n",
    "        print(f'{message}: {values_str}')\n",
    "\n",
    "log('My numbers are', 1, 2)\n",
    "log('Hi there')  # Much better"
   ]
  },
  {
   "cell_type": "markdown",
   "metadata": {
    "slideshow": {
     "slide_type": "subslide"
    }
   },
   "source": [
    "If you already have a list and want to call a variable argument function like log, you can do this by using the * operator. This instructs Python to pass items from the sequence as positional arguments."
   ]
  },
  {
   "cell_type": "code",
   "execution_count": null,
   "metadata": {
    "slideshow": {
     "slide_type": "subslide"
    }
   },
   "outputs": [],
   "source": [
    "favorites = [7, 33, 99]\n",
    "log('Favorite colors', *favorites)"
   ]
  },
  {
   "cell_type": "markdown",
   "metadata": {
    "slideshow": {
     "slide_type": "subslide"
    }
   },
   "source": [
    "An issue with *args is that you can’t add new positional arguments to your function in the future without migrating every caller"
   ]
  },
  {
   "cell_type": "markdown",
   "metadata": {
    "slideshow": {
     "slide_type": "subslide"
    }
   },
   "source": [
    "If you try to add a positional argument in the front of the argument list, existing callers will subtly break if they aren’t updated"
   ]
  },
  {
   "cell_type": "code",
   "execution_count": 66,
   "metadata": {
    "slideshow": {
     "slide_type": "subslide"
    }
   },
   "outputs": [
    {
     "name": "stdout",
     "output_type": "stream",
     "text": [
      "1: Favorites: 7, 33\n",
      "Favorite numbers: 7: 33\n"
     ]
    }
   ],
   "source": [
    "def log(sequence, message, *values):\n",
    "    if not values:\n",
    "        print(f'{sequence}: {message}')\n",
    "    else:\n",
    "        values_str = ', '.join(str(x) for x in values)\n",
    "        print(f'{sequence}: {message}: {values_str}')\n",
    "\n",
    "log(1, 'Favorites', 7, 33)      # New usage is OK\n",
    "log('Favorite numbers', 7, 33)  # Old usage breaks"
   ]
  },
  {
   "cell_type": "markdown",
   "metadata": {
    "slideshow": {
     "slide_type": "subslide"
    }
   },
   "source": [
    "The problem here is that the second call to log used 7 as the message parameter because a sequence argument wasn’t given."
   ]
  },
  {
   "cell_type": "markdown",
   "metadata": {
    "slideshow": {
     "slide_type": "subslide"
    }
   },
   "source": [
    "Bugs like this are hard to track down because the code still runs without raising any exceptions."
   ]
  },
  {
   "cell_type": "markdown",
   "metadata": {
    "slideshow": {
     "slide_type": "subslide"
    }
   },
   "source": [
    " To avoid this possibility entirely, you should use keyword-only arguments when you want to extend functions that accept *args"
   ]
  },
  {
   "cell_type": "markdown",
   "metadata": {
    "slideshow": {
     "slide_type": "subslide"
    }
   },
   "source": [
    "### Things to remember"
   ]
  },
  {
   "cell_type": "markdown",
   "metadata": {
    "slideshow": {
     "slide_type": "subslide"
    }
   },
   "source": [
    "Functions can accept a variable number of positional arguments by using *args in the def statement."
   ]
  },
  {
   "cell_type": "markdown",
   "metadata": {
    "slideshow": {
     "slide_type": "subslide"
    }
   },
   "source": [
    "You can use the items from a sequence as the positional arguments for a function with the * operator."
   ]
  },
  {
   "cell_type": "markdown",
   "metadata": {
    "slideshow": {
     "slide_type": "subslide"
    }
   },
   "source": [
    "Using the * operator with a generator may cause your program to run out of memory and crash"
   ]
  },
  {
   "cell_type": "markdown",
   "metadata": {
    "slideshow": {
     "slide_type": "subslide"
    }
   },
   "source": [
    "Functions can accept a variable number of positional arguments by using *args in the def statement."
   ]
  },
  {
   "cell_type": "markdown",
   "metadata": {
    "slideshow": {
     "slide_type": "subslide"
    }
   },
   "source": [
    "Adding new positional parameters to functions that accept *args can introduce hard-to-find bugs"
   ]
  },
  {
   "cell_type": "markdown",
   "metadata": {
    "slideshow": {
     "slide_type": "slide"
    }
   },
   "source": [
    "## Note on General Function Definition"
   ]
  },
  {
   "cell_type": "code",
   "execution_count": null,
   "metadata": {
    "slideshow": {
     "slide_type": "slide"
    }
   },
   "outputs": [],
   "source": [
    "def general_function(*args, **kwargs):\n",
    "    print(args)\n",
    "    print(kwargs)\n",
    "    \n",
    "general_function('Hello', 123, ['a','b'], answer = 42, name = 'Chuck')"
   ]
  },
  {
   "cell_type": "markdown",
   "metadata": {
    "slideshow": {
     "slide_type": "slide"
    }
   },
   "source": [
    "## Provide Optional Behavior with Keyword Arguments"
   ]
  },
  {
   "cell_type": "code",
   "execution_count": null,
   "metadata": {
    "slideshow": {
     "slide_type": "subslide"
    }
   },
   "outputs": [],
   "source": [
    "def remainder(number, divisor):\n",
    "    return number % divisor\n",
    "\n",
    "assert remainder(20, 7) == 6"
   ]
  },
  {
   "cell_type": "code",
   "execution_count": null,
   "metadata": {
    "slideshow": {
     "slide_type": "subslide"
    }
   },
   "outputs": [],
   "source": [
    "remainder(20, 7)\n",
    "remainder(20, divisor=7)\n",
    "remainder(number=20, divisor=7)\n",
    "remainder(divisor=7, number=20)"
   ]
  },
  {
   "cell_type": "markdown",
   "metadata": {
    "slideshow": {
     "slide_type": "subslide"
    }
   },
   "source": [
    "Positional arguments must be specified before keyword arguments."
   ]
  },
  {
   "cell_type": "code",
   "execution_count": null,
   "metadata": {
    "slideshow": {
     "slide_type": "subslide"
    }
   },
   "outputs": [],
   "source": [
    "remainder(number=20, 7)"
   ]
  },
  {
   "cell_type": "markdown",
   "metadata": {
    "slideshow": {
     "slide_type": "subslide"
    }
   },
   "source": [
    "Each argument can only be specified once"
   ]
  },
  {
   "cell_type": "code",
   "execution_count": null,
   "metadata": {
    "slideshow": {
     "slide_type": "subslide"
    }
   },
   "outputs": [],
   "source": [
    "remainder(20, number=7)"
   ]
  },
  {
   "cell_type": "markdown",
   "metadata": {
    "slideshow": {
     "slide_type": "subslide"
    }
   },
   "source": [
    "The flexibility of keyword arguments provides three significant benefits"
   ]
  },
  {
   "cell_type": "markdown",
   "metadata": {
    "slideshow": {
     "slide_type": "subslide"
    }
   },
   "source": [
    "The first advantage is that keyword arguments make the function call clearer to new readers of the code. "
   ]
  },
  {
   "cell_type": "markdown",
   "metadata": {
    "slideshow": {
     "slide_type": "subslide"
    }
   },
   "source": [
    "The second impact of keyword arguments is that they can have default values specified in the function definition"
   ]
  },
  {
   "cell_type": "markdown",
   "metadata": {
    "slideshow": {
     "slide_type": "subslide"
    }
   },
   "source": [
    "This allows a function to provide additional capabilities when you need them but lets you accept the default behavior most of the time"
   ]
  },
  {
   "cell_type": "code",
   "execution_count": null,
   "metadata": {
    "slideshow": {
     "slide_type": "subslide"
    }
   },
   "outputs": [],
   "source": [
    "def flow_rate(weight_diff, time_diff):\n",
    "    return weight_diff / time_diff\n",
    "\n",
    "weight_diff = 0.5\n",
    "time_diff = 3\n",
    "flow = flow_rate(weight_diff, time_diff)\n",
    "print('%.3f kg per second' % flow)"
   ]
  },
  {
   "cell_type": "code",
   "execution_count": null,
   "metadata": {
    "slideshow": {
     "slide_type": "subslide"
    }
   },
   "outputs": [],
   "source": [
    "def flow_rate(weight_diff, time_diff, period, units_per_kg):\n",
    "    return weight_diff * units_per_kg / time_diff * period\n",
    "\n",
    "weight_diff = 0.5\n",
    "time_diff = 3\n",
    "flow = flow_rate(weight_diff, time_diff, period=3600, units_per_kg=2.2)\n",
    "print('%.3f lbs per hour' % flow)"
   ]
  },
  {
   "cell_type": "markdown",
   "metadata": {
    "slideshow": {
     "slide_type": "subslide"
    }
   },
   "source": [
    "The problem is that now you need to specify the period argument every time you call the function, even in the common case of flow rate per second (where the period is 1)."
   ]
  },
  {
   "cell_type": "code",
   "execution_count": null,
   "metadata": {
    "slideshow": {
     "slide_type": "subslide"
    }
   },
   "outputs": [],
   "source": [
    "flow_per_second = flow_rate(weight_diff, time_diff, \n",
    "                            units_per_kg=1, period=1)\n",
    "print('%.3f kg per second' % flow_per_second)"
   ]
  },
  {
   "cell_type": "code",
   "execution_count": null,
   "metadata": {
    "slideshow": {
     "slide_type": "subslide"
    }
   },
   "outputs": [],
   "source": [
    "weight_diff = 0.5\n",
    "time_diff = 3\n",
    "flow = flow_rate(weight_diff, time_diff)\n",
    "print('%.3f kg per second' % flow)"
   ]
  },
  {
   "cell_type": "code",
   "execution_count": null,
   "metadata": {
    "slideshow": {
     "slide_type": "subslide"
    }
   },
   "outputs": [],
   "source": [
    "def flow_rate(weight_diff, time_diff, period=1):\n",
    "    return (weight_diff / time_diff) * period"
   ]
  },
  {
   "cell_type": "markdown",
   "metadata": {
    "slideshow": {
     "slide_type": "subslide"
    }
   },
   "source": [
    "The period argument is now optional"
   ]
  },
  {
   "cell_type": "code",
   "execution_count": null,
   "metadata": {
    "slideshow": {
     "slide_type": "subslide"
    }
   },
   "outputs": [],
   "source": [
    "flow_per_second = flow_rate(weight_diff, time_diff)\n",
    "flow_per_hour = flow_rate(weight_diff, time_diff, period=3600)"
   ]
  },
  {
   "cell_type": "markdown",
   "metadata": {
    "slideshow": {
     "slide_type": "subslide"
    }
   },
   "source": [
    "This works well for simple default values\n",
    "\n",
    "It gets tricky for complex default values"
   ]
  },
  {
   "cell_type": "markdown",
   "metadata": {
    "slideshow": {
     "slide_type": "subslide"
    }
   },
   "source": [
    "The third reason to use keyword arguments is that they provide a powerful way to extend a function’s parameters while remaining backwards compatible with existing callers"
   ]
  },
  {
   "cell_type": "markdown",
   "metadata": {
    "slideshow": {
     "slide_type": "subslide"
    }
   },
   "source": [
    "This lets you provide additional functionality without having to migrate a lot of code, reducing the chance of introducing bugs"
   ]
  },
  {
   "cell_type": "code",
   "execution_count": null,
   "metadata": {
    "slideshow": {
     "slide_type": "subslide"
    }
   },
   "outputs": [],
   "source": [
    "def flow_rate(weight_diff, time_diff,\n",
    "              period=1, units_per_kg=1):\n",
    "    return weight_diff * units_per_kg / time_diff * period"
   ]
  },
  {
   "cell_type": "markdown",
   "metadata": {
    "slideshow": {
     "slide_type": "subslide"
    }
   },
   "source": [
    "New callers to flow_rate can specify the new keyword argument to see the new behavior"
   ]
  },
  {
   "cell_type": "code",
   "execution_count": null,
   "metadata": {
    "slideshow": {
     "slide_type": "subslide"
    }
   },
   "outputs": [],
   "source": [
    "#Custom units\n",
    "pounds_per_hour = flow_rate(weight_diff, time_diff,\n",
    "                            period=3600, units_per_kg=2.2)"
   ]
  },
  {
   "cell_type": "markdown",
   "metadata": {
    "slideshow": {
     "slide_type": "subslide"
    }
   },
   "source": [
    "Old callers remain the same"
   ]
  },
  {
   "cell_type": "code",
   "execution_count": null,
   "metadata": {
    "slideshow": {
     "slide_type": "subslide"
    }
   },
   "outputs": [],
   "source": [
    "#Default units\n",
    "kgs_per_second = flow_rate(weight_diff, time_diff)"
   ]
  },
  {
   "cell_type": "markdown",
   "metadata": {
    "slideshow": {
     "slide_type": "subslide"
    }
   },
   "source": [
    "The only problem with this approach is that optional keyword arguments like period and units_per_kg may still be specified as positional arguments"
   ]
  },
  {
   "cell_type": "code",
   "execution_count": null,
   "metadata": {
    "slideshow": {
     "slide_type": "subslide"
    }
   },
   "outputs": [],
   "source": [
    "pounds_per_hour = flow_rate(weight_diff, time_diff, 3600, 2.2)\n",
    "pounds_per_hour = flow_rate(weight_diff, time_diff, 2.2, 3600)"
   ]
  },
  {
   "cell_type": "markdown",
   "metadata": {
    "slideshow": {
     "slide_type": "subslide"
    }
   },
   "source": [
    "Supplying optional arguments positionally can be confusing because it isn’t clear what the values 3600 and 2.2 correspond to"
   ]
  },
  {
   "cell_type": "markdown",
   "metadata": {
    "slideshow": {
     "slide_type": "subslide"
    }
   },
   "source": [
    "The best practice is to always specify optional arguments using the keyword names and never pass them as positional arguments"
   ]
  },
  {
   "cell_type": "markdown",
   "metadata": {
    "slideshow": {
     "slide_type": "subslide"
    }
   },
   "source": [
    "Unfortunately, this does not work for some builtin functions"
   ]
  },
  {
   "cell_type": "code",
   "execution_count": null,
   "metadata": {
    "slideshow": {
     "slide_type": "subslide"
    }
   },
   "outputs": [],
   "source": [
    "mydict = {}\n",
    "mydict['key1'] = 'value1'\n",
    "test = mydict['key2']\n",
    "print(test)"
   ]
  },
  {
   "cell_type": "code",
   "execution_count": null,
   "metadata": {
    "slideshow": {
     "slide_type": "subslide"
    }
   },
   "outputs": [],
   "source": [
    "test = mydict.get('key2')\n",
    "print(test)"
   ]
  },
  {
   "cell_type": "markdown",
   "metadata": {
    "slideshow": {
     "slide_type": "subslide"
    }
   },
   "source": [
    "`get` in [standard documentation](https://docs.python.org/3/library/stdtypes.html#dict)"
   ]
  },
  {
   "cell_type": "markdown",
   "metadata": {
    "slideshow": {
     "slide_type": "subslide"
    }
   },
   "source": [
    "`get(key[, default])`\n",
    "\n",
    "Return the value for key if key is in the dictionary, else default. If default is not given, it defaults to None, so that this method never raises a KeyError."
   ]
  },
  {
   "cell_type": "code",
   "execution_count": null,
   "metadata": {
    "slideshow": {
     "slide_type": "subslide"
    }
   },
   "outputs": [],
   "source": [
    "test = mydict.get('key2', default='undefined')\n",
    "print(test)"
   ]
  },
  {
   "cell_type": "code",
   "execution_count": null,
   "metadata": {
    "slideshow": {
     "slide_type": "subslide"
    }
   },
   "outputs": [],
   "source": [
    "test = mydict.get('key2', default = None)\n",
    "print(test)"
   ]
  },
  {
   "cell_type": "markdown",
   "metadata": {
    "slideshow": {
     "slide_type": "subslide"
    }
   },
   "source": [
    "Backwards compatibility using optional keyword arguments is crucial for functions that accept *args"
   ]
  },
  {
   "cell_type": "markdown",
   "metadata": {
    "slideshow": {
     "slide_type": "subslide"
    }
   },
   "source": [
    "But an even better practice is to use keyword-only arguments (see later)"
   ]
  },
  {
   "cell_type": "markdown",
   "metadata": {
    "slideshow": {
     "slide_type": "slide"
    }
   },
   "source": [
    "## Use None and Docstrings to Specify Dynamic Default Arguments"
   ]
  },
  {
   "cell_type": "markdown",
   "metadata": {
    "slideshow": {
     "slide_type": "subslide"
    }
   },
   "source": [
    "Sometimes you need to use a non-static type as a keyword argument’s default value"
   ]
  },
  {
   "cell_type": "markdown",
   "metadata": {
    "slideshow": {
     "slide_type": "subslide"
    }
   },
   "source": [
    "For example, say you want to print logging messages that are marked with the time of the logged event"
   ]
  },
  {
   "cell_type": "markdown",
   "metadata": {
    "slideshow": {
     "slide_type": "subslide"
    }
   },
   "source": [
    "In the default case, you want the message to include the time when the function was called"
   ]
  },
  {
   "cell_type": "markdown",
   "metadata": {
    "slideshow": {
     "slide_type": "subslide"
    }
   },
   "source": [
    "You might try the following approach, assuming the default arguments are reevaluated each time the function is called"
   ]
  },
  {
   "cell_type": "code",
   "execution_count": 3,
   "metadata": {
    "slideshow": {
     "slide_type": "subslide"
    }
   },
   "outputs": [],
   "source": [
    "from datetime import datetime\n",
    "from time import sleep\n",
    "\n",
    "def log(message, when=datetime.now()):\n",
    "    print(f'%s: %s' %(when, message))"
   ]
  },
  {
   "cell_type": "code",
   "execution_count": 2,
   "metadata": {
    "slideshow": {
     "slide_type": "subslide"
    }
   },
   "outputs": [
    {
     "name": "stdout",
     "output_type": "stream",
     "text": [
      "2025-04-02 08:27:31.047412: Hi there!\n",
      "2025-04-02 08:27:31.047412: Hi again!\n"
     ]
    }
   ],
   "source": [
    "log('Hi there!')\n",
    "sleep(1.5)\n",
    "log('Hi again!')"
   ]
  },
  {
   "cell_type": "markdown",
   "metadata": {
    "slideshow": {
     "slide_type": "subslide"
    }
   },
   "source": [
    "The timestamps are the same because datetime.now is only executed a single time: when the function is <span class=\"burk\">defined</span></span>"
   ]
  },
  {
   "cell_type": "markdown",
   "metadata": {
    "slideshow": {
     "slide_type": "subslide"
    }
   },
   "source": [
    "Default argument values are evaluated only once per module load, which usually happens when a program starts up"
   ]
  },
  {
   "cell_type": "markdown",
   "metadata": {
    "slideshow": {
     "slide_type": "subslide"
    }
   },
   "source": [
    "After the module containing this code is loaded, the datetime.now default argument will never be evaluated again"
   ]
  },
  {
   "cell_type": "code",
   "execution_count": null,
   "metadata": {
    "slideshow": {
     "slide_type": "subslide"
    }
   },
   "outputs": [],
   "source": [
    "def join_or_create_new_list(item, curlist = []):\n",
    "    curlist.append(item)\n",
    "    return curlist\n",
    "\n",
    "print(join_or_create_new_list(3,[1,2]))\n",
    "print(join_or_create_new_list(2))"
   ]
  },
  {
   "cell_type": "code",
   "execution_count": null,
   "metadata": {
    "slideshow": {
     "slide_type": "subslide"
    }
   },
   "outputs": [],
   "source": [
    "print(join_or_create_new_list(2))"
   ]
  },
  {
   "cell_type": "markdown",
   "metadata": {
    "slideshow": {
     "slide_type": "subslide"
    }
   },
   "source": [
    "The convention for achieving the desired result in Python is to provide a default value of None and to document the actual behavior in the docstring"
   ]
  },
  {
   "cell_type": "markdown",
   "metadata": {
    "slideshow": {
     "slide_type": "subslide"
    }
   },
   "source": [
    "When your code sees an argument value of None, you allocate the default value accordingly"
   ]
  },
  {
   "cell_type": "code",
   "execution_count": null,
   "metadata": {
    "slideshow": {
     "slide_type": "subslide"
    }
   },
   "outputs": [],
   "source": [
    "def log(message, when=None):\n",
    "    \"\"\"Log a message with a timestamp.\n",
    "\n",
    "    Args:\n",
    "        message: Message to print.\n",
    "        when: datetime of when the message occurred.\n",
    "            Defaults to the present time.\n",
    "    \"\"\"\n",
    "    when = datetime.now() if when is None else when\n",
    "    print('%s: %s' % (when, message))"
   ]
  },
  {
   "cell_type": "code",
   "execution_count": null,
   "metadata": {
    "slideshow": {
     "slide_type": "subslide"
    }
   },
   "outputs": [],
   "source": [
    "log('Hi there!')\n",
    "sleep(0.5)\n",
    "log('Hi again!')\n",
    "help(log)"
   ]
  },
  {
   "cell_type": "code",
   "execution_count": null,
   "metadata": {
    "slideshow": {
     "slide_type": "slide"
    }
   },
   "outputs": [],
   "source": [
    "# minitask 5\n",
    "default_qentry = ('How do you feel today?', ['sad','happy','angry'])\n",
    "\n",
    "funcqpool = [('If return statement is not used inside the function, the function will return:',\n",
    "          ['0',\n",
    "           'None object',\n",
    "           'an arbitrary integer',\n",
    "           'Error! Functions in Python must have a return statement.'\n",
    "          ]),\n",
    "         ('Which of the following function calls can be used to invoke function definition:\\n def test(a, b, c, d):?',          \n",
    "          ['test(1, 2, 3, 4)',\n",
    "           'test(a = 1, 2, 3, 4)',\n",
    "           'test(a = 1, b = 2, c = 3, 4)',\n",
    "           'test(a = 1, b = 2, c = 3, d = 4)',\n",
    "           'test(1, 2, 3, d = 4)])'])\n",
    "        ]\n",
    "funcquiz1 = [('Which of the following keywords marks the beginning of the function block?',\n",
    "         ['func',\n",
    "          'define',\n",
    "          'def',\n",
    "          'func',\n",
    "         ])]\n",
    "print(add_question(0, funcqpool, funcquiz1))\n",
    "print(funcquiz1)\n",
    "print(add_question(0, funcqpool))\n"
   ]
  },
  {
   "cell_type": "code",
   "execution_count": null,
   "metadata": {
    "slideshow": {
     "slide_type": "subslide"
    }
   },
   "outputs": [],
   "source": [
    "def join_or_create_new_list(item, curlist = None):\n",
    "    if curlist is None:\n",
    "        curlist = []\n",
    "    curlist.append(item)\n",
    "    return curlist\n",
    "\n",
    "print(join_or_create_new_list(3,[1,2]))\n",
    "print(join_or_create_new_list(1))\n",
    "print(join_or_create_new_list(1))"
   ]
  },
  {
   "cell_type": "markdown",
   "metadata": {
    "slideshow": {
     "slide_type": "slide"
    }
   },
   "source": [
    "### Enforce Clarity with Keyword-Only Arguments"
   ]
  },
  {
   "cell_type": "code",
   "execution_count": null,
   "metadata": {
    "slideshow": {
     "slide_type": "subslide"
    }
   },
   "outputs": [],
   "source": [
    "def safe_division(number, divisor, ignore_overflow,\n",
    "                  ignore_zero_division):\n",
    "    try:\n",
    "        return number / divisor\n",
    "    except OverflowError:\n",
    "        if ignore_overflow:\n",
    "            return 0\n",
    "        else:\n",
    "            raise\n",
    "    except ZeroDivisionError:\n",
    "        if ignore_zero_division:\n",
    "            return float('inf')\n",
    "        else:\n",
    "            raise"
   ]
  },
  {
   "cell_type": "code",
   "execution_count": null,
   "metadata": {
    "slideshow": {
     "slide_type": "subslide"
    }
   },
   "outputs": [],
   "source": [
    "result = safe_division(1, 10**500, True, False)\n",
    "print(result)"
   ]
  },
  {
   "cell_type": "code",
   "execution_count": null,
   "metadata": {
    "slideshow": {
     "slide_type": "subslide"
    }
   },
   "outputs": [],
   "source": [
    "result = safe_division(1, 0, False, True)\n",
    "print(result)"
   ]
  },
  {
   "cell_type": "code",
   "execution_count": null,
   "metadata": {
    "slideshow": {
     "slide_type": "subslide"
    }
   },
   "outputs": [],
   "source": [
    "def safe_division_c(number, divisor, *,\n",
    "                    ignore_overflow=False,\n",
    "                    ignore_zero_division=False):\n",
    "    try:\n",
    "        return number / divisor\n",
    "    except OverflowError:\n",
    "        if ignore_overflow:\n",
    "            return 0\n",
    "        else:\n",
    "            raise\n",
    "    except ZeroDivisionError:\n",
    "        if ignore_zero_division:\n",
    "            return float('inf')\n",
    "        else:\n",
    "            raise"
   ]
  },
  {
   "cell_type": "markdown",
   "metadata": {
    "slideshow": {
     "slide_type": "subslide"
    }
   },
   "source": [
    "The * symbol in the argument list indicates the end of positional arguments and the beginning of keyword-only arguments"
   ]
  },
  {
   "cell_type": "code",
   "execution_count": null,
   "metadata": {
    "slideshow": {
     "slide_type": "subslide"
    }
   },
   "outputs": [],
   "source": [
    "safe_division_c(1, 10**500, True, False)"
   ]
  },
  {
   "cell_type": "code",
   "execution_count": null,
   "metadata": {
    "slideshow": {
     "slide_type": "subslide"
    }
   },
   "outputs": [],
   "source": [
    "def greet(name, /, greeting='Hello'):\n",
    "    return f\"{greeting}, {name}\"\n",
    "greet(name='Karel', greeting='Ahoy')"
   ]
  },
  {
   "cell_type": "markdown",
   "metadata": {
    "slideshow": {
     "slide_type": "subslide"
    }
   },
   "source": [
    "## Type checking"
   ]
  },
  {
   "cell_type": "code",
   "execution_count": null,
   "metadata": {
    "slideshow": {
     "slide_type": "subslide"
    }
   },
   "outputs": [],
   "source": [
    "def fib(n):\n",
    "    a, b = 0, 1\n",
    "    for _ in range(n):\n",
    "        yield a\n",
    "        b, a = a + b, b\n",
    "\n",
    "print([n for n in fib(3.6)])"
   ]
  },
  {
   "cell_type": "code",
   "execution_count": null,
   "metadata": {
    "slideshow": {
     "slide_type": "subslide"
    }
   },
   "outputs": [],
   "source": [
    "from typing import Generator\n",
    "\n",
    "def fib(n: int) -> Generator:\n",
    "    a: int = 0\n",
    "    b: int = 1\n",
    "    for _ in range(n):\n",
    "        yield a\n",
    "        b, a = a + b, b\n",
    "\n",
    "print([n for n in fib(3.6)])"
   ]
  },
  {
   "cell_type": "code",
   "execution_count": null,
   "metadata": {
    "slideshow": {
     "slide_type": "subslide"
    }
   },
   "outputs": [],
   "source": [
    "$ mypy test_fib.py\n",
    "test_fib.py:10: error: Argument 1 to \"fib\" has incompatible type \"float\"; expected \"int\"\n",
    "Found 1 error in 1 file (checked 1 source file) "
   ]
  },
  {
   "cell_type": "code",
   "execution_count": null,
   "metadata": {
    "slideshow": {
     "slide_type": "subslide"
    }
   },
   "outputs": [],
   "source": [
    "import re\n",
    "\n",
    "from typing import Pattern, Dict, Optional\n",
    "\n",
    "# like c++\n",
    "# std::regex url(\"(https?)://([^/\\r\\n]+)(/[^\\r\\n]*)?\");\n",
    "# std::regex color(\"^#?([a-f0-9]{6}|[a-f0-9]{3})$\");\n",
    "\n",
    "url: Pattern = re.compile(\"(https?)://([^/\\r\\n]+)(/[^\\r\\n]*)?\")\n",
    "color: Pattern = re.compile(\"^#?([a-f0-9]{6}|[a-f0-9]{3})$\")\n",
    "\n",
    "x: Dict[str, Pattern] = {\"url\": url, \"color\": color}\n",
    "y: Optional[Pattern] = x.get(\"baz\", None)\n",
    "\n",
    "print(y.match(\"https://www.python.org/\"))"
   ]
  },
  {
   "cell_type": "code",
   "execution_count": null,
   "metadata": {
    "slideshow": {
     "slide_type": "subslide"
    }
   },
   "outputs": [],
   "source": [
    "$ mypy avoid_None_access.py\n",
    "avoid_None_access.py:15: error: Item \"None\" of \"Optional[Pattern[Any]]\" has no attribute \"match\"\n",
    "Found 1 error in 1 file (checked 1 source file)"
   ]
  },
  {
   "cell_type": "markdown",
   "metadata": {
    "slideshow": {
     "slide_type": "slide"
    }
   },
   "source": [
    "## Nested Statements and Scope "
   ]
  },
  {
   "cell_type": "code",
   "execution_count": null,
   "metadata": {
    "slideshow": {
     "slide_type": "subslide"
    }
   },
   "outputs": [],
   "source": [
    "vnitrni_uzel = 4\n",
    "list = 5\n",
    "pozice = [1,2,3,1,2,1,1]\n",
    "unikatni = set(pozice)\n",
    "print(unikatni)\n",
    "unikatni_seznam = list(unikatni)"
   ]
  },
  {
   "cell_type": "markdown",
   "metadata": {
    "slideshow": {
     "slide_type": "subslide"
    }
   },
   "source": [
    "When you create a name in Python the name is stored in a *namespace*\n",
    "\n",
    "Names also have a *scope*, the scope determines the visbility of that variable name to other parts of the code"
   ]
  },
  {
   "cell_type": "code",
   "execution_count": null,
   "metadata": {
    "slideshow": {
     "slide_type": "subslide"
    }
   },
   "outputs": [],
   "source": [
    "x = 25\n",
    "\n",
    "def printer():\n",
    "    x = 50\n",
    "    return x\n",
    "\n",
    "print(x)\n",
    "print(printer())"
   ]
  },
  {
   "cell_type": "markdown",
   "metadata": {
    "slideshow": {
     "slide_type": "subslide"
    }
   },
   "source": [
    "Interesting! But how does Python know which **x** you're referring to in your code?\n",
    "\n",
    "This is where the idea of scope comes in"
   ]
  },
  {
   "cell_type": "markdown",
   "metadata": {
    "slideshow": {
     "slide_type": "subslide"
    }
   },
   "source": [
    "Python has a set of rules it follows to decide what names (such as x in this case) you are refrencing in your code"
   ]
  },
  {
   "cell_type": "markdown",
   "metadata": {
    "slideshow": {
     "slide_type": "subslide"
    }
   },
   "source": [
    "This idea of scope in your code is very important to understand in order to properly assign and call variable names. \n",
    "\n",
    "In simple terms, the idea of scope can be described by three general rules:"
   ]
  },
  {
   "cell_type": "markdown",
   "metadata": {
    "slideshow": {
     "slide_type": "subslide"
    }
   },
   "source": [
    "1. Name assignments will create or change local names by default.\n",
    "2. Name references search (at most) four scopes, these are:\n",
    "    * local\n",
    "    * enclosing functions\n",
    "    * global\n",
    "    * built-in\n",
    "3. Names declared in global and nonlocal statements map assigned names to enclosing module and function scopes."
   ]
  },
  {
   "cell_type": "markdown",
   "metadata": {
    "slideshow": {
     "slide_type": "subslide"
    }
   },
   "source": [
    "The statement in #2 above can be defined by the LEGB rule.\n",
    "\n",
    "**LEGB Rule.**"
   ]
  },
  {
   "cell_type": "markdown",
   "metadata": {
    "slideshow": {
     "slide_type": "subslide"
    }
   },
   "source": [
    "L: Local — Names assigned in any way within a function (def or lambda)), and not declared global in that function."
   ]
  },
  {
   "cell_type": "markdown",
   "metadata": {
    "slideshow": {
     "slide_type": "subslide"
    }
   },
   "source": [
    "E: Enclosing function locals — Name in the local scope of any and all enclosing functions (def or lambda), from inner to outer."
   ]
  },
  {
   "cell_type": "markdown",
   "metadata": {
    "slideshow": {
     "slide_type": "subslide"
    }
   },
   "source": [
    "G: Global (module) — Names assigned at the top-level of a module file, or declared global in a def within the file."
   ]
  },
  {
   "cell_type": "markdown",
   "metadata": {
    "collapsed": true,
    "slideshow": {
     "slide_type": "subslide"
    }
   },
   "source": [
    "B: Built-in (Python) — Names preassigned in the built-in names module : open,range,SyntaxError,..."
   ]
  },
  {
   "cell_type": "markdown",
   "metadata": {
    "slideshow": {
     "slide_type": "subslide"
    }
   },
   "source": [
    "## Quick examples of LEGB\n",
    "\n",
    "### Local"
   ]
  },
  {
   "cell_type": "code",
   "execution_count": null,
   "metadata": {
    "slideshow": {
     "slide_type": "subslide"
    }
   },
   "outputs": [],
   "source": [
    "# x is local here:\n",
    "def my_func(a_param):\n",
    "    x = a_param + a_param"
   ]
  },
  {
   "cell_type": "markdown",
   "metadata": {
    "slideshow": {
     "slide_type": "subslide"
    }
   },
   "source": [
    "### Enclosing function locals\n",
    "This occurs when we have a function inside a function (nested functions)\n"
   ]
  },
  {
   "cell_type": "code",
   "execution_count": null,
   "metadata": {
    "slideshow": {
     "slide_type": "subslide"
    }
   },
   "outputs": [],
   "source": [
    "name = 'This is a global name'\n",
    "\n",
    "def greet():\n",
    "    # Enclosing function\n",
    "    name = 'Sammy'\n",
    "    \n",
    "    def hello():\n",
    "        print('Hello '+name)\n",
    "    \n",
    "    hello()\n",
    "\n",
    "greet()"
   ]
  },
  {
   "cell_type": "markdown",
   "metadata": {
    "slideshow": {
     "slide_type": "subslide"
    }
   },
   "source": [
    "Note how Sammy was used, because the hello() function was enclosed inside of the greet function!"
   ]
  },
  {
   "cell_type": "markdown",
   "metadata": {
    "slideshow": {
     "slide_type": "subslide"
    }
   },
   "source": [
    "### Global\n",
    "Luckily in Jupyter a quick way to test for global variables is to see if another cell recognizes the variable!"
   ]
  },
  {
   "cell_type": "code",
   "execution_count": null,
   "metadata": {
    "slideshow": {
     "slide_type": "subslide"
    }
   },
   "outputs": [],
   "source": [
    "print(name)"
   ]
  },
  {
   "cell_type": "markdown",
   "metadata": {
    "slideshow": {
     "slide_type": "subslide"
    }
   },
   "source": [
    "### Built-in\n",
    "These are the built-in function names in Python (don't overwrite these!)"
   ]
  },
  {
   "cell_type": "code",
   "execution_count": null,
   "metadata": {
    "slideshow": {
     "slide_type": "subslide"
    }
   },
   "outputs": [],
   "source": [
    "len"
   ]
  },
  {
   "cell_type": "markdown",
   "metadata": {
    "slideshow": {
     "slide_type": "subslide"
    }
   },
   "source": [
    "## Local Variables\n",
    "When you declare variables inside a function definition, they are not related in any way to other variables with the same names used outside the function - i.e. variable names are local to the function. This is called the scope of the variable. All variables have the scope of the block they are declared in starting from the point of definition of the name.\n",
    "\n",
    "Example:"
   ]
  },
  {
   "cell_type": "code",
   "execution_count": null,
   "metadata": {
    "slideshow": {
     "slide_type": "subslide"
    }
   },
   "outputs": [],
   "source": [
    "x = 50\n",
    "\n",
    "def func(x):\n",
    "    print('x is', x)\n",
    "    x = 2\n",
    "    print('Changed local x to', x)\n",
    "\n",
    "func(x)\n",
    "print('x is still', x)"
   ]
  },
  {
   "cell_type": "code",
   "execution_count": null,
   "metadata": {
    "slideshow": {
     "slide_type": "subslide"
    }
   },
   "outputs": [],
   "source": [
    "x = 50\n",
    "\n",
    "def func():\n",
    "    global x\n",
    "    print('This function is now using the global x!')\n",
    "    print('Because of global x is: ', x)\n",
    "    x = 2\n",
    "    print('Ran func(), changed global x to', x)\n",
    "\n",
    "print('Before calling func(), x is: ', x)\n",
    "func()\n",
    "print('Value of x (outside of func()) is: ', x)"
   ]
  },
  {
   "cell_type": "markdown",
   "metadata": {
    "collapsed": true,
    "slideshow": {
     "slide_type": "subslide"
    }
   },
   "source": [
    "The global statement is used to declare that x is a global variable - hence, when we assign a value to x inside the function, that change is reflected when we use the value of x in the main block.\n",
    "\n",
    "You can specify more than one global variable using the same global statement e.g. global x, y, z."
   ]
  },
  {
   "cell_type": "markdown",
   "metadata": {
    "slideshow": {
     "slide_type": "slide"
    }
   },
   "source": [
    "## How the scope works"
   ]
  },
  {
   "cell_type": "markdown",
   "metadata": {
    "slideshow": {
     "slide_type": "slide"
    }
   },
   "source": [
    "In Python, *most* interesting things happen at runtime, but name resolution is one of the few things that actually happens at compile time"
   ]
  },
  {
   "cell_type": "markdown",
   "metadata": {
    "slideshow": {
     "slide_type": "slide"
    }
   },
   "source": [
    "The compiler looks at each variable, and follows a process like* this (first matching rule wins):"
   ]
  },
  {
   "cell_type": "markdown",
   "metadata": {
    "slideshow": {
     "slide_type": "slide"
    }
   },
   "source": [
    "0. If the scope has an explicit global/nonlocal statement, then the variable is interpreted as such and bytecode is emitted accordingly."
   ]
  },
  {
   "cell_type": "markdown",
   "metadata": {
    "slideshow": {
     "slide_type": "slide"
    }
   },
   "source": [
    "1. If, anywhere in the scope, there's an assignment, then the variable is local to that scope, and we emit LOAD_FAST/STORE_FAST bytecode."
   ]
  },
  {
   "cell_type": "markdown",
   "metadata": {
    "slideshow": {
     "slide_type": "slide"
    }
   },
   "source": [
    "2. If a variable of the same name exists in an enclosing function (not class) scope, then it's a non-local or \"closed over\" variable. We emit complicated bytecode which sets up a closure. Closure variables are looked up by name at the time the closure is executed, so if the enclosing function rebinds the variable before returning, the closure will observe the new binding. This is different to how function parameters work, and so is a common source of confusion. If you're used to C++ closures, this is roughly equivalent to using [&] instead of [=], automatically, on every closure, without any option of doing it differently."
   ]
  },
  {
   "cell_type": "markdown",
   "metadata": {
    "slideshow": {
     "slide_type": "slide"
    }
   },
   "source": [
    "3. If none of the above rules applies, then it's a global or a builtin, and we emit LOAD_GLOBAL (we do not emit STORE_GLOBAL, because rule 1 or rule 0 would have applied in that case). LOAD_GLOBAL checks for globals and then for builtins at runtime."
   ]
  },
  {
   "cell_type": "markdown",
   "metadata": {
    "slideshow": {
     "slide_type": "slide"
    }
   },
   "source": [
    "Corollary: The set of variables in each non-global scope is fixed at compile time, because we have to emit the correct bytecode in order for a variable to be looked up in any non-global scope. You cannot add new variables to a non-global scope at runtime, and trying to evaluate a non-global variable before you assign to it raises UnboundLocalError instead of looking for a global variable of the same name."
   ]
  },
  {
   "cell_type": "markdown",
   "metadata": {
    "slideshow": {
     "slide_type": "subslide"
    }
   },
   "source": [
    "https://www.cs.rpi.edu/~milanova/docs/dls2020.pdf"
   ]
  },
  {
   "cell_type": "markdown",
   "metadata": {
    "slideshow": {
     "slide_type": "slide"
    }
   },
   "source": [
    "## Next Lecture\n",
    "- https://www.youtube.com/watch?v=HTLu2DFOdTg\n",
    "- https://www.youtube.com/watch?v=8moWQ1561FY"
   ]
  }
 ],
 "metadata": {
  "anaconda-cloud": {},
  "celltoolbar": "Slideshow",
  "kernelspec": {
   "display_name": "Python 3 (ipykernel)",
   "language": "python",
   "name": "python3"
  },
  "language_info": {
   "codemirror_mode": {
    "name": "ipython",
    "version": 3
   },
   "file_extension": ".py",
   "mimetype": "text/x-python",
   "name": "python",
   "nbconvert_exporter": "python",
   "pygments_lexer": "ipython3",
   "version": "3.12.3"
  },
  "livereveal": {
   "controls": true,
   "height": 855,
   "history": true,
   "minScale": 1,
   "progress": true,
   "scroll": false,
   "slideNumber": true,
   "start_slideshow_at": "selected",
   "theme": "simple",
   "transition": "linear",
   "width": 1140
  }
 },
 "nbformat": 4,
 "nbformat_minor": 1
}
