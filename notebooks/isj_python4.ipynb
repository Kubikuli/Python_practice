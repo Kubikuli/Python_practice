{
 "cells": [
  {
   "cell_type": "markdown",
   "metadata": {
    "slideshow": {
     "slide_type": "slide"
    }
   },
   "source": [
    "##### Nested Statements and Scope "
   ]
  },
  {
   "cell_type": "code",
   "execution_count": 2,
   "metadata": {
    "slideshow": {
     "slide_type": "subslide"
    }
   },
   "outputs": [
    {
     "name": "stdout",
     "output_type": "stream",
     "text": [
      "{1, 2, 3}\n"
     ]
    },
    {
     "ename": "TypeError",
     "evalue": "'int' object is not callable",
     "output_type": "error",
     "traceback": [
      "\u001b[1;31m---------------------------------------------------------------------------\u001b[0m",
      "\u001b[1;31mTypeError\u001b[0m                                 Traceback (most recent call last)",
      "\u001b[1;32m~\\AppData\\Local\\Temp/ipykernel_25620/3501042390.py\u001b[0m in \u001b[0;36m<module>\u001b[1;34m\u001b[0m\n\u001b[0;32m      4\u001b[0m \u001b[0munikatni\u001b[0m \u001b[1;33m=\u001b[0m \u001b[0mset\u001b[0m\u001b[1;33m(\u001b[0m\u001b[0mpozice\u001b[0m\u001b[1;33m)\u001b[0m\u001b[1;33m\u001b[0m\u001b[1;33m\u001b[0m\u001b[0m\n\u001b[0;32m      5\u001b[0m \u001b[0mprint\u001b[0m\u001b[1;33m(\u001b[0m\u001b[0munikatni\u001b[0m\u001b[1;33m)\u001b[0m\u001b[1;33m\u001b[0m\u001b[1;33m\u001b[0m\u001b[0m\n\u001b[1;32m----> 6\u001b[1;33m \u001b[0munikatni_seznam\u001b[0m \u001b[1;33m=\u001b[0m \u001b[0mlist\u001b[0m\u001b[1;33m(\u001b[0m\u001b[0munikatni\u001b[0m\u001b[1;33m)\u001b[0m\u001b[1;33m\u001b[0m\u001b[1;33m\u001b[0m\u001b[0m\n\u001b[0m",
      "\u001b[1;31mTypeError\u001b[0m: 'int' object is not callable"
     ]
    }
   ],
   "source": [
    "vnitrni_uzel = 4\n",
    "list = 5\n",
    "pozice = [1,2,3,1,2,1,1]\n",
    "unikatni = set(pozice)\n",
    "print(unikatni)\n",
    "unikatni_seznam = list(unikatni)"
   ]
  },
  {
   "cell_type": "markdown",
   "metadata": {
    "slideshow": {
     "slide_type": "subslide"
    }
   },
   "source": [
    "When you create a name in Python the name is stored in a *namespace*\n",
    "\n",
    "Names also have a *scope*, the scope determines the visbility of that variable name to other parts of the code"
   ]
  },
  {
   "cell_type": "code",
   "execution_count": null,
   "metadata": {
    "slideshow": {
     "slide_type": "subslide"
    }
   },
   "outputs": [],
   "source": [
    "x = 25\n",
    "\n",
    "def printer():\n",
    "    x = 50\n",
    "    return x\n",
    "\n",
    "print(x)\n",
    "print(printer())\n",
    "print(x)"
   ]
  },
  {
   "cell_type": "markdown",
   "metadata": {
    "slideshow": {
     "slide_type": "subslide"
    }
   },
   "source": [
    "Interesting! But how does Python know which **x** you're referring to in your code?\n",
    "\n",
    "This is where the idea of scope comes in"
   ]
  },
  {
   "cell_type": "markdown",
   "metadata": {
    "slideshow": {
     "slide_type": "subslide"
    }
   },
   "source": [
    "Python has a set of rules it follows to decide what names (such as x in this case) you are refrencing in your code"
   ]
  },
  {
   "cell_type": "markdown",
   "metadata": {
    "slideshow": {
     "slide_type": "subslide"
    }
   },
   "source": [
    "This idea of scope in your code is very important to understand in order to properly assign and call variable names. \n",
    "\n",
    "In simple terms, the idea of scope can be described by three general rules:"
   ]
  },
  {
   "cell_type": "markdown",
   "metadata": {
    "slideshow": {
     "slide_type": "subslide"
    }
   },
   "source": [
    "1. Name assignments will create or change local names by default.\n",
    "2. Name references search (at most) four scopes, these are:\n",
    "    * local\n",
    "    * enclosing functions\n",
    "    * global\n",
    "    * built-in\n",
    "3. Names declared in global and nonlocal statements map assigned names to enclosing module and function scopes."
   ]
  },
  {
   "cell_type": "markdown",
   "metadata": {
    "slideshow": {
     "slide_type": "subslide"
    }
   },
   "source": [
    "The statement in #2 above can be defined by the LEGB rule.\n",
    "\n",
    "**LEGB Rule.**"
   ]
  },
  {
   "cell_type": "markdown",
   "metadata": {
    "slideshow": {
     "slide_type": "subslide"
    }
   },
   "source": [
    "L: Local — Names assigned in any way within a function (def or lambda)), and not declared global in that function."
   ]
  },
  {
   "cell_type": "markdown",
   "metadata": {
    "slideshow": {
     "slide_type": "subslide"
    }
   },
   "source": [
    "E: Enclosing function locals — Name in the local scope of any and all enclosing functions (def or lambda), from inner to outer."
   ]
  },
  {
   "cell_type": "markdown",
   "metadata": {
    "slideshow": {
     "slide_type": "subslide"
    }
   },
   "source": [
    "G: Global (module) — Names assigned at the top-level of a module file, or declared global in a def within the file."
   ]
  },
  {
   "cell_type": "markdown",
   "metadata": {
    "collapsed": true,
    "slideshow": {
     "slide_type": "subslide"
    }
   },
   "source": [
    "B: Built-in (Python) — Names preassigned in the built-in names module : open,range,SyntaxError,..."
   ]
  },
  {
   "cell_type": "markdown",
   "metadata": {
    "slideshow": {
     "slide_type": "subslide"
    }
   },
   "source": [
    "## Quick examples of LEGB\n",
    "\n",
    "### Local"
   ]
  },
  {
   "cell_type": "code",
   "execution_count": null,
   "metadata": {
    "slideshow": {
     "slide_type": "subslide"
    }
   },
   "outputs": [],
   "source": [
    "# x is local here:\n",
    "def my_func(a_param):\n",
    "    x = a_param + a_param"
   ]
  },
  {
   "cell_type": "markdown",
   "metadata": {
    "slideshow": {
     "slide_type": "subslide"
    }
   },
   "source": [
    "### Enclosing function locals\n",
    "This occurs when we have a function inside a function (nested functions)\n"
   ]
  },
  {
   "cell_type": "code",
   "execution_count": null,
   "metadata": {
    "slideshow": {
     "slide_type": "subslide"
    }
   },
   "outputs": [],
   "source": [
    "name = 'This is a global name'\n",
    "\n",
    "def greet():\n",
    "    # Enclosing function\n",
    "    name = 'Sammy'\n",
    "    \n",
    "    def hello():\n",
    "        print('Hello '+name)\n",
    "    \n",
    "    hello()\n",
    "\n",
    "greet()"
   ]
  },
  {
   "cell_type": "markdown",
   "metadata": {
    "slideshow": {
     "slide_type": "subslide"
    }
   },
   "source": [
    "Note how Sammy was used, because the hello() function was enclosed inside of the greet function!"
   ]
  },
  {
   "cell_type": "markdown",
   "metadata": {
    "slideshow": {
     "slide_type": "subslide"
    }
   },
   "source": [
    "### Global\n",
    "Luckily in Jupyter a quick way to test for global variables is to see if another cell recognizes the variable!"
   ]
  },
  {
   "cell_type": "code",
   "execution_count": null,
   "metadata": {
    "slideshow": {
     "slide_type": "subslide"
    }
   },
   "outputs": [],
   "source": [
    "print(name)"
   ]
  },
  {
   "cell_type": "markdown",
   "metadata": {
    "slideshow": {
     "slide_type": "subslide"
    }
   },
   "source": [
    "### Built-in\n",
    "These are the built-in function names in Python (don't overwrite these!)"
   ]
  },
  {
   "cell_type": "code",
   "execution_count": 2,
   "metadata": {
    "slideshow": {
     "slide_type": "subslide"
    }
   },
   "outputs": [
    {
     "data": {
      "text/plain": [
       "<function len(obj, /)>"
      ]
     },
     "execution_count": 2,
     "metadata": {},
     "output_type": "execute_result"
    }
   ],
   "source": [
    "len"
   ]
  },
  {
   "cell_type": "markdown",
   "metadata": {
    "slideshow": {
     "slide_type": "subslide"
    }
   },
   "source": [
    "## Local Variables\n",
    "When you declare variables inside a function definition, they are not related in any way to other variables with the same names used outside the function - i.e. variable names are local to the function. This is called the scope of the variable. All variables have the scope of the block they are declared in starting from the point of definition of the name.\n",
    "\n",
    "Example:"
   ]
  },
  {
   "cell_type": "code",
   "execution_count": null,
   "metadata": {
    "slideshow": {
     "slide_type": "subslide"
    }
   },
   "outputs": [],
   "source": [
    "x = 50\n",
    "\n",
    "def func(x):\n",
    "    print('x is', x)\n",
    "    x = 2\n",
    "    print('Changed local x to', x)\n",
    "\n",
    "func(x)\n",
    "print('x is still', x)"
   ]
  },
  {
   "cell_type": "code",
   "execution_count": null,
   "metadata": {
    "slideshow": {
     "slide_type": "subslide"
    }
   },
   "outputs": [],
   "source": [
    "x = 50\n",
    "\n",
    "def func():\n",
    "    global x\n",
    "    print('This function is now using the global x!')\n",
    "    print('Because of global x is: ', x)\n",
    "    x = 2\n",
    "    print('Ran func(), changed global x to', x)\n",
    "\n",
    "print('Before calling func(), x is: ', x)\n",
    "func()\n",
    "print('Value of x (outside of func()) is: ', x)"
   ]
  },
  {
   "cell_type": "markdown",
   "metadata": {
    "collapsed": true,
    "slideshow": {
     "slide_type": "subslide"
    }
   },
   "source": [
    "The global statement is used to declare that x is a global variable - hence, when we assign a value to x inside the function, that change is reflected when we use the value of x in the main block.\n",
    "\n",
    "You can specify more than one global variable using the same global statement e.g. global x, y, z."
   ]
  },
  {
   "cell_type": "markdown",
   "metadata": {
    "slideshow": {
     "slide_type": "slide"
    }
   },
   "source": [
    "## How the scope works"
   ]
  },
  {
   "cell_type": "markdown",
   "metadata": {
    "slideshow": {
     "slide_type": "slide"
    }
   },
   "source": [
    "In Python, *most* interesting things happen at runtime, but name resolution is one of the few things that actually happens at compile time"
   ]
  },
  {
   "cell_type": "markdown",
   "metadata": {
    "slideshow": {
     "slide_type": "slide"
    }
   },
   "source": [
    "The compiler looks at each variable, and follows a process like* this (first matching rule wins):"
   ]
  },
  {
   "cell_type": "markdown",
   "metadata": {
    "slideshow": {
     "slide_type": "slide"
    }
   },
   "source": [
    "0. If the scope has an explicit global/nonlocal statement, then the variable is interpreted as such and bytecode is emitted accordingly."
   ]
  },
  {
   "cell_type": "markdown",
   "metadata": {
    "slideshow": {
     "slide_type": "slide"
    }
   },
   "source": [
    "1. If, anywhere in the scope, there's an assignment, then the variable is local to that scope, and we emit LOAD_FAST/STORE_FAST bytecode."
   ]
  },
  {
   "cell_type": "markdown",
   "metadata": {
    "slideshow": {
     "slide_type": "slide"
    }
   },
   "source": [
    "2. If a variable of the same name exists in an enclosing function (not class) scope, then it's a non-local or \"closed over\" variable. We emit complicated bytecode which sets up a closure. Closure variables are looked up by name at the time the closure is executed, so if the enclosing function rebinds the variable before returning, the closure will observe the new binding. This is different to how function parameters work, and so is a common source of confusion. If you're used to C++ closures, this is roughly equivalent to using [&] instead of [=], automatically, on every closure, without any option of doing it differently."
   ]
  },
  {
   "cell_type": "markdown",
   "metadata": {
    "slideshow": {
     "slide_type": "slide"
    }
   },
   "source": [
    "3. If none of the above rules applies, then it's a global or a builtin, and we emit LOAD_GLOBAL (we do not emit STORE_GLOBAL, because rule 1 or rule 0 would have applied in that case). LOAD_GLOBAL checks for globals and then for builtins at runtime."
   ]
  },
  {
   "cell_type": "markdown",
   "metadata": {
    "slideshow": {
     "slide_type": "slide"
    }
   },
   "source": [
    "Corollary: The set of variables in each non-global scope is fixed at compile time, because we have to emit the correct bytecode in order for a variable to be looked up in any non-global scope. You cannot add new variables to a non-global scope at runtime, and trying to evaluate a non-global variable before you assign to it raises UnboundLocalError instead of looking for a global variable of the same name."
   ]
  },
  {
   "cell_type": "markdown",
   "metadata": {
    "slideshow": {
     "slide_type": "slide"
    }
   },
   "source": [
    "# Object Oriented Programming"
   ]
  },
  {
   "cell_type": "markdown",
   "metadata": {
    "collapsed": true,
    "slideshow": {
     "slide_type": "slide"
    }
   },
   "source": [
    "## OOP through Namespaces\n",
    "\n",
    "Based on Raymond Hettinger's PyConEstonia 2020 Talk: https://www.youtube.com/watch?v=8moWQ1561FY"
   ]
  },
  {
   "cell_type": "markdown",
   "metadata": {
    "collapsed": true,
    "slideshow": {
     "slide_type": "subslide"
    }
   },
   "source": [
    "How Namespaces can be implemented in Python?"
   ]
  },
  {
   "cell_type": "code",
   "execution_count": 3,
   "metadata": {
    "slideshow": {
     "slide_type": "subslide"
    }
   },
   "outputs": [
    {
     "data": {
      "text/plain": [
       "'red'"
      ]
     },
     "execution_count": 3,
     "metadata": {},
     "output_type": "execute_result"
    }
   ],
   "source": [
    "d = dict()\n",
    "d['raymond'] = 'red'\n",
    "d['raymond']"
   ]
  },
  {
   "cell_type": "code",
   "execution_count": 4,
   "metadata": {
    "slideshow": {
     "slide_type": "subslide"
    }
   },
   "outputs": [
    {
     "data": {
      "text/plain": [
       "100"
      ]
     },
     "execution_count": 4,
     "metadata": {},
     "output_type": "execute_result"
    }
   ],
   "source": [
    "a = 100\n",
    "globals()['a']"
   ]
  },
  {
   "cell_type": "code",
   "execution_count": 5,
   "metadata": {
    "slideshow": {
     "slide_type": "subslide"
    }
   },
   "outputs": [
    {
     "data": {
      "text/plain": [
       "101"
      ]
     },
     "execution_count": 5,
     "metadata": {},
     "output_type": "execute_result"
    }
   ],
   "source": [
    "globals()['a'] = 101\n",
    "a"
   ]
  },
  {
   "cell_type": "code",
   "execution_count": 3,
   "metadata": {
    "slideshow": {
     "slide_type": "subslide"
    }
   },
   "outputs": [
    {
     "data": {
      "text/plain": [
       "namespace(x=99, y=42)"
      ]
     },
     "execution_count": 3,
     "metadata": {},
     "output_type": "execute_result"
    }
   ],
   "source": [
    "from types import SimpleNamespace\n",
    "ns = SimpleNamespace(x=99,y=42)\n",
    "ns"
   ]
  },
  {
   "cell_type": "code",
   "execution_count": 7,
   "metadata": {
    "slideshow": {
     "slide_type": "subslide"
    }
   },
   "outputs": [
    {
     "data": {
      "text/plain": [
       "42"
      ]
     },
     "execution_count": 7,
     "metadata": {},
     "output_type": "execute_result"
    }
   ],
   "source": [
    "ns.y"
   ]
  },
  {
   "cell_type": "code",
   "execution_count": 4,
   "metadata": {
    "slideshow": {
     "slide_type": "subslide"
    }
   },
   "outputs": [
    {
     "name": "stdout",
     "output_type": "stream",
     "text": [
      "4\n"
     ]
    }
   ],
   "source": [
    "# Project: emulate dictionaries\n",
    "n = 8\n",
    "karr = [[] for i in range(n)]\n",
    "varr = [[] for i in range(n)]\n",
    "key, value = 'oo', 'nice'\n",
    "i = hash(key) % n\n",
    "print(i)"
   ]
  },
  {
   "cell_type": "code",
   "execution_count": 5,
   "metadata": {
    "slideshow": {
     "slide_type": "subslide"
    }
   },
   "outputs": [
    {
     "name": "stdout",
     "output_type": "stream",
     "text": [
      "8\n",
      "[[], [], [], [], [], [], [], []]\n",
      "[[], [], [], [], [], [], [], []]\n"
     ]
    }
   ],
   "source": [
    "#Project: emulate dictionaries\n",
    "n = 8\n",
    "karr = [[] for i in range(n)]\n",
    "varr = [[] for i in range(n)]\n",
    "print(n)\n",
    "print(karr)\n",
    "print(varr)"
   ]
  },
  {
   "cell_type": "code",
   "execution_count": 6,
   "metadata": {
    "slideshow": {
     "slide_type": "subslide"
    }
   },
   "outputs": [
    {
     "name": "stdout",
     "output_type": "stream",
     "text": [
      "5\n",
      "[[], [], [], [], [], ['raymond'], [], []]\n",
      "[[], [], [], [], [], ['red'], [], []]\n"
     ]
    }
   ],
   "source": [
    "key, value = 'raymond', 'red'\n",
    "i = hash(key) % n\n",
    "print(i)\n",
    "karr[i].append(key)\n",
    "varr[i].append(value)\n",
    "print(karr)\n",
    "print(varr)"
   ]
  },
  {
   "cell_type": "code",
   "execution_count": null,
   "metadata": {
    "slideshow": {
     "slide_type": "subslide"
    }
   },
   "outputs": [],
   "source": [
    "# Project:   Emulate how dictionaries work\n",
    "# Variables: n, karr, varr \n",
    "# Namespace: globals()\n",
    "# Execution technique: manually typing commands"
   ]
  },
  {
   "cell_type": "code",
   "execution_count": null,
   "metadata": {
    "slideshow": {
     "slide_type": "subslide"
    }
   },
   "outputs": [],
   "source": [
    "# Improvement: Move operations into functions"
   ]
  },
  {
   "cell_type": "code",
   "execution_count": 7,
   "metadata": {
    "slideshow": {
     "slide_type": "subslide"
    }
   },
   "outputs": [],
   "source": [
    "def setup():\n",
    "    global n, karr, varr\n",
    "    n = 8\n",
    "    karr = [[] for i in range(n)]\n",
    "    varr = [[] for i in range(n)]"
   ]
  },
  {
   "cell_type": "code",
   "execution_count": 8,
   "metadata": {
    "slideshow": {
     "slide_type": "subslide"
    }
   },
   "outputs": [],
   "source": [
    "def store(key, value):\n",
    "    i = hash(key) % n\n",
    "    karr[i].append(key)\n",
    "    varr[i].append(value)"
   ]
  },
  {
   "cell_type": "code",
   "execution_count": 9,
   "metadata": {
    "slideshow": {
     "slide_type": "subslide"
    }
   },
   "outputs": [],
   "source": [
    "def lookup(key):\n",
    "    i = hash(key) % n\n",
    "    try:\n",
    "        j = karr[i].index(key)\n",
    "    except ValueError:\n",
    "        raise KeyError(key)\n",
    "    return varr[i][j]"
   ]
  },
  {
   "cell_type": "code",
   "execution_count": 10,
   "metadata": {
    "slideshow": {
     "slide_type": "subslide"
    }
   },
   "outputs": [
    {
     "name": "stdout",
     "output_type": "stream",
     "text": [
      "blue\n"
     ]
    }
   ],
   "source": [
    "setup()\n",
    "store('raymond','red')\n",
    "store('rachel','blue')\n",
    "store('matthew','green')\n",
    "print(lookup('rachel'))\n"
   ]
  },
  {
   "cell_type": "code",
   "execution_count": null,
   "metadata": {
    "slideshow": {
     "slide_type": "subslide"
    }
   },
   "outputs": [],
   "source": [
    "# Project:   Emulate how dictionaries work\n",
    "# Variables: n, karr, varr \n",
    "# Namespace: globals()\n",
    "# Execution technique: functions"
   ]
  },
  {
   "cell_type": "code",
   "execution_count": null,
   "metadata": {
    "slideshow": {
     "slide_type": "subslide"
    }
   },
   "outputs": [],
   "source": [
    "# Limitation: In one namespace a variable\n",
    "# name can be used only once"
   ]
  },
  {
   "cell_type": "code",
   "execution_count": 11,
   "metadata": {
    "slideshow": {
     "slide_type": "subslide"
    }
   },
   "outputs": [
    {
     "name": "stdout",
     "output_type": "stream",
     "text": [
      "8\n",
      "[[], ['matthew'], [], [], [], ['raymond', 'rachel'], [], []]\n",
      "[[], ['green'], [], [], [], ['red', 'blue'], [], []]\n"
     ]
    }
   ],
   "source": [
    "print(n)\n",
    "print(karr)\n",
    "print(varr)"
   ]
  },
  {
   "cell_type": "code",
   "execution_count": null,
   "metadata": {
    "slideshow": {
     "slide_type": "subslide"
    }
   },
   "outputs": [],
   "source": [
    "# Engineering problem:\n",
    "# One namespace is not enough\n",
    "# Solution?"
   ]
  },
  {
   "cell_type": "code",
   "execution_count": null,
   "metadata": {
    "slideshow": {
     "slide_type": "subslide"
    }
   },
   "outputs": [],
   "source": [
    "# Project:   Emulate how dictionaries work\n",
    "# Variables: n, karr, varr \n",
    "# Namespace: user dicts\n",
    "# Execution technique: functions"
   ]
  },
  {
   "cell_type": "code",
   "execution_count": null,
   "metadata": {
    "slideshow": {
     "slide_type": "subslide"
    }
   },
   "outputs": [],
   "source": [
    "# Benefit: We can have multiple namespaces"
   ]
  },
  {
   "cell_type": "code",
   "execution_count": 12,
   "metadata": {
    "slideshow": {
     "slide_type": "subslide"
    }
   },
   "outputs": [],
   "source": [
    "def setup(ns):\n",
    "    ns['n'] = 8\n",
    "    ns['karr'] = [[] for i in range(ns['n'])]\n",
    "    ns['varr'] = [[] for i in range(ns['n'])]"
   ]
  },
  {
   "cell_type": "code",
   "execution_count": 13,
   "metadata": {
    "slideshow": {
     "slide_type": "subslide"
    }
   },
   "outputs": [],
   "source": [
    "def store(ns, key, value):\n",
    "    i = hash(key) % ns['n']\n",
    "    ns['karr'][i].append(key)\n",
    "    ns['varr'][i].append(value)"
   ]
  },
  {
   "cell_type": "code",
   "execution_count": 14,
   "metadata": {
    "slideshow": {
     "slide_type": "subslide"
    }
   },
   "outputs": [],
   "source": [
    "def lookup(ns, key):\n",
    "    i = hash(key) % ns['n']\n",
    "    try:\n",
    "        j = ns['karr'][i].index(key)\n",
    "    except ValueError:\n",
    "        raise KeyError(key)\n",
    "    return ns['varr'][i][j]"
   ]
  },
  {
   "cell_type": "code",
   "execution_count": 15,
   "metadata": {
    "slideshow": {
     "slide_type": "subslide"
    }
   },
   "outputs": [
    {
     "name": "stdout",
     "output_type": "stream",
     "text": [
      "blue\n"
     ]
    }
   ],
   "source": [
    "ns1={}\n",
    "setup(ns1)\n",
    "store(ns1,'raymond','red')\n",
    "store(ns1,'rachel','blue')\n",
    "store(ns1,'matthew','green')\n",
    "print(lookup(ns1,'rachel'))"
   ]
  },
  {
   "cell_type": "code",
   "execution_count": 16,
   "metadata": {
    "slideshow": {
     "slide_type": "subslide"
    }
   },
   "outputs": [
    {
     "name": "stdout",
     "output_type": "stream",
     "text": [
      "pc\n"
     ]
    }
   ],
   "source": [
    "ns2={}\n",
    "setup(ns2)\n",
    "store(ns2,'raymond','mac')\n",
    "store(ns2,'rachel','pc')\n",
    "store(ns2,'matthew','chromebook')\n",
    "print(lookup(ns2,'rachel'))"
   ]
  },
  {
   "cell_type": "code",
   "execution_count": 17,
   "metadata": {
    "slideshow": {
     "slide_type": "subslide"
    }
   },
   "outputs": [
    {
     "name": "stdout",
     "output_type": "stream",
     "text": [
      "{'n': 8, 'karr': [[], ['matthew'], [], [], [], ['raymond', 'rachel'], [], []], 'varr': [[], ['chromebook'], [], [], [], ['mac', 'pc'], [], []]}\n"
     ]
    }
   ],
   "source": [
    "print(ns2)"
   ]
  },
  {
   "cell_type": "code",
   "execution_count": 18,
   "metadata": {
    "slideshow": {
     "slide_type": "subslide"
    }
   },
   "outputs": [
    {
     "name": "stdout",
     "output_type": "stream",
     "text": [
      "flute\n"
     ]
    }
   ],
   "source": [
    "ns3 = globals()\n",
    "setup(ns3)\n",
    "store(ns3,'raymond','guitar')\n",
    "store(ns3,'rachel','flute')\n",
    "store(ns3,'matthew','piano')\n",
    "print(lookup(ns3,'rachel'))"
   ]
  },
  {
   "cell_type": "code",
   "execution_count": 18,
   "metadata": {
    "slideshow": {
     "slide_type": "subslide"
    }
   },
   "outputs": [
    {
     "name": "stdout",
     "output_type": "stream",
     "text": [
      "{'__name__': '__main__', '__doc__': 'Automatically created module for IPython interactive environment', '__package__': None, '__loader__': None, '__spec__': None, '__builtin__': <module 'builtins' (built-in)>, '__builtins__': <module 'builtins' (built-in)>, '_ih': ['', 'x = 25\\n\\ndef printer():\\n    x = 50\\n    return x\\n\\nprint(x)\\nprint(printer())', 'len', \"d = dict()\\nd['raymond'] = 'red'\\nd['raymond']\", \"a = 100\\nglobals()['a']\", \"globals()['a'] = 101\\na\", 'from types import SimpleNamespace\\nns = SimpleNamespace(x=99,y=42)\\nns', 'ns.y', \"# Project: emulate dictionaries\\nn = 8\\nkarr = [[] for i in range(n)]\\nvarr = [[] for i in range(n)]\\nkey, value = 'oo', 'nice'\\ni = hash(key) % n\\nprint(i)\", 'print(n)\\nprint(karr)\\nprint(varr)', \"def setup(ns):\\n    ns['n'] = 8\\n    ns['karr'] = [[] for i in range(ns['n'])]\\n    ns['varr'] = [[] for i in range(ns['n'])]\", \"def store(ns, key, value):\\n    i = hash(key) % ns['n']\\n    ns['karr'][i].append(key)\\n    ns['varr'][i].append(value)\", \"def lookup(ns, key):\\n    i = hash(key) % ns['n']\\n    try:\\n        j = ns['karr'][i].index(key)\\n    except ValueError:\\n        raise KeyError(key)\\n    return ns['varr'][i][j]\", \"ns1={}\\nsetup(ns1)\\nstore(ns1,'raymond','red')\\nstore(ns1,'rachel','blue')\\nstore(ns1,'matthew','green')\\nprint(lookup(ns1,'rachel'))\", \"ns1={}\\nsetup(ns1)\\nstore(ns1,'raymond','red')\\nstore(ns1,'rachel','blue')\\nstore(ns1,'matthew','green')\\nprint(lookup(ns1,'rachel'))\", \"ns2={}\\nsetup(ns2)\\nstore(ns2,'raymond','mac')\\nstore(ns2,'rachel','pc')\\nstore(ns2,'matthew','chromebook')\\nprint(lookup(ns2,'rachel'))\", 'print(ns2)', \"ns3 = globals()\\nsetup(ns3)\\nstore(ns3,'raymond','guitar')\\nstore(ns3,'rachel','flute')\\nstore(ns3,'matthew','piano')\\nprint(lookup(ns3,'rachel'))\", 'print(ns3)'], '_oh': {2: <built-in function len>, 3: 'red', 4: 100, 5: 101, 6: namespace(x=99, y=42), 7: 42}, '_dh': ['C:\\\\Users\\\\smrz\\\\Sync\\\\SyncDirs\\\\ISJ\\\\prednasky\\\\ipynb\\\\07 - python4'], 'In': ['', 'x = 25\\n\\ndef printer():\\n    x = 50\\n    return x\\n\\nprint(x)\\nprint(printer())', 'len', \"d = dict()\\nd['raymond'] = 'red'\\nd['raymond']\", \"a = 100\\nglobals()['a']\", \"globals()['a'] = 101\\na\", 'from types import SimpleNamespace\\nns = SimpleNamespace(x=99,y=42)\\nns', 'ns.y', \"# Project: emulate dictionaries\\nn = 8\\nkarr = [[] for i in range(n)]\\nvarr = [[] for i in range(n)]\\nkey, value = 'oo', 'nice'\\ni = hash(key) % n\\nprint(i)\", 'print(n)\\nprint(karr)\\nprint(varr)', \"def setup(ns):\\n    ns['n'] = 8\\n    ns['karr'] = [[] for i in range(ns['n'])]\\n    ns['varr'] = [[] for i in range(ns['n'])]\", \"def store(ns, key, value):\\n    i = hash(key) % ns['n']\\n    ns['karr'][i].append(key)\\n    ns['varr'][i].append(value)\", \"def lookup(ns, key):\\n    i = hash(key) % ns['n']\\n    try:\\n        j = ns['karr'][i].index(key)\\n    except ValueError:\\n        raise KeyError(key)\\n    return ns['varr'][i][j]\", \"ns1={}\\nsetup(ns1)\\nstore(ns1,'raymond','red')\\nstore(ns1,'rachel','blue')\\nstore(ns1,'matthew','green')\\nprint(lookup(ns1,'rachel'))\", \"ns1={}\\nsetup(ns1)\\nstore(ns1,'raymond','red')\\nstore(ns1,'rachel','blue')\\nstore(ns1,'matthew','green')\\nprint(lookup(ns1,'rachel'))\", \"ns2={}\\nsetup(ns2)\\nstore(ns2,'raymond','mac')\\nstore(ns2,'rachel','pc')\\nstore(ns2,'matthew','chromebook')\\nprint(lookup(ns2,'rachel'))\", 'print(ns2)', \"ns3 = globals()\\nsetup(ns3)\\nstore(ns3,'raymond','guitar')\\nstore(ns3,'rachel','flute')\\nstore(ns3,'matthew','piano')\\nprint(lookup(ns3,'rachel'))\", 'print(ns3)'], 'Out': {2: <built-in function len>, 3: 'red', 4: 100, 5: 101, 6: namespace(x=99, y=42), 7: 42}, 'get_ipython': <bound method InteractiveShell.get_ipython of <ipykernel.zmqshell.ZMQInteractiveShell object at 0x00000275170C2DC0>>, 'exit': <IPython.core.autocall.ZMQExitAutocall object at 0x00000275170FDB80>, 'quit': <IPython.core.autocall.ZMQExitAutocall object at 0x00000275170FDB80>, '_': 42, '__': namespace(x=99, y=42), '___': 101, '_i': \"ns3 = globals()\\nsetup(ns3)\\nstore(ns3,'raymond','guitar')\\nstore(ns3,'rachel','flute')\\nstore(ns3,'matthew','piano')\\nprint(lookup(ns3,'rachel'))\", '_ii': 'print(ns2)', '_iii': \"ns2={}\\nsetup(ns2)\\nstore(ns2,'raymond','mac')\\nstore(ns2,'rachel','pc')\\nstore(ns2,'matthew','chromebook')\\nprint(lookup(ns2,'rachel'))\", '_i1': 'x = 25\\n\\ndef printer():\\n    x = 50\\n    return x\\n\\nprint(x)\\nprint(printer())', 'x': 25, 'printer': <function printer at 0x000002751713B5E0>, '_i2': 'len', '_2': <built-in function len>, '_i3': \"d = dict()\\nd['raymond'] = 'red'\\nd['raymond']\", 'd': {'raymond': 'red'}, '_3': 'red', '_i4': \"a = 100\\nglobals()['a']\", 'a': 101, '_4': 100, '_i5': \"globals()['a'] = 101\\na\", '_5': 101, '_i6': 'from types import SimpleNamespace\\nns = SimpleNamespace(x=99,y=42)\\nns', 'SimpleNamespace': <class 'types.SimpleNamespace'>, 'ns': namespace(x=99, y=42), '_6': namespace(x=99, y=42), '_i7': 'ns.y', '_7': 42, '_i8': \"# Project: emulate dictionaries\\nn = 8\\nkarr = [[] for i in range(n)]\\nvarr = [[] for i in range(n)]\\nkey, value = 'oo', 'nice'\\ni = hash(key) % n\\nprint(i)\", 'n': 8, 'karr': [[], [], ['raymond'], [], [], ['rachel'], ['matthew'], []], 'varr': [[], [], ['guitar'], [], [], ['flute'], ['piano'], []], 'key': 'oo', 'value': 'nice', 'i': 5, '_i9': 'print(n)\\nprint(karr)\\nprint(varr)', '_i10': \"def setup(ns):\\n    ns['n'] = 8\\n    ns['karr'] = [[] for i in range(ns['n'])]\\n    ns['varr'] = [[] for i in range(ns['n'])]\", 'setup': <function setup at 0x000002751713B820>, '_i11': \"def store(ns, key, value):\\n    i = hash(key) % ns['n']\\n    ns['karr'][i].append(key)\\n    ns['varr'][i].append(value)\", 'store': <function store at 0x000002751717E310>, '_i12': \"def lookup(ns, key):\\n    i = hash(key) % ns['n']\\n    try:\\n        j = ns['karr'][i].index(key)\\n    except ValueError:\\n        raise KeyError(key)\\n    return ns['varr'][i][j]\", 'lookup': <function lookup at 0x000002751713BCA0>, '_i13': \"ns1={}\\nsetup(ns1)\\nstore(ns1,'raymond','red')\\nstore(ns1,'rachel','blue')\\nstore(ns1,'matthew','green')\\nprint(lookup(ns1,'rachel'))\", 'ns1': {'n': 8, 'karr': [[], [], ['raymond'], [], [], ['rachel'], ['matthew'], []], 'varr': [[], [], ['red'], [], [], ['blue'], ['green'], []]}, '_i14': \"ns1={}\\nsetup(ns1)\\nstore(ns1,'raymond','red')\\nstore(ns1,'rachel','blue')\\nstore(ns1,'matthew','green')\\nprint(lookup(ns1,'rachel'))\", '_i15': \"ns2={}\\nsetup(ns2)\\nstore(ns2,'raymond','mac')\\nstore(ns2,'rachel','pc')\\nstore(ns2,'matthew','chromebook')\\nprint(lookup(ns2,'rachel'))\", 'ns2': {'n': 8, 'karr': [[], [], ['raymond'], [], [], ['rachel'], ['matthew'], []], 'varr': [[], [], ['mac'], [], [], ['pc'], ['chromebook'], []]}, '_i16': 'print(ns2)', '_i17': \"ns3 = globals()\\nsetup(ns3)\\nstore(ns3,'raymond','guitar')\\nstore(ns3,'rachel','flute')\\nstore(ns3,'matthew','piano')\\nprint(lookup(ns3,'rachel'))\", 'ns3': {...}, '_i18': 'print(ns3)'}\n"
     ]
    }
   ],
   "source": [
    "print(ns3)"
   ]
  },
  {
   "cell_type": "code",
   "execution_count": 19,
   "metadata": {
    "scrolled": true,
    "slideshow": {
     "slide_type": "subslide"
    }
   },
   "outputs": [
    {
     "name": "stdout",
     "output_type": "stream",
     "text": [
      "[[], ['matthew'], [], [], [], ['raymond', 'rachel'], [], []]\n",
      "[[], ['matthew'], [], [], [], ['raymond', 'rachel'], [], []]\n"
     ]
    }
   ],
   "source": [
    "print(karr)\n",
    "print(ns3['karr'])"
   ]
  },
  {
   "cell_type": "code",
   "execution_count": null,
   "metadata": {
    "slideshow": {
     "slide_type": "subslide"
    }
   },
   "outputs": [],
   "source": [
    "# Problem: ns['varr'] looks ugly!"
   ]
  },
  {
   "cell_type": "code",
   "execution_count": 20,
   "metadata": {
    "slideshow": {
     "slide_type": "subslide"
    }
   },
   "outputs": [
    {
     "name": "stdout",
     "output_type": "stream",
     "text": [
      "The Zen of Python, by Tim Peters\n",
      "\n",
      "Beautiful is better than ugly.\n",
      "Explicit is better than implicit.\n",
      "Simple is better than complex.\n",
      "Complex is better than complicated.\n",
      "Flat is better than nested.\n",
      "Sparse is better than dense.\n",
      "Readability counts.\n",
      "Special cases aren't special enough to break the rules.\n",
      "Although practicality beats purity.\n",
      "Errors should never pass silently.\n",
      "Unless explicitly silenced.\n",
      "In the face of ambiguity, refuse the temptation to guess.\n",
      "There should be one-- and preferably only one --obvious way to do it.\n",
      "Although that way may not be obvious at first unless you're Dutch.\n",
      "Now is better than never.\n",
      "Although never is often better than *right* now.\n",
      "If the implementation is hard to explain, it's a bad idea.\n",
      "If the implementation is easy to explain, it may be a good idea.\n",
      "Namespaces are one honking great idea -- let's do more of those!\n"
     ]
    }
   ],
   "source": [
    "import this"
   ]
  },
  {
   "cell_type": "code",
   "execution_count": 5,
   "metadata": {
    "slideshow": {
     "slide_type": "subslide"
    }
   },
   "outputs": [],
   "source": [
    "from types import SimpleNamespace  \n",
    "\n",
    "def setup(ns):\n",
    "    ns.n = 8\n",
    "    ns.karr = [[] for i in range(ns.n)]\n",
    "    ns.varr = [[] for i in range(ns.n)]"
   ]
  },
  {
   "cell_type": "code",
   "execution_count": 6,
   "metadata": {
    "slideshow": {
     "slide_type": "subslide"
    }
   },
   "outputs": [],
   "source": [
    "def store(ns, key, value):\n",
    "    i = hash(key) % ns.n\n",
    "    ns.karr[i].append(key)\n",
    "    ns.varr[i].append(value)"
   ]
  },
  {
   "cell_type": "code",
   "execution_count": 7,
   "metadata": {
    "slideshow": {
     "slide_type": "subslide"
    }
   },
   "outputs": [],
   "source": [
    "def lookup(ns, key):\n",
    "    i = hash(key) % ns.n\n",
    "    try:\n",
    "        j = ns.karr[i].index(key)\n",
    "    except ValueError:\n",
    "        raise KeyError(key)\n",
    "    return ns.varr[i][j]"
   ]
  },
  {
   "cell_type": "code",
   "execution_count": 8,
   "metadata": {
    "scrolled": true,
    "slideshow": {
     "slide_type": "subslide"
    }
   },
   "outputs": [
    {
     "name": "stdout",
     "output_type": "stream",
     "text": [
      "blue\n"
     ]
    }
   ],
   "source": [
    "ns1=SimpleNamespace()\n",
    "setup(ns1)\n",
    "store(ns1,'raymond','red')\n",
    "store(ns1,'rachel','blue')\n",
    "store(ns1,'matthew','green')\n",
    "print(lookup(ns1,'rachel'))"
   ]
  },
  {
   "cell_type": "code",
   "execution_count": null,
   "metadata": {
    "slideshow": {
     "slide_type": "subslide"
    }
   },
   "outputs": [],
   "source": [
    "# Problem: \n",
    "# 1. Every new case, we have to manually\n",
    "#    create a new simple namespace\n",
    "# 2. Every single call of a function has to\n",
    "#    manually pass in the namespace"
   ]
  },
  {
   "cell_type": "code",
   "execution_count": null,
   "metadata": {
    "slideshow": {
     "slide_type": "subslide"
    }
   },
   "outputs": [],
   "source": [
    "# Solution: \n",
    "# PYTHON Classes !!!"
   ]
  },
  {
   "cell_type": "code",
   "execution_count": 30,
   "metadata": {
    "slideshow": {
     "slide_type": "subslide"
    }
   },
   "outputs": [],
   "source": [
    "class Dict4vis:\n",
    "    \n",
    "    def setup(self):\n",
    "        self.n = 8\n",
    "        self.karr = [[] for i in range(self.n)]\n",
    "        self.varr = [[] for i in range(self.n)]\n",
    "        \n",
    "    def store(self, key, value):\n",
    "        i = hash(key) % self.n\n",
    "        self.karr[i].append(key)\n",
    "        self.varr[i].append(value)\n",
    "        \n",
    "    def lookup(self, key):\n",
    "        i = hash(key) % self.n\n",
    "        try:\n",
    "            j = self.karr[i].index(key)\n",
    "        except ValueError:\n",
    "            raise KeyError(key)\n",
    "        return self.varr[i][j]"
   ]
  },
  {
   "cell_type": "code",
   "execution_count": 31,
   "metadata": {
    "scrolled": true,
    "slideshow": {
     "slide_type": "subslide"
    }
   },
   "outputs": [
    {
     "name": "stdout",
     "output_type": "stream",
     "text": [
      "blue\n"
     ]
    }
   ],
   "source": [
    "d4v = Dict4vis()\n",
    "d4v.setup()\n",
    "d4v.store('raymond','red')\n",
    "d4v.store('rachel','blue')\n",
    "d4v.store('matthew','green')\n",
    "print(d4v.lookup('rachel'))"
   ]
  },
  {
   "cell_type": "code",
   "execution_count": null,
   "metadata": {
    "slideshow": {
     "slide_type": "subslide"
    }
   },
   "outputs": [],
   "source": [
    "# Problem:  method names are too hard to type\n",
    "# Solution: change the method names so we can use operators "
   ]
  },
  {
   "cell_type": "code",
   "execution_count": null,
   "metadata": {
    "slideshow": {
     "slide_type": "subslide"
    }
   },
   "outputs": [],
   "source": [
    "# old code\n",
    "class Dict4vis:\n",
    "    \n",
    "    def setup(self):\n",
    "        self.n = 8\n",
    "        self.karr = [[] for i in range(self.n)]\n",
    "        self.varr = [[] for i in range(self.n)]\n",
    "        \n",
    "    def store(self, key, value):\n",
    "        i = hash(key) % self.n\n",
    "        self.karr[i].append(key)\n",
    "        self.varr[i].append(value)\n",
    "        \n",
    "    def lookup(self, key):\n",
    "        i = hash(key) % self.n\n",
    "        try:\n",
    "            j = self.karr[i].index(key)\n",
    "        except ValueError:\n",
    "            raise KeyError(key)\n",
    "        return self.varr[i][j]"
   ]
  },
  {
   "cell_type": "code",
   "execution_count": 32,
   "metadata": {
    "slideshow": {
     "slide_type": "subslide"
    }
   },
   "outputs": [],
   "source": [
    "# new code\n",
    "class Dict4vis:\n",
    "    \n",
    "    def __init__(self):\n",
    "        self.n = 8\n",
    "        self.karr = [[] for i in range(self.n)]\n",
    "        self.varr = [[] for i in range(self.n)]\n",
    "        \n",
    "    def __setitem__(self, key, value):\n",
    "        i = hash(key) % self.n\n",
    "        self.karr[i].append(key)\n",
    "        self.varr[i].append(value)\n",
    "        \n",
    "    def __getitem__(self, key):\n",
    "        i = hash(key) % self.n\n",
    "        try:\n",
    "            j = self.karr[i].index(key)\n",
    "        except ValueError:\n",
    "            raise KeyError(key)\n",
    "        return self.varr[i][j]"
   ]
  },
  {
   "cell_type": "code",
   "execution_count": 33,
   "metadata": {
    "scrolled": true,
    "slideshow": {
     "slide_type": "subslide"
    }
   },
   "outputs": [
    {
     "name": "stdout",
     "output_type": "stream",
     "text": [
      "blue\n"
     ]
    }
   ],
   "source": [
    "d4v = Dict4vis()\n",
    "# no need for d4v.setup(), \n",
    "# d4v.__init__() called automagically\n",
    "d4v['raymond'] = 'red'\n",
    "d4v['rachel'] = 'blue'\n",
    "d4v['matthew'] = 'green'\n",
    "print(d4v['rachel'])"
   ]
  },
  {
   "cell_type": "markdown",
   "metadata": {
    "collapsed": true,
    "slideshow": {
     "slide_type": "slide"
    }
   },
   "source": [
    "Object-oriented programming (OOP) is a programming paradigm based on the concept of **objects**, which may contain state (data) and behavior (code)\n",
    "\n",
    "Objects communicate via message passing"
   ]
  },
  {
   "cell_type": "markdown",
   "metadata": {
    "collapsed": true,
    "slideshow": {
     "slide_type": "slide"
    }
   },
   "source": [
    "Objects and OOP are at the heart of the way Python works\n",
    "\n",
    "You aren't forced to use the OOP paradigm in your programs - but understanding the concepts is essential to becoming anything more than a beginner\n",
    "\n",
    "Not least because you will need to use the classes and objects provided in the standard library"
   ]
  },
  {
   "cell_type": "markdown",
   "metadata": {
    "collapsed": true,
    "slideshow": {
     "slide_type": "slide"
    }
   },
   "source": [
    "Objects incorporate variables = attributes and functions = methods"
   ]
  },
  {
   "cell_type": "markdown",
   "metadata": {
    "collapsed": true,
    "slideshow": {
     "slide_type": "slide"
    }
   },
   "source": [
    "Basic principles:"
   ]
  },
  {
   "cell_type": "markdown",
   "metadata": {
    "collapsed": true,
    "slideshow": {
     "slide_type": "fragment"
    }
   },
   "source": [
    "* Encapsulation - the code inside objects divided into a public interface (the only way to be accessed) and a private implementation of the interface"
   ]
  },
  {
   "cell_type": "markdown",
   "metadata": {
    "slideshow": {
     "slide_type": "subslide"
    }
   },
   "source": [
    "* Polymorphism - the ability of an object to adapt the code to the type of the data it is processing"
   ]
  },
  {
   "cell_type": "markdown",
   "metadata": {
    "slideshow": {
     "slide_type": "subslide"
    }
   },
   "source": [
    "* Delegation (= composition + inheritance) - an object shall perform only what it knows best, and leave the rest to other objects"
   ]
  },
  {
   "cell_type": "markdown",
   "metadata": {
    "slideshow": {
     "slide_type": "subslide"
    }
   },
   "source": [
    "# Objects\n",
    "\n",
    "In Python, *anything is an object* (unlike C ++ or Java). Objects are all built-in types (numbers, strings, ...), all containers, as well as functions, modules, and object types. Absolutely everything provides some public methods."
   ]
  },
  {
   "cell_type": "markdown",
   "metadata": {
    "slideshow": {
     "slide_type": "subslide"
    }
   },
   "source": [
    "## Object's type\n",
    "\n",
    "Each object has a type; types can be divided into *built-in types* (list, tuple, int, ...) and *classes* (types defined using the `class` keyword)"
   ]
  },
  {
   "cell_type": "markdown",
   "metadata": {
    "slideshow": {
     "slide_type": "subslide"
    }
   },
   "source": [
    "The type determines what methods an object offers, it is a sort of a template (general characteristics), from which the individual object differs by its internal state (specific properties). "
   ]
  },
  {
   "cell_type": "markdown",
   "metadata": {
    "slideshow": {
     "slide_type": "subslide"
    }
   },
   "source": [
    "We say that *object is an instance of that type (class)*\n",
    "\n",
    "To determine the type of an object Python has a built-in function `type`"
   ]
  },
  {
   "cell_type": "code",
   "execution_count": 34,
   "metadata": {
    "slideshow": {
     "slide_type": "subslide"
    }
   },
   "outputs": [
    {
     "name": "stdout",
     "output_type": "stream",
     "text": [
      "<class 'str'>\n",
      "<class 'int'>\n",
      "<class 'tuple'>\n"
     ]
    }
   ],
   "source": [
    "print(type(\"Maundy Thursday\"))\n",
    "print(type(46878678676848648486))              # long in Python 2, int in Pythonu 3\n",
    "print(type((1,2)))"
   ]
  },
  {
   "cell_type": "code",
   "execution_count": 36,
   "metadata": {
    "slideshow": {
     "slide_type": "subslide"
    }
   },
   "outputs": [
    {
     "name": "stdout",
     "output_type": "stream",
     "text": [
      "<class 'dict'>\n",
      "<class 'set'>\n",
      "<class 'list'>\n",
      "<class 'list'>\n",
      "<class 'type'>\n",
      "True\n"
     ]
    }
   ],
   "source": [
    "print(type({}))\n",
    "print(type(set()))\n",
    "print(type([]))\n",
    "print(type(list()))                            # an instance of the list type\n",
    "print(type(list))                              # the list type itself\n",
    "\n",
    "print(isinstance(set(), set))                # The \"isinstance\" checks the object type"
   ]
  },
  {
   "cell_type": "markdown",
   "metadata": {
    "slideshow": {
     "slide_type": "subslide"
    }
   },
   "source": [
    "## Instantiation\n",
    "\n",
    "An instance of a given type is created similarly to calling a function\n",
    "\n",
    "If we have a data type (class), create an instance, just as we like to call it, i.e. using parethesis\n",
    "\n",
    "After all, we have already done so with built-in types like tuple, dict or list\n",
    "\n",
    "Effectively, the instantiation process involves calling the class constructor (see below)."
   ]
  },
  {
   "cell_type": "code",
   "execution_count": 37,
   "metadata": {
    "slideshow": {
     "slide_type": "subslide"
    }
   },
   "outputs": [
    {
     "name": "stdout",
     "output_type": "stream",
     "text": [
      "objekt = set()\n",
      "objekt2 = <class 'set'>\n"
     ]
    }
   ],
   "source": [
    "objekt = set()        # Creates a new instace of the list type\n",
    "objekt2 = set         # This does not create a new instace!\n",
    "                       # It just gives a new name to the list type\n",
    "\n",
    "# Let's see what we've got\n",
    "print(\"objekt = %s\" % objekt)\n",
    "print(\"objekt2 = %s\" % objekt2)"
   ]
  },
  {
   "cell_type": "code",
   "execution_count": 38,
   "metadata": {
    "slideshow": {
     "slide_type": "subslide"
    }
   },
   "outputs": [
    {
     "data": {
      "text/plain": [
       "set()"
      ]
     },
     "execution_count": 38,
     "metadata": {},
     "output_type": "execute_result"
    }
   ],
   "source": [
    "# Now we can create a list using objekt2\n",
    "objekt2()"
   ]
  },
  {
   "cell_type": "markdown",
   "metadata": {
    "slideshow": {
     "slide_type": "subslide"
    }
   },
   "source": [
    "## Using methods\n",
    "\n",
    "Method is a function that is tied to some object and operates with its data. It can also change the internal state of the object, i.e. the attributes' values\n",
    "\n",
    "In Python, methods are called using dot notation, **`object.method(arguments)`**"
   ]
  },
  {
   "cell_type": "code",
   "execution_count": null,
   "metadata": {
    "slideshow": {
     "slide_type": "subslide"
    }
   },
   "outputs": [],
   "source": [
    "objekt = [45, 46, 47, 48]     # objekt is a list instance\n",
    "objekt.append(49)             # we call its append method\n",
    "\n",
    "objekt"
   ]
  },
  {
   "cell_type": "markdown",
   "metadata": {
    "slideshow": {
     "slide_type": "subslide"
    }
   },
   "source": [
    "The append method has no meaning in itself, only in conjunction with a specific list; it adds a new element to the list."
   ]
  },
  {
   "cell_type": "markdown",
   "metadata": {
    "slideshow": {
     "slide_type": "subslide"
    }
   },
   "source": [
    "# Classes\n",
    "\n",
    "Class is any user type. Like built-in types, it offers methods and data (attributes), which we can arbitrarily define\n",
    "\n",
    "The simplest definition of an empty class (pass is used for empty classes and methods to circumvent the indentation)"
   ]
  },
  {
   "cell_type": "code",
   "execution_count": null,
   "metadata": {
    "slideshow": {
     "slide_type": "subslide"
    }
   },
   "outputs": [],
   "source": [
    "class MyClass(object):    # create a new class called MyClass\n",
    "    pass                  # the class is empty"
   ]
  },
  {
   "cell_type": "markdown",
   "metadata": {
    "slideshow": {
     "slide_type": "subslide"
    }
   },
   "source": [
    "## Method definition\n",
    "\n",
    "Methods are defined within the call block  \n",
    "(N.B. In dynamic languages, methods can be added to the class later)"
   ]
  },
  {
   "cell_type": "markdown",
   "metadata": {
    "slideshow": {
     "slide_type": "subslide"
    }
   },
   "source": [
    "Conventional methods (instance methods) are called on a particular object\n",
    "\n",
    "Besides, there are also **class methods** and **static methods**"
   ]
  },
  {
   "cell_type": "markdown",
   "metadata": {
    "slideshow": {
     "slide_type": "subslide"
    }
   },
   "source": [
    "Quite unusual (unlike C ++, Java and other languages) is that the first argument of the method is the object on which the method is called\n",
    "\n",
    "Without that, the method does not know with which object it is working!"
   ]
  },
  {
   "cell_type": "markdown",
   "metadata": {
    "slideshow": {
     "slide_type": "subslide"
    }
   },
   "source": [
    "By convention (which is perhaps never violated), this first argument is called **self**  \n",
    "\n",
    "When the method is called, Python fill this argument automatically"
   ]
  },
  {
   "cell_type": "markdown",
   "metadata": {
    "slideshow": {
     "slide_type": "subslide"
    }
   },
   "source": [
    "Java calls it **this**"
   ]
  },
  {
   "cell_type": "markdown",
   "metadata": {
    "slideshow": {
     "slide_type": "subslide"
    }
   },
   "source": [
    "Some people regard it as a Python 'wart' that we **have to** include self\n",
    "\n",
    "Other languages include it automatically"
   ]
  },
  {
   "cell_type": "markdown",
   "metadata": {
    "slideshow": {
     "slide_type": "subslide"
    }
   },
   "source": [
    "The main argument in favour of self is the Pythonic principle *explicit is better than implicit*\n",
    "\n",
    "This way we can see exactly where all our variable names come from"
   ]
  },
  {
   "cell_type": "markdown",
   "metadata": {
    "slideshow": {
     "slide_type": "subslide"
    }
   },
   "source": [
    "## import this"
   ]
  },
  {
   "cell_type": "code",
   "execution_count": null,
   "metadata": {
    "slideshow": {
     "slide_type": "fragment"
    }
   },
   "outputs": [],
   "source": [
    "import this"
   ]
  },
  {
   "cell_type": "code",
   "execution_count": 9,
   "metadata": {
    "slideshow": {
     "slide_type": "subslide"
    }
   },
   "outputs": [
    {
     "name": "stdout",
     "output_type": "stream",
     "text": [
      "Rolling 100 kilometers.\n"
     ]
    }
   ],
   "source": [
    "class Car(object):\n",
    "    def roll(self, distance):     # Don't forget *self*\n",
    "        print(\"Rolling {} kilometers.\".format(distance))\n",
    "        \n",
    "mycar = Car()                        \n",
    "mycar.roll(100)                     # self is omitted"
   ]
  },
  {
   "cell_type": "markdown",
   "metadata": {
    "slideshow": {
     "slide_type": "subslide"
    }
   },
   "source": [
    "Error! Notice the number of arguments that Python complains about."
   ]
  },
  {
   "cell_type": "code",
   "execution_count": 10,
   "metadata": {
    "scrolled": true,
    "slideshow": {
     "slide_type": "subslide"
    }
   },
   "outputs": [
    {
     "ename": "TypeError",
     "evalue": "roll() takes 2 positional arguments but 3 were given",
     "output_type": "error",
     "traceback": [
      "\u001b[1;31m---------------------------------------------------------------------------\u001b[0m",
      "\u001b[1;31mTypeError\u001b[0m                                 Traceback (most recent call last)",
      "\u001b[1;32m~\\AppData\\Local\\Temp\\ipykernel_22544\\686054792.py\u001b[0m in \u001b[0;36m<module>\u001b[1;34m\u001b[0m\n\u001b[1;32m----> 1\u001b[1;33m \u001b[0mmycar\u001b[0m\u001b[1;33m.\u001b[0m\u001b[0mroll\u001b[0m\u001b[1;33m(\u001b[0m\u001b[0mmycar\u001b[0m\u001b[1;33m,\u001b[0m \u001b[1;36m100\u001b[0m\u001b[1;33m)\u001b[0m\u001b[1;33m\u001b[0m\u001b[1;33m\u001b[0m\u001b[0m\n\u001b[0m",
      "\u001b[1;31mTypeError\u001b[0m: roll() takes 2 positional arguments but 3 were given"
     ]
    }
   ],
   "source": [
    "mycar.roll(mycar, 100)"
   ]
  },
  {
   "cell_type": "markdown",
   "metadata": {
    "slideshow": {
     "slide_type": "slide"
    }
   },
   "source": [
    "## Constructor (= allocator + **initializer**)\n",
    "\n",
    "Contructor is the method that creates a new instance of a class\n",
    "\n",
    "It is called when a new instance is created"
   ]
  },
  {
   "cell_type": "markdown",
   "metadata": {
    "slideshow": {
     "slide_type": "subslide"
    }
   },
   "source": [
    "    object.__new__(cls[, ...])\n",
    "\n",
    "    object.__init__(self[, ...])\n",
    "    \n",
    "    object.__del__(self)"
   ]
  },
  {
   "cell_type": "code",
   "execution_count": 41,
   "metadata": {
    "slideshow": {
     "slide_type": "subslide"
    }
   },
   "outputs": [
    {
     "name": "stdout",
     "output_type": "stream",
     "text": [
      "Rolling 100 kilometers.\n"
     ]
    }
   ],
   "source": [
    "class Car(object):\n",
    "    def roll(self, distance):     # Don't forget *self*\n",
    "        print(\"Rolling {} kilometers.\".format(distance))\n",
    "        \n",
    "car = Car()                        \n",
    "car.roll(100)                     # self is omitted"
   ]
  },
  {
   "cell_type": "markdown",
   "metadata": {
    "slideshow": {
     "slide_type": "subslide"
    }
   },
   "source": [
    "We can (and in most cases we do) define how to initialize a class\n",
    "\n",
    "But we do not have to, in which case, only the default allocation is used that does nothing special"
   ]
  },
  {
   "cell_type": "markdown",
   "metadata": {
    "slideshow": {
     "slide_type": "subslide"
    }
   },
   "source": [
    "The initializer in Python is always named **`__init__`** (two underscores before and after)"
   ]
  },
  {
   "cell_type": "code",
   "execution_count": 42,
   "metadata": {
    "slideshow": {
     "slide_type": "subslide"
    }
   },
   "outputs": [
    {
     "name": "stdout",
     "output_type": "stream",
     "text": [
      "Before instantiating MyClass2\n",
      "We are in the __init__(self)\n",
      "After instantiating MyClass2\n"
     ]
    }
   ],
   "source": [
    "class MyClass2(object):\n",
    "    def __init__(self):\n",
    "        print(\"We are in the __init__(self)\")\n",
    "\n",
    "print(\"Before instantiating MyClass2\")\n",
    "# The allocator and initializer will be called now\n",
    "objekt = MyClass2()\n",
    "print(\"After instantiating MyClass2\")"
   ]
  },
  {
   "cell_type": "markdown",
   "metadata": {
    "slideshow": {
     "slide_type": "subslide"
    }
   },
   "source": [
    "## Attributes\n",
    "\n",
    "Values to attributes are assigned similarly as to other names but we have to add the object and the dot\n",
    "\n",
    "(N.B. Internally attributes are stored in dictionaries and access to them is through the dictionary of the object itself, its class, its parent class...) "
   ]
  },
  {
   "cell_type": "code",
   "execution_count": 44,
   "metadata": {
    "slideshow": {
     "slide_type": "subslide"
    }
   },
   "outputs": [
    {
     "name": "stdout",
     "output_type": "stream",
     "text": [
      "My car has a consumtions of 15 l/100 km.\n",
      "Rolling 150 kilometrs, using 22.5 liters of gas.\n"
     ]
    }
   ],
   "source": [
    "class Car(object):\n",
    "    def __init__(self, consupmtion):    # initializer with an argument\n",
    "        self.consupmtion = consupmtion  # simply store as an attribute (of self)\n",
    "    \n",
    "    def roll(self, distance):\n",
    "        # the consumption attribute is used\n",
    "        gas = distance / 100 * self.consupmtion\n",
    "        # gas is local, not an attribute\n",
    "        print(\"Rolling {} kilometrs, using {} liters of gas.\".format(distance, gas))\n",
    "        \n",
    "car = Car(15)\n",
    "print(\"My car has a consumtions of {} l/100 km.\".format(car.consupmtion))  \n",
    "car.roll(150)"
   ]
  },
  {
   "cell_type": "markdown",
   "metadata": {
    "slideshow": {
     "slide_type": "slide"
    }
   },
   "source": [
    "The list of all attributes is returned by `dir`"
   ]
  },
  {
   "cell_type": "code",
   "execution_count": 45,
   "metadata": {
    "slideshow": {
     "slide_type": "subslide"
    }
   },
   "outputs": [
    {
     "data": {
      "text/plain": [
       "['__class__',\n",
       " '__delattr__',\n",
       " '__dict__',\n",
       " '__dir__',\n",
       " '__doc__',\n",
       " '__eq__',\n",
       " '__format__',\n",
       " '__ge__',\n",
       " '__getattribute__',\n",
       " '__gt__',\n",
       " '__hash__',\n",
       " '__init__',\n",
       " '__init_subclass__',\n",
       " '__le__',\n",
       " '__lt__',\n",
       " '__module__',\n",
       " '__ne__',\n",
       " '__new__',\n",
       " '__reduce__',\n",
       " '__reduce_ex__',\n",
       " '__repr__',\n",
       " '__setattr__',\n",
       " '__sizeof__',\n",
       " '__str__',\n",
       " '__subclasshook__',\n",
       " '__weakref__',\n",
       " 'consupmtion',\n",
       " 'roll']"
      ]
     },
     "execution_count": 45,
     "metadata": {},
     "output_type": "execute_result"
    }
   ],
   "source": [
    "dir(car)"
   ]
  },
  {
   "cell_type": "code",
   "execution_count": 46,
   "metadata": {
    "slideshow": {
     "slide_type": "subslide"
    }
   },
   "outputs": [
    {
     "data": {
      "text/plain": [
       "'consupmtion, roll'"
      ]
     },
     "execution_count": 46,
     "metadata": {},
     "output_type": "execute_result"
    }
   ],
   "source": [
    "# attributes with double underscores are special, let's filter them out\n",
    "\", \".join(item for item in dir(car) if not item.startswith(\"__\"))  "
   ]
  },
  {
   "cell_type": "markdown",
   "metadata": {
    "slideshow": {
     "slide_type": "subslide"
    }
   },
   "source": [
    "## Note on privacy of methods\n",
    "\n",
    "Other languages usually offer a way of hiding some methods (such as the keywords private or protected in C++ or Java)\n",
    "\n",
    "Python does not try to resolve this issue and, by default, everything is accessible"
   ]
  },
  {
   "cell_type": "markdown",
   "metadata": {
    "slideshow": {
     "slide_type": "subslide"
    }
   },
   "source": [
    "Instead, there exist the following conventions:\n",
    "\n",
    "* Methods whose name starts with an underscore shall not be called from outside (because they are not part of the \"public\" interface)\n",
    "* To protect data, we can make them properties"
   ]
  },
  {
   "cell_type": "markdown",
   "metadata": {
    "slideshow": {
     "slide_type": "subslide"
    }
   },
   "source": [
    "### The underscore convention\n",
    "\n",
    "Python conventions are generally very strongly entrenched\n",
    "\n",
    "It is perhaps the most visible in the context of objects"
   ]
  },
  {
   "cell_type": "markdown",
   "metadata": {
    "slideshow": {
     "slide_type": "subslide"
    }
   },
   "source": [
    "1. \"Private\" attributes (attributes in Python often means both data and methods - everything is an object) are named with an underscore at the beginning, e.g \\_private_method.\n",
    "2. Two underscores at the beginning of the name of an attribute renames it so it's really hard to reference the attribute outside the context of the class."
   ]
  },
  {
   "cell_type": "code",
   "execution_count": 31,
   "metadata": {
    "slideshow": {
     "slide_type": "subslide"
    }
   },
   "outputs": [
    {
     "data": {
      "text/plain": [
       "['_Subtest__private_name', '_Test__private_name', 'normal_name']"
      ]
     },
     "execution_count": 31,
     "metadata": {},
     "output_type": "execute_result"
    }
   ],
   "source": [
    "# name mangling\n",
    "class Test:\n",
    "    def __private_name(self):\n",
    "        pass\n",
    "    def normal_name(self):\n",
    "        pass\n",
    "class Subtest(Test):\n",
    "    def __private_name(self):\n",
    "        pass\n",
    "    def normal_name(self):\n",
    "        pass\n",
    "t = Subtest()\n",
    "[attr for attr in dir(t) if \"name\" in attr]"
   ]
  },
  {
   "cell_type": "markdown",
   "metadata": {
    "slideshow": {
     "slide_type": "subslide"
    }
   },
   "source": [
    "## Special (magic) methods\n",
    "Attributes with two undescores at the beginning and at the end have a special meaning   http://docs.python.org/3/reference/datamodel.html#special-method-names)\n",
    "\n",
    "We have already seen `__init__()`  and will look at several others"
   ]
  },
  {
   "cell_type": "markdown",
   "metadata": {
    "slideshow": {
     "slide_type": "subslide"
    }
   },
   "source": [
    "* `__repr__` and `__str__` convert the object to a string.\n",
    "* `__getattr__` and `__setattr__` are used for reading and storing not found attributes.\n",
    "* `__call__` will be called when we use the object as a function.\n",
    "* `__doc__` contains documentation (docstring).\n",
    "* `__dict__` contains the dictionary with the namespace of the object."
   ]
  },
  {
   "cell_type": "markdown",
   "metadata": {
    "slideshow": {
     "slide_type": "subslide"
    }
   },
   "source": [
    "There are special features for logical operators, to emulate the functionality of containers (iteration, items, cuts), for arithmetic operations, etc."
   ]
  },
  {
   "cell_type": "markdown",
   "metadata": {
    "slideshow": {
     "slide_type": "subslide"
    }
   },
   "source": [
    "### Making Operators Work on Custom Classes"
   ]
  },
  {
   "cell_type": "markdown",
   "metadata": {
    "slideshow": {
     "slide_type": "subslide"
    }
   },
   "source": [
    "One of the biggest advantages of using Python's magic methods is that they provide a simple way to make objects behave like built-in types"
   ]
  },
  {
   "cell_type": "markdown",
   "metadata": {
    "slideshow": {
     "slide_type": "subslide"
    }
   },
   "source": [
    "Avoid ugly, counter-intuitive, and nonstandard ways of performing basic operators\n",
    "\n",
    "In some languages, it's common to do something like this:\n",
    "\n",
    "    if instance.equals(other_instance):\n",
    "        # do something"
   ]
  },
  {
   "cell_type": "markdown",
   "metadata": {
    "slideshow": {
     "slide_type": "subslide"
    }
   },
   "source": [
    "You could certainly do this in Python, too, but this adds confusion and is unnecessarily verbose"
   ]
  },
  {
   "cell_type": "markdown",
   "metadata": {
    "slideshow": {
     "slide_type": "subslide"
    }
   },
   "source": [
    "Different libraries might use different names for the same operations, making the client do way more work than necessary"
   ]
  },
  {
   "cell_type": "markdown",
   "metadata": {
    "slideshow": {
     "slide_type": "subslide"
    }
   },
   "source": [
    "With the power of magic methods, however, we can define one method (`__eq__`, in this case), and say what we mean instead:\n",
    "\n",
    "    if instance == other_instance:\n",
    "        #do something"
   ]
  },
  {
   "cell_type": "markdown",
   "metadata": {
    "slideshow": {
     "slide_type": "subslide"
    }
   },
   "source": [
    "That's part of the power of magic methods. The vast majority of them allow us to define meaning for operators so that we can use them on our own classes just like they were built in types."
   ]
  },
  {
   "cell_type": "markdown",
   "metadata": {
    "slideshow": {
     "slide_type": "subslide"
    }
   },
   "source": [
    "https://rszalski.github.io/magicmethods/"
   ]
  },
  {
   "cell_type": "code",
   "execution_count": null,
   "metadata": {
    "slideshow": {
     "slide_type": "slide"
    }
   },
   "outputs": [],
   "source": [
    "# minitask 6\n",
    "class Point:\n",
    "  \n",
    "p0 = Point()        \n",
    "p1 = Point(3, 4)\n",
    "print(p0-p1)\n",
    "p2 = Point(1, 2)\n",
    "result = p1-p2\n",
    "print(result)"
   ]
  },
  {
   "cell_type": "code",
   "execution_count": 29,
   "metadata": {
    "slideshow": {
     "slide_type": "subslide"
    }
   },
   "outputs": [],
   "source": [
    "class Word(str):\n",
    "    '''Class for words, defining comparison based on word length.'''\n",
    "\n",
    "    def __init__(cls, word):\n",
    "        if ' ' in word:\n",
    "            print(\"Value contains spaces. Truncating to first space.\")\n",
    "            word = word[:word.index(' ')] # Word is now all chars before first space\n",
    "        return str.__init__(word)\n",
    "    def __eq__(self, other):\n",
    "        return len(self) == len(other)\n",
    "    def __gt__(self, other):\n",
    "        return len(self) > len(other)\n",
    "    def __lt__(self, other):\n",
    "        return len(self) < len(other)\n",
    "    def __ge__(self, other):\n",
    "        return len(self) >= len(other)\n",
    "    def __le__(self, other):\n",
    "        return len(self) <= len(other)"
   ]
  },
  {
   "cell_type": "code",
   "execution_count": 30,
   "metadata": {
    "slideshow": {
     "slide_type": "subslide"
    }
   },
   "outputs": [
    {
     "name": "stdout",
     "output_type": "stream",
     "text": [
      "Value contains spaces. Truncating to first space.\n",
      "False\n",
      "Value contains spaces. Truncating to first space.\n",
      "foo is longer\n"
     ]
    }
   ],
   "source": [
    "print(Word('foo is longer') < Word('barbar'))\n",
    "print(Word('foo is longer'))"
   ]
  },
  {
   "cell_type": "code",
   "execution_count": 29,
   "metadata": {
    "slideshow": {
     "slide_type": "subslide"
    }
   },
   "outputs": [],
   "source": [
    "class Word(str):\n",
    "    '''Class for words, defining comparison based on word length.'''\n",
    "\n",
    "    def __init__(cls, word):\n",
    "        if ' ' in word:\n",
    "            print(\"Value contains spaces. Truncating to first space.\")\n",
    "            word = word[:word.index(' ')] # Word is now all chars before first space\n",
    "        return str.__init__(word)\n",
    "    def __eq__(self, other):\n",
    "        return len(self) == len(other)\n",
    "    def __gt__(self, other):\n",
    "        return len(self) > len(other)\n",
    "    def __lt__(self, other):\n",
    "        return len(self) < len(other)\n",
    "    def __ge__(self, other):\n",
    "        return len(self) >= len(other)\n",
    "    def __le__(self, other):\n",
    "        return len(self) <= len(other)"
   ]
  },
  {
   "cell_type": "code",
   "execution_count": 30,
   "metadata": {
    "slideshow": {
     "slide_type": "subslide"
    }
   },
   "outputs": [
    {
     "name": "stdout",
     "output_type": "stream",
     "text": [
      "Value contains spaces. Truncating to first space.\n",
      "False\n",
      "Value contains spaces. Truncating to first space.\n",
      "foo is longer\n"
     ]
    }
   ],
   "source": [
    "print(Word('foo is longer') < Word('barbar'))\n",
    "print(Word('foo is longer'))"
   ]
  },
  {
   "cell_type": "code",
   "execution_count": 15,
   "metadata": {
    "slideshow": {
     "slide_type": "subslide"
    }
   },
   "outputs": [],
   "source": [
    "class Word(str):\n",
    "    '''Class for words, defining comparison based on word length.'''\n",
    "\n",
    "    def __new__(cls, word):\n",
    "        # Note that we have to use __new__. This is because str is an\n",
    "        # immutable type, so we have to initialize it early (at creation)\n",
    "        if ' ' in word:\n",
    "            print(\"Value contains spaces. Truncating to first space.\")\n",
    "            word = word[:word.index(' ')] # Word is now all chars before first space\n",
    "        return str.__new__(cls, word)\n",
    "    def __eq__(self, other):\n",
    "        return len(self) == len(other)\n",
    "    def __gt__(self, other):\n",
    "        return len(self) > len(other)\n",
    "    def __lt__(self, other):\n",
    "        return len(self) < len(other)\n",
    "    def __ge__(self, other):\n",
    "        return len(self) >= len(other)\n",
    "    def __le__(self, other):\n",
    "        return len(self) <= len(other)"
   ]
  },
  {
   "cell_type": "code",
   "execution_count": 16,
   "metadata": {
    "slideshow": {
     "slide_type": "subslide"
    }
   },
   "outputs": [
    {
     "name": "stdout",
     "output_type": "stream",
     "text": [
      "Value contains spaces. Truncating to first space.\n",
      "True\n",
      "Value contains spaces. Truncating to first space.\n",
      "foo\n"
     ]
    }
   ],
   "source": [
    "print(Word('foo is longer') < Word('barbar'))\n",
    "print(Word('foo is longer'))"
   ]
  },
  {
   "cell_type": "code",
   "execution_count": null,
   "metadata": {
    "slideshow": {
     "slide_type": "subslide"
    }
   },
   "outputs": [],
   "source": [
    "Word('fool') <= Word('bar')"
   ]
  },
  {
   "cell_type": "code",
   "execution_count": null,
   "metadata": {
    "slideshow": {
     "slide_type": "subslide"
    }
   },
   "outputs": [],
   "source": [
    "Word('foo') == Word('bar')"
   ]
  },
  {
   "cell_type": "code",
   "execution_count": null,
   "metadata": {
    "slideshow": {
     "slide_type": "subslide"
    }
   },
   "outputs": [],
   "source": [
    "class Word(str):\n",
    "    '''Class for words, defining comparison based on word length.'''\n",
    "\n",
    "    def __new__(cls, word):\n",
    "        # Note that we have to use __new__. This is because str is an immutable\n",
    "        # type, so we have to initialize it early (at creation)\n",
    "        if ' ' in word:\n",
    "            print(\"Value contains spaces. Truncating to first space.\")\n",
    "            word = word[:word.index(' ')] # Word is now all chars before first space\n",
    "        return str.__new__(cls, word)\n",
    "\n",
    "    def __eq__(self, other):\n",
    "        return len(self) == len(other)\n",
    "    def __gt__(self, other):\n",
    "        return len(self) > len(other)\n",
    "    def __lt__(self, other):\n",
    "        return len(self) < len(other)\n",
    "    def __ge__(self, other):\n",
    "        return len(self) >= len(other)\n",
    "    def __le__(self, other):\n",
    "        return len(self) <= len(other)"
   ]
  },
  {
   "cell_type": "markdown",
   "metadata": {
    "slideshow": {
     "slide_type": "subslide"
    }
   },
   "source": [
    "Note that you don't have to define every comparison magic method to get rich comparisons"
   ]
  },
  {
   "cell_type": "markdown",
   "metadata": {
    "slideshow": {
     "slide_type": "subslide"
    }
   },
   "source": [
    "The standard library has kindly provided us with a class decorator in the module functools that will define all rich comparison methods if you only define `__eq__` and one other (e.g. `__gt__`, `__lt__`, etc.)"
   ]
  },
  {
   "cell_type": "markdown",
   "metadata": {
    "slideshow": {
     "slide_type": "subslide"
    }
   },
   "source": [
    "You can use it by placing @total_ordering above your class definition"
   ]
  },
  {
   "cell_type": "code",
   "execution_count": 51,
   "metadata": {
    "slideshow": {
     "slide_type": "subslide"
    }
   },
   "outputs": [
    {
     "data": {
      "text/plain": [
       "['__class__',\n",
       " '__delattr__',\n",
       " '__dir__',\n",
       " '__doc__',\n",
       " '__eq__',\n",
       " '__format__',\n",
       " '__ge__',\n",
       " '__getattribute__',\n",
       " '__gt__',\n",
       " '__hash__',\n",
       " '__init__',\n",
       " '__init_subclass__',\n",
       " '__le__',\n",
       " '__lt__',\n",
       " '__ne__',\n",
       " '__new__',\n",
       " '__reduce__',\n",
       " '__reduce_ex__',\n",
       " '__repr__',\n",
       " '__setattr__',\n",
       " '__sizeof__',\n",
       " '__str__',\n",
       " '__subclasshook__']"
      ]
     },
     "execution_count": 51,
     "metadata": {},
     "output_type": "execute_result"
    }
   ],
   "source": [
    "# what an instance of the object type contains?\n",
    "dir(object())"
   ]
  },
  {
   "cell_type": "code",
   "execution_count": 52,
   "metadata": {
    "slideshow": {
     "slide_type": "subslide"
    }
   },
   "outputs": [
    {
     "data": {
      "text/plain": [
       "['__annotations__',\n",
       " '__call__',\n",
       " '__class__',\n",
       " '__closure__',\n",
       " '__code__',\n",
       " '__defaults__',\n",
       " '__delattr__',\n",
       " '__dict__',\n",
       " '__dir__',\n",
       " '__doc__',\n",
       " '__eq__',\n",
       " '__format__',\n",
       " '__ge__',\n",
       " '__get__',\n",
       " '__getattribute__',\n",
       " '__globals__',\n",
       " '__gt__',\n",
       " '__hash__',\n",
       " '__init__',\n",
       " '__init_subclass__',\n",
       " '__kwdefaults__',\n",
       " '__le__',\n",
       " '__lt__',\n",
       " '__module__',\n",
       " '__name__',\n",
       " '__ne__',\n",
       " '__new__',\n",
       " '__qualname__',\n",
       " '__reduce__',\n",
       " '__reduce_ex__',\n",
       " '__repr__',\n",
       " '__setattr__',\n",
       " '__sizeof__',\n",
       " '__str__',\n",
       " '__subclasshook__']"
      ]
     },
     "execution_count": 52,
     "metadata": {},
     "output_type": "execute_result"
    }
   ],
   "source": [
    "# and a simple function?\n",
    "def foo(x):\n",
    "    \"\"\"This is function foo\"\"\"\n",
    "    return x\n",
    "dir(foo)"
   ]
  },
  {
   "cell_type": "markdown",
   "metadata": {
    "slideshow": {
     "slide_type": "subslide"
    }
   },
   "source": [
    "## Inheritance \n",
    "\n",
    "Class can inherit (derive) its behavior (and data) from another class, thus saving a lot of work in the repetition of common features\n",
    "\n",
    "In this case, we say that our new class (child or subclass) inherits from the original (parent) class."
   ]
  },
  {
   "cell_type": "markdown",
   "metadata": {
    "slideshow": {
     "slide_type": "subslide"
    }
   },
   "source": [
    "* In a subclass, we can change the definition of some of the methods of the superclass\n",
    "* Initializers are inherited by default (unlike C++ or Java, in Python we have to explicitely call the superclass constructor only if we define a new constructor)\n",
    "* Subclasses can be used wherever the parent class(es) can be used"
   ]
  },
  {
   "cell_type": "code",
   "execution_count": 53,
   "metadata": {
    "slideshow": {
     "slide_type": "subslide"
    }
   },
   "outputs": [],
   "source": [
    "class Human(object):\n",
    "    def __init__(self, name):          # The initilizer sets the name\n",
    "        self.name = name\n",
    "    \n",
    "    def say(self, what):               # The default say method\n",
    "        print(type(self).__name__ + \": \" + what)\n",
    "    \n",
    "    def introduce(self):             \n",
    "        self.say(\"My name is %s.\" % self.name)\n",
    "        \n",
    "    def greet(self):                 \n",
    "        self.say(\"Hello!\")\n",
    "        \n",
    "    def goodbye(self):\n",
    "        self.say(\"Good bye!\")        \n",
    "    "
   ]
  },
  {
   "cell_type": "code",
   "execution_count": 54,
   "metadata": {
    "slideshow": {
     "slide_type": "subslide"
    }
   },
   "outputs": [],
   "source": [
    "class Serviceman(Human):\n",
    "    def repair_tv(self):         # A new method\n",
    "        self.say(\"Give me 5 minutes.\")\n",
    "        print(\"---The serviceman is working.---\")\n",
    "        self.say(\"Done.\")\n",
    "        \n",
    "    def introduce(self):            # introduce differently; self.name is used here\n",
    "        self.say(\"I'm %s, the serviceman\" % self.name)\n",
    "                \n",
    "class Patient(Human):\n",
    "    def say(self, what):            # redefined method\n",
    "        \"\"\"Say something with a running nose.\"\"\"\n",
    "        trantab = \"\".maketrans(\"nmNM\", \"dbDB\")\n",
    "        \n",
    "        Human.say(self, what.translate(trantab))   # call parent class' method\n",
    "        self.sneeze()\n",
    "        \n",
    "    def sneeze(self):                 # A new method - other humans do not sneeze\n",
    "        print(\"---Achoo---\")"
   ]
  },
  {
   "cell_type": "code",
   "execution_count": 55,
   "metadata": {
    "slideshow": {
     "slide_type": "subslide"
    }
   },
   "outputs": [
    {
     "name": "stdout",
     "output_type": "stream",
     "text": [
      "Serviceman: Hello!\n",
      "Patient: Hello!\n",
      "---Achoo---\n",
      "Serviceman: I'm Joe Smith, the serviceman\n",
      "Patient: By dabe is Bill Jodes.\n",
      "---Achoo---\n",
      "Patient: Cad you fix by TV, please?\n",
      "---Achoo---\n",
      "Serviceman: Give me 5 minutes.\n",
      "---The serviceman is working.---\n",
      "Serviceman: Done.\n",
      "Patient: Thadk you very buch.\n",
      "---Achoo---\n",
      "Serviceman: Good bye!\n",
      "Patient: Good bye!\n",
      "---Achoo---\n"
     ]
    }
   ],
   "source": [
    "joe = Serviceman(\"Joe Smith\")\n",
    "bill = Patient(\"Bill Jones\")\n",
    "\n",
    "# A daily conversation\n",
    "joe.greet()\n",
    "bill.greet()\n",
    "joe.introduce()\n",
    "bill.introduce()\n",
    "bill.say(\"Can you fix my TV, please?\")\n",
    "joe.repair_tv()\n",
    "bill.say(\"Thank you very much.\")\n",
    "joe.goodbye()\n",
    "bill.goodbye()"
   ]
  },
  {
   "cell_type": "code",
   "execution_count": 57,
   "metadata": {
    "slideshow": {
     "slide_type": "subslide"
    }
   },
   "outputs": [
    {
     "ename": "AttributeError",
     "evalue": "'Patient' object has no attribute 'repair_tv'",
     "output_type": "error",
     "traceback": [
      "\u001b[1;31m---------------------------------------------------------------------------\u001b[0m",
      "\u001b[1;31mAttributeError\u001b[0m                            Traceback (most recent call last)",
      "\u001b[1;32m~\\AppData\\Local\\Temp/ipykernel_31572/1075839922.py\u001b[0m in \u001b[0;36m<module>\u001b[1;34m\u001b[0m\n\u001b[1;32m----> 1\u001b[1;33m \u001b[0mbill\u001b[0m\u001b[1;33m.\u001b[0m\u001b[0mrepair_tv\u001b[0m\u001b[1;33m(\u001b[0m\u001b[1;33m)\u001b[0m           \u001b[1;31m# Patients do not repair TV's\u001b[0m\u001b[1;33m\u001b[0m\u001b[1;33m\u001b[0m\u001b[0m\n\u001b[0m",
      "\u001b[1;31mAttributeError\u001b[0m: 'Patient' object has no attribute 'repair_tv'"
     ]
    }
   ],
   "source": [
    "bill.repair_tv()           # Patients do not repair TV's"
   ]
  },
  {
   "cell_type": "markdown",
   "metadata": {
    "slideshow": {
     "slide_type": "subslide"
    }
   },
   "source": [
    "A sick electrician could be created using multiple inheritance, in which case we would have to consider if parent methods are called properly"
   ]
  },
  {
   "cell_type": "markdown",
   "metadata": {
    "slideshow": {
     "slide_type": "subslide"
    }
   },
   "source": [
    "Even better, we could use **mix-ins** and **inject** properties into objects dynamically"
   ]
  },
  {
   "cell_type": "markdown",
   "metadata": {
    "slideshow": {
     "slide_type": "subslide"
    }
   },
   "source": [
    "Mixins are a sort of class that is used to \"mix in\" extra properties and methods into a class"
   ]
  },
  {
   "cell_type": "markdown",
   "metadata": {
    "slideshow": {
     "slide_type": "subslide"
    }
   },
   "source": [
    "This allows you to create classes in a compositional style"
   ]
  },
  {
   "cell_type": "code",
   "execution_count": 60,
   "metadata": {
    "slideshow": {
     "slide_type": "subslide"
    }
   },
   "outputs": [],
   "source": [
    "MyBaseClass = set\n",
    "\n",
    "class Mixin1(object):\n",
    "    def test(self):\n",
    "        print(\"Mixin1\")\n",
    "\n",
    "class Mixin2(object):\n",
    "    def test(self):\n",
    "        print(\"Mixin2\")\n",
    "\n",
    "class MyClass(MyBaseClass, Mixin1, Mixin2):\n",
    "    pass\n"
   ]
  },
  {
   "cell_type": "code",
   "execution_count": 61,
   "metadata": {
    "slideshow": {
     "slide_type": "subslide"
    }
   },
   "outputs": [
    {
     "name": "stdout",
     "output_type": "stream",
     "text": [
      "Mixin1\n"
     ]
    }
   ],
   "source": [
    "obj = MyClass()\n",
    "obj.test()\n"
   ]
  },
  {
   "cell_type": "markdown",
   "metadata": {
    "slideshow": {
     "slide_type": "subslide"
    }
   },
   "source": [
    "### Inheriting from built-in types \n",
    "Classes can also inherit from built-in types (and it is often useful, although the example below does not prove it)"
   ]
  },
  {
   "cell_type": "code",
   "execution_count": 63,
   "metadata": {
    "slideshow": {
     "slide_type": "subslide"
    }
   },
   "outputs": [
    {
     "name": "stdout",
     "output_type": "stream",
     "text": [
      "2\n",
      "What about pleading?\n",
      "None\n"
     ]
    }
   ],
   "source": [
    "# A list that does not return its item unless pleaded\n",
    "class PeevishList(list):\n",
    "    def __getitem__(self, index):                     # redefining the method that handles getting items by [...]\n",
    "        if isinstance(index, tuple) and index[1].lower()[:6] in (\"please\"):\n",
    "            return list.__getitem__(self, index[0])   # the parent's method\n",
    "        else:\n",
    "            print(\"What about pleading?\")\n",
    "            return None\n",
    "s = list([1,2,3,4])\n",
    "print(s[1])\n",
    "s = PeevishList((1, 2, 3, 4))\n",
    "print(s[1])\n",
    "\n"
   ]
  },
  {
   "cell_type": "code",
   "execution_count": 64,
   "metadata": {
    "slideshow": {
     "slide_type": "subslide"
    }
   },
   "outputs": [
    {
     "name": "stdout",
     "output_type": "stream",
     "text": [
      "3\n"
     ]
    }
   ],
   "source": [
    "print(s[(2, \"please\")])"
   ]
  },
  {
   "cell_type": "code",
   "execution_count": 65,
   "metadata": {
    "code_folding": [],
    "slideshow": {
     "slide_type": "slide"
    }
   },
   "outputs": [],
   "source": [
    "class Example1(object):\n",
    "    def foo(self):\n",
    "        print(\"this is foo\")\n",
    "    def __getattr__(self, name):\n",
    "        def method(*args, **kwargs):\n",
    "            print(\"tried to handle unknown method \" + name)\n",
    "            if args:\n",
    "                print(\"it had args: \" + str(args))\n",
    "            if kwargs:\n",
    "                print(\"it had kwargs: \" + str(kwargs))\n",
    "        return method"
   ]
  },
  {
   "cell_type": "code",
   "execution_count": 66,
   "metadata": {
    "code_folding": [],
    "slideshow": {
     "slide_type": "slide"
    }
   },
   "outputs": [
    {
     "name": "stdout",
     "output_type": "stream",
     "text": [
      "this is foo\n",
      "tried to handle unknown method grill\n",
      "tried to handle unknown method ding\n",
      "it had args: ('dong',)\n",
      "it had kwargs: {'ring': 'main door'}\n"
     ]
    }
   ],
   "source": [
    "example = Example1()\n",
    "example.foo()\n",
    "example.grill()\n",
    "example.ding('dong', ring='main door', )\n",
    "example.a = 5"
   ]
  },
  {
   "cell_type": "code",
   "execution_count": 67,
   "metadata": {
    "slideshow": {
     "slide_type": "slide"
    }
   },
   "outputs": [
    {
     "name": "stdout",
     "output_type": "stream",
     "text": [
      "[2, 3, 4]\n"
     ]
    },
    {
     "ename": "AttributeError",
     "evalue": "'Example2' object has no attribute 'unknown_attr'",
     "output_type": "error",
     "traceback": [
      "\u001b[1;31m---------------------------------------------------------------------------\u001b[0m",
      "\u001b[1;31mAttributeError\u001b[0m                            Traceback (most recent call last)",
      "\u001b[1;32m~\\AppData\\Local\\Temp/ipykernel_31572/186837350.py\u001b[0m in \u001b[0;36m<module>\u001b[1;34m\u001b[0m\n\u001b[0;32m      5\u001b[0m \u001b[0mexample2\u001b[0m\u001b[1;33m.\u001b[0m\u001b[0munknown_attr\u001b[0m \u001b[1;33m=\u001b[0m \u001b[1;33m[\u001b[0m\u001b[1;36m2\u001b[0m\u001b[1;33m,\u001b[0m\u001b[1;36m3\u001b[0m\u001b[1;33m,\u001b[0m\u001b[1;36m4\u001b[0m\u001b[1;33m]\u001b[0m\u001b[1;33m\u001b[0m\u001b[1;33m\u001b[0m\u001b[0m\n\u001b[0;32m      6\u001b[0m \u001b[0mprint\u001b[0m\u001b[1;33m(\u001b[0m\u001b[0mexample2\u001b[0m\u001b[1;33m.\u001b[0m\u001b[0mmy_unknown_attr\u001b[0m\u001b[1;33m)\u001b[0m\u001b[1;33m\u001b[0m\u001b[1;33m\u001b[0m\u001b[0m\n\u001b[1;32m----> 7\u001b[1;33m \u001b[0mprint\u001b[0m\u001b[1;33m(\u001b[0m\u001b[0mexample2\u001b[0m\u001b[1;33m.\u001b[0m\u001b[0munknown_attr\u001b[0m\u001b[1;33m)\u001b[0m\u001b[1;33m\u001b[0m\u001b[1;33m\u001b[0m\u001b[0m\n\u001b[0m",
      "\u001b[1;31mAttributeError\u001b[0m: 'Example2' object has no attribute 'unknown_attr'"
     ]
    }
   ],
   "source": [
    "class Example2(object):\n",
    "    def __setattr__(self, name, value):\n",
    "        self.__dict__['my_' + name] = value\n",
    "example2 = Example2()\n",
    "example2.unknown_attr = [2,3,4]\n",
    "print(example2.my_unknown_attr)\n",
    "print(example2.unknown_attr)"
   ]
  },
  {
   "cell_type": "code",
   "execution_count": null,
   "metadata": {
    "code_folding": [],
    "slideshow": {
     "slide_type": "slide"
    }
   },
   "outputs": [],
   "source": [
    "class Example3(object):\n",
    "    def __setattr__(self, name, value):\n",
    "        # do not try it this way\n",
    "        # self.name = value\n",
    "        pass\n",
    "    # since every time an attribute is assigned, __setattr__() is called, this\n",
    "    # is recursion.\n",
    "    # so this really means self.__setattr__('name', value). Since the method\n",
    "    # keeps calling itself, the recursion goes on forever causing a crash\n",
    "    "
   ]
  },
  {
   "cell_type": "markdown",
   "metadata": {
    "slideshow": {
     "slide_type": "subslide"
    }
   },
   "source": [
    "# Advanced topics \n",
    "\n",
    "Following topics are very interesting and terribly useful - read about them:\n",
    "* Multiple inheritance\n",
    "* Properties, class methods, static methods\n",
    "* Abstract classes\n",
    "* Polymorphism\n",
    "* Metatclasses\n",
    "* Design Patterns"
   ]
  }
 ],
 "metadata": {
  "anaconda-cloud": {},
  "celltoolbar": "Slideshow",
  "kernelspec": {
   "display_name": "Python 3 (ipykernel)",
   "language": "python",
   "name": "python3"
  },
  "language_info": {
   "codemirror_mode": {
    "name": "ipython",
    "version": 3
   },
   "file_extension": ".py",
   "mimetype": "text/x-python",
   "name": "python",
   "nbconvert_exporter": "python",
   "pygments_lexer": "ipython3",
   "version": "3.9.13"
  },
  "livereveal": {
   "controls": true,
   "height": 855,
   "history": true,
   "minScale": 1,
   "progress": true,
   "scroll": false,
   "slideNumber": true,
   "start_slideshow_at": "selected",
   "theme": "simple",
   "transition": "linear",
   "width": 1140
  }
 },
 "nbformat": 4,
 "nbformat_minor": 1
}
