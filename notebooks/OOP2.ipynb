{
 "cells": [
  {
   "cell_type": "code",
   "execution_count": 2,
   "metadata": {
    "scrolled": true,
    "slideshow": {
     "slide_type": "subslide"
    }
   },
   "outputs": [
    {
     "name": "stdout",
     "output_type": "stream",
     "text": [
      "entering A\n",
      "leaving A\n"
     ]
    }
   ],
   "source": [
    "class A(object):\n",
    "    def __init__(self):\n",
    "        print(\"entering A\")\n",
    "        print(\"leaving A\")\n",
    "\n",
    "class B(object):\n",
    "    def __init__(self):\n",
    "        print(\"entering B\")\n",
    "        print(\"leaving B\")\n",
    "\n",
    "class C(A,B):\n",
    "    pass\n",
    "\n",
    "c = C()"
   ]
  },
  {
   "cell_type": "code",
   "execution_count": 1,
   "metadata": {
    "scrolled": true,
    "slideshow": {
     "slide_type": "subslide"
    }
   },
   "outputs": [
    {
     "name": "stdout",
     "output_type": "stream",
     "text": [
      "entering C\n",
      "leaving C\n"
     ]
    }
   ],
   "source": [
    "class A(object):\n",
    "    def __init__(self):\n",
    "        print(\"entering A\")\n",
    "        print(\"leaving A\")\n",
    "\n",
    "class B(object):\n",
    "    def __init__(self):\n",
    "        print(\"entering B\")\n",
    "        print(\"leaving B\")\n",
    "\n",
    "class C(A,B):\n",
    "    def __init__(self):\n",
    "        print(\"entering C\")\n",
    "        print(\"leaving C\")\n",
    "c = C()"
   ]
  },
  {
   "cell_type": "code",
   "execution_count": 2,
   "metadata": {
    "scrolled": true,
    "slideshow": {
     "slide_type": "subslide"
    }
   },
   "outputs": [
    {
     "name": "stdout",
     "output_type": "stream",
     "text": [
      "entering E\n",
      "entering B\n",
      "entering A\n",
      "no super() in C\n",
      "leaving A\n",
      "leaving B\n",
      "leaving E\n"
     ]
    }
   ],
   "source": [
    "class A(object):\n",
    "    def __init__(self):\n",
    "        print(\"entering A\")\n",
    "        super().__init__()\n",
    "        print(\"leaving A\")\n",
    "class B(A):\n",
    "    def __init__(self):\n",
    "        print(\"entering B\")\n",
    "        super().__init__()\n",
    "        print(\"leaving B\")\n",
    "class C(object):\n",
    "    def __init__(self):\n",
    "        print(\"no super() in C\")\n",
    "class D(object):\n",
    "    def __init__(self):\n",
    "        print(\"entering D\")\n",
    "        super().__init__()\n",
    "        print(\"leaving D\")    \n",
    "class E(B,C,D):\n",
    "    def __init__(self):\n",
    "        print(\"entering E\")\n",
    "        super().__init__()\n",
    "        print(\"leaving E\")\n",
    "e = E()"
   ]
  },
  {
   "cell_type": "markdown",
   "metadata": {
    "slideshow": {
     "slide_type": "slide"
    }
   },
   "source": [
    "## Advanced OOP concepts"
   ]
  },
  {
   "cell_type": "markdown",
   "metadata": {
    "slideshow": {
     "slide_type": "slide"
    }
   },
   "source": [
    "based on\n",
    "\n",
    "Raymond Hettinger: \n",
    "\n",
    "Python's Class Development Toolkit (PyCon US 2013) \n",
    "\n",
    "http://pyvideo.org/pycon-us-2013/pythons-class-development-toolkit.html\n"
   ]
  },
  {
   "cell_type": "code",
   "execution_count": null,
   "metadata": {
    "slideshow": {
     "slide_type": "subslide"
    }
   },
   "outputs": [],
   "source": [
    "import math\n",
    "\n",
    "class Circle(object):\n",
    "    'An advanced circle analytic toolkit'\n",
    "    \n",
    "    version = '0.1' # class variable\n",
    "\n",
    "    def __init__(self, radius):\n",
    "        self.radius = radius\n",
    "\n",
    "    def area(self):\n",
    "        'Perform quadrature on a shape of uniform radius'\n",
    "        return math.pi * self.radius ** 2.0"
   ]
  },
  {
   "cell_type": "code",
   "execution_count": null,
   "metadata": {
    "slideshow": {
     "slide_type": "subslide"
    }
   },
   "outputs": [],
   "source": [
    "# Tutorial\n",
    "print('Circuituous version', Circle.version)\n",
    "c = Circle(10)\n",
    "print('A circle of radius', c.radius)\n",
    "print('has an area of', c.area())"
   ]
  },
  {
   "cell_type": "code",
   "execution_count": null,
   "metadata": {
    "slideshow": {
     "slide_type": "subslide"
    }
   },
   "outputs": [],
   "source": [
    "import math\n",
    "\n",
    "class Circle(object):\n",
    "    'An advanced circle analytic toolkit'\n",
    "    \n",
    "    version = '0.2'\n",
    "\n",
    "    def __init__(self, radius):\n",
    "        self.radius = radius\n",
    "\n",
    "    def area(self):\n",
    "        return math.pi * self.radius ** 2.0\n",
    "    \n",
    "    def perimeter(self):\n",
    "        return 2.0 * math.pi * self.radius"
   ]
  },
  {
   "cell_type": "code",
   "execution_count": null,
   "metadata": {
    "slideshow": {
     "slide_type": "subslide"
    }
   },
   "outputs": [],
   "source": [
    "cuts = [0.1, 0.7, 0.8]\n",
    "circles = [Circle(r) for r in cuts]\n",
    "for c in circles:\n",
    "    print('A circlet with with a radius of', c.radius)\n",
    "    print('has a perimeter of', c.perimeter())\n",
    "    print('and a cold area of', c.area())\n",
    "    c.radius *= 1.1\n",
    "    print('and a warm area of', c.area())"
   ]
  },
  {
   "cell_type": "code",
   "execution_count": null,
   "metadata": {
    "slideshow": {
     "slide_type": "subslide"
    }
   },
   "outputs": [],
   "source": [
    "class Tire(Circle):\n",
    "    'Tires are circles with a corrected perimeter'\n",
    "\n",
    "    def perimeter(self):\n",
    "        'Circumference corrected for the rubber'\n",
    "        return Circle.perimeter(self) * 1.25"
   ]
  },
  {
   "cell_type": "code",
   "execution_count": null,
   "metadata": {
    "slideshow": {
     "slide_type": "subslide"
    }
   },
   "outputs": [],
   "source": [
    "t = Tire(22)\n",
    "print('A tire of radius', t.radius)\n",
    "print('has an inner area of', t.area())\n",
    "print('and an odometer corrected perimeter of', t.perimeter())"
   ]
  },
  {
   "cell_type": "code",
   "execution_count": null,
   "metadata": {
    "slideshow": {
     "slide_type": "subslide"
    }
   },
   "outputs": [],
   "source": [
    "import math\n",
    "\n",
    "def bbd_to_radius(bbd):\n",
    "    'Convert bounding box diagonal to radius'\n",
    "    return bbd / 2.0 / math.sqrt(2.0)\n",
    "\n",
    "bbd = 25\n",
    "c = Circle(bbd_to_radius(bbd))\n",
    "print('A circle with a bbd of', bbd)\n",
    "print('has a radius of', c.radius)\n",
    "print('an an area of', c.area())"
   ]
  },
  {
   "cell_type": "code",
   "execution_count": null,
   "metadata": {
    "slideshow": {
     "slide_type": "subslide"
    }
   },
   "outputs": [],
   "source": [
    "from datetime import datetime\n",
    "\n",
    "print(datetime(2013, 3, 16))\n",
    "print(datetime.fromtimestamp(1363383616))\n",
    "print(datetime.fromordinal(734000))\n",
    "print(datetime.now())\n",
    "\n",
    "print(dict.fromkeys(['raymond', 'rachel', 'matthew']))"
   ]
  },
  {
   "cell_type": "code",
   "execution_count": null,
   "metadata": {
    "slideshow": {
     "slide_type": "subslide"
    }
   },
   "outputs": [],
   "source": [
    "import math\n",
    "\n",
    "class Circle(object):\n",
    "    'An advanced circle analytic toolkit'\n",
    "    \n",
    "    version = '0.3'\n",
    "    \n",
    "    def __init__(self, radius):\n",
    "        self.radius = radius\n",
    "\n",
    "    def area(self):\n",
    "        return math.pi * self.radius ** 2.0\n",
    "    \n",
    "    def perimeter(self):\n",
    "        return 2.0 * math.pi * self.radius\n",
    "    \n",
    "    @classmethod # alternative constructor\n",
    "    def from_bbd(cls, bbd):\n",
    "        'Construct a circle from a bounding box diagonal'\n",
    "        radius = bbd / 2.0 / math.sqrt(2.0)\n",
    "        return Circle(radius)"
   ]
  },
  {
   "cell_type": "code",
   "execution_count": null,
   "metadata": {
    "slideshow": {
     "slide_type": "subslide"
    }
   },
   "outputs": [],
   "source": [
    "bbd = 25\n",
    "c = Circle.from_bbd(bbd)\n",
    "print('A circle with a bbd of', bbd)\n",
    "print('has a radius of', c.radius)\n",
    "print('an an area of', c.area())"
   ]
  },
  {
   "cell_type": "code",
   "execution_count": null,
   "metadata": {
    "slideshow": {
     "slide_type": "subslide"
    }
   },
   "outputs": [],
   "source": [
    "class Tire(Circle):\n",
    "    'Tires are circles with a corrected perimeter'\n",
    "\n",
    "    def perimeter(self):\n",
    "        'Circumference corrected for the rubber'\n",
    "        return Circle.perimeter(self) * 1.25"
   ]
  },
  {
   "cell_type": "code",
   "execution_count": null,
   "metadata": {
    "slideshow": {
     "slide_type": "subslide"
    }
   },
   "outputs": [],
   "source": [
    "tire_bbd = 45\n",
    "t = Tire.from_bbd(tire_bbd)\n",
    "print('A tire of radius', t.radius)\n",
    "print('has an inner area of', t.area())\n",
    "print('and an odometer corrected perimeter of', t.perimeter())"
   ]
  },
  {
   "cell_type": "code",
   "execution_count": null,
   "metadata": {
    "slideshow": {
     "slide_type": "subslide"
    }
   },
   "outputs": [],
   "source": [
    "import math\n",
    "\n",
    "class Circle(object):\n",
    "    'An advanced circle analytic toolkit'\n",
    "    \n",
    "    version = '0.3'\n",
    "\n",
    "    def __init__(self, radius):\n",
    "        self.radius = radius\n",
    "\n",
    "    def area(self):\n",
    "        return math.pi * self.radius ** 2.0\n",
    "    \n",
    "    def perimeter(self):\n",
    "        return 2.0 * math.pi * self.radius\n",
    "    \n",
    "    @classmethod # alternative constructor\n",
    "    def from_bbd(cls, bbd):\n",
    "        'Construct a circle from a bounding box diagonal'\n",
    "        radius = bbd / 2.0 / math.sqrt(2.0)\n",
    "        return cls(radius)"
   ]
  },
  {
   "cell_type": "code",
   "execution_count": null,
   "metadata": {
    "slideshow": {
     "slide_type": "subslide"
    }
   },
   "outputs": [],
   "source": [
    "t = Tire.from_bbd(45)\n",
    "print('A tire of radius', t.radius)\n",
    "print('has an inner area of', t.area())\n",
    "print('and an odometer corrected perimeter of', t.perimeter())"
   ]
  },
  {
   "cell_type": "code",
   "execution_count": null,
   "metadata": {
    "slideshow": {
     "slide_type": "subslide"
    }
   },
   "outputs": [],
   "source": [
    "def angle_to_grade(angle):\n",
    "    'Convert angle in degree to a percentage grade'\n",
    "    return math.tan(math.radians(angle)) * 100.0"
   ]
  },
  {
   "cell_type": "code",
   "execution_count": null,
   "metadata": {
    "slideshow": {
     "slide_type": "subslide"
    }
   },
   "outputs": [],
   "source": [
    "class Circle(object):\n",
    "    'An advanced circle analytic toolkit'\n",
    "\n",
    "    version = '0.4b'\n",
    "\n",
    "    def __init__(self, radius):\n",
    "        self.radius = radius\n",
    "\n",
    "    def angle_to_grade(self, angle):\n",
    "        'Convert angle in degree to a percentage grade'\n",
    "        return math.tan(math.radians(angle)) * 100.0"
   ]
  },
  {
   "cell_type": "code",
   "execution_count": null,
   "metadata": {
    "slideshow": {
     "slide_type": "subslide"
    }
   },
   "outputs": [],
   "source": [
    "class Circle(object):\n",
    "    'An advanced circle analytic toolkit'\n",
    "\n",
    "    version = '0.4'\n",
    "\n",
    "    def __init__(self, radius):\n",
    "        self.radius = radius\n",
    "    \n",
    "    @staticmethod # attach functions to classes\n",
    "    def angle_to_grade(angle):\n",
    "        'Convert angle in degree to a percentage grade'\n",
    "        return math.tan(math.radians(angle)) * 100.0"
   ]
  },
  {
   "cell_type": "code",
   "execution_count": null,
   "metadata": {
    "slideshow": {
     "slide_type": "subslide"
    }
   },
   "outputs": [],
   "source": [
    "print('A inclinometer reading of 5 degrees')\n",
    "print('is a %0.1f%% grade.' % Circle.angle_to_grade(5))"
   ]
  },
  {
   "cell_type": "code",
   "execution_count": null,
   "metadata": {
    "slideshow": {
     "slide_type": "subslide"
    }
   },
   "outputs": [],
   "source": [
    "class Circle(object):\n",
    "    'An advanced circle analytic toolkit'\n",
    "\n",
    "    version = '0.5b'\n",
    "\n",
    "    def __init__(self, radius):\n",
    "        self.radius = radius\n",
    "            \n",
    "    def area(self):\n",
    "        p = self.perimeter()\n",
    "        r = p / math.pi / 2.0\n",
    "        return math.pi * r ** 2.0\n",
    "\n",
    "    def perimeter(self):\n",
    "        return 2.0 * math.pi * self.radius"
   ]
  },
  {
   "cell_type": "code",
   "execution_count": null,
   "metadata": {
    "slideshow": {
     "slide_type": "subslide"
    }
   },
   "outputs": [],
   "source": [
    "class Tire(Circle):\n",
    "    'Tires are circles with an odometer corrected perimeter'\n",
    "\n",
    "    def perimeter(self):\n",
    "        'Circumference corrected for the rubber'\n",
    "        return Circle.perimeter(self) * 1.25"
   ]
  },
  {
   "cell_type": "markdown",
   "metadata": {
    "slideshow": {
     "slide_type": "subslide"
    }
   },
   "source": [
    "![python_private_method2.jpg](python_private_method2.jpg)"
   ]
  },
  {
   "cell_type": "code",
   "execution_count": null,
   "metadata": {
    "slideshow": {
     "slide_type": "subslide"
    }
   },
   "outputs": [],
   "source": [
    "class Circle(object):\n",
    "    'An advanced circle analytic toolkit'\n",
    "\n",
    "    version = '0.5b'\n",
    "\n",
    "    def __init__(self, radius):\n",
    "        self.radius = radius\n",
    "            \n",
    "    def area(self):\n",
    "        p = self._perimeter()\n",
    "        r = p / math.pi / 2.0\n",
    "        return math.pi * r ** 2.0\n",
    "\n",
    "    def perimeter(self):\n",
    "        return 2.0 * math.pi * self.radius\n",
    "    \n",
    "    _perimeter = perimeter"
   ]
  },
  {
   "cell_type": "code",
   "execution_count": null,
   "metadata": {
    "slideshow": {
     "slide_type": "subslide"
    }
   },
   "outputs": [],
   "source": [
    "class Tire(Circle):\n",
    "    'Tires are circles with an odometer corrected perimeter'\n",
    "\n",
    "    def perimeter(self):\n",
    "        'Circumference corrected for the rubber'\n",
    "        return Circle.perimeter(self) * 1.25\n",
    "    \n",
    "    _perimeter = perimeter"
   ]
  },
  {
   "cell_type": "code",
   "execution_count": null,
   "metadata": {
    "slideshow": {
     "slide_type": "subslide"
    }
   },
   "outputs": [],
   "source": [
    "class Circle(object):\n",
    "    'An advanced circle analytic toolkit'\n",
    "\n",
    "    version = '0.5'\n",
    "\n",
    "    def __init__(self, radius):\n",
    "        self.radius = radius\n",
    "            \n",
    "    def area(self):\n",
    "        p = self.__perimeter()\n",
    "        r = p / math.pi / 2.0\n",
    "        return math.pi * r ** 2.0\n",
    "\n",
    "    def perimeter(self):\n",
    "        return 2.0 * math.pi * self.radius\n",
    "    \n",
    "    __perimeter = perimeter"
   ]
  },
  {
   "cell_type": "code",
   "execution_count": null,
   "metadata": {},
   "outputs": [],
   "source": [
    "c = Circle(3)\n",
    "# name mangling:\n",
    "# __perimeter -> _Circle__perimeter\n",
    "print(dir(c))"
   ]
  },
  {
   "cell_type": "code",
   "execution_count": null,
   "metadata": {
    "slideshow": {
     "slide_type": "subslide"
    }
   },
   "outputs": [],
   "source": [
    "class Circle(object):\n",
    "    'An advanced circle analytic toolkit'\n",
    "\n",
    "    version = '0.6'\n",
    "\n",
    "    def __init__(self, radius):\n",
    "        self.diameter = radius * 2.0\n",
    "\n",
    "    def get_radius(self):\n",
    "        'Radius of a circle'\n",
    "        return self.diameter / 2.0\n",
    "\n",
    "    def set_radius(self, radius):\n",
    "        self.diameter = radius * 2.0"
   ]
  },
  {
   "cell_type": "code",
   "execution_count": null,
   "metadata": {
    "slideshow": {
     "slide_type": "subslide"
    }
   },
   "outputs": [],
   "source": [
    "class Circle(object):\n",
    "    'An advanced circle analytic toolkit'\n",
    "\n",
    "    version = '0.6'\n",
    "\n",
    "    def __init__(self, diameter):\n",
    "        self.diameter = diameter\n",
    "        \n",
    "    @property # convert dotted access to method calls\n",
    "    def radius(self):\n",
    "        'Radius of a circle'\n",
    "        return self.diameter / 2.0\n",
    "\n",
    "    @radius.setter\n",
    "    def radius(self, radius):\n",
    "        self.diameter = radius * 2.0"
   ]
  },
  {
   "cell_type": "code",
   "execution_count": null,
   "metadata": {
    "slideshow": {
     "slide_type": "subslide"
    }
   },
   "outputs": [],
   "source": [
    "dir(Circle())"
   ]
  },
  {
   "cell_type": "code",
   "execution_count": null,
   "metadata": {
    "slideshow": {
     "slide_type": "subslide"
    }
   },
   "outputs": [],
   "source": [
    "c = Circle(radius = 10)\n",
    "print('A circlet with with a diameter of', c.diameter)\n",
    "print('has a cold radius', c.radius)\n",
    "c.radius *= 1.1\n",
    "print('and a warm diameter', c.diameter)"
   ]
  },
  {
   "cell_type": "code",
   "execution_count": null,
   "metadata": {
    "slideshow": {
     "slide_type": "subslide"
    }
   },
   "outputs": [],
   "source": [
    "from random import random, seed\n",
    "\n",
    "seed(8675309)\n",
    "n = 10000000\n",
    "\n",
    "print('Using Circuituous(tm) version', Circle.version)\n",
    "\n",
    "circles = [Circle(random()) for i in range(n)]\n",
    "print('The average area of', n, 'random circles')\n",
    "avg = sum([c.area() for c in circles]) / n\n",
    "print('is %.1f' % avg)"
   ]
  },
  {
   "cell_type": "code",
   "execution_count": null,
   "metadata": {
    "slideshow": {
     "slide_type": "subslide"
    }
   },
   "outputs": [],
   "source": [
    "class Circle(object):\n",
    "    'An advanced circle analytic toolkit'\n",
    "\n",
    "    # flyweight design pattern suppresses\n",
    "    # the instance dictionary\n",
    "\n",
    "    __slots__ = ['diameter']\n",
    "\n",
    "    version = '0.7'\n",
    "\n",
    "    def __init__(self, radius):\n",
    "        self.diameter = radius * 2.0\n",
    "\n",
    "    @property # convert dotted access to method calls\n",
    "    def radius(self):\n",
    "        return self.diameter / 2.0\n",
    "\n",
    "    @radius.setter\n",
    "    def radius(self, radius):\n",
    "        self.diameter = radius * 2.0\n",
    "    \n",
    "    def area(self):\n",
    "        return math.pi * (self.diameter / 2) ** 2.0"
   ]
  },
  {
   "cell_type": "code",
   "execution_count": null,
   "metadata": {
    "slideshow": {
     "slide_type": "subslide"
    }
   },
   "outputs": [],
   "source": [
    "from random import random, seed\n",
    "\n",
    "seed(8675309)\n",
    "n = 10000000\n",
    "\n",
    "print('Using Circuituous(tm) version', Circle.version)\n",
    "\n",
    "circles = [Circle(random()) for i in range(n)]\n",
    "print('The average area of', n, 'random circles')\n",
    "avg = sum([c.area() for c in circles]) / n\n",
    "print('is %.1f' % avg)"
   ]
  },
  {
   "cell_type": "markdown",
   "metadata": {
    "slideshow": {
     "slide_type": "subslide"
    }
   },
   "source": [
    "Inherit from object()\n",
    "\n",
    "Instance variables for information unique to an instance\n",
    "\n",
    "Class variables for data shared among all instances\n",
    "\n",
    "Regular methods need “self” to operate on instance data"
   ]
  },
  {
   "cell_type": "markdown",
   "metadata": {
    "slideshow": {
     "slide_type": "subslide"
    }
   },
   "source": [
    "Thread local calls use the double underscore. Gives subclasses the freedom to override methods without breaking other methods"
   ]
  },
  {
   "cell_type": "markdown",
   "metadata": {
    "slideshow": {
     "slide_type": "subslide"
    }
   },
   "source": [
    "Class methods implement alternative constructors. They need “cls” so they can create subclass instances as well"
   ]
  },
  {
   "cell_type": "markdown",
   "metadata": {
    "slideshow": {
     "slide_type": "subslide"
    }
   },
   "source": [
    "Static methods attach functions to classes. They don’t need either “self” or “cls”. Static methods improve discoverability and require context to be specified"
   ]
  },
  {
   "cell_type": "markdown",
   "metadata": {
    "slideshow": {
     "slide_type": "subslide"
    }
   },
   "source": [
    "A property() lets getter and setter methods be invoked automatically by attribute access. This allows Python classes to freely expose their instance variables"
   ]
  },
  {
   "cell_type": "markdown",
   "metadata": {
    "slideshow": {
     "slide_type": "subslide"
    }
   },
   "source": [
    "The `__slots__` variable implements the Flyweight Design Pattern by suppressing instance dictionaries"
   ]
  },
  {
   "cell_type": "markdown",
   "metadata": {
    "slideshow": {
     "slide_type": "slide"
    }
   },
   "source": [
    "## Duck Typing\n",
    "is concerned with establishing the suitability of an object for some purpose\n",
    "\n",
    "If it walks like a duck and it quacks like a duck, then it must be a duck"
   ]
  },
  {
   "cell_type": "markdown",
   "metadata": {
    "slideshow": {
     "slide_type": "subslide"
    }
   },
   "source": [
    "normal typing - suitability determined by an object's type (type hierarchy)\n",
    "\n",
    "duck typing - ... by certain behaviour corresponding to a part of the type's structure that is accessed during run time"
   ]
  },
  {
   "cell_type": "code",
   "execution_count": null,
   "metadata": {
    "slideshow": {
     "slide_type": "subslide"
    }
   },
   "outputs": [],
   "source": [
    "def can_be_a_set_member_or_frozenset(item):\n",
    "    if type(item) in (list,dict,set):\n",
    "        return frozenset(item)\n",
    "    return item"
   ]
  },
  {
   "cell_type": "code",
   "execution_count": null,
   "metadata": {
    "slideshow": {
     "slide_type": "subslide"
    }
   },
   "outputs": [],
   "source": [
    "lst = [1,2,3]\n",
    "print(can_be_a_set_member_or_frozenset(lst))"
   ]
  },
  {
   "cell_type": "code",
   "execution_count": null,
   "metadata": {
    "slideshow": {
     "slide_type": "subslide"
    }
   },
   "outputs": [],
   "source": [
    "class MyList(list):\n",
    "    def additional_method(self,additional):\n",
    "        self.additional = additional\n",
    "lst = MyList((1,2,3))\n",
    "print(lst)\n",
    "print(can_be_a_set_member_or_frozenset(lst))\n",
    "print(type(lst))"
   ]
  },
  {
   "cell_type": "code",
   "execution_count": null,
   "metadata": {
    "slideshow": {
     "slide_type": "subslide"
    }
   },
   "outputs": [],
   "source": [
    "def can_be_a_set_member_or_frozenset(item):\n",
    "    if isinstance(item, (list,set,dict)):\n",
    "        return frozenset(item)\n",
    "    return item"
   ]
  },
  {
   "cell_type": "code",
   "execution_count": null,
   "metadata": {
    "slideshow": {
     "slide_type": "subslide"
    }
   },
   "outputs": [],
   "source": [
    "lst = [1,2,3]\n",
    "print(can_be_a_set_member_or_frozenset(lst))\n",
    "lst = MyList((1,2,3))\n",
    "print(lst)\n",
    "print(can_be_a_set_member_or_frozenset(lst))\n",
    "print(isinstance(lst, (list,set,dict)))"
   ]
  },
  {
   "cell_type": "code",
   "execution_count": null,
   "metadata": {
    "slideshow": {
     "slide_type": "subslide"
    }
   },
   "outputs": [],
   "source": [
    "class MyListIdHash(list):\n",
    "    def __hash__(self):\n",
    "        return hash(id(self))\n",
    "lst = MyListIdHash((1,2,3))\n",
    "s = set()\n",
    "s.add(lst)\n",
    "print(s)\n",
    "print(can_be_a_set_member_or_frozenset(lst))"
   ]
  },
  {
   "cell_type": "code",
   "execution_count": null,
   "metadata": {
    "slideshow": {
     "slide_type": "subslide"
    }
   },
   "outputs": [],
   "source": [
    "def can_be_a_set_member_or_frozenset(item):\n",
    "    try:\n",
    "        s = set()\n",
    "        s.add(item)\n",
    "        return item\n",
    "    except TypeError:\n",
    "        return frozenset(item)"
   ]
  },
  {
   "cell_type": "code",
   "execution_count": null,
   "metadata": {
    "slideshow": {
     "slide_type": "subslide"
    }
   },
   "outputs": [],
   "source": [
    "class MyListIdHash(list):\n",
    "    def __hash__(self):\n",
    "        return hash(id(self))\n",
    "lst = MyListIdHash((1,2,3))\n",
    "print(can_be_a_set_member_or_frozenset(lst))\n",
    "lst = [1,2,3]\n",
    "print(can_be_a_set_member_or_frozenset(lst))"
   ]
  },
  {
   "cell_type": "markdown",
   "metadata": {
    "slideshow": {
     "slide_type": "slide"
    }
   },
   "source": [
    "## super()\n",
    "\n",
    "https://docs.python.org/3/library/functions.html#super\n"
   ]
  },
  {
   "cell_type": "markdown",
   "metadata": {
    "slideshow": {
     "slide_type": "subslide"
    }
   },
   "source": [
    "super([type[, object-or-type]])\n",
    "\n",
    "Return a proxy object that delegates method calls to a parent or sibling class of type."
   ]
  },
  {
   "cell_type": "markdown",
   "metadata": {
    "slideshow": {
     "slide_type": "subslide"
    }
   },
   "source": [
    "This is useful for accessing inherited methods that have been overridden in a class.\n",
    "\n"
   ]
  },
  {
   "cell_type": "markdown",
   "metadata": {
    "slideshow": {
     "slide_type": "subslide"
    }
   },
   "source": [
    "The search order is same as that used by getattr() except that the type itself is skipped.\n"
   ]
  },
  {
   "cell_type": "markdown",
   "metadata": {
    "slideshow": {
     "slide_type": "subslide"
    }
   },
   "source": [
    "The __mro__ attribute of the type lists the method resolution search order used by both getattr() and super()\n",
    "\n",
    "The attribute is dynamic and can change whenever the inheritance hierarchy is updated"
   ]
  },
  {
   "cell_type": "markdown",
   "metadata": {
    "slideshow": {
     "slide_type": "subslide"
    }
   },
   "source": [
    "There are two typical use cases for super. In a class hierarchy with single inheritance, super can be used to refer to parent classes without naming them explicitly, thus making the code more maintainable. This use closely parallels the use of super in other programming languages."
   ]
  },
  {
   "cell_type": "markdown",
   "metadata": {
    "slideshow": {
     "slide_type": "subslide"
    }
   },
   "source": [
    "The second use case is to support cooperative multiple inheritance in a dynamic execution environment. This use case is unique to Python and is not found in statically compiled languages or languages that only support single inheritance."
   ]
  },
  {
   "cell_type": "raw",
   "metadata": {
    "slideshow": {
     "slide_type": "subslide"
    }
   },
   "source": [
    "based on\n",
    "\n",
    "Raymond Hettinger: \n",
    "\n",
    "Super considered super (PyCon 2015) \n",
    "\n",
    "http://pyvideo.org/pycon-us-2015/super-considered-super.html\n"
   ]
  },
  {
   "cell_type": "code",
   "execution_count": 3,
   "metadata": {
    "slideshow": {
     "slide_type": "subslide"
    }
   },
   "outputs": [],
   "source": [
    "class Adam(object): pass\n",
    "class Eve(object): pass\n",
    "class Abraham(Adam, Eve): pass\n",
    "class Mona(Adam, Eve): pass\n",
    "class Homer(Abraham, Mona): pass\n",
    "class Clancy(Adam, Eve): pass\n",
    "class Jackie(Adam, Eve): pass\n",
    "class Marge(Clancy, Jackie): pass\n",
    "class Bart(Homer, Marge): pass"
   ]
  },
  {
   "cell_type": "markdown",
   "metadata": {
    "slideshow": {
     "slide_type": "subslide"
    }
   },
   "source": [
    "![SimpsonsFamilyTree.jpg](SimpsonsFamilyTree.jpg)"
   ]
  },
  {
   "cell_type": "code",
   "execution_count": 4,
   "metadata": {
    "scrolled": true,
    "slideshow": {
     "slide_type": "subslide"
    }
   },
   "outputs": [
    {
     "name": "stdout",
     "output_type": "stream",
     "text": [
      "Help on class Bart in module __main__:\n",
      "\n",
      "class Bart(Homer, Marge)\n",
      " |  Method resolution order:\n",
      " |      Bart\n",
      " |      Homer\n",
      " |      Abraham\n",
      " |      Mona\n",
      " |      Marge\n",
      " |      Clancy\n",
      " |      Jackie\n",
      " |      Adam\n",
      " |      Eve\n",
      " |      builtins.object\n",
      " |  \n",
      " |  Data descriptors inherited from Adam:\n",
      " |  \n",
      " |  __dict__\n",
      " |      dictionary for instance variables (if defined)\n",
      " |  \n",
      " |  __weakref__\n",
      " |      list of weak references to the object (if defined)\n",
      "\n"
     ]
    }
   ],
   "source": [
    "# show MRO for a mutli-level diamond diagram\n",
    "# show the linearise order of how \n",
    "# parent class are getting called\n",
    "help(Bart)"
   ]
  },
  {
   "cell_type": "code",
   "execution_count": null,
   "metadata": {
    "slideshow": {
     "slide_type": "subslide"
    }
   },
   "outputs": [],
   "source": [
    "Bart.mro()"
   ]
  },
  {
   "cell_type": "markdown",
   "metadata": {
    "slideshow": {
     "slide_type": "subslide"
    }
   },
   "source": [
    "## C3 linearization \n",
    "https://en.wikipedia.org/wiki/C3_linearization\n",
    "\n",
    "- class always appears before its parents\n",
    "- if there are multiple parents, they keep the same order as the tuple of base classes"
   ]
  },
  {
   "cell_type": "code",
   "execution_count": null,
   "metadata": {
    "slideshow": {
     "slide_type": "subslide"
    }
   },
   "outputs": [],
   "source": [
    "class DoughFactory(object):\n",
    "\n",
    "    def get_dough(self):\n",
    "        return 'GMO wheat dough'"
   ]
  },
  {
   "cell_type": "code",
   "execution_count": null,
   "metadata": {
    "slideshow": {
     "slide_type": "subslide"
    }
   },
   "outputs": [],
   "source": [
    "class Pizza(DoughFactory):\n",
    "\n",
    "    def get_dough(self):\n",
    "        return DoughFactory().get_dough() + \" kneaded out flat\"\n",
    "\n",
    "    def order_pizza(self, *toppings):\n",
    "        print('Getting dough')\n",
    "        dough = self.get_dough()\n",
    "        print('Making pie with %s' % dough)\n",
    "\n",
    "        for topping in toppings:\n",
    "            print('Adding: %s' % topping)"
   ]
  },
  {
   "cell_type": "code",
   "execution_count": null,
   "metadata": {
    "slideshow": {
     "slide_type": "subslide"
    }
   },
   "outputs": [],
   "source": [
    "class Pizza(DoughFactory):\n",
    "\n",
    "    def get_dough(self):\n",
    "        return super().get_dough() + \" kneaded out flat\"\n",
    "\n",
    "    def order_pizza(self, *toppings):\n",
    "        print('Getting dough')\n",
    "        dough = self.get_dough()\n",
    "        print('Making pie with %s' % dough)\n",
    "\n",
    "        for topping in toppings:\n",
    "            print('Adding: %s' % topping)"
   ]
  },
  {
   "cell_type": "code",
   "execution_count": null,
   "metadata": {
    "slideshow": {
     "slide_type": "subslide"
    }
   },
   "outputs": [],
   "source": [
    "if __name__ == '__main__':\n",
    "    Pizza().order_pizza('Pepperoni', 'Bell Pepper')"
   ]
  },
  {
   "cell_type": "code",
   "execution_count": null,
   "metadata": {
    "slideshow": {
     "slide_type": "subslide"
    }
   },
   "outputs": [],
   "source": [
    "help(Pizza)"
   ]
  },
  {
   "cell_type": "code",
   "execution_count": null,
   "metadata": {
    "slideshow": {
     "slide_type": "subslide"
    }
   },
   "outputs": [],
   "source": [
    "class OrganicDoughFactory(DoughFactory):\n",
    "\n",
    "    def get_dough(self):\n",
    "        return 'non-GMO wheat dough'\n",
    "\n",
    "class OrganicPizza(Pizza, OrganicDoughFactory):\n",
    "    pass\n",
    "\n",
    "if __name__ == '__main__':\n",
    "    OrganicPizza().order_pizza('Sausage', 'Mushroom')\n",
    "    help(OrganicPizza)"
   ]
  },
  {
   "cell_type": "code",
   "execution_count": null,
   "metadata": {
    "slideshow": {
     "slide_type": "subslide"
    }
   },
   "outputs": [],
   "source": [
    "class Robot(object):\n",
    "    \"\"\"Sophististicated class that moves a real robot\"\"\"\n",
    "    # Don't wear down real robots by running tests!\n",
    "\n",
    "    def fetch(self, tool):\n",
    "        print('Physical Movement! Fetching')\n",
    "    def move_forward(self, tool):\n",
    "        print('Physical Movement! Moving Forward')\n",
    "    def move_backward(self, tool):\n",
    "        print('Physical Movement! Moving Backward')\n",
    "    def replace(self, tool):\n",
    "        print('Physical Movement! Replacing')"
   ]
  },
  {
   "cell_type": "code",
   "execution_count": null,
   "metadata": {
    "slideshow": {
     "slide_type": "subslide"
    }
   },
   "outputs": [],
   "source": [
    "class CleaningRobot(Robot):\n",
    "    \"\"\"Custom robot that can clean with a given tool\"\"\"\n",
    "\n",
    "    def clean(self, tool, times=10):\n",
    "        super(CleaningRobot, self).fetch(tool)\n",
    "\n",
    "        for i in range(times):\n",
    "            super(CleaningRobot, self).move_forward(tool)\n",
    "            super(CleaningRobot, self).move_backward(tool)\n",
    "        super(CleaningRobot, self).replace(tool)"
   ]
  },
  {
   "cell_type": "code",
   "execution_count": null,
   "metadata": {
    "slideshow": {
     "slide_type": "subslide"
    }
   },
   "outputs": [],
   "source": [
    "if __name__ == '__main__':\n",
    "    t = CleaningRobot()\n",
    "    t.clean('broom')"
   ]
  },
  {
   "cell_type": "code",
   "execution_count": null,
   "metadata": {
    "slideshow": {
     "slide_type": "subslide"
    }
   },
   "outputs": [],
   "source": [
    "class MockBot(Robot):\n",
    "    \"\"\"Simulate a real robot by merely recording task\"\"\"\n",
    "\n",
    "    def __init__(self):\n",
    "        self.task = []\n",
    "\n",
    "    def fetch(self, tool):\n",
    "        self.task.append('fetching %s' % tool)\n",
    "    def move_forward(self, tool):\n",
    "        self.task.append('forward %s' % tool)\n",
    "    def move_backward(self, tool):\n",
    "        self.task.append('backward %s' % tool)\n",
    "    def replace(self, tool):\n",
    "        self.task.append('replace %s' % tool)"
   ]
  },
  {
   "cell_type": "code",
   "execution_count": null,
   "metadata": {
    "slideshow": {
     "slide_type": "subslide"
    }
   },
   "outputs": [],
   "source": [
    "class MockedCleaningRobot(CleaningRobot, MockBot):\n",
    "    \"\"\"Inject a mock bot into the robot dependency\"\"\"\n",
    "    \n",
    "if __name__ == '__main__':\n",
    "    t = MockedCleaningRobot()\n",
    "    t.clean('broom')\n",
    "    print(t.task)"
   ]
  },
  {
   "cell_type": "code",
   "execution_count": null,
   "metadata": {
    "slideshow": {
     "slide_type": "subslide"
    }
   },
   "outputs": [],
   "source": [
    "class First(object):\n",
    "  def __init__(self):\n",
    "    super(First, self).__init__()\n",
    "    print(\"first\")\n",
    "\n",
    "class Second(object):\n",
    "  def __init__(self):\n",
    "    super(Second, self).__init__()\n",
    "    print(\"second\")\n",
    "\n",
    "class Third(First, Second):\n",
    "  def __init__(self):\n",
    "    super(Third, self).__init__()\n",
    "    print(\"third\")\n",
    "\n",
    "third = Third()"
   ]
  },
  {
   "cell_type": "code",
   "execution_count": null,
   "metadata": {
    "slideshow": {
     "slide_type": "subslide"
    }
   },
   "outputs": [],
   "source": [
    "class Animal:\n",
    "\n",
    "    def say_something(self):\n",
    "        raise NotImplementedError()"
   ]
  },
  {
   "cell_type": "code",
   "execution_count": null,
   "metadata": {
    "slideshow": {
     "slide_type": "subslide"
    }
   },
   "outputs": [],
   "source": [
    "import abc\n",
    "\n",
    "\n",
    "class PluginBase(metaclass=abc.ABCMeta):\n",
    "\n",
    "    @abc.abstractmethod\n",
    "    def load(self, input):\n",
    "        \"\"\"Retrieve data from the input source\n",
    "        and return an object.\n",
    "        \"\"\"\n",
    "\n",
    "    @abc.abstractmethod\n",
    "    def save(self, output, data):\n",
    "        \"\"\"Save the data object to the output.\"\"\""
   ]
  },
  {
   "cell_type": "code",
   "execution_count": null,
   "metadata": {
    "slideshow": {
     "slide_type": "subslide"
    }
   },
   "outputs": [],
   "source": [
    "import abc\n",
    "\n",
    "@PluginBase.register\n",
    "class IncompleteImplementation(PluginBase):\n",
    "\n",
    "    def save(self, output, data):\n",
    "        return output.write(data)\n"
   ]
  },
  {
   "cell_type": "code",
   "execution_count": null,
   "metadata": {
    "slideshow": {
     "slide_type": "subslide"
    }
   },
   "outputs": [],
   "source": [
    "if __name__ == '__main__':\n",
    "    print('Subclass:', issubclass(IncompleteImplementation,\n",
    "                                  PluginBase))\n",
    "    print('Instance:', isinstance(IncompleteImplementation(),\n",
    "                                  PluginBase))"
   ]
  },
  {
   "cell_type": "code",
   "execution_count": null,
   "metadata": {
    "slideshow": {
     "slide_type": "subslide"
    }
   },
   "outputs": [],
   "source": [
    "class First(object):\n",
    "  def __init__(self):\n",
    "    print(\"start first\")\n",
    "    super().__init__()\n",
    "    print(\"end first\")\n",
    "class Second(object):\n",
    "  def __init__(self): \n",
    "    print(\"start second\")\n",
    "    super().__init__()\n",
    "    print(\"end second\")\n",
    "class Third(First, Second):\n",
    "  def __init__(self): \n",
    "    print(\"start third\")\n",
    "    super().__init__()\n",
    "    print(\"end third\")\n",
    "#third = Third()"
   ]
  },
  {
   "cell_type": "markdown",
   "metadata": {
    "slideshow": {
     "slide_type": "subslide"
    }
   },
   "source": [
    "https://pymotw.com/3/abc/"
   ]
  },
  {
   "cell_type": "markdown",
   "metadata": {
    "slideshow": {
     "slide_type": "slide"
    }
   },
   "source": [
    "# Generating code in runtime"
   ]
  },
  {
   "cell_type": "markdown",
   "metadata": {
    "slideshow": {
     "slide_type": "subslide"
    }
   },
   "source": [
    "     eval(expression, globals=None, locals=None)\n",
    "     \n",
    "The expression argument is parsed and evaluated as a Python expression using the globals and locals dictionaries as global and local namespace"
   ]
  },
  {
   "cell_type": "code",
   "execution_count": null,
   "metadata": {
    "slideshow": {
     "slide_type": "subslide"
    }
   },
   "outputs": [],
   "source": [
    "x = 1\n",
    "e = input(\"x = {}\\nEnter an expression that contains x: \".format(x))\n",
    "print(\"{} = {}\".format(e, eval(e)))"
   ]
  },
  {
   "cell_type": "markdown",
   "metadata": {
    "slideshow": {
     "slide_type": "subslide"
    }
   },
   "source": [
    "Consider using ast.literal_eval() for a function that can safely evaluate strings with expressions containing only literals"
   ]
  },
  {
   "cell_type": "markdown",
   "metadata": {
    "slideshow": {
     "slide_type": "subslide"
    }
   },
   "source": [
    "      exec(object[, globals[, locals]])\n",
    "     \n",
    "This function supports dynamic execution of Python code\n",
    "\n",
    "object must be either a string or a code object"
   ]
  },
  {
   "cell_type": "code",
   "execution_count": null,
   "metadata": {
    "slideshow": {
     "slide_type": "subslide"
    }
   },
   "outputs": [],
   "source": [
    "program = 'for i in range(3):\\n    print(\"Python is cool\")'\n",
    "exec(program)"
   ]
  },
  {
   "cell_type": "markdown",
   "metadata": {
    "slideshow": {
     "slide_type": "subslide"
    }
   },
   "source": [
    "Be careful:\n",
    "\n",
    "    session['authenticated'] = False\n",
    "    data = get_data()\n",
    "    foo = eval(data)\n",
    "\n",
    "    eval(\"os.system('rm -rf /')\")\n"
   ]
  },
  {
   "cell_type": "code",
   "execution_count": null,
   "metadata": {
    "slideshow": {
     "slide_type": "subslide"
    }
   },
   "outputs": [],
   "source": [
    "class TypedList( list ):\n",
    "  \"\"\"\n",
    "  .. class:: TypedList\n",
    "  A list-like class holding only objects of specified type(s).\n",
    "  \"\"\"\n",
    "  def __init__( self, iterable=None, allowedTypes=None ):\n",
    "    \"\"\" initializer taking \n",
    "    \n",
    "    :param self: self reference\n",
    "    :param mixed iterable: initial values\n",
    "    :param tuple allowedTypes: alowed types tuple\n",
    "    \"\"\"\n",
    "    iterable = list() if not iterable else iterable\n",
    "    ## make sure it is iterable\n",
    "    iter(iterable)\n",
    "  \n",
    "    types = allowedTypes if isinstance( allowedTypes, tuple ) else ( allowedTypes, )\n",
    "    for item in types:\n",
    "      if not isinstance( item, type ):\n",
    "        raise TypeError(\"%s is not a type\" % repr(item) )\n",
    "       \n",
    "    self._allowedTypes = allowedTypes\n",
    "    map( self._typeCheck, iterable )\n",
    "    list.__init__( self, iterable )\n",
    "\n",
    "  def allowedTypes( self ):\n",
    "    \"\"\" allowed types getter \"\"\"\n",
    "    return self._allowedTypes\n",
    "\n",
    "  def _typeCheck( self, val ):\n",
    "    \"\"\" check type of :val:\n",
    "    :param self: self reference\n",
    "    :param mixed val: obj to check\n",
    "    \"\"\"\n",
    "    if not self._allowedTypes:\n",
    "      return\n",
    "    if not isinstance( val, self._allowedTypes ):\n",
    "      raise TypeError(\"Wrong type %s, this list can hold only instances of %s\" % ( type(val),\n",
    "                                                                                   str(self._allowedTypes) ) )\n",
    "  def __iadd__( self, other ):\n",
    "    \"\"\" += operator\n",
    "     :param self: self reference \n",
    "     :param mixed other: itarable to add\n",
    "     :raises: TypeError\n",
    "    \"\"\"\n",
    "    map( self._typeCheck, other )\n",
    "    list.__iadd__( self, other )\n",
    "    return self\n",
    "    \n",
    "  def __add__( self, other ):\n",
    "    \"\"\" plus lvalue operator\n",
    "    :param self: self reference\n",
    "    :param mixed other: rvalue iterable\n",
    "    :return: TypedList\n",
    "    :raises: TypeError\n",
    "    \"\"\"\n",
    "    iterable = [ item for item in self ] + [ item for item in other ]\n",
    "    return TypedList( iterable, self._allowedTypes )\n",
    "\n",
    "  def __radd__( self, other ):\n",
    "    \"\"\" plus rvalue operator\n",
    "    :param self: self reference\n",
    "    :param mixed other: lvalue iterable\n",
    "    :raises: TypeError\n",
    "    :return: TypedList\n",
    "    \"\"\"\n",
    "    iterable = [ item for item in other ] + [ item for item in self ]\n",
    "    if isinstance( other, TypedList ):\n",
    "      return self.__class__( iterable , other.allowedTypes() )\n",
    "    return TypedList( iterable, self._allowedTypes )\n",
    "\n",
    "  def __setitem__( self, key, value ):\n",
    "    \"\"\" setitem operator\n",
    "    :param self: self reference\n",
    "    :param int or slice key: index\n",
    "    :param mixed value: a value to set\n",
    "    :raises: TypeError\n",
    "    \"\"\"\n",
    "    itervalue = ( value, )\n",
    "    if isinstance( key, slice ):\n",
    "      iter( value )\n",
    "      itervalue = value\n",
    "    map( self._typeCheck, itervalue )\n",
    "    list.__setitem__( self, key, value )\n",
    "   \n",
    "  def __setslice__( self, i, j, iterable ):\n",
    "    \"\"\" setslice slot, only for python <= 2.6\n",
    "    :param self: self reference\n",
    "    :param int i: start index\n",
    "    :param int j: end index\n",
    "    :param mixed iterable: iterable\n",
    "    \"\"\"\n",
    "    iter(iterable)\n",
    "    map( self._typeCheck, iterable )\n",
    "    list.__setslice__( self, i, j, iterable )\n",
    "   \n",
    "  def append( self, val ):\n",
    "    \"\"\" append :val: to list\n",
    "    :param self: self reference\n",
    "    :param mixed val: value\n",
    "    \"\"\"\n",
    "    self._typeCheck( val )\n",
    "    list.append( self, val )\n",
    "   \n",
    "  def extend( self, iterable ):\n",
    "    \"\"\" extend list with :iterable:\n",
    "    \n",
    "    :param self: self referenace\n",
    "    :param mixed iterable: an interable\n",
    "    \"\"\"\n",
    "    iter(iterable)\n",
    "    map( self._typeCheck, iterable )\n",
    "    list.extend( self, iterable )\n",
    "   \n",
    "  def insert( self, i, val ):\n",
    "    \"\"\" insert :val: at index :i:\n",
    "    :param self: self reference\n",
    "    :param int i: index\n",
    "    :param mixed val: value to set\n",
    "    \"\"\"\n",
    "    self._typeCheck( val )\n",
    "    list.insert( self, i, val )\n",
    "\n",
    "class BooleanList( TypedList ):\n",
    "  \"\"\"\n",
    "  .. class:: BooleanList\n",
    "  A list holding only True or False items.\n",
    "  \"\"\"\n",
    "  def __init__( self, iterable = None ):\n",
    "    \"\"\" c'tor\n",
    "    :param self: self reference\n",
    "    :param mixed iterable: initial values\n",
    "    \"\"\"\n",
    "    TypedList.__init__( self, iterable, allowedTypes = bool )\n",
    "  \n",
    "class IntList( TypedList ):\n",
    "  \"\"\"\n",
    "  .. class:: IntList\n",
    "  A list holding only int type items.\n",
    "  \"\"\"\n",
    "  def __init__( self, iterable = None ):\n",
    "    \"\"\" c'tor\n",
    "    :param self: self reference\n",
    "    :param mixed iterable: initial values\n",
    "    \"\"\"\n",
    "    TypedList.__init__( self, iterable, allowedTypes = int )\n",
    "\n",
    "class LongList( TypedList ):\n",
    "  \"\"\"\n",
    "  .. class:: LongList\n",
    "  A list holding only long type items.\n",
    "  \"\"\"\n",
    "  def __init__( self, iterable = None ):\n",
    "    \"\"\" c'tor\n",
    "    :param self: self reference\n",
    "    :param mixed iterable: initial values\n",
    "    \"\"\"\n",
    "    TypedList.__init__( self, iterable, allowedTypes = long )\n",
    "\n",
    "class FloatList( TypedList ):\n",
    "  \"\"\"\n",
    "  .. class:: FloatList\n",
    "  A list holding only float type items.\n",
    "  \"\"\"\n",
    "  def __init__( self, iterable = None ):\n",
    "    \"\"\" c'tor\n",
    "    :param self: self reference\n",
    "    :param mixed iterable: initial values\n",
    "    \"\"\"\n",
    "    TypedList.__init__( self, iterable, allowedTypes = float )\n",
    "\n",
    "class NumericList( TypedList ):\n",
    "  \"\"\"\n",
    "   .. class:: NumericList\n",
    "   A list holding only int, long or float type items.\n",
    "  \"\"\"\n",
    "  def __init__( self, iterable = None ):\n",
    "    \"\"\" c'tor\n",
    "    :param self: self reference\n",
    "    :param mixed iterable: initial values\n",
    "    \"\"\"\n",
    "\n",
    "    TypedList.__init__( self, iterable, allowedTypes = ( int, long, float ) )\n",
    "\n",
    "class StrList( TypedList ):\n",
    "  \"\"\"\n",
    "  .. class:: StrList\n",
    "  A list holding only str type items.\n",
    "  \"\"\"\n",
    "  def __init__( self, iterable = None ):\n",
    "    \"\"\" c'tor\n",
    "    :param self: self reference\n",
    "    :param mixed iterable: initial values\n",
    "    \"\"\"\n",
    "    TypedList.__init__( self, iterable, allowedTypes = str )\n",
    "\n",
    "class StringsList( TypedList ):\n",
    "  \"\"\"\n",
    "  .. class:: StringsList\n",
    "  A list holding only str or unicode type items.\n",
    "  \"\"\"\n",
    "  def __init__( self, iterable = None ):\n",
    "    \"\"\" c'tor\n",
    "    :param self: self reference\n",
    "    :param mixed iterable: initial values\n",
    "    \"\"\"\n",
    "    TypedList.__init__( self, iterable, allowedTypes = ( str, unicode ) )\n",
    "    "
   ]
  },
  {
   "cell_type": "code",
   "execution_count": null,
   "metadata": {
    "slideshow": {
     "slide_type": "subslide"
    }
   },
   "outputs": [],
   "source": [
    "q = TypedList((1,4,3,2), allowedTypes= int)\n",
    "q = q + [9,2,3]\n",
    "q"
   ]
  },
  {
   "cell_type": "code",
   "execution_count": null,
   "metadata": {
    "slideshow": {
     "slide_type": "subslide"
    }
   },
   "outputs": [],
   "source": [
    "q.append(2.1)\n",
    "q"
   ]
  },
  {
   "cell_type": "code",
   "execution_count": null,
   "metadata": {
    "slideshow": {
     "slide_type": "subslide"
    }
   },
   "outputs": [],
   "source": [
    "from collections import OrderedDict\n",
    "\n",
    "class LUOD(OrderedDict):\n",
    "\n",
    "    def __setitem__(self, key, value):\n",
    "        if key in self:\n",
    "            del self[key]\n",
    "        OrderedDict.__setitem__(self, key, value)"
   ]
  },
  {
   "cell_type": "code",
   "execution_count": null,
   "metadata": {
    "slideshow": {
     "slide_type": "subslide"
    }
   },
   "outputs": [],
   "source": [
    "from collections import OrderedDict\n",
    "class LastUpdatedOrderedDict(OrderedDict):\n",
    "    'Store items in the order the keys were last added'\n",
    "\n",
    "    def __setitem__(self, key, value):\n",
    "        if key in self:\n",
    "            del self[key]\n",
    "        OrderedDict.__setitem__(self, key, value)"
   ]
  },
  {
   "cell_type": "markdown",
   "metadata": {
    "slideshow": {
     "slide_type": "subslide"
    }
   },
   "source": [
    "## Next lecture\n",
    "- https://www.youtube.com/playlist?list=PL1512BD72E7C9FFCA\n",
    "(Ruby Programming Tutorials Playlist)"
   ]
  }
 ],
 "metadata": {
  "anaconda-cloud": {},
  "celltoolbar": "Slideshow",
  "kernelspec": {
   "display_name": "Python 3 (ipykernel)",
   "language": "python",
   "name": "python3"
  },
  "language_info": {
   "codemirror_mode": {
    "name": "ipython",
    "version": 3
   },
   "file_extension": ".py",
   "mimetype": "text/x-python",
   "name": "python",
   "nbconvert_exporter": "python",
   "pygments_lexer": "ipython3",
   "version": "3.9.18"
  },
  "livereveal": {
   "controls": true,
   "height": 855,
   "history": true,
   "minScale": 1,
   "progress": true,
   "scroll": false,
   "slideNumber": true,
   "start_slideshow_at": "selected",
   "theme": "simple",
   "transition": "linear",
   "width": 1140
  }
 },
 "nbformat": 4,
 "nbformat_minor": 2
}
