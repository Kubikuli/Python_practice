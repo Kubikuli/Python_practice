{
 "cells": [
  {
   "cell_type": "markdown",
   "metadata": {
    "slideshow": {
     "slide_type": "slide"
    }
   },
   "source": [
    "# Iterables and Iterators"
   ]
  },
  {
   "cell_type": "markdown",
   "metadata": {
    "slideshow": {
     "slide_type": "subslide"
    }
   },
   "source": [
    "**Iteration** is a general term for taking each item of something, one after another\n",
    "\n",
    "Any time you use **a loop**, explicit or implicit, to go over a group of items, that is iteration"
   ]
  },
  {
   "cell_type": "markdown",
   "metadata": {
    "slideshow": {
     "slide_type": "subslide"
    }
   },
   "source": [
    "Implicit loops?\n",
    "\n"
   ]
  },
  {
   "cell_type": "markdown",
   "metadata": {
    "slideshow": {
     "slide_type": "subslide"
    }
   },
   "source": [
    "* operator in\n",
    "* reduction: sum(), min(), max()\n",
    "* constructors: list(), tuple(), set(), dict(), frozenset()\n",
    "* other built-in functions: all(), any(), sorted(), zip(), enumerate()\n",
    "* FP style functions - see below: map(), filter(), functtools.reduce()...\n",
    "* ..."
   ]
  },
  {
   "cell_type": "markdown",
   "metadata": {
    "slideshow": {
     "slide_type": "subslide"
    }
   },
   "source": [
    "* http://stackoverflow.com/questions/9884132/what-exactly-are-pythons-iterator-iterable-and-iteration-protocols\n"
   ]
  },
  {
   "cell_type": "markdown",
   "metadata": {
    "slideshow": {
     "slide_type": "subslide"
    }
   },
   "source": [
    "* https://docs.python.org/3/tutorial/classes.html#iterators\n",
    "* https://docs.python.org/dev/library/stdtypes.html#iterator-types\n",
    "* https://docs.python.org/dev/howto/functional.html#iterators"
   ]
  },
  {
   "cell_type": "markdown",
   "metadata": {
    "slideshow": {
     "slide_type": "subslide"
    }
   },
   "source": [
    "In Python, iterable and iterator have specific meanings"
   ]
  },
  {
   "cell_type": "markdown",
   "metadata": {
    "slideshow": {
     "slide_type": "subslide"
    }
   },
   "source": [
    "An **iterable** is an object that has an `__iter__` method which returns an iterator, or which defines a `__getitem__` method that can take sequential indexes starting from zero (and raises an IndexError when the indexes are no longer valid)"
   ]
  },
  {
   "cell_type": "markdown",
   "metadata": {
    "slideshow": {
     "slide_type": "subslide"
    }
   },
   "source": [
    "So an iterable is an object that you can get an iterator from"
   ]
  },
  {
   "cell_type": "markdown",
   "metadata": {
    "slideshow": {
     "slide_type": "subslide"
    }
   },
   "source": [
    "An **iterator** is an object with a `__next__` method"
   ]
  },
  {
   "cell_type": "markdown",
   "metadata": {
    "slideshow": {
     "slide_type": "subslide"
    }
   },
   "source": [
    "Whenever you use a for loop, or map, or a list comprehension, etc. in Python, the next method is called automatically to get each item from the iterator, thus going through the process of iteration"
   ]
  },
  {
   "cell_type": "markdown",
   "metadata": {
    "slideshow": {
     "slide_type": "subslide"
    }
   },
   "source": [
    "### Iteration protocol\n",
    "\n",
    "    for x in obj:\n",
    "        # statements\n",
    "        \n",
    "    # actually means:\n",
    "\n",
    "    _iter = iter(obj) # Get an iterator object\n",
    "    while True:\n",
    "        try:\n",
    "            x = next(_iter)  # Get next item\n",
    "        except StopIteration: # No more items\n",
    "            break\n",
    "        # statements\n"
   ]
  },
  {
   "cell_type": "markdown",
   "metadata": {
    "slideshow": {
     "slide_type": "subslide"
    }
   },
   "source": [
    "In other words:"
   ]
  },
  {
   "cell_type": "markdown",
   "metadata": {
    "collapsed": true,
    "slideshow": {
     "slide_type": "subslide"
    }
   },
   "source": [
    "An **iterable** is:\n",
    "\n",
    "* anything that can be looped over (i.e. you can loop over a string or file)\n",
    "\n"
   ]
  },
  {
   "cell_type": "markdown",
   "metadata": {
    "collapsed": true,
    "slideshow": {
     "slide_type": "subslide"
    }
   },
   "source": [
    "An **iterable** is:\n",
    "\n",
    "* anything that can appear on the right-side of a for-loop: for x in iterable: ..."
   ]
  },
  {
   "cell_type": "markdown",
   "metadata": {
    "collapsed": true,
    "slideshow": {
     "slide_type": "subslide"
    }
   },
   "source": [
    "An **iterable** is:\n",
    "\n",
    "* anything you can call with `iter()` that will return an ITERATOR: `iter(obj)`\n"
   ]
  },
  {
   "cell_type": "markdown",
   "metadata": {
    "collapsed": true,
    "slideshow": {
     "slide_type": "subslide"
    }
   },
   "source": [
    "An **iterable** is:\n",
    "\n",
    "* an object that defines `__iter__` that returns a fresh ITERATOR, or it may have a `__getitem__` method suitable for indexed lookup\n"
   ]
  },
  {
   "cell_type": "markdown",
   "metadata": {
    "collapsed": true,
    "slideshow": {
     "slide_type": "subslide"
    }
   },
   "source": [
    "An **iterator** is:\n",
    "* an object **with state** that remembers where it is during iteration"
   ]
  },
  {
   "cell_type": "markdown",
   "metadata": {
    "collapsed": true,
    "slideshow": {
     "slide_type": "subslide"
    }
   },
   "source": [
    "An **iterator** is:\n",
    "* an object with a `__next__` method that:\n",
    "  * returns the next value in the iteration\n",
    "  * updates the state to point at the next value\n",
    "  * signals when it is done by raising StopIteration\n"
   ]
  },
  {
   "cell_type": "markdown",
   "metadata": {
    "collapsed": true,
    "slideshow": {
     "slide_type": "subslide"
    }
   },
   "source": [
    "An **iterator** is:\n",
    "* an object that is self-iterable (meaning that it has an `__iter__` method that returns self)"
   ]
  },
  {
   "cell_type": "markdown",
   "metadata": {
    "collapsed": true,
    "slideshow": {
     "slide_type": "subslide"
    }
   },
   "source": [
    "Note:\n",
    "* The builtin function next() calls that method on the object passed to it\n"
   ]
  },
  {
   "cell_type": "code",
   "execution_count": 10,
   "metadata": {
    "slideshow": {
     "slide_type": "subslide"
    }
   },
   "outputs": [
    {
     "data": {
      "text/plain": [
       "'c'"
      ]
     },
     "execution_count": 10,
     "metadata": {},
     "output_type": "execute_result"
    }
   ],
   "source": [
    "s = 'cat'          # s is an ITERABLE\n",
    "                   # s is a str object that is immutable\n",
    "                   # s has no state\n",
    "                   # s has a __getitem__() method \n",
    "\n",
    "t = iter(s)        # t is an ITERATOR\n",
    "                   # t has state (it starts by pointing at the \"c\"\n",
    "                   # t has a next() method and an __iter__() method\n",
    "\n",
    "next(t)            # next() returns the next value and advances the state"
   ]
  },
  {
   "cell_type": "code",
   "execution_count": 13,
   "metadata": {
    "slideshow": {
     "slide_type": "subslide"
    }
   },
   "outputs": [
    {
     "ename": "StopIteration",
     "evalue": "",
     "output_type": "error",
     "traceback": [
      "\u001b[1;31m---------------------------------------------------------------------------\u001b[0m",
      "\u001b[1;31mStopIteration\u001b[0m                             Traceback (most recent call last)",
      "\u001b[1;32m<ipython-input-13-7c078ac1d1b8>\u001b[0m in \u001b[0;36m<module>\u001b[1;34m\u001b[0m\n\u001b[1;32m----> 1\u001b[1;33m \u001b[0mnext\u001b[0m\u001b[1;33m(\u001b[0m\u001b[0mt\u001b[0m\u001b[1;33m)\u001b[0m            \u001b[1;31m# next() returns the next value and advances\u001b[0m\u001b[1;33m\u001b[0m\u001b[1;33m\u001b[0m\u001b[0m\n\u001b[0m",
      "\u001b[1;31mStopIteration\u001b[0m: "
     ]
    }
   ],
   "source": [
    "next(t)            # next() returns the next value and advances"
   ]
  },
  {
   "cell_type": "code",
   "execution_count": 15,
   "metadata": {
    "slideshow": {
     "slide_type": "subslide"
    }
   },
   "outputs": [
    {
     "ename": "StopIteration",
     "evalue": "",
     "output_type": "error",
     "traceback": [
      "\u001b[1;31m---------------------------------------------------------------------------\u001b[0m",
      "\u001b[1;31mStopIteration\u001b[0m                             Traceback (most recent call last)",
      "\u001b[1;32m<ipython-input-15-7c078ac1d1b8>\u001b[0m in \u001b[0;36m<module>\u001b[1;34m\u001b[0m\n\u001b[1;32m----> 1\u001b[1;33m \u001b[0mnext\u001b[0m\u001b[1;33m(\u001b[0m\u001b[0mt\u001b[0m\u001b[1;33m)\u001b[0m            \u001b[1;31m# next() returns the next value and advances\u001b[0m\u001b[1;33m\u001b[0m\u001b[1;33m\u001b[0m\u001b[0m\n\u001b[0m",
      "\u001b[1;31mStopIteration\u001b[0m: "
     ]
    }
   ],
   "source": [
    "next(t)            # next() returns the next value and advances"
   ]
  },
  {
   "cell_type": "code",
   "execution_count": 16,
   "metadata": {
    "slideshow": {
     "slide_type": "subslide"
    }
   },
   "outputs": [
    {
     "ename": "StopIteration",
     "evalue": "",
     "output_type": "error",
     "traceback": [
      "\u001b[1;31m---------------------------------------------------------------------------\u001b[0m",
      "\u001b[1;31mStopIteration\u001b[0m                             Traceback (most recent call last)",
      "\u001b[1;32m<ipython-input-16-d042084f34f7>\u001b[0m in \u001b[0;36m<module>\u001b[1;34m\u001b[0m\n\u001b[1;32m----> 1\u001b[1;33m \u001b[0mnext\u001b[0m\u001b[1;33m(\u001b[0m\u001b[0mt\u001b[0m\u001b[1;33m)\u001b[0m            \u001b[1;31m# next() raises StopIteration to signal that iteration is complete\u001b[0m\u001b[1;33m\u001b[0m\u001b[1;33m\u001b[0m\u001b[0m\n\u001b[0m",
      "\u001b[1;31mStopIteration\u001b[0m: "
     ]
    }
   ],
   "source": [
    "next(t)            # next() raises StopIteration to signal that iteration is complete"
   ]
  },
  {
   "cell_type": "code",
   "execution_count": 17,
   "metadata": {
    "slideshow": {
     "slide_type": "subslide"
    }
   },
   "outputs": [
    {
     "data": {
      "text/plain": [
       "True"
      ]
     },
     "execution_count": 17,
     "metadata": {},
     "output_type": "execute_result"
    }
   ],
   "source": [
    "iter(t) is t   # the iterator is self-iterable"
   ]
  },
  {
   "cell_type": "code",
   "execution_count": null,
   "metadata": {
    "slideshow": {
     "slide_type": "subslide"
    }
   },
   "outputs": [],
   "source": [
    "class Fib:\n",
    "    '''iterator that yields numbers in the Fibonacci sequence'''\n",
    "\n",
    "    def __init__(self, max):\n",
    "        self.max = max\n",
    "        self.a = 0\n",
    "        self.b = 1\n",
    "\n",
    "    def __iter__(self):\n",
    "        return self\n",
    "\n",
    "    def __next__(self):\n",
    "        fib = self.a\n",
    "        if fib > self.max:\n",
    "            raise StopIteration\n",
    "        self.a, self.b = self.b, self.a + self.b\n",
    "        return fib"
   ]
  },
  {
   "cell_type": "code",
   "execution_count": 21,
   "metadata": {
    "scrolled": true,
    "slideshow": {
     "slide_type": "subslide"
    }
   },
   "outputs": [
    {
     "name": "stdout",
     "output_type": "stream",
     "text": [
      "<__main__.Fib object at 0x000002004EDA3390>\n",
      "<__main__.Fib object at 0x000002004EDA3390>\n"
     ]
    }
   ],
   "source": [
    "fib2 = Fib(100)\n",
    "fib2\n",
    "next(fib2)\n",
    "next(fib2)\n",
    "next(fib2)\n",
    "next(fib2)\n",
    "print(fib2)\n",
    "fib3 = iter(fib2)\n",
    "print(fib3)"
   ]
  },
  {
   "cell_type": "markdown",
   "metadata": {
    "slideshow": {
     "slide_type": "subslide"
    }
   },
   "source": [
    "Iterators allow users to access each element in an abstract collection without actually creating a sequence variable with all elements in memory at once"
   ]
  },
  {
   "cell_type": "code",
   "execution_count": 22,
   "metadata": {
    "slideshow": {
     "slide_type": "subslide"
    }
   },
   "outputs": [
    {
     "data": {
      "text/plain": [
       "[3, 5, 8, 13, 21, 34, 55, 89]"
      ]
     },
     "execution_count": 22,
     "metadata": {},
     "output_type": "execute_result"
    }
   ],
   "source": [
    "list(fib2)"
   ]
  },
  {
   "cell_type": "code",
   "execution_count": 23,
   "metadata": {
    "slideshow": {
     "slide_type": "subslide"
    }
   },
   "outputs": [
    {
     "name": "stdout",
     "output_type": "stream",
     "text": [
      "True True\n"
     ]
    }
   ],
   "source": [
    "f = open('cisg57931.csv')\n",
    "print('__iter__' in dir(f), '__next__' in dir(f))"
   ]
  },
  {
   "cell_type": "code",
   "execution_count": 24,
   "metadata": {
    "slideshow": {
     "slide_type": "subslide"
    }
   },
   "outputs": [
    {
     "data": {
      "text/plain": [
       "';Jméno;Login;Body;Celk;Datum;Kdo;\\n'"
      ]
     },
     "execution_count": 24,
     "metadata": {},
     "output_type": "execute_result"
    }
   ],
   "source": [
    "line0 = next(f)\n",
    "line1 = next(f)\n",
    "line0"
   ]
  },
  {
   "cell_type": "code",
   "execution_count": 25,
   "metadata": {
    "slideshow": {
     "slide_type": "subslide"
    }
   },
   "outputs": [],
   "source": [
    "# Helper function:\n",
    "def is_leap_year(year):\n",
    "    if year % 400 == 0:\n",
    "        return True\n",
    "    elif year % 100 == 0:\n",
    "        return False\n",
    "    elif year % 4 == 0:\n",
    "        return True"
   ]
  },
  {
   "cell_type": "code",
   "execution_count": 27,
   "metadata": {
    "slideshow": {
     "slide_type": "subslide"
    }
   },
   "outputs": [],
   "source": [
    "class LeapYearIterator(object):\n",
    "    def __init__(self, year, max_year=2050):\n",
    "        assert year < max_year\n",
    "        self.year = year\n",
    "        self.max_year = max_year\n",
    "   \n",
    "    # Return the next leap year. Notice it's infinite:\n",
    "    def __next__(self):\n",
    "        while True:\n",
    "            self.year += 1\n",
    "            if is_leap_year(self.year):\n",
    "                return self.year\n",
    "            if self.year > self.max_year:\n",
    "                raise StopIteration()\n",
    "    \n",
    "    # To make ``LeapYearIterator`` iterable, we also define an __iter__\n",
    "    # method. `LeapYearIterator`` objects are already iterators,\n",
    "    # ``iter`` can just return the object itself.\n",
    "    def __iter__(self):\n",
    "        return self"
   ]
  },
  {
   "cell_type": "code",
   "execution_count": 28,
   "metadata": {
    "slideshow": {
     "slide_type": "subslide"
    }
   },
   "outputs": [
    {
     "data": {
      "text/plain": [
       "True"
      ]
     },
     "execution_count": 28,
     "metadata": {},
     "output_type": "execute_result"
    }
   ],
   "source": [
    "# Year 2004 is a leap year.\n",
    "2004 in LeapYearIterator(1890)"
   ]
  },
  {
   "cell_type": "code",
   "execution_count": 29,
   "metadata": {
    "slideshow": {
     "slide_type": "subslide"
    }
   },
   "outputs": [
    {
     "data": {
      "text/plain": [
       "False"
      ]
     },
     "execution_count": 29,
     "metadata": {},
     "output_type": "execute_result"
    }
   ],
   "source": [
    "# Year 1900 is not a leap year.\n",
    "1900 in LeapYearIterator(1890)"
   ]
  },
  {
   "cell_type": "code",
   "execution_count": 30,
   "metadata": {
    "slideshow": {
     "slide_type": "subslide"
    }
   },
   "outputs": [
    {
     "name": "stdout",
     "output_type": "stream",
     "text": [
      "1972\n",
      "1976\n",
      "1980\n",
      "1984\n",
      "1988\n",
      "1992\n",
      "1996\n",
      "2000\n",
      "2004\n",
      "2008\n",
      "2012\n",
      "2016\n",
      "2020\n",
      "2024\n",
      "2028\n",
      "2032\n",
      "2036\n",
      "2040\n",
      "2044\n",
      "2048\n"
     ]
    }
   ],
   "source": [
    "# Because __iter__ is defined, you can use LeapYearIterator\n",
    "# in a for loop.\n",
    "for leap_year in LeapYearIterator(1970):\n",
    "    print(leap_year)"
   ]
  },
  {
   "cell_type": "code",
   "execution_count": 31,
   "metadata": {
    "slideshow": {
     "slide_type": "subslide"
    }
   },
   "outputs": [
    {
     "data": {
      "text/plain": [
       "[1972,\n",
       " 1976,\n",
       " 1980,\n",
       " 1984,\n",
       " 1988,\n",
       " 1992,\n",
       " 1996,\n",
       " 2000,\n",
       " 2004,\n",
       " 2008,\n",
       " 2012,\n",
       " 2016,\n",
       " 2020,\n",
       " 2024,\n",
       " 2028,\n",
       " 2032,\n",
       " 2036,\n",
       " 2040,\n",
       " 2044,\n",
       " 2048]"
      ]
     },
     "execution_count": 31,
     "metadata": {},
     "output_type": "execute_result"
    }
   ],
   "source": [
    "# Or you can generate a list of all leap years:\n",
    "leap_years = list(LeapYearIterator(1970))\n",
    "leap_years"
   ]
  },
  {
   "cell_type": "code",
   "execution_count": 32,
   "metadata": {
    "slideshow": {
     "slide_type": "subslide"
    }
   },
   "outputs": [],
   "source": [
    "class LeapYearIterator(object):\n",
    "    def __init__(self, year):\n",
    "        self.year = year\n",
    "   \n",
    "    # Return the next leap year. Notice it's infinite:\n",
    "    def __next__(self):\n",
    "        while True:\n",
    "            self.year += 1\n",
    "            return self.year\n",
    "               \n",
    "    # To make ``LeapYearIterator`` iterable, we also define an __iter__\n",
    "    # method. `LeapYearIterator`` objects are already iterators,\n",
    "    # ``iter`` can just return the object itself.\n",
    "    def __iter__(self):\n",
    "        return self"
   ]
  },
  {
   "cell_type": "markdown",
   "metadata": {
    "slideshow": {
     "slide_type": "subslide"
    }
   },
   "source": [
    "# Generator Functions"
   ]
  },
  {
   "cell_type": "markdown",
   "metadata": {
    "slideshow": {
     "slide_type": "subslide"
    }
   },
   "source": [
    "Generators functions allow you to declare a function that behaves like an iterator\n",
    "\n",
    "A generator \"generates\" values"
   ]
  },
  {
   "cell_type": "markdown",
   "metadata": {
    "slideshow": {
     "slide_type": "subslide"
    }
   },
   "source": [
    "A generator function is defined like a normal function, but whenever it needs to generate a value, it does so with the **yield** keyword rather than return"
   ]
  },
  {
   "cell_type": "markdown",
   "metadata": {
    "slideshow": {
     "slide_type": "subslide"
    }
   },
   "source": [
    "If the body of a def contains yield, the function automatically becomes a generator function (even if it also contains a return statement). There's nothing else we need to do to create one.\n",
    "\n"
   ]
  },
  {
   "cell_type": "markdown",
   "metadata": {
    "slideshow": {
     "slide_type": "subslide"
    }
   },
   "source": [
    "Generator functions create generator iterators\n",
    "\n",
    "That's the last time you'll see the term generator iterator, though, since they're almost always referred to as \"generators\""
   ]
  },
  {
   "cell_type": "markdown",
   "metadata": {
    "slideshow": {
     "slide_type": "subslide"
    }
   },
   "source": [
    "Just remember that a generator is a special type of iterator\n",
    "\n",
    "To get the next value from a generator, we use the same built-in function as for iterators: next()"
   ]
  },
  {
   "cell_type": "markdown",
   "metadata": {
    "slideshow": {
     "slide_type": "subslide"
    }
   },
   "source": [
    "Whenever next() is called on a generator, the generator function runs its code until it reaches a yield\n",
    "\n",
    "It passes back a value to whomever called next()"
   ]
  },
  {
   "cell_type": "code",
   "execution_count": 34,
   "metadata": {
    "slideshow": {
     "slide_type": "subslide"
    }
   },
   "outputs": [],
   "source": [
    "def gen_squares_and_cubes(start,stop):\n",
    "    print('generation begins')\n",
    "    for num in range(start,stop):\n",
    "        print('generating square:')\n",
    "        yield num**2\n",
    "        print('generating cube:')\n",
    "        yield num**3\n",
    "    print('generation ends')\n",
    "\n",
    "my_squares_and_cubes = gen_squares_and_cubes(2,4)\n"
   ]
  },
  {
   "cell_type": "code",
   "execution_count": 35,
   "metadata": {
    "slideshow": {
     "slide_type": "subslide"
    }
   },
   "outputs": [
    {
     "ename": "TypeError",
     "evalue": "'generator' object is not subscriptable",
     "output_type": "error",
     "traceback": [
      "\u001b[1;31m---------------------------------------------------------------------------\u001b[0m",
      "\u001b[1;31mTypeError\u001b[0m                                 Traceback (most recent call last)",
      "\u001b[1;32m<ipython-input-35-7296cf40c1be>\u001b[0m in \u001b[0;36m<module>\u001b[1;34m\u001b[0m\n\u001b[1;32m----> 1\u001b[1;33m \u001b[0mmy_squares_and_cubes\u001b[0m\u001b[1;33m[\u001b[0m\u001b[1;36m0\u001b[0m\u001b[1;33m]\u001b[0m\u001b[1;33m\u001b[0m\u001b[1;33m\u001b[0m\u001b[0m\n\u001b[0m",
      "\u001b[1;31mTypeError\u001b[0m: 'generator' object is not subscriptable"
     ]
    }
   ],
   "source": [
    "my_squares_and_cubes[0]"
   ]
  },
  {
   "cell_type": "code",
   "execution_count": 36,
   "metadata": {
    "slideshow": {
     "slide_type": "subslide"
    }
   },
   "outputs": [
    {
     "data": {
      "text/plain": [
       "function"
      ]
     },
     "execution_count": 36,
     "metadata": {},
     "output_type": "execute_result"
    }
   ],
   "source": [
    "type(gen_squares_and_cubes)"
   ]
  },
  {
   "cell_type": "code",
   "execution_count": 38,
   "metadata": {
    "slideshow": {
     "slide_type": "subslide"
    }
   },
   "outputs": [
    {
     "data": {
      "text/plain": [
       "generator"
      ]
     },
     "execution_count": 38,
     "metadata": {},
     "output_type": "execute_result"
    }
   ],
   "source": [
    "type(my_squares_and_cubes)"
   ]
  },
  {
   "cell_type": "code",
   "execution_count": 39,
   "metadata": {
    "slideshow": {
     "slide_type": "subslide"
    }
   },
   "outputs": [
    {
     "data": {
      "text/plain": [
       "['__class__',\n",
       " '__del__',\n",
       " '__delattr__',\n",
       " '__dir__',\n",
       " '__doc__',\n",
       " '__eq__',\n",
       " '__format__',\n",
       " '__ge__',\n",
       " '__getattribute__',\n",
       " '__gt__',\n",
       " '__hash__',\n",
       " '__init__',\n",
       " '__init_subclass__',\n",
       " '__iter__',\n",
       " '__le__',\n",
       " '__lt__',\n",
       " '__name__',\n",
       " '__ne__',\n",
       " '__new__',\n",
       " '__next__',\n",
       " '__qualname__',\n",
       " '__reduce__',\n",
       " '__reduce_ex__',\n",
       " '__repr__',\n",
       " '__setattr__',\n",
       " '__sizeof__',\n",
       " '__str__',\n",
       " '__subclasshook__',\n",
       " 'close',\n",
       " 'gi_code',\n",
       " 'gi_frame',\n",
       " 'gi_running',\n",
       " 'gi_yieldfrom',\n",
       " 'send',\n",
       " 'throw']"
      ]
     },
     "execution_count": 39,
     "metadata": {},
     "output_type": "execute_result"
    }
   ],
   "source": [
    "dir(my_squares_and_cubes)"
   ]
  },
  {
   "cell_type": "code",
   "execution_count": 40,
   "metadata": {
    "slideshow": {
     "slide_type": "subslide"
    }
   },
   "outputs": [
    {
     "name": "stdout",
     "output_type": "stream",
     "text": [
      "generation begins\n",
      "generating square:\n"
     ]
    },
    {
     "data": {
      "text/plain": [
       "4"
      ]
     },
     "execution_count": 40,
     "metadata": {},
     "output_type": "execute_result"
    }
   ],
   "source": [
    "next(my_squares_and_cubes)"
   ]
  },
  {
   "cell_type": "code",
   "execution_count": 41,
   "metadata": {
    "slideshow": {
     "slide_type": "subslide"
    }
   },
   "outputs": [
    {
     "name": "stdout",
     "output_type": "stream",
     "text": [
      "generating cube:\n"
     ]
    },
    {
     "data": {
      "text/plain": [
       "8"
      ]
     },
     "execution_count": 41,
     "metadata": {},
     "output_type": "execute_result"
    }
   ],
   "source": [
    "next(my_squares_and_cubes)"
   ]
  },
  {
   "cell_type": "code",
   "execution_count": 42,
   "metadata": {
    "slideshow": {
     "slide_type": "subslide"
    }
   },
   "outputs": [
    {
     "name": "stdout",
     "output_type": "stream",
     "text": [
      "generating square:\n"
     ]
    },
    {
     "data": {
      "text/plain": [
       "9"
      ]
     },
     "execution_count": 42,
     "metadata": {},
     "output_type": "execute_result"
    }
   ],
   "source": [
    "next(my_squares_and_cubes)"
   ]
  },
  {
   "cell_type": "code",
   "execution_count": 43,
   "metadata": {
    "slideshow": {
     "slide_type": "subslide"
    }
   },
   "outputs": [
    {
     "name": "stdout",
     "output_type": "stream",
     "text": [
      "generating cube:\n"
     ]
    },
    {
     "data": {
      "text/plain": [
       "27"
      ]
     },
     "execution_count": 43,
     "metadata": {},
     "output_type": "execute_result"
    }
   ],
   "source": [
    "next(my_squares_and_cubes)"
   ]
  },
  {
   "cell_type": "code",
   "execution_count": 44,
   "metadata": {
    "slideshow": {
     "slide_type": "subslide"
    }
   },
   "outputs": [
    {
     "name": "stdout",
     "output_type": "stream",
     "text": [
      "generation ends\n"
     ]
    },
    {
     "ename": "StopIteration",
     "evalue": "",
     "output_type": "error",
     "traceback": [
      "\u001b[1;31m---------------------------------------------------------------------------\u001b[0m",
      "\u001b[1;31mStopIteration\u001b[0m                             Traceback (most recent call last)",
      "\u001b[1;32m<ipython-input-44-538366013db6>\u001b[0m in \u001b[0;36m<module>\u001b[1;34m\u001b[0m\n\u001b[1;32m----> 1\u001b[1;33m \u001b[0mnext\u001b[0m\u001b[1;33m(\u001b[0m\u001b[0mmy_squares_and_cubes\u001b[0m\u001b[1;33m)\u001b[0m\u001b[1;33m\u001b[0m\u001b[1;33m\u001b[0m\u001b[0m\n\u001b[0m",
      "\u001b[1;31mStopIteration\u001b[0m: "
     ]
    }
   ],
   "source": [
    "next(my_squares_and_cubes)"
   ]
  },
  {
   "cell_type": "code",
   "execution_count": 45,
   "metadata": {
    "slideshow": {
     "slide_type": "subslide"
    }
   },
   "outputs": [
    {
     "ename": "StopIteration",
     "evalue": "",
     "output_type": "error",
     "traceback": [
      "\u001b[1;31m---------------------------------------------------------------------------\u001b[0m",
      "\u001b[1;31mStopIteration\u001b[0m                             Traceback (most recent call last)",
      "\u001b[1;32m<ipython-input-45-538366013db6>\u001b[0m in \u001b[0;36m<module>\u001b[1;34m\u001b[0m\n\u001b[1;32m----> 1\u001b[1;33m \u001b[0mnext\u001b[0m\u001b[1;33m(\u001b[0m\u001b[0mmy_squares_and_cubes\u001b[0m\u001b[1;33m)\u001b[0m\u001b[1;33m\u001b[0m\u001b[1;33m\u001b[0m\u001b[0m\n\u001b[0m",
      "\u001b[1;31mStopIteration\u001b[0m: "
     ]
    }
   ],
   "source": [
    "next(my_squares_and_cubes)"
   ]
  },
  {
   "cell_type": "code",
   "execution_count": 46,
   "metadata": {
    "slideshow": {
     "slide_type": "subslide"
    }
   },
   "outputs": [],
   "source": [
    "def weekdays():\n",
    "    days = ['Monday', 'Tuesday', 'Wednesday', 'Thursday', 'Friday', 'Saturday', 'Sunday']\n",
    "    while True:\n",
    "        for day in days:\n",
    "            yield day\n",
    "\n",
    "w = weekdays()"
   ]
  },
  {
   "cell_type": "code",
   "execution_count": null,
   "metadata": {
    "slideshow": {
     "slide_type": "subslide"
    }
   },
   "outputs": [],
   "source": [
    "# infinitelist = list(w)"
   ]
  },
  {
   "cell_type": "code",
   "execution_count": 47,
   "metadata": {
    "slideshow": {
     "slide_type": "subslide"
    }
   },
   "outputs": [],
   "source": [
    "month_lengths =  [('January', 31),\n",
    "                  ('February', 28),   # not a leap year\n",
    "                  ('March', 31),\n",
    "                  ('April', 30),\n",
    "                  ('May', 31),\n",
    "                  ('June', 30),\n",
    "                  ('July', 31),\n",
    "                  ('August', 31),\n",
    "                  ('September', 30),\n",
    "                  ('October', 31),\n",
    "                  ('November', 30),\n",
    "                  ('December', 31)]\n",
    "    "
   ]
  },
  {
   "cell_type": "code",
   "execution_count": 48,
   "metadata": {
    "slideshow": {
     "slide_type": "subslide"
    }
   },
   "outputs": [],
   "source": [
    "# 2018 starts with Monday\n",
    "def days_of_2018():\n",
    "    for (month, length) in month_lengths:\n",
    "        for day in range(1, length+1):\n",
    "            yield day, month"
   ]
  },
  {
   "cell_type": "code",
   "execution_count": 49,
   "metadata": {
    "slideshow": {
     "slide_type": "subslide"
    }
   },
   "outputs": [
    {
     "name": "stdout",
     "output_type": "stream",
     "text": [
      "Monday 1 January\n",
      "Thursday 1 February\n",
      "Thursday 1 March\n",
      "Sunday 1 April\n",
      "Tuesday 1 May\n",
      "Friday 1 June\n",
      "Sunday 1 July\n",
      "Wednesday 1 August\n",
      "Saturday 1 September\n",
      "Monday 1 October\n",
      "Thursday 1 November\n",
      "Saturday 1 December\n"
     ]
    }
   ],
   "source": [
    "# Print the first day of each month:\n",
    "for (weekday, (day, month)) in zip(weekdays(), days_of_2018()):\n",
    "    if day == 1:\n",
    "        print(weekday, day, month)"
   ]
  },
  {
   "cell_type": "markdown",
   "metadata": {
    "slideshow": {
     "slide_type": "subslide"
    }
   },
   "source": [
    "One benefit of iterators (and generators) is that they can be used \"lazily\", with memory and speed advantages over creating big lists in memory"
   ]
  },
  {
   "cell_type": "markdown",
   "metadata": {
    "slideshow": {
     "slide_type": "subslide"
    }
   },
   "source": [
    "Example: a common generator function is **os.walk** in the standard library"
   ]
  },
  {
   "cell_type": "code",
   "execution_count": 50,
   "metadata": {
    "slideshow": {
     "slide_type": "subslide"
    }
   },
   "outputs": [
    {
     "name": "stdout",
     "output_type": "stream",
     "text": [
      "C:/Android\\lib\\monitor-x86\\features\\org.eclipse.e4.rcp_1.1.2.v20130130-191718-91FUvGP7GIX2Kgz-z-gvjMvXV1NS\n",
      "C:/Android\\lib\\monitor-x86\\features\\org.eclipse.equinox.p2.core.feature_1.1.0.v20121211-153934-8297FndFWmE7h7Bpz-vcqkxyKz0\n",
      "C:/Android\\lib\\monitor-x86\\features\\org.eclipse.equinox.p2.extras.feature_1.1.0.v20121211-153934-7A6FEcDiVOTg2RYDuZuFz-L2z00w\n",
      "C:/Android\\lib\\monitor-x86\\features\\org.eclipse.equinox.p2.rcp.feature_1.1.0.v20121211-153934-785EoBqNKNZz-DW7sUc8hFwz00wd\n",
      "C:/Android\\lib\\monitor-x86\\features\\org.eclipse.equinox.p2.user.ui_2.2.0.v20121212-204731-62DG9JXTlTj-UXcQ2y3NLn6U4Z3H\n",
      "C:/Android\\lib\\monitor-x86\\features\\org.eclipse.help_1.4.1.v20120912-144938-8R7xFOXFLWUl7PpNBh_HIGkb4\n",
      "C:/Android\\lib\\monitor-x86\\features\\org.eclipse.platform_4.2.1.v20130118-173121-9MF7GHYdG0B5kx4E_SkfZV-1mNjVATf67ZAb7\n",
      "C:/Android\\lib\\monitor-x86\\features\\org.eclipse.rcp_4.2.2.v20130129-152330-7IARAABrMQkGSvMgQnUlz-DQz00h\n",
      "C:/Android\\lib\\monitor-x86\\plugins\\org.eclipse.ui.intro.universal_3.2.600.v20120912-155524\\themes\\circles\\graphics\\contentpage\n",
      "C:/Android\\lib\\monitor-x86\\plugins\\org.eclipse.ui.intro.universal_3.2.600.v20120912-155524\\themes\\circles\\graphics\\rootpage\n",
      "C:/Android\\lib\\monitor-x86\\plugins\\org.eclipse.ui.intro.universal_3.2.600.v20120912-155524\\themes\\purpleMesh\\graphics\\contentpage\n",
      "C:/Android\\lib\\monitor-x86\\plugins\\org.eclipse.ui.intro.universal_3.2.600.v20120912-155524\\themes\\purpleMesh\\graphics\\root\n",
      "C:/Android\\lib\\monitor-x86\\plugins\\org.eclipse.ui.intro.universal_3.2.600.v20120912-155524\\themes\\slate\\graphics\\contentpage\n",
      "C:/Android\\lib\\monitor-x86\\plugins\\org.eclipse.ui.intro.universal_3.2.600.v20120912-155524\\themes\\slate\\graphics\\rootpage\n",
      "C:/Android\\lib\\monitor-x86_64\\features\\org.eclipse.e4.rcp_1.1.2.v20130130-191718-91FUvGP7GIX2Kgz-z-gvjMvXV1NS\n",
      "C:/Android\\lib\\monitor-x86_64\\features\\org.eclipse.equinox.p2.core.feature_1.1.0.v20121211-153934-8297FndFWmE7h7Bpz-vcqkxyKz0\n",
      "C:/Android\\lib\\monitor-x86_64\\features\\org.eclipse.equinox.p2.extras.feature_1.1.0.v20121211-153934-7A6FEcDiVOTg2RYDuZuFz-L2z00w\n",
      "C:/Android\\lib\\monitor-x86_64\\features\\org.eclipse.equinox.p2.rcp.feature_1.1.0.v20121211-153934-785EoBqNKNZz-DW7sUc8hFwz00wd\n",
      "C:/Android\\lib\\monitor-x86_64\\features\\org.eclipse.equinox.p2.user.ui_2.2.0.v20121212-204731-62DG9JXTlTj-UXcQ2y3NLn6U4Z3H\n",
      "C:/Android\\lib\\monitor-x86_64\\features\\org.eclipse.help_1.4.1.v20120912-144938-8R7xFOXFLWUl7PpNBh_HIGkb4\n",
      "C:/Android\\lib\\monitor-x86_64\\features\\org.eclipse.platform_4.2.1.v20130118-173121-9MF7GHYdG0B5kx4E_SkfZV-1mNjVATf67ZAb7\n",
      "C:/Android\\lib\\monitor-x86_64\\features\\org.eclipse.rcp_4.2.2.v20130129-152330-7IARAABrMQkGSvMgQnUlz-DQz00h\n",
      "C:/Android\\lib\\monitor-x86_64\\plugins\\org.eclipse.ui.intro.universal_3.2.600.v20120912-155524\\themes\\circles\\graphics\\contentpage\n",
      "C:/Android\\lib\\monitor-x86_64\\plugins\\org.eclipse.ui.intro.universal_3.2.600.v20120912-155524\\themes\\circles\\graphics\\rootpage\n",
      "C:/Android\\lib\\monitor-x86_64\\plugins\\org.eclipse.ui.intro.universal_3.2.600.v20120912-155524\\themes\\purpleMesh\\graphics\\contentpage\n",
      "C:/Android\\lib\\monitor-x86_64\\plugins\\org.eclipse.ui.intro.universal_3.2.600.v20120912-155524\\themes\\purpleMesh\\graphics\\root\n",
      "C:/Android\\lib\\monitor-x86_64\\plugins\\org.eclipse.ui.intro.universal_3.2.600.v20120912-155524\\themes\\slate\\graphics\\contentpage\n",
      "C:/Android\\lib\\monitor-x86_64\\plugins\\org.eclipse.ui.intro.universal_3.2.600.v20120912-155524\\themes\\slate\\graphics\\rootpage\n",
      "C:/Program Files\\CodeBlocks\\share\\CodeBlocks\\templates\\wizard\\opencv\\files\n",
      "C:/Program Files\\GIMP 2\\lib\\python2.7\\test\\imghdrdata\n",
      "C:/Program Files\\GIMP 2\\share\\gimp\\2.0\\scripts\\images\n",
      "C:/Program Files\\ImageMagick-7.0.8-Q16\\images\n",
      "C:/Program Files\\ImageMagick-7.0.8-Q16\\www\\Magick++\n",
      "C:/Program Files\\JASP 0.8.3.0\\R\\library\\jpeg\\img\n",
      "C:/Program Files\\Microsoft Office\\Office16\\Groove\\ToolBMPs\n",
      "C:/Program Files\\Microsoft Office\\Office16\\Groove\\ToolData\\groove.net\\CommonData\n",
      "C:/Program Files\\Microsoft Office\\Office16\\Groove\\ToolData\\groove.net\\Computers\n",
      "C:/Program Files\\MiKTeX 2.9\\doc\\xelatex\\bidi\n",
      "C:/Program Files\\Mu\\pkgs\\IPython\\core\\tests\n",
      "C:/Program Files\\Mu\\pkgs\\matplotlib\\mpl-data\\sample_data\n",
      "C:/Program Files\\Mu\\pkgs\\pygame\\examples\\data\n",
      "C:/Program Files\\OpenShot Video Editor\\blender\\earth\n",
      "C:/Program Files\\OpenShot Video Editor\\transitions\\extra\n",
      "C:/Program Files\\SafeNet\\Authentication\\SAC\\LogoImages\n",
      "C:/Program Files\\Skylum\\Photolemur 3\\SampleImages\n",
      "C:/Program Files\\Windows Media Player\\Media Renderer\n",
      "C:/Program Files\\Windows Media Player\\Network Sharing\n",
      "C:/Program Files\\WindowsApps\\DolbyLaboratories.DolbyAccess_2.4.244.0_x64__rz1tebttyb220\\Assets\n",
      "C:/Program Files\\WindowsApps\\DolbyLaboratories.DolbyAccess_3.8.401.0_x64__rz1tebttyb220\\Assets\\Backgrounds\n",
      "C:/Program Files\\WindowsApps\\DolbyLaboratories.DolbyAccess_3.8.401.0_x64__rz1tebttyb220\\Assets\\OfflineContent\\Images\n",
      "C:/Program Files\\WindowsApps\\king.com.CandyCrushSaga_1.1380.6.0_x86__kgqvnymyfvs32\n",
      "C:/Program Files\\WindowsApps\\king.com.CandyCrushSaga_1.1380.6.0_x86__kgqvnymyfvs32\\res_output\\buddy_challenge\\textures\n",
      "C:/Program Files\\WindowsApps\\king.com.CandyCrushSaga_1.1380.6.0_x86__kgqvnymyfvs32\\res_output\\champions_league\\textures\n",
      "C:/Program Files\\WindowsApps\\king.com.CandyCrushSaga_1.1380.6.0_x86__kgqvnymyfvs32\\res_output\\loading_screen\n",
      "C:/Program Files\\WindowsApps\\king.com.CandyCrushSaga_1.1380.6.0_x86__kgqvnymyfvs32\\res_output\\monocle\\textures\\main-page\n",
      "C:/Program Files\\WindowsApps\\king.com.CandyCrushSaga_1.1380.6.0_x86__kgqvnymyfvs32\\res_output\\seniority\\textures\n",
      "C:/Program Files\\WindowsApps\\king.com.CandyCrushSaga_1.1380.6.0_x86__kgqvnymyfvs32\\res_output\\seniority\\textures\\frames\n",
      "C:/Program Files\\WindowsApps\\king.com.CandyCrushSaga_1.1380.6.0_x86__kgqvnymyfvs32\\res_output\\tiles\n",
      "C:/Program Files\\WindowsApps\\king.com.CandyCrushSaga_1.1380.6.0_x86__kgqvnymyfvs32\\res_output\\weekly_race\\textures\n",
      "C:/Program Files\\WindowsApps\\king.com.CandyCrushSaga_1.2010.3.0_neutral_split.scale-100_kgqvnymyfvs32\n",
      "C:/Program Files\\WindowsApps\\king.com.CandyCrushSaga_1.2010.3.0_neutral_split.scale-100_kgqvnymyfvs32\\res_output\\tiles\n",
      "C:/Program Files\\WindowsApps\\king.com.CandyCrushSaga_1.2010.3.0_x86__kgqvnymyfvs32\n",
      "C:/Program Files\\WindowsApps\\king.com.CandyCrushSaga_1.2010.3.0_x86__kgqvnymyfvs32\\res_output\\bg_screens\n",
      "C:/Program Files\\WindowsApps\\king.com.CandyCrushSaga_1.2010.3.0_x86__kgqvnymyfvs32\\res_output\\friends_challenge\\textures\n",
      "C:/Program Files\\WindowsApps\\king.com.CandyCrushSaga_1.2010.3.0_x86__kgqvnymyfvs32\\res_output\\season_pass\\textures\\assets\n",
      "C:/Program Files\\WindowsApps\\king.com.CandyCrushSaga_1.2010.3.0_x86__kgqvnymyfvs32\\res_output\\tiles\n",
      "C:/Program Files\\WindowsApps\\king.com.CandyCrushSaga_1.2010.3.0_x86__kgqvnymyfvs32\\res_output\\treat_machine\\textures\n",
      "C:/Program Files\\WindowsApps\\king.com.CandyCrushSodaSaga_1.192.300.0_x86__kgqvnymyfvs32\n",
      "C:/Program Files\\WindowsApps\\king.com.CandyCrushSodaSaga_1.192.300.0_x86__kgqvnymyfvs32\\res_output\\arena\\fonts\\tex\n",
      "C:/Program Files\\WindowsApps\\king.com.CandyCrushSodaSaga_1.192.300.0_x86__kgqvnymyfvs32\\res_output\\bg_screens\n",
      "C:/Program Files\\WindowsApps\\king.com.CandyCrushSodaSaga_1.192.300.0_x86__kgqvnymyfvs32\\res_output\\candytown_bundled\\environment\n",
      "C:/Program Files\\WindowsApps\\king.com.CandyCrushSodaSaga_1.192.300.0_x86__kgqvnymyfvs32\\res_output\\candytown_bundled\\particles\n",
      "C:/Program Files\\WindowsApps\\king.com.CandyCrushSodaSaga_1.192.300.0_x86__kgqvnymyfvs32\\res_output\\diorama_infinite_scroller\\particles\\tex\n",
      "C:/Program Files\\WindowsApps\\king.com.CandyCrushSodaSaga_1.192.300.0_x86__kgqvnymyfvs32\\res_output\\diorama_infinite_scroller\\textures\n",
      "C:/Program Files\\WindowsApps\\king.com.CandyCrushSodaSaga_1.192.300.0_x86__kgqvnymyfvs32\\res_output\\helpcenter\\tex\n",
      "C:/Program Files\\WindowsApps\\king.com.CandyCrushSodaSaga_1.192.300.0_x86__kgqvnymyfvs32\\res_output\\rainbow_streak\\tex\n",
      "C:/Program Files\\WindowsApps\\king.com.CandyCrushSodaSaga_1.192.300.0_x86__kgqvnymyfvs32\\res_output\\servicelayer-views\\tex\n",
      "C:/Program Files\\WindowsApps\\king.com.CandyCrushSodaSaga_1.192.300.0_x86__kgqvnymyfvs32\\res_output\\servicelayer-views\\tex\\menu\n",
      "C:/Program Files\\WindowsApps\\king.com.CandyCrushSodaSaga_1.192.300.0_x86__kgqvnymyfvs32\\res_output\\shared\\bootstrap\\fonts\\tex\n",
      "C:/Program Files\\WindowsApps\\king.com.CandyCrushSodaSaga_1.192.300.0_x86__kgqvnymyfvs32\\res_output\\shared\\bootstrap\\particles\\tex\n",
      "C:/Program Files\\WindowsApps\\king.com.CandyCrushSodaSaga_1.192.300.0_x86__kgqvnymyfvs32\\res_output\\shared\\diorama\\common\\tex\n",
      "C:/Program Files\\WindowsApps\\king.com.CandyCrushSodaSaga_1.192.300.0_x86__kgqvnymyfvs32\\res_output\\shared\\diorama\\common\\tex\\gui_elements\n",
      "C:/Program Files\\WindowsApps\\king.com.CandyCrushSodaSaga_1.192.300.0_x86__kgqvnymyfvs32\\res_output\\shared\\diorama\\common\\tex\\gui_elements\\kotc\n",
      "C:/Program Files\\WindowsApps\\king.com.CandyCrushSodaSaga_1.192.300.0_x86__kgqvnymyfvs32\\res_output\\shared\\diorama\\common\\tex\\gui_elements\\repeat\n",
      "C:/Program Files\\WindowsApps\\king.com.CandyCrushSodaSaga_1.192.300.0_x86__kgqvnymyfvs32\\res_output\\shared\\diorama\\common\\tex\\kimmy\n",
      "C:/Program Files\\WindowsApps\\king.com.CandyCrushSodaSaga_1.192.300.0_x86__kgqvnymyfvs32\\res_output\\shared\\features\\login_calendar\\tex\n",
      "C:/Program Files\\WindowsApps\\king.com.CandyCrushSodaSaga_1.192.300.0_x86__kgqvnymyfvs32\\res_output\\shared\\features\\piggy_bank\\tex\n",
      "C:/Program Files\\WindowsApps\\king.com.CandyCrushSodaSaga_1.192.300.0_x86__kgqvnymyfvs32\\res_output\\shared\\game\\common\\tex\\boosters\n",
      "C:/Program Files\\WindowsApps\\king.com.CandyCrushSodaSaga_1.192.300.0_x86__kgqvnymyfvs32\\res_output\\shared\\game\\common\\tex\\buffbuddies\n",
      "C:/Program Files\\WindowsApps\\king.com.CandyCrushSodaSaga_1.192.300.0_x86__kgqvnymyfvs32\\res_output\\shared\\game\\common\\tex\\candy\n",
      "C:/Program Files\\WindowsApps\\king.com.CandyCrushSodaSaga_1.192.300.0_x86__kgqvnymyfvs32\\res_output\\shared\\game\\common\\tex\\chain_blocker\n",
      "C:/Program Files\\WindowsApps\\king.com.CandyCrushSodaSaga_1.192.300.0_x86__kgqvnymyfvs32\\res_output\\shared\\game\\common\\tex\\chocolate\n",
      "C:/Program Files\\WindowsApps\\king.com.CandyCrushSodaSaga_1.192.300.0_x86__kgqvnymyfvs32\\res_output\\shared\\game\\common\\tex\\chocolate_new\n",
      "C:/Program Files\\WindowsApps\\king.com."
     ]
    },
    {
     "data": {
      "text/html": [
       "<b>limit_output extension: Maximum message size of 10000 exceeded with 11031 characters</b>"
      ]
     },
     "metadata": {},
     "output_type": "display_data"
    }
   ],
   "source": [
    "# Find all folders containing jpg images, recursively:\n",
    "import os\n",
    "for (basedir, subdirs, files) in os.walk('C:/'):\n",
    "    if any((f.endswith('.jpg')) for f in files):\n",
    "        print(basedir)"
   ]
  },
  {
   "cell_type": "markdown",
   "metadata": {
    "slideshow": {
     "slide_type": "subslide"
    }
   },
   "source": [
    "Traversing all directories may take hours on a huge filesystem. But because os.walk returns a generator, it produces results lazily: there is no need to traverse all subfolders before the first result is returned."
   ]
  },
  {
   "cell_type": "markdown",
   "metadata": {
    "slideshow": {
     "slide_type": "subslide"
    }
   },
   "source": [
    "*Note*: this is similar to streams in Unix. Quiz: how long does it take to give you the first page of results from:\n",
    "```\n",
    "find /usr | less\n",
    "```"
   ]
  },
  {
   "cell_type": "markdown",
   "metadata": {
    "slideshow": {
     "slide_type": "subslide"
    }
   },
   "source": [
    "## Example: simulations"
   ]
  },
  {
   "cell_type": "markdown",
   "metadata": {
    "slideshow": {
     "slide_type": "subslide"
    }
   },
   "source": [
    "Here is a Monte Carlo estimator for the value of $\\pi$ (3.14159...) written as a generator function:"
   ]
  },
  {
   "cell_type": "code",
   "execution_count": 51,
   "metadata": {
    "slideshow": {
     "slide_type": "subslide"
    }
   },
   "outputs": [],
   "source": [
    "import random\n",
    "\n",
    "def estimate_pi_gen():\n",
    "    k = 0; n = 0\n",
    "    while True:\n",
    "        x = random.random()\n",
    "        y = random.random()\n",
    "        if x**2 + y**2 < 1:\n",
    "            k += 1\n",
    "        n += 1\n",
    "        yield k / n * 4"
   ]
  },
  {
   "cell_type": "code",
   "execution_count": 52,
   "metadata": {
    "slideshow": {
     "slide_type": "subslide"
    }
   },
   "outputs": [],
   "source": [
    "pi = estimate_pi_gen()"
   ]
  },
  {
   "cell_type": "code",
   "execution_count": 53,
   "metadata": {
    "slideshow": {
     "slide_type": "subslide"
    }
   },
   "outputs": [
    {
     "data": {
      "text/plain": [
       "generator"
      ]
     },
     "execution_count": 53,
     "metadata": {},
     "output_type": "execute_result"
    }
   ],
   "source": [
    "type(pi)"
   ]
  },
  {
   "cell_type": "code",
   "execution_count": 54,
   "metadata": {
    "slideshow": {
     "slide_type": "subslide"
    }
   },
   "outputs": [
    {
     "data": {
      "text/plain": [
       "4.0"
      ]
     },
     "execution_count": 54,
     "metadata": {},
     "output_type": "execute_result"
    }
   ],
   "source": [
    "next(pi)"
   ]
  },
  {
   "cell_type": "code",
   "execution_count": 55,
   "metadata": {
    "slideshow": {
     "slide_type": "subslide"
    }
   },
   "outputs": [],
   "source": [
    "# Generate 100 consecutive estimates from the 10000th:\n",
    "import itertools\n",
    "estimates = list(itertools.islice(pi, 10000, 10100))"
   ]
  },
  {
   "cell_type": "code",
   "execution_count": 56,
   "metadata": {
    "slideshow": {
     "slide_type": "subslide"
    }
   },
   "outputs": [
    {
     "name": "stdout",
     "output_type": "stream",
     "text": [
      "Populating the interactive namespace from numpy and matplotlib\n"
     ]
    },
    {
     "name": "stderr",
     "output_type": "stream",
     "text": [
      "C:\\ProgramData\\Anaconda3\\lib\\site-packages\\IPython\\core\\magics\\pylab.py:160: UserWarning: pylab import has clobbered these variables: ['pi', 'random', 'f']\n",
      "`%matplotlib` prevents importing * from pylab and numpy\n",
      "  \"\\n`%matplotlib` prevents importing * from pylab and numpy\"\n"
     ]
    }
   ],
   "source": [
    "# Plot them:\n",
    "%pylab inline"
   ]
  },
  {
   "cell_type": "code",
   "execution_count": 57,
   "metadata": {
    "slideshow": {
     "slide_type": "subslide"
    }
   },
   "outputs": [
    {
     "data": {
      "image/png": "[encoded data removed]",
      "text/plain": [
       "<Figure size 432x288 with 1 Axes>"
      ]
     },
     "metadata": {
      "needs_background": "light"
     },
     "output_type": "display_data"
    }
   ],
   "source": [
    "plt.plot(estimates);"
   ]
  },
  {
   "cell_type": "code",
   "execution_count": 59,
   "metadata": {
    "slideshow": {
     "slide_type": "subslide"
    }
   },
   "outputs": [
    {
     "name": "stdout",
     "output_type": "stream",
     "text": [
      "1001 0\n",
      "1002 1\n",
      "1003 1\n",
      "1004 2\n",
      "1005 3\n",
      "1006 5\n",
      "1007 8\n",
      "1008 13\n",
      "1009 21\n",
      "1010 34\n",
      "1011 55\n",
      "1012 89\n"
     ]
    }
   ],
   "source": [
    "def fib(max):\n",
    "    a, b = 0, 1\n",
    "    while a < max:\n",
    "        yield a\n",
    "        a, b = b, a + b\n",
    "for i,r in enumerate(fib(100),start=1001):\n",
    "    print(i,r)\n",
    "        \n",
    "\n",
    "    "
   ]
  },
  {
   "cell_type": "code",
   "execution_count": 61,
   "metadata": {
    "slideshow": {
     "slide_type": "slide"
    }
   },
   "outputs": [],
   "source": [
    "def float_range(startval, endval, stepsize = 1.0):\n",
    "    \"\"\" similar to range with 3 parameters\n",
    "        but can work with floats\"\"\"\n",
    "    value = startval\n",
    "    factor = -1 if stepsize < 0 else 1"
   ]
  },
  {
   "cell_type": "code",
   "execution_count": null,
   "metadata": {
    "slideshow": {
     "slide_type": "subslide"
    }
   },
   "outputs": [],
   "source": [
    "# should print 0.3, 1.1, 1.9000000000000001, 2.7, 3.5, 4.3, 5.1,\n",
    "for i in float_range(0.3, 5.6, 0.8):\n",
    "    print(i, end=\", \")\n"
   ]
  },
  {
   "cell_type": "code",
   "execution_count": 62,
   "metadata": {
    "slideshow": {
     "slide_type": "slide"
    }
   },
   "outputs": [],
   "source": [
    "def float_range(startval, endval, stepsize = 1):\n",
    "    \"\"\" similar to range with 3 parameters\n",
    "        but can work with floats\"\"\"\n",
    "    value = startval\n",
    "    factor = -1 if stepsize < 0 else 1\n",
    "    while (value - endval) * (factor) < 0:\n",
    "        yield value\n",
    "        value += stepsize"
   ]
  },
  {
   "cell_type": "code",
   "execution_count": 63,
   "metadata": {
    "slideshow": {
     "slide_type": "subslide"
    }
   },
   "outputs": [
    {
     "name": "stdout",
     "output_type": "stream",
     "text": [
      "range(5) = range(0, 5)\n",
      "0\n",
      "1\n",
      "2\n",
      "3\n",
      "4\n"
     ]
    }
   ],
   "source": [
    "#help(range)\n",
    "print('range(5) = %s' % range(5))\n",
    "for x in range(5):\n",
    "    print(x)"
   ]
  },
  {
   "cell_type": "markdown",
   "metadata": {
    "slideshow": {
     "slide_type": "subslide"
    }
   },
   "source": [
    "Counters should be the last choice for browsing indexed objects\n",
    "\n",
    "Use it only if you really need numbers themselves and not the elements"
   ]
  },
  {
   "cell_type": "markdown",
   "metadata": {
    "slideshow": {
     "slide_type": "subslide"
    }
   },
   "source": [
    "If numbering is really needed, we typically need values along with the given index. In this case, use `enumerate`"
   ]
  },
  {
   "cell_type": "code",
   "execution_count": 64,
   "metadata": {
    "slideshow": {
     "slide_type": "subslide"
    }
   },
   "outputs": [
    {
     "name": "stdout",
     "output_type": "stream",
     "text": [
      "0. egg\n",
      "1. bacon\n",
      "2. sausage\n",
      "3. spam\n"
     ]
    }
   ],
   "source": [
    "for i, x in enumerate(('egg', 'bacon', 'sausage', 'spam')):\n",
    "    print('{}. {}'.format(i, x))"
   ]
  },
  {
   "cell_type": "markdown",
   "metadata": {
    "slideshow": {
     "slide_type": "subslide"
    }
   },
   "source": [
    "# Useful functions and methods\n",
    "\n",
    "## `zip`\n",
    "`zip` is used to iterate over several iterables simultaneously. It pairs elements of n objects into n-tuples so that we don't need indexing.\n"
   ]
  },
  {
   "cell_type": "code",
   "execution_count": 65,
   "metadata": {
    "slideshow": {
     "slide_type": "subslide"
    }
   },
   "outputs": [
    {
     "name": "stdout",
     "output_type": "stream",
     "text": [
      "2^1 = 2\n",
      "2^2 = 4\n",
      "2^3 = 8\n",
      "2^4 = 16\n",
      "2^5 = 32\n",
      "2^6 = 64\n",
      "2^7 = 128\n",
      "2^8 = 256\n"
     ]
    }
   ],
   "source": [
    "# let's create some generators\n",
    "l1 = range(1,9)\n",
    "l2 = (2 ** n for n in l1)\n",
    "# and interate over them simultaneously\n",
    "for x, y in zip(l1, l2):\n",
    "    print(\"2^%i = %i\" % (x, y))"
   ]
  },
  {
   "cell_type": "markdown",
   "metadata": {
    "slideshow": {
     "slide_type": "subslide"
    }
   },
   "source": [
    "## `enumerate`\n",
    "In case you need to know the numeric index of the element, it is better to use `enumerate`, which gradually returns (index, element) tuples."
   ]
  },
  {
   "cell_type": "code",
   "execution_count": null,
   "metadata": {
    "slideshow": {
     "slide_type": "subslide"
    }
   },
   "outputs": [],
   "source": [
    "for i, n in enumerate(range(1,10)):\n",
    "    print(\"index = %i, value = %i\" % (i, n))"
   ]
  },
  {
   "cell_type": "markdown",
   "metadata": {
    "slideshow": {
     "slide_type": "subslide"
    }
   },
   "source": [
    "## `dict.items`\n",
    "Some classes implement helper methods for iteration. Eg. `dict.items` returns (key, value) pairs."
   ]
  },
  {
   "cell_type": "code",
   "execution_count": 66,
   "metadata": {
    "slideshow": {
     "slide_type": "subslide"
    }
   },
   "outputs": [
    {
     "name": "stdout",
     "output_type": "stream",
     "text": [
      "40 -> (\n",
      "41 -> )\n",
      "42 -> *\n",
      "43 -> +\n",
      "44 -> ,\n",
      "45 -> -\n",
      "46 -> .\n",
      "47 -> /\n",
      "48 -> 0\n",
      "49 -> 1\n"
     ]
    }
   ],
   "source": [
    "# part of the ascii table\n",
    "d = {i: chr(i) for i in range(40, 50)}\n",
    "for k, v in d.items():\n",
    "    print(\"{0} -> {1}\".format(k, v))"
   ]
  },
  {
   "cell_type": "markdown",
   "metadata": {
    "slideshow": {
     "slide_type": "subslide"
    }
   },
   "source": [
    "Why does the default dictionary iterator in Python iterate through dictionary keys instead of (key, value) tuples?"
   ]
  },
  {
   "cell_type": "markdown",
   "metadata": {
    "slideshow": {
     "slide_type": "subslide"
    }
   },
   "source": [
    "https://www.quora.com/Why-does-the-default-dictionary-iterator-in-Python-iterate-through-dictionary-keys-instead-of-key-value-tuples"
   ]
  },
  {
   "cell_type": "markdown",
   "metadata": {
    "slideshow": {
     "slide_type": "subslide"
    }
   },
   "source": [
    "I (Guido) find the correspondence between \"for x in dict\" and \"if x in dict\" too compelling to break"
   ]
  },
  {
   "cell_type": "markdown",
   "metadata": {
    "slideshow": {
     "slide_type": "subslide"
    }
   },
   "source": [
    "## `itertools` module\n",
    "This module contains many interesting and useful features for creating iterators, often inpired by functional languages."
   ]
  },
  {
   "cell_type": "code",
   "execution_count": 67,
   "metadata": {
    "slideshow": {
     "slide_type": "subslide"
    }
   },
   "outputs": [
    {
     "data": {
      "text/plain": [
       "['accumulate',\n",
       " 'chain',\n",
       " 'combinations',\n",
       " 'combinations_with_replacement',\n",
       " 'compress',\n",
       " 'count',\n",
       " 'cycle',\n",
       " 'dropwhile',\n",
       " 'filterfalse',\n",
       " 'groupby',\n",
       " 'islice',\n",
       " 'permutations',\n",
       " 'product',\n",
       " 'repeat',\n",
       " 'starmap',\n",
       " 'takewhile',\n",
       " 'tee',\n",
       " 'zip_longest']"
      ]
     },
     "execution_count": 67,
     "metadata": {},
     "output_type": "execute_result"
    }
   ],
   "source": [
    "# list itertools functions\n",
    "import itertools\n",
    "sorted([f for f in dir(itertools) if not f.startswith(\"_\")])"
   ]
  },
  {
   "cell_type": "markdown",
   "metadata": {
    "slideshow": {
     "slide_type": "subslide"
    }
   },
   "source": [
    "## Cartesian products (itertools.product)"
   ]
  },
  {
   "cell_type": "code",
   "execution_count": 68,
   "metadata": {
    "slideshow": {
     "slide_type": "subslide"
    }
   },
   "outputs": [
    {
     "name": "stdout",
     "output_type": "stream",
     "text": [
      "(1, 4)\n",
      "(1, 5)\n",
      "(2, 4)\n",
      "(2, 5)\n",
      "(3, 4)\n",
      "(3, 5)\n"
     ]
    }
   ],
   "source": [
    "import itertools\n",
    "for p in itertools.product([1, 2, 3], [4, 5]):\n",
    "    print(p)"
   ]
  },
  {
   "cell_type": "code",
   "execution_count": 69,
   "metadata": {
    "slideshow": {
     "slide_type": "subslide"
    }
   },
   "outputs": [
    {
     "name": "stdout",
     "output_type": "stream",
     "text": [
      "0000\n",
      "0001\n",
      "0010\n",
      "0011\n",
      "0100\n",
      "0101\n",
      "0110\n",
      "0111\n",
      "1000\n",
      "1001\n",
      "1010\n",
      "1011\n",
      "1100\n",
      "1101\n",
      "1110\n",
      "1111\n"
     ]
    }
   ],
   "source": [
    "for p in itertools.product([0, 1], repeat=4):\n",
    "    print(''.join(str(x) for x in p))"
   ]
  },
  {
   "cell_type": "markdown",
   "metadata": {
    "slideshow": {
     "slide_type": "subslide"
    }
   },
   "source": [
    "## Combinations and combinations with replacement (itertools.combinations and itertools.combinations_with_replacement)"
   ]
  },
  {
   "cell_type": "code",
   "execution_count": 70,
   "metadata": {
    "slideshow": {
     "slide_type": "subslide"
    }
   },
   "outputs": [
    {
     "name": "stdout",
     "output_type": "stream",
     "text": [
      "123\n",
      "124\n",
      "125\n",
      "134\n",
      "135\n",
      "145\n",
      "234\n",
      "235\n",
      "245\n",
      "345\n"
     ]
    }
   ],
   "source": [
    "for c in itertools.combinations([1, 2, 3, 4, 5], 3):\n",
    "    print(''.join(str(x) for x in c))"
   ]
  },
  {
   "cell_type": "markdown",
   "metadata": {
    "slideshow": {
     "slide_type": "subslide"
    }
   },
   "source": [
    "## Permutations (itertools.permutations)"
   ]
  },
  {
   "cell_type": "code",
   "execution_count": 71,
   "metadata": {
    "slideshow": {
     "slide_type": "subslide"
    }
   },
   "outputs": [
    {
     "name": "stdout",
     "output_type": "stream",
     "text": [
      "1234\n",
      "1243\n",
      "1324\n",
      "1342\n",
      "1423\n",
      "1432\n",
      "2134\n",
      "2143\n",
      "2314\n",
      "2341\n",
      "2413\n",
      "2431\n",
      "3124\n",
      "3142\n",
      "3214\n",
      "3241\n",
      "3412\n",
      "3421\n",
      "4123\n",
      "4132\n",
      "4213\n",
      "4231\n",
      "4312\n",
      "4321\n"
     ]
    }
   ],
   "source": [
    "for p in itertools.permutations([1, 2, 3, 4]):\n",
    "    print(''.join(str(x) for x in p))"
   ]
  },
  {
   "cell_type": "markdown",
   "metadata": {
    "slideshow": {
     "slide_type": "subslide"
    }
   },
   "source": [
    "## Chaining iterables (itertools.chain)"
   ]
  },
  {
   "cell_type": "code",
   "execution_count": 72,
   "metadata": {
    "slideshow": {
     "slide_type": "subslide"
    }
   },
   "outputs": [
    {
     "name": "stdout",
     "output_type": "stream",
     "text": [
      "(1, 2)\n",
      "(1, 3)\n",
      "(1, 4)\n",
      "(2, 3)\n",
      "(2, 4)\n",
      "(3, 4)\n",
      "(1, 2, 3)\n",
      "(1, 2, 4)\n",
      "(1, 3, 4)\n",
      "(2, 3, 4)\n"
     ]
    }
   ],
   "source": [
    "a = [1, 2, 3, 4]\n",
    "for p in itertools.chain(itertools.combinations(a, 2), itertools.combinations(a, 3)):\n",
    "    print(p)"
   ]
  },
  {
   "cell_type": "code",
   "execution_count": 73,
   "metadata": {
    "slideshow": {
     "slide_type": "subslide"
    }
   },
   "outputs": [
    {
     "name": "stdout",
     "output_type": "stream",
     "text": [
      "()\n",
      "(1,)\n",
      "(2,)\n",
      "(3,)\n",
      "(4,)\n",
      "(1, 2)\n",
      "(1, 3)\n",
      "(1, 4)\n",
      "(2, 3)\n",
      "(2, 4)\n",
      "(3, 4)\n",
      "(1, 2, 3)\n",
      "(1, 2, 4)\n",
      "(1, 3, 4)\n",
      "(2, 3, 4)\n",
      "(1, 2, 3, 4)\n"
     ]
    }
   ],
   "source": [
    "for subset in itertools.chain.from_iterable(itertools.combinations(a, n) for n in range(len(a) + 1)):\n",
    "    print(subset)"
   ]
  },
  {
   "cell_type": "markdown",
   "metadata": {
    "slideshow": {
     "slide_type": "subslide"
    }
   },
   "source": [
    "## Grouping rows by a given key (itertools.groupby)"
   ]
  },
  {
   "cell_type": "code",
   "execution_count": 74,
   "metadata": {
    "slideshow": {
     "slide_type": "subslide"
    }
   },
   "outputs": [
    {
     "name": "stdout",
     "output_type": "stream",
     "text": [
      "A bear is a animal.\n",
      "A duck is a animal.\n",
      "\n",
      "A cactus is a plant.\n",
      "\n",
      "A speed boat is a vehicle.\n",
      "A school bus is a vehicle.\n",
      "\n"
     ]
    }
   ],
   "source": [
    "from itertools import groupby\n",
    "\n",
    "things = [(\"animal\", \"bear\"), (\"animal\", \"duck\"), (\"plant\", \"cactus\"), (\"vehicle\", \"speed boat\"), (\"vehicle\", \"school bus\")]\n",
    "\n",
    "for key, group in groupby(things, lambda x: x[0]):\n",
    "    for thing in group:\n",
    "        print(\"A %s is a %s.\" % (thing[1], key))\n",
    "    print()"
   ]
  },
  {
   "cell_type": "markdown",
   "metadata": {
    "slideshow": {
     "slide_type": "slide"
    }
   },
   "source": [
    "# Generator Expressions"
   ]
  },
  {
   "cell_type": "markdown",
   "metadata": {
    "slideshow": {
     "slide_type": "subslide"
    }
   },
   "source": [
    "An even simpler syntax exists for creating generators: a \"generator expression\"."
   ]
  },
  {
   "cell_type": "code",
   "execution_count": 80,
   "metadata": {
    "slideshow": {
     "slide_type": "subslide"
    }
   },
   "outputs": [],
   "source": [
    "evens = (i*2 for i in range(5))"
   ]
  },
  {
   "cell_type": "code",
   "execution_count": 77,
   "metadata": {
    "slideshow": {
     "slide_type": "subslide"
    }
   },
   "outputs": [
    {
     "data": {
      "text/plain": [
       "generator"
      ]
     },
     "execution_count": 77,
     "metadata": {},
     "output_type": "execute_result"
    }
   ],
   "source": [
    "type(evens)"
   ]
  },
  {
   "cell_type": "markdown",
   "metadata": {
    "slideshow": {
     "slide_type": "subslide"
    }
   },
   "source": [
    "Passing this into the ``list`` function is equivalent to a list comprehension:"
   ]
  },
  {
   "cell_type": "code",
   "execution_count": 81,
   "metadata": {
    "slideshow": {
     "slide_type": "subslide"
    }
   },
   "outputs": [
    {
     "data": {
      "text/plain": [
       "True"
      ]
     },
     "execution_count": 81,
     "metadata": {},
     "output_type": "execute_result"
    }
   ],
   "source": [
    "# These are equivalent:\n",
    "list(evens) == [i*2 for i in range(5)]"
   ]
  },
  {
   "cell_type": "markdown",
   "metadata": {
    "slideshow": {
     "slide_type": "subslide"
    }
   },
   "source": [
    "But the generator expression is a more general construct. It has the advantage that it is \"lazy\"\n",
    "\n",
    "The values need not be generated in memory all at once"
   ]
  },
  {
   "cell_type": "markdown",
   "metadata": {
    "slideshow": {
     "slide_type": "subslide"
    }
   },
   "source": [
    "![gen_iter_relationships.png](gen_iter_relationships.png)"
   ]
  },
  {
   "cell_type": "code",
   "execution_count": 82,
   "metadata": {
    "slideshow": {
     "slide_type": "slide"
    }
   },
   "outputs": [
    {
     "name": "stdout",
     "output_type": "stream",
     "text": [
      "Jméno a příjmení:\n",
      "Jan Vlk\n",
      "Petr Marek\n"
     ]
    }
   ],
   "source": [
    "f = open('students.txt')\n",
    "all_students = set()\n",
    "for line in f:\n",
    "    line = line.rstrip()\n",
    "    all_students.add(line)\n",
    "    print(line)"
   ]
  },
  {
   "cell_type": "code",
   "execution_count": null,
   "metadata": {
    "slideshow": {
     "slide_type": "subslide"
    }
   },
   "outputs": [],
   "source": [
    "# minitask 8\n",
    "# f is a general iterable, for example a file \n",
    "# or a list or a generator function\n",
    "f = open('students.txt')\n",
    "it = \n",
    "header = \n",
    "for line in it:\n",
    "    line = line.rstrip()\n",
    "    print(line)\n",
    "    \n"
   ]
  },
  {
   "cell_type": "markdown",
   "metadata": {
    "slideshow": {
     "slide_type": "slide"
    }
   },
   "source": [
    "## How to be more effective with functions\n",
    "\n",
    "http://www.informit.com/articles/article.aspx?p=2314818\n",
    "\n",
    "http://dailytechvideo.com/video-227-brett-slatkin-how-to-be-more-effective-with-functions/"
   ]
  },
  {
   "cell_type": "code",
   "execution_count": 83,
   "metadata": {
    "slideshow": {
     "slide_type": "subslide"
    }
   },
   "outputs": [
    {
     "name": "stdout",
     "output_type": "stream",
     "text": [
      "[('Laval', 401553),\n",
      " ('Gatineau', 265349),\n",
      " ('Longueuil', 231409),\n",
      " ('Sherbrooke', 154601),\n",
      " ('Saguenay', 144746),\n",
      " ('Terrebonne', 106322),\n",
      " ('Saint-Jean-sur-Richelieu', 92394),\n",
      " ('Repentigny', 82000),\n",
      " ('Brossard', 79273),\n",
      " ('Drummondville', 71852),\n",
      " ('Granby', 63433),\n",
      " ('Blainville', 53510),\n",
      " ('Saint-Hyacinthe', 53236),\n",
      " ('Shawinigan', 50060),\n",
      " ('Dollard-des-Ormeaux', 49637),\n",
      " ('Rimouski', 46860),\n",
      " ('Saint-Eustache', 44154),\n",
      " ('Victoriaville', 43462),\n",
      " ('Mascouche', 42491),\n",
      " ('Mirabel', 41957),\n",
      " ('Rouyn-Noranda', 41012),\n",
      " ('Boucherville', 40753),\n",
      " ('Salaberry-de-Valleyfield', 40077),\n",
      " ('Sorel-Tracy', 34600),\n",
      " ('Vaudreuil-Dorion', 33305),\n",
      " ('Saint-Georges', 31173),\n",
      " ('Alma', 30904),\n",
      " ('Pointe-Claire', 30790),\n",
      " ('Sainte-Julie', 30104),\n",
      " ('Boisbriand', 26816),\n",
      " ('Saint-Bruno-de-Montarville', 26107),\n",
      " ('Thetford Mines', 25709),\n",
      " ('Chambly', 25571),\n",
      " ('Magog', 25358),\n",
      " ('Saint-Constant', 24980),\n",
      " ('La Prairie', 23357),\n",
      " ('Baie-Comeau', 22113),\n",
      " ('Saint-Lambert', 21555),\n",
      " ('Kirkland', 21253),\n",
      " ('Varennes', 20994),\n",
      " ('Beloeil', 20783),\n",
      " ('Westmount', 19931),\n",
      " ('Candiac', 19876),\n",
      " ('Joliette', 19621),\n",
      " ('Beaconsfield', 19505),\n",
      " ('Mount Royal', 19503),\n",
      " ('Saint-Lazare', 19295),\n",
      " ('Dorval', 18208),\n",
      " ('Mont-Saint-Hilaire', 18200),\n",
      " ('Saint-Augustin-de-Desmaures', 18141),\n",
      " ('Deux-Montagnes', 17552),\n",
      " ('Saint-Lin-Laurentides', 17463),\n",
      " ('Sainte-Catherine', 16762),\n",
      " ('Saint-Basile-le-Grand', 16736),\n",
      " ('Sainte-Marthe-sur-le-Lac', 15689),\n",
      " ('Sainte-Anne-des-Plaines', 14535),\n",
      " ('Matane', 14462),\n",
      " ('Dolbeau-Mistassini', 14384),\n",
      " ('Pincourt', 14305),\n",
      " ('Mont-Laurier', 13779),\n",
      " ('Lavaltrie', 13267),\n",
      " ('Saint-Colomban', 13080),\n",
      " ('Sainte-Marie', 12889),\n",
      " ('Amos', 12671),\n",
      " ('Lachute', 12551),\n",
      " ('Cowansville', 12489),\n",
      " ('Beauharnois', 12011),\n",
      " ('Mercier', 11584),\n",
      " ('Montmagny', 11491),\n",
      " ('Roberval', 10227),\n",
      " ('Sainte-Agathe-des-Monts', 10115),\n",
      " ('Marieville', 10094),\n",
      " ('Saint-Sauveur', 9881),\n",
      " ('Saint-Raymond', 9615),\n",
      " ('Mont-Tremblant', 9494),\n",
      " ('Bois-des-Filion', 9485),\n",
      " ('Lorraine', 9479),\n",
      " ('Coaticook', 9255),\n",
      " ('Notre-Dame-des-Prairies', 8868),\n",
      " ('La Malbaie', 8862),\n",
      " ('Pont-Rouge', 8723),\n",
      " ('Otterburn Park', 8450),\n",
      " ('Farnham', 8330),\n",
      " ('Carignan', 7966),\n",
      " ('Nicolet', 7828),\n",
      " ('La Sarre', 7719),\n",
      " ('Chandler', 7703),\n",
      " ('Acton Vale', 7664),\n",
      " ('Bromont', 7649),\n",
      " ('Chibougamau', 7541),\n",
      " ('Louiseville', 7517),\n",
      " ('Delson', 7462),\n",
      " ('Baie-Saint-Paul', 7332),\n",
      " ('Brownsburg-Chatham', 7209),\n",
      " ('Hampstead', 7153),\n",
      " ('Asbestos', 7096),\n",
      " ('Sainte-Anne-des-Monts', 6933),\n",
      " ('Coteau-du-Lac', 6842),\n",
      " ('Plessisville', 6688),\n",
      " ('Mont-Joli', 6665),\n",
      " ('Port-Cartier', 6651),\n",
      " ('Beauceville', 6354),\n",
      " ('Amqui', 6322),\n",
      " ('Sainte-Catherine-de-la-Jacques-Cartier', 6319),\n",
      " ('Donnacona', 6283),\n",
      " ('Contrecoeur', 6252),\n",
      " ('Charlemagne', 5853),\n",
      " ('Princeville', 5693),\n",
      " ('Brome Lake', 5609),\n",
      " ('Richelieu', 5467),\n",
      " ('Saint-Pie', 5438),\n",
      " ('Windsor', 5367),\n",
      " ('Cookshire-Eaton', 5171),\n",
      " ('Hudson', 5135),\n",
      " ('Montreal West', 5085),\n",
      " ('Sainte-Anne-de-Bellevue', 5073),\n",
      " ('Warwick', 4766),\n",
      " ('Saint-Joseph-de-Beauce', 4722),\n",
      " ('Waterloo', 4330),\n",
      " ('Berthierville', 4091),\n",
      " ('Danville', 4070),\n",
      " ('Carleton-sur-Mer', 3991),\n",
      " ('Maniwaki', 3930),\n",
      " ('Sutton', 3906),\n",
      " ('Neuville', 3888),\n",
      " ('Saint-Tite', 3880),\n",
      " ('New Richmond', 3810),\n",
      " ('East Angus', 3741),\n",
      " ('Saint-Pascal', 3490),\n",
      " ('Dunham', 3471),\n",
      " ('Trois-Pistoles', 3456),\n",
      " ('Malartic', 3449),\n",
      " ('Richmond', 3275),\n",
      " ('Forestville', 3270),\n",
      " ('Normandin', 3137),\n",
      " ('Clermont', 3118),\n",
      " ('Portneuf', 3107),\n",
      " ('Senneterre', 2953),\n",
      " ('Fermont', 2874),\n",
      " ('Stanstead', 2857),\n",
      " ('Saint-Gabriel', 2844),\n",
      " ('Bonaventure', 2775),\n",
      " ('Sainte-Marguerite-du-Lac-Masson', 2740),\n",
      " ('Macamic', 2734),\n",
      " ('Saint-Pamphile', 2685),\n",
      " ('Bedford', 2684),\n",
      " ('Cap-Chat', 2623),\n",
      " ('Ville-Marie', 2595),\n",
      " ('Disraeli', 2502),\n",
      " ('Saint-Basile', 2463),\n",
      " ('Causapscal', 2458),\n",
      " ('Huntingdon', 2457),\n",
      " ('Thurso', 2455),\n",
      " ('Gracefield', 2355),\n",
      " ('Valcourt', 2349),\n",
      " ('Waterville', 2028),\n",
      " ('Kingsey Falls', 2000),\n",
      " ('Saint-Ours', 1721),\n",
      " ('Saint-Joseph-de-Sorel', 1677),\n",
      " ('Fossambault-sur-le-Lac', 1613),\n",
      " ('Chapais', 1610),\n",
      " ('Matagami', 1526),\n",
      " ('Desbiens', 1053),\n",
      " ('Daveluyville', 966),\n",
      " ('Murdochville', 764),\n",
      " ('Duparquet', 657),\n",
      " ('Lac-Delage', 598),\n",
      " ('Scotstown', 547),\n",
      " ('Lac-Sergent', 466),\n",
      " ('Belleterre', 298),\n",
      " ('Lac-Saint-Joseph', 251),\n",
      " ('Schefferville', 213),\n",
      " ('Barkmere', 58)]\n"
     ]
    }
   ],
   "source": [
    "from pprint import pprint\n",
    "\n",
    "def load_cities_list(path):\n",
    "    result = []\n",
    "    with open(path) as handle:\n",
    "        for line in handle:\n",
    "            city, count = line.split('\\t')\n",
    "            result.append((city, int(count)))\n",
    "    return result\n",
    "\n",
    "\n",
    "result = load_cities_list('population.tsv')\n",
    "pprint(result)"
   ]
  },
  {
   "cell_type": "code",
   "execution_count": 87,
   "metadata": {
    "slideshow": {
     "slide_type": "subslide"
    }
   },
   "outputs": [
    {
     "name": "stdout",
     "output_type": "stream",
     "text": [
      "[('Laval', 401553),\n",
      " ('Gatineau', 265349),\n",
      " ('Longueuil', 231409),\n",
      " ('Sherbrooke', 154601),\n",
      " ('Saguenay', 144746),\n",
      " ('Terrebonne', 106322),\n",
      " ('Saint-Jean-sur-Richelieu', 92394),\n",
      " ('Repentigny', 82000),\n",
      " ('Brossard', 79273),\n",
      " ('Drummondville', 71852),\n",
      " ('Granby', 63433),\n",
      " ('Blainville', 53510),\n",
      " ('Saint-Hyacinthe', 53236),\n",
      " ('Shawinigan', 50060),\n",
      " ('Dollard-des-Ormeaux', 49637),\n",
      " ('Rimouski', 46860),\n",
      " ('Saint-Eustache', 44154),\n",
      " ('Victoriaville', 43462),\n",
      " ('Mascouche', 42491),\n",
      " ('Mirabel', 41957),\n",
      " ('Rouyn-Noranda', 41012),\n",
      " ('Boucherville', 40753),\n",
      " ('Salaberry-de-Valleyfield', 40077),\n",
      " ('Sorel-Tracy', 34600),\n",
      " ('Vaudreuil-Dorion', 33305),\n",
      " ('Saint-Georges', 31173),\n",
      " ('Alma', 30904),\n",
      " ('Pointe-Claire', 30790),\n",
      " ('Sainte-Julie', 30104),\n",
      " ('Boisbriand', 26816),\n",
      " ('Saint-Bruno-de-Montarville', 26107),\n",
      " ('Thetford Mines', 25709),\n",
      " ('Chambly', 25571),\n",
      " ('Magog', 25358),\n",
      " ('Saint-Constant', 24980),\n",
      " ('La Prairie', 23357),\n",
      " ('Baie-Comeau', 22113),\n",
      " ('Saint-Lambert', 21555),\n",
      " ('Kirkland', 21253),\n",
      " ('Varennes', 20994),\n",
      " ('Beloeil', 20783),\n",
      " ('Westmount', 19931),\n",
      " ('Candiac', 19876),\n",
      " ('Joliette', 19621),\n",
      " ('Beaconsfield', 19505),\n",
      " ('Mount Royal', 19503),\n",
      " ('Saint-Lazare', 19295),\n",
      " ('Dorval', 18208),\n",
      " ('Mont-Saint-Hilaire', 18200),\n",
      " ('Saint-Augustin-de-Desmaures', 18141),\n",
      " ('Deux-Montagnes', 17552),\n",
      " ('Saint-Lin-Laurentides', 17463),\n",
      " ('Sainte-Catherine', 16762),\n",
      " ('Saint-Basile-le-Grand', 16736),\n",
      " ('Sainte-Marthe-sur-le-Lac', 15689),\n",
      " ('Sainte-Anne-des-Plaines', 14535),\n",
      " ('Matane', 14462),\n",
      " ('Dolbeau-Mistassini', 14384),\n",
      " ('Pincourt', 14305),\n",
      " ('Mont-Laurier', 13779),\n",
      " ('Lavaltrie', 13267),\n",
      " ('Saint-Colomban', 13080),\n",
      " ('Sainte-Marie', 12889),\n",
      " ('Amos', 12671),\n",
      " ('Lachute', 12551),\n",
      " ('Cowansville', 12489),\n",
      " ('Beauharnois', 12011),\n",
      " ('Mercier', 11584),\n",
      " ('Montmagny', 11491),\n",
      " ('Roberval', 10227),\n",
      " ('Sainte-Agathe-des-Monts', 10115),\n",
      " ('Marieville', 10094),\n",
      " ('Saint-Sauveur', 9881),\n",
      " ('Saint-Raymond', 9615),\n",
      " ('Mont-Tremblant', 9494),\n",
      " ('Bois-des-Filion', 9485),\n",
      " ('Lorraine', 9479),\n",
      " ('Coaticook', 9255),\n",
      " ('Notre-Dame-des-Prairies', 8868),\n",
      " ('La Malbaie', 8862),\n",
      " ('Pont-Rouge', 8723),\n",
      " ('Otterburn Park', 8450),\n",
      " ('Farnham', 8330),\n",
      " ('Carignan', 7966),\n",
      " ('Nicolet', 7828),\n",
      " ('La Sarre', 7719),\n",
      " ('Chandler', 7703),\n",
      " ('Acton Vale', 7664),\n",
      " ('Bromont', 7649),\n",
      " ('Chibougamau', 7541),\n",
      " ('Louiseville', 7517),\n",
      " ('Delson', 7462),\n",
      " ('Baie-Saint-Paul', 7332),\n",
      " ('Brownsburg-Chatham', 7209),\n",
      " ('Hampstead', 7153),\n",
      " ('Asbestos', 7096),\n",
      " ('Sainte-Anne-des-Monts', 6933),\n",
      " ('Coteau-du-Lac', 6842),\n",
      " ('Plessisville', 6688),\n",
      " ('Mont-Joli', 6665),\n",
      " ('Port-Cartier', 6651),\n",
      " ('Beauceville', 6354),\n",
      " ('Amqui', 6322),\n",
      " ('Sainte-Catherine-de-la-Jacques-Cartier', 6319),\n",
      " ('Donnacona', 6283),\n",
      " ('Contrecoeur', 6252),\n",
      " ('Charlemagne', 5853),\n",
      " ('Princeville', 5693),\n",
      " ('Brome Lake', 5609),\n",
      " ('Richelieu', 5467),\n",
      " ('Saint-Pie', 5438),\n",
      " ('Windsor', 5367),\n",
      " ('Cookshire-Eaton', 5171),\n",
      " ('Hudson', 5135),\n",
      " ('Montreal West', 5085),\n",
      " ('Sainte-Anne-de-Bellevue', 5073),\n",
      " ('Warwick', 4766),\n",
      " ('Saint-Joseph-de-Beauce', 4722),\n",
      " ('Waterloo', 4330),\n",
      " ('Berthierville', 4091),\n",
      " ('Danville', 4070),\n",
      " ('Carleton-sur-Mer', 3991),\n",
      " ('Maniwaki', 3930),\n",
      " ('Sutton', 3906),\n",
      " ('Neuville', 3888),\n",
      " ('Saint-Tite', 3880),\n",
      " ('New Richmond', 3810),\n",
      " ('East Angus', 3741),\n",
      " ('Saint-Pascal', 3490),\n",
      " ('Dunham', 3471),\n",
      " ('Trois-Pistoles', 3456),\n",
      " ('Malartic', 3449),\n",
      " ('Richmond', 3275),\n",
      " ('Forestville', 3270),\n",
      " ('Normandin', 3137),\n",
      " ('Clermont', 3118),\n",
      " ('Portneuf', 3107),\n",
      " ('Senneterre', 2953),\n",
      " ('Fermont', 2874),\n",
      " ('Stanstead', 2857),\n",
      " ('Saint-Gabriel', 2844),\n",
      " ('Bonaventure', 2775),\n",
      " ('Sainte-Marguerite-du-Lac-Masson', 2740),\n",
      " ('Macamic', 2734),\n",
      " ('Saint-Pamphile', 2685),\n",
      " ('Bedford', 2684),\n",
      " ('Cap-Chat', 2623),\n",
      " ('Ville-Marie', 2595),\n",
      " ('Disraeli', 2502),\n",
      " ('Saint-Basile', 2463),\n",
      " ('Causapscal', 2458),\n",
      " ('Huntingdon', 2457),\n",
      " ('Thurso', 2455),\n",
      " ('Gracefield', 2355),\n",
      " ('Valcourt', 2349),\n",
      " ('Waterville', 2028),\n",
      " ('Kingsey Falls', 2000),\n",
      " ('Saint-Ours', 1721),\n",
      " ('Saint-Joseph-de-Sorel', 1677),\n",
      " ('Fossambault-sur-le-Lac', 1613),\n",
      " ('Chapais', 1610),\n",
      " ('Matagami', 1526),\n",
      " ('Desbiens', 1053),\n",
      " ('Daveluyville', 966),\n",
      " ('Murdochville', 764),\n",
      " ('Duparquet', 657),\n",
      " ('Lac-Delage', 598),\n",
      " ('Scotstown', 547),\n",
      " ('Lac-Sergent', 466),\n",
      " ('Belleterre', 298),\n",
      " ('Lac-Saint-Joseph', 251),\n",
      " ('Schefferville', 213),\n",
      " ('Barkmere', 58)]\n"
     ]
    }
   ],
   "source": [
    "from pprint import pprint\n",
    "\n",
    "def load_cities_generator(path):\n",
    "    with open(path) as handle:\n",
    "        for line in handle:\n",
    "            city, count = line.split('\\t')\n",
    "            yield (city, int(count))\n",
    "\n",
    "\n",
    "result = load_cities_list('population.tsv')\n",
    "pprint(result)"
   ]
  },
  {
   "cell_type": "code",
   "execution_count": 88,
   "metadata": {
    "slideshow": {
     "slide_type": "subslide"
    }
   },
   "outputs": [
    {
     "name": "stdout",
     "output_type": "stream",
     "text": [
      "('Laval', 11.007915058073822)\n",
      "('Gatineau', 7.274106413710845)\n"
     ]
    },
    {
     "name": "stderr",
     "output_type": "stream",
     "text": [
      "C:\\ProgramData\\Anaconda3\\lib\\site-packages\\ipykernel_launcher.py:2: DeprecationWarning: Calling np.sum(generator) is deprecated, and in the future will give a different result. Use np.sum(np.fromiter(generator)) or the python sum builtin instead.\n",
      "  \n"
     ]
    }
   ],
   "source": [
    "def normalize(population):\n",
    "    total = sum(x for _, x in population)\n",
    "    for city, count in population:\n",
    "        percent = 100 * count / total\n",
    "        yield city, percent\n",
    "\n",
    "data = load_cities_list('population.tsv')\n",
    "result = normalize(data)\n",
    "print(next(result))\n",
    "print(next(result))"
   ]
  },
  {
   "cell_type": "code",
   "execution_count": 90,
   "metadata": {
    "slideshow": {
     "slide_type": "subslide"
    }
   },
   "outputs": [
    {
     "name": "stdout",
     "output_type": "stream",
     "text": [
      "3647857\n"
     ]
    },
    {
     "name": "stderr",
     "output_type": "stream",
     "text": [
      "C:\\ProgramData\\Anaconda3\\lib\\site-packages\\ipykernel_launcher.py:2: DeprecationWarning: Calling np.sum(generator) is deprecated, and in the future will give a different result. Use np.sum(np.fromiter(generator)) or the python sum builtin instead.\n",
      "  \n"
     ]
    },
    {
     "ename": "StopIteration",
     "evalue": "",
     "output_type": "error",
     "traceback": [
      "\u001b[1;31m---------------------------------------------------------------------------\u001b[0m",
      "\u001b[1;31mStopIteration\u001b[0m                             Traceback (most recent call last)",
      "\u001b[1;32m<ipython-input-90-2ce4ef08dcbd>\u001b[0m in \u001b[0;36m<module>\u001b[1;34m\u001b[0m\n\u001b[0;32m      8\u001b[0m \u001b[0mdata\u001b[0m \u001b[1;33m=\u001b[0m \u001b[0mload_cities_generator\u001b[0m\u001b[1;33m(\u001b[0m\u001b[1;34m'population.tsv'\u001b[0m\u001b[1;33m)\u001b[0m\u001b[1;33m\u001b[0m\u001b[1;33m\u001b[0m\u001b[0m\n\u001b[0;32m      9\u001b[0m \u001b[0mresult\u001b[0m \u001b[1;33m=\u001b[0m \u001b[0mnormalize\u001b[0m\u001b[1;33m(\u001b[0m\u001b[0mdata\u001b[0m\u001b[1;33m)\u001b[0m\u001b[1;33m\u001b[0m\u001b[1;33m\u001b[0m\u001b[0m\n\u001b[1;32m---> 10\u001b[1;33m \u001b[0mprint\u001b[0m\u001b[1;33m(\u001b[0m\u001b[0mnext\u001b[0m\u001b[1;33m(\u001b[0m\u001b[0mresult\u001b[0m\u001b[1;33m)\u001b[0m\u001b[1;33m)\u001b[0m\u001b[1;33m\u001b[0m\u001b[1;33m\u001b[0m\u001b[0m\n\u001b[0m\u001b[0;32m     11\u001b[0m \u001b[0mprint\u001b[0m\u001b[1;33m(\u001b[0m\u001b[0mnext\u001b[0m\u001b[1;33m(\u001b[0m\u001b[0mresult\u001b[0m\u001b[1;33m)\u001b[0m\u001b[1;33m)\u001b[0m\u001b[1;33m\u001b[0m\u001b[1;33m\u001b[0m\u001b[0m\n",
      "\u001b[1;31mStopIteration\u001b[0m: "
     ]
    }
   ],
   "source": [
    "def normalize(population):\n",
    "    total = sum(x for _, x in population)\n",
    "    print('Total:', total)\n",
    "    for city, count in population:\n",
    "        percent = 100 * count / total\n",
    "        yield city, percent\n",
    "\n",
    "data = load_cities_generator('population.tsv')\n",
    "result = normalize(data)\n",
    "print(next(result))\n",
    "print(next(result))"
   ]
  },
  {
   "cell_type": "code",
   "execution_count": 91,
   "metadata": {
    "slideshow": {
     "slide_type": "subslide"
    }
   },
   "outputs": [
    {
     "name": "stderr",
     "output_type": "stream",
     "text": [
      "C:\\ProgramData\\Anaconda3\\lib\\site-packages\\ipykernel_launcher.py:2: DeprecationWarning: Calling np.sum(generator) is deprecated, and in the future will give a different result. Use np.sum(np.fromiter(generator)) or the python sum builtin instead.\n",
      "  \n",
      "ERROR:root:Expected\n",
      "Traceback (most recent call last):\n",
      "  File \"<ipython-input-91-9a06c78000f3>\", line 7, in <module>\n",
      "    print(next(result))\n",
      "StopIteration\n"
     ]
    },
    {
     "name": "stdout",
     "output_type": "stream",
     "text": [
      "3647857\n",
      "3647857\n",
      "[]\n"
     ]
    }
   ],
   "source": [
    "import logging\n",
    "\n",
    "data = load_cities_generator('population.tsv')\n",
    "result = normalize(data)\n",
    "\n",
    "try:\n",
    "    print(next(result))\n",
    "    assert False\n",
    "except StopIteration:\n",
    "    logging.exception('Expected')\n",
    "\n",
    "data = load_cities_generator('population.tsv')\n",
    "result = normalize(data)\n",
    "print(list(result))"
   ]
  },
  {
   "cell_type": "code",
   "execution_count": 92,
   "metadata": {
    "slideshow": {
     "slide_type": "subslide"
    }
   },
   "outputs": [
    {
     "name": "stderr",
     "output_type": "stream",
     "text": [
      "C:\\ProgramData\\Anaconda3\\lib\\site-packages\\ipykernel_launcher.py:2: DeprecationWarning: Calling np.sum(generator) is deprecated, and in the future will give a different result. Use np.sum(np.fromiter(generator)) or the python sum builtin instead.\n",
      "  \n"
     ]
    },
    {
     "ename": "StopIteration",
     "evalue": "",
     "output_type": "error",
     "traceback": [
      "\u001b[1;31m---------------------------------------------------------------------------\u001b[0m",
      "\u001b[1;31mStopIteration\u001b[0m                             Traceback (most recent call last)",
      "\u001b[1;32m<ipython-input-92-0f9d8b06625b>\u001b[0m in \u001b[0;36m<module>\u001b[1;34m\u001b[0m\n\u001b[0;32m      7\u001b[0m \u001b[0mdata\u001b[0m \u001b[1;33m=\u001b[0m \u001b[0mload_cities_generator\u001b[0m\u001b[1;33m(\u001b[0m\u001b[1;34m'population.tsv'\u001b[0m\u001b[1;33m)\u001b[0m\u001b[1;33m\u001b[0m\u001b[1;33m\u001b[0m\u001b[0m\n\u001b[0;32m      8\u001b[0m \u001b[0mresult\u001b[0m \u001b[1;33m=\u001b[0m \u001b[0mnormalize\u001b[0m\u001b[1;33m(\u001b[0m\u001b[0mdata\u001b[0m\u001b[1;33m)\u001b[0m\u001b[1;33m\u001b[0m\u001b[1;33m\u001b[0m\u001b[0m\n\u001b[1;32m----> 9\u001b[1;33m \u001b[0mprint\u001b[0m\u001b[1;33m(\u001b[0m\u001b[0mnext\u001b[0m\u001b[1;33m(\u001b[0m\u001b[0mresult\u001b[0m\u001b[1;33m)\u001b[0m\u001b[1;33m)\u001b[0m\u001b[1;33m\u001b[0m\u001b[1;33m\u001b[0m\u001b[0m\n\u001b[0m\u001b[0;32m     10\u001b[0m \u001b[0mprint\u001b[0m\u001b[1;33m(\u001b[0m\u001b[0mnext\u001b[0m\u001b[1;33m(\u001b[0m\u001b[0mresult\u001b[0m\u001b[1;33m)\u001b[0m\u001b[1;33m)\u001b[0m\u001b[1;33m\u001b[0m\u001b[1;33m\u001b[0m\u001b[0m\n",
      "\u001b[1;31mStopIteration\u001b[0m: "
     ]
    }
   ],
   "source": [
    "def normalize(population):\n",
    "    total = sum(x for _, x in population)\n",
    "    for city, count in population:\n",
    "        percent = 100 * count / total\n",
    "        yield city, percent\n",
    "\n",
    "data = load_cities_generator('population.tsv')\n",
    "result = normalize(data)\n",
    "print(next(result))\n",
    "print(next(result))"
   ]
  },
  {
   "cell_type": "markdown",
   "metadata": {
    "slideshow": {
     "slide_type": "subslide"
    }
   },
   "source": [
    "The cause of this behavior is that an iterator only produces its results a single time\n",
    "\n",
    "If you iterate over an iterator or generator that has already raised a StopIteration exception, you won’t get any results the second time around"
   ]
  },
  {
   "cell_type": "markdown",
   "metadata": {
    "slideshow": {
     "slide_type": "subslide"
    }
   },
   "source": [
    "What’s confusing is that you also won’t get any errors when you iterate over an already-exhausted iterator\n",
    "\n",
    "for loops, the list constructor, and many other functions throughout the Python standard library expect the StopIteration exception to be raised during normal operation"
   ]
  },
  {
   "cell_type": "markdown",
   "metadata": {
    "slideshow": {
     "slide_type": "subslide"
    }
   },
   "source": [
    "These functions can’t tell the difference between an iterator that has no output and an iterator that had output and is now exhausted"
   ]
  },
  {
   "cell_type": "code",
   "execution_count": 93,
   "metadata": {
    "slideshow": {
     "slide_type": "subslide"
    }
   },
   "outputs": [
    {
     "name": "stderr",
     "output_type": "stream",
     "text": [
      "C:\\ProgramData\\Anaconda3\\lib\\site-packages\\ipykernel_launcher.py:2: DeprecationWarning: Calling np.sum(generator) is deprecated, and in the future will give a different result. Use np.sum(np.fromiter(generator)) or the python sum builtin instead.\n",
      "  \n"
     ]
    },
    {
     "ename": "StopIteration",
     "evalue": "",
     "output_type": "error",
     "traceback": [
      "\u001b[1;31m---------------------------------------------------------------------------\u001b[0m",
      "\u001b[1;31mStopIteration\u001b[0m                             Traceback (most recent call last)",
      "\u001b[1;32m<ipython-input-93-81df88a3f603>\u001b[0m in \u001b[0;36m<module>\u001b[1;34m\u001b[0m\n\u001b[0;32m      1\u001b[0m \u001b[0mdata\u001b[0m \u001b[1;33m=\u001b[0m \u001b[0mload_cities_list\u001b[0m\u001b[1;33m(\u001b[0m\u001b[1;34m'empty.tsv'\u001b[0m\u001b[1;33m)\u001b[0m\u001b[1;33m\u001b[0m\u001b[1;33m\u001b[0m\u001b[0m\n\u001b[0;32m      2\u001b[0m \u001b[0mresult\u001b[0m \u001b[1;33m=\u001b[0m \u001b[0mnormalize\u001b[0m\u001b[1;33m(\u001b[0m\u001b[0mdata\u001b[0m\u001b[1;33m)\u001b[0m\u001b[1;33m\u001b[0m\u001b[1;33m\u001b[0m\u001b[0m\n\u001b[1;32m----> 3\u001b[1;33m \u001b[0mprint\u001b[0m\u001b[1;33m(\u001b[0m\u001b[0mnext\u001b[0m\u001b[1;33m(\u001b[0m\u001b[0mresult\u001b[0m\u001b[1;33m)\u001b[0m\u001b[1;33m)\u001b[0m\u001b[1;33m\u001b[0m\u001b[1;33m\u001b[0m\u001b[0m\n\u001b[0m\u001b[0;32m      4\u001b[0m \u001b[0mprint\u001b[0m\u001b[1;33m(\u001b[0m\u001b[0mnext\u001b[0m\u001b[1;33m(\u001b[0m\u001b[0mresult\u001b[0m\u001b[1;33m)\u001b[0m\u001b[1;33m)\u001b[0m\u001b[1;33m\u001b[0m\u001b[1;33m\u001b[0m\u001b[0m\n",
      "\u001b[1;31mStopIteration\u001b[0m: "
     ]
    }
   ],
   "source": [
    "data = load_cities_list('empty.tsv')\n",
    "result = normalize(data)\n",
    "print(next(result))\n",
    "print(next(result))"
   ]
  },
  {
   "cell_type": "code",
   "execution_count": 94,
   "metadata": {
    "slideshow": {
     "slide_type": "subslide"
    }
   },
   "outputs": [
    {
     "name": "stderr",
     "output_type": "stream",
     "text": [
      "C:\\ProgramData\\Anaconda3\\lib\\site-packages\\ipykernel_launcher.py:2: DeprecationWarning: Calling np.sum(generator) is deprecated, and in the future will give a different result. Use np.sum(np.fromiter(generator)) or the python sum builtin instead.\n",
      "  \n",
      "ERROR:root:Expected\n",
      "Traceback (most recent call last):\n",
      "  File \"<ipython-input-94-718eb450377c>\", line 7, in <module>\n",
      "    print(next(result))\n",
      "StopIteration\n"
     ]
    },
    {
     "name": "stdout",
     "output_type": "stream",
     "text": [
      "[]\n"
     ]
    }
   ],
   "source": [
    "import logging\n",
    "\n",
    "data = load_cities_list('empty.tsv')\n",
    "result = normalize(data)\n",
    "\n",
    "try:\n",
    "    print(next(result))\n",
    "    assert False\n",
    "except StopIteration:\n",
    "    logging.exception('Expected')\n",
    "\n",
    "data = load_cities_generator('empty.tsv')\n",
    "result = normalize(data)\n",
    "print(list(result))"
   ]
  },
  {
   "cell_type": "markdown",
   "metadata": {
    "slideshow": {
     "slide_type": "subslide"
    }
   },
   "source": [
    "To solve this problem, you can explicitly exhaust an input iterator and keep a copy of its entire contents in a list. You can then iterate over the list version of the data as many times as you need to. Here’s the same function as before, but it defensively copies the input iterator."
   ]
  },
  {
   "cell_type": "code",
   "execution_count": 96,
   "metadata": {
    "slideshow": {
     "slide_type": "subslide"
    }
   },
   "outputs": [
    {
     "name": "stdout",
     "output_type": "stream",
     "text": [
      "('Laval', 11.007915058073822)\n",
      "('Gatineau', 7.274106413710845)\n"
     ]
    },
    {
     "name": "stderr",
     "output_type": "stream",
     "text": [
      "C:\\ProgramData\\Anaconda3\\lib\\site-packages\\ipykernel_launcher.py:3: DeprecationWarning: Calling np.sum(generator) is deprecated, and in the future will give a different result. Use np.sum(np.fromiter(generator)) or the python sum builtin instead.\n",
      "  This is separate from the ipykernel package so we can avoid doing imports until\n"
     ]
    }
   ],
   "source": [
    "def normalize_copy(population):\n",
    "    population_list = list(population)\n",
    "    total = sum(x for _, x in population_list)\n",
    "    for city, count in population_list:\n",
    "        percent = 100 * count / total\n",
    "        yield city, percent\n",
    "\n",
    "data = load_cities_generator('population.tsv')\n",
    "result = normalize_copy(data)\n",
    "type(result)\n",
    "print(next(result))\n",
    "print(next(result))"
   ]
  },
  {
   "cell_type": "code",
   "execution_count": 99,
   "metadata": {
    "slideshow": {
     "slide_type": "subslide"
    }
   },
   "outputs": [
    {
     "name": "stdout",
     "output_type": "stream",
     "text": [
      "<list_iterator object at 0x000002005165B748>\n",
      "<list_iterator object at 0x000002005165B748>\n",
      "True\n"
     ]
    }
   ],
   "source": [
    "a = [1,2,3]\n",
    "b = iter(a)\n",
    "c = iter(b)\n",
    "print(b)\n",
    "print(c)\n",
    "print(b is c)"
   ]
  },
  {
   "cell_type": "code",
   "execution_count": 100,
   "metadata": {
    "slideshow": {
     "slide_type": "subslide"
    }
   },
   "outputs": [
    {
     "name": "stdout",
     "output_type": "stream",
     "text": [
      "<list_iterator object at 0x000002005165BB38>\n",
      "<list_iterator object at 0x000002005165B390>\n",
      "False\n"
     ]
    }
   ],
   "source": [
    "a = [1,2,3]\n",
    "b = iter(a)\n",
    "c = iter(a)\n",
    "print(b)\n",
    "print(c)\n",
    "print(b is c)"
   ]
  },
  {
   "cell_type": "code",
   "execution_count": 97,
   "metadata": {
    "slideshow": {
     "slide_type": "subslide"
    }
   },
   "outputs": [
    {
     "name": "stdout",
     "output_type": "stream",
     "text": [
      "('Laval', 11.007915058073822)\n",
      "('Gatineau', 7.274106413710845)\n"
     ]
    },
    {
     "name": "stderr",
     "output_type": "stream",
     "text": [
      "C:\\ProgramData\\Anaconda3\\lib\\site-packages\\ipykernel_launcher.py:2: DeprecationWarning: Calling np.sum(generator) is deprecated, and in the future will give a different result. Use np.sum(np.fromiter(generator)) or the python sum builtin instead.\n",
      "  \n"
     ]
    }
   ],
   "source": [
    "class LoadCities(object):\n",
    "\n",
    "    def __init__(self, path):\n",
    "        self.path = path\n",
    "\n",
    "    def __iter__(self):\n",
    "        with open(self.path) as handle:\n",
    "            for line in handle:\n",
    "                city, count = line.split('\\t')\n",
    "                yield city, int(count)\n",
    "\n",
    "\n",
    "data = LoadCities('population.tsv')\n",
    "result = normalize(data)\n",
    "print(next(result))\n",
    "print(next(result))"
   ]
  },
  {
   "cell_type": "code",
   "execution_count": 98,
   "metadata": {
    "slideshow": {
     "slide_type": "subslide"
    }
   },
   "outputs": [
    {
     "name": "stdout",
     "output_type": "stream",
     "text": [
      "Explicit\n",
      "('Laval', 11.007915058073822)\n",
      "('Gatineau', 7.274106413710845)\n"
     ]
    },
    {
     "name": "stderr",
     "output_type": "stream",
     "text": [
      "C:\\ProgramData\\Anaconda3\\lib\\site-packages\\ipykernel_launcher.py:2: DeprecationWarning: Calling np.sum(generator) is deprecated, and in the future will give a different result. Use np.sum(np.fromiter(generator)) or the python sum builtin instead.\n",
      "  \n"
     ]
    }
   ],
   "source": [
    "def normalize_explicit(population):\n",
    "    total = sum(x for _, x in iter(population))\n",
    "    for city, count in iter(population):\n",
    "        percent = 100 * count / total\n",
    "        yield city, percent\n",
    "\n",
    "data = LoadCities('population.tsv')\n",
    "result = normalize_explicit(data)\n",
    "print('Explicit')\n",
    "print(next(result))\n",
    "print(next(result))"
   ]
  },
  {
   "cell_type": "code",
   "execution_count": null,
   "metadata": {
    "slideshow": {
     "slide_type": "subslide"
    }
   },
   "outputs": [],
   "source": [
    "def normalize_defensive(population):\n",
    "    if iter(population) is iter(population):\n",
    "        raise TypeError('Must be a container')\n",
    "\n",
    "    total = sum(x for _, x in population)\n",
    "    for city, count in population:\n",
    "        percent = 100 * count / total\n",
    "        yield city, percent\n",
    "\n",
    "\n",
    "data = load_cities_generator('population.tsv')\n",
    "result = normalize_defensive(data)\n",
    "print(list(result))"
   ]
  },
  {
   "cell_type": "markdown",
   "metadata": {
    "slideshow": {
     "slide_type": "subslide"
    }
   },
   "source": [
    "# Useful functions and methods\n",
    "\n",
    "## `zip`\n",
    "`zip` is used to iterate over several iterables simultaneously. It pairs elements of n objects into n-tuples so that we don't need indexing.\n"
   ]
  },
  {
   "cell_type": "code",
   "execution_count": null,
   "metadata": {
    "slideshow": {
     "slide_type": "subslide"
    }
   },
   "outputs": [],
   "source": [
    "# let's create some generators\n",
    "l1 = range(1,9)\n",
    "l2 = (2 ** n for n in l1)\n",
    "# and interate over them simultaneously\n",
    "for x, y in zip(l1, l2):\n",
    "    print(\"2^%i = %i\" % (x, y))"
   ]
  },
  {
   "cell_type": "markdown",
   "metadata": {
    "slideshow": {
     "slide_type": "slide"
    }
   },
   "source": [
    "    list(zip(*[iter('abcde')]*2)])"
   ]
  },
  {
   "cell_type": "code",
   "execution_count": 101,
   "metadata": {
    "slideshow": {
     "slide_type": "subslide"
    }
   },
   "outputs": [
    {
     "data": {
      "text/plain": [
       "[('a', 'b'), ('c', 'd')]"
      ]
     },
     "execution_count": 101,
     "metadata": {},
     "output_type": "execute_result"
    }
   ],
   "source": [
    "list(zip(*[iter('abcde')]*2))"
   ]
  },
  {
   "cell_type": "code",
   "execution_count": 102,
   "metadata": {
    "slideshow": {
     "slide_type": "subslide"
    }
   },
   "outputs": [
    {
     "ename": "TypeError",
     "evalue": "'list' object is not an iterator",
     "output_type": "error",
     "traceback": [
      "\u001b[1;31m---------------------------------------------------------------------------\u001b[0m",
      "\u001b[1;31mTypeError\u001b[0m                                 Traceback (most recent call last)",
      "\u001b[1;32m<ipython-input-102-e66dca6a2c3a>\u001b[0m in \u001b[0;36m<module>\u001b[1;34m\u001b[0m\n\u001b[0;32m      1\u001b[0m \u001b[0mli\u001b[0m \u001b[1;33m=\u001b[0m \u001b[1;33m[\u001b[0m\u001b[1;36m1\u001b[0m\u001b[1;33m,\u001b[0m\u001b[1;36m2\u001b[0m\u001b[1;33m,\u001b[0m\u001b[1;36m3\u001b[0m\u001b[1;33m]\u001b[0m\u001b[1;33m\u001b[0m\u001b[1;33m\u001b[0m\u001b[0m\n\u001b[1;32m----> 2\u001b[1;33m \u001b[0mnext\u001b[0m\u001b[1;33m(\u001b[0m\u001b[0mli\u001b[0m\u001b[1;33m)\u001b[0m\u001b[1;33m\u001b[0m\u001b[1;33m\u001b[0m\u001b[0m\n\u001b[0m",
      "\u001b[1;31mTypeError\u001b[0m: 'list' object is not an iterator"
     ]
    }
   ],
   "source": [
    "li = [1,2,3]\n",
    "next(li)"
   ]
  },
  {
   "cell_type": "code",
   "execution_count": 103,
   "metadata": {
    "slideshow": {
     "slide_type": "subslide"
    }
   },
   "outputs": [
    {
     "data": {
      "text/plain": [
       "1"
      ]
     },
     "execution_count": 103,
     "metadata": {},
     "output_type": "execute_result"
    }
   ],
   "source": [
    "li = iter([1,2,3])\n",
    "next(li)"
   ]
  },
  {
   "cell_type": "code",
   "execution_count": 104,
   "metadata": {
    "slideshow": {
     "slide_type": "fragment"
    }
   },
   "outputs": [
    {
     "data": {
      "text/plain": [
       "2"
      ]
     },
     "execution_count": 104,
     "metadata": {},
     "output_type": "execute_result"
    }
   ],
   "source": [
    "next(li)"
   ]
  },
  {
   "cell_type": "code",
   "execution_count": 105,
   "metadata": {
    "slideshow": {
     "slide_type": "subslide"
    }
   },
   "outputs": [
    {
     "data": {
      "text/plain": [
       "<list_iterator at 0x2005165b710>"
      ]
     },
     "execution_count": 105,
     "metadata": {},
     "output_type": "execute_result"
    }
   ],
   "source": [
    "iter([1,2,3])"
   ]
  },
  {
   "cell_type": "code",
   "execution_count": 107,
   "metadata": {
    "slideshow": {
     "slide_type": "subslide"
    }
   },
   "outputs": [
    {
     "name": "stdout",
     "output_type": "stream",
     "text": [
      "[1, 2, 1, 2]\n"
     ]
    },
    {
     "data": {
      "text/plain": [
       "[<list_iterator at 0x2005165ba20>, <list_iterator at 0x2005165ba20>]"
      ]
     },
     "execution_count": 107,
     "metadata": {},
     "output_type": "execute_result"
    }
   ],
   "source": [
    "print([1,2]*2)\n",
    "[iter([1,2,3])]*2"
   ]
  },
  {
   "cell_type": "code",
   "execution_count": 108,
   "metadata": {
    "slideshow": {
     "slide_type": "subslide"
    }
   },
   "outputs": [
    {
     "name": "stdout",
     "output_type": "stream",
     "text": [
      "<str_iterator object at 0x000002005165B9B0>\n",
      "<str_iterator object at 0x000002005165B9B0>\n"
     ]
    }
   ],
   "source": [
    "for obj in [iter('abc')]*2:\n",
    "    print(obj)"
   ]
  },
  {
   "cell_type": "code",
   "execution_count": 109,
   "metadata": {
    "slideshow": {
     "slide_type": "subslide"
    }
   },
   "outputs": [
    {
     "ename": "SyntaxError",
     "evalue": "can't use starred expression here (<ipython-input-109-f591cef3bd34>, line 4)",
     "output_type": "error",
     "traceback": [
      "\u001b[1;36m  File \u001b[1;32m\"<ipython-input-109-f591cef3bd34>\"\u001b[1;36m, line \u001b[1;32m4\u001b[0m\n\u001b[1;31mSyntaxError\u001b[0m\u001b[1;31m:\u001b[0m can't use starred expression here\n"
     ]
    }
   ],
   "source": [
    "*[iter('abc')]*3"
   ]
  },
  {
   "cell_type": "code",
   "execution_count": 110,
   "metadata": {
    "slideshow": {
     "slide_type": "subslide"
    }
   },
   "outputs": [
    {
     "name": "stdout",
     "output_type": "stream",
     "text": [
      "a\n",
      "b\n",
      "c\n"
     ]
    }
   ],
   "source": [
    "def popper(*args):\n",
    "    for e in args:\n",
    "        print(next(e))\n",
    "\n",
    "popper(*[iter('abc')]*3)\n"
   ]
  },
  {
   "cell_type": "code",
   "execution_count": 111,
   "metadata": {
    "slideshow": {
     "slide_type": "subslide"
    }
   },
   "outputs": [
    {
     "data": {
      "text/plain": [
       "[(1, 2, 3), (4, 5, 6)]"
      ]
     },
     "execution_count": 111,
     "metadata": {},
     "output_type": "execute_result"
    }
   ],
   "source": [
    "s = [1,2,3,4,5,6,7,8]\n",
    "chunk_size = 3\n",
    "list(zip(*[iter(s)]*chunk_size))"
   ]
  },
  {
   "cell_type": "code",
   "execution_count": 112,
   "metadata": {
    "slideshow": {
     "slide_type": "subslide"
    }
   },
   "outputs": [
    {
     "name": "stdout",
     "output_type": "stream",
     "text": [
      "('A', 'B', 'C')\n",
      "('D', 'E', 'F')\n",
      "('G', 'x', 'x')\n"
     ]
    }
   ],
   "source": [
    "from itertools import zip_longest\n",
    "def grouper(group_size, iterable, fillvalue=None):\n",
    "    args = [iter(iterable)] * group_size\n",
    "    return zip_longest(fillvalue=fillvalue, *args)\n",
    "for item in grouper(3, 'ABCDEFG', 'x'):\n",
    "    print(item)"
   ]
  },
  {
   "cell_type": "markdown",
   "metadata": {
    "slideshow": {
     "slide_type": "subslide"
    }
   },
   "source": [
    "## `enumerate`\n",
    "In case you need to know the numeric index of the element, it is better to use `enumerate`, which gradually returns (index, element) tuples."
   ]
  },
  {
   "cell_type": "code",
   "execution_count": null,
   "metadata": {
    "slideshow": {
     "slide_type": "subslide"
    }
   },
   "outputs": [],
   "source": [
    "for i, n in enumerate(range(1,10)):\n",
    "    print(\"index = %i, value = %i\" % (i, n))"
   ]
  },
  {
   "cell_type": "markdown",
   "metadata": {
    "slideshow": {
     "slide_type": "subslide"
    }
   },
   "source": [
    "There are lots of built-in methods that provide actions on lists as a whole:"
   ]
  },
  {
   "cell_type": "code",
   "execution_count": null,
   "metadata": {
    "slideshow": {
     "slide_type": "subslide"
    }
   },
   "outputs": [],
   "source": [
    "any([True, False, True])"
   ]
  },
  {
   "cell_type": "code",
   "execution_count": null,
   "metadata": {
    "slideshow": {
     "slide_type": "subslide"
    }
   },
   "outputs": [],
   "source": [
    "all([True, False, True])"
   ]
  },
  {
   "cell_type": "code",
   "execution_count": null,
   "metadata": {
    "slideshow": {
     "slide_type": "subslide"
    }
   },
   "outputs": [],
   "source": [
    "max([1, 2, 3])"
   ]
  },
  {
   "cell_type": "code",
   "execution_count": null,
   "metadata": {
    "slideshow": {
     "slide_type": "subslide"
    }
   },
   "outputs": [],
   "source": [
    "sum([1, 2, 3])"
   ]
  },
  {
   "cell_type": "markdown",
   "metadata": {
    "slideshow": {
     "slide_type": "subslide"
    }
   },
   "source": [
    "# Functional Concepts"
   ]
  },
  {
   "cell_type": "markdown",
   "metadata": {
    "slideshow": {
     "slide_type": "subslide"
    }
   },
   "source": [
    "If Guido van Rossum, the author of the programming language Python, had got his will, this part would be missing in the lecture"
   ]
  },
  {
   "cell_type": "markdown",
   "metadata": {
    "slideshow": {
     "slide_type": "subslide"
    }
   },
   "source": [
    "In his article from May 2005 \"All Things Pythonic: The fate of reduce() in Python 3000\" - http://www.artima.com/weblogs/viewpost.jsp?thread=98196, he gives his reasons for dropping lambda, map(), filter() and reduce()"
   ]
  },
  {
   "cell_type": "markdown",
   "metadata": {
    "slideshow": {
     "slide_type": "subslide"
    }
   },
   "source": [
    "He expected resistance from the Lisp and the Scheme \"folks\"\n",
    "\n",
    "What he didn't anticipate was the rigidity of this opposition"
   ]
  },
  {
   "cell_type": "markdown",
   "metadata": {
    "slideshow": {
     "slide_type": "subslide"
    }
   },
   "source": [
    "He wrote hardly a year later: \"After so many attempts to come up with an alternative for lambda, perhaps we should admit defeat. I've not had the time to follow the most recent rounds, but I propose that we keep lambda, so as to stop wasting everybody's talent and time on an impossible quest.\"\n"
   ]
  },
  {
   "cell_type": "markdown",
   "metadata": {
    "slideshow": {
     "slide_type": "subslide"
    }
   },
   "source": [
    "We can see the result: lambda, map() and filter() are still part of core Python. Only reduce() had to go; it moved into the module functools."
   ]
  },
  {
   "cell_type": "markdown",
   "metadata": {
    "slideshow": {
     "slide_type": "subslide"
    }
   },
   "source": [
    "His reasoning for dropping them is like this:\n",
    "\n",
    "* There is an equally powerful alternative to lambda, filter, map and reduce, i.e. list comprehension\n",
    "* List comprehension is more evident and easier to understand\n",
    "* Having both list comprehension and \"Filter, map, reduce and lambda\" is transgressing the Python motto \"There should be one obvious way to solve a problem\""
   ]
  },
  {
   "cell_type": "markdown",
   "metadata": {
    "slideshow": {
     "slide_type": "subslide"
    }
   },
   "source": [
    "Some like it, others hate it and many are afraid of the lambda operator"
   ]
  },
  {
   "cell_type": "markdown",
   "metadata": {
    "slideshow": {
     "slide_type": "subslide"
    }
   },
   "source": [
    "The lambda operator or lambda function is a way to create small anonymous functions, i.e. functions without a name"
   ]
  },
  {
   "cell_type": "markdown",
   "metadata": {
    "slideshow": {
     "slide_type": "subslide"
    }
   },
   "source": [
    "These functions are throw-away functions, i.e. they are just needed where they have been created"
   ]
  },
  {
   "cell_type": "markdown",
   "metadata": {
    "slideshow": {
     "slide_type": "subslide"
    }
   },
   "source": [
    "It is used primarily to write very short functions that are a hassle to define in the normal way\n",
    "\n",
    "A function like this:"
   ]
  },
  {
   "cell_type": "code",
   "execution_count": null,
   "metadata": {
    "slideshow": {
     "slide_type": "subslide"
    }
   },
   "outputs": [],
   "source": [
    "def sum_squares(a, b):\n",
    "    return a**2 + b**2\n",
    "\n",
    "sum_squares(2, 3)"
   ]
  },
  {
   "cell_type": "code",
   "execution_count": null,
   "metadata": {
    "slideshow": {
     "slide_type": "subslide"
    }
   },
   "outputs": [],
   "source": [
    "print((lambda a, b: a**2 + b**2)(2, 3))"
   ]
  },
  {
   "cell_type": "markdown",
   "metadata": {
    "slideshow": {
     "slide_type": "subslide"
    }
   },
   "source": [
    "Lambda is often used as an argument to other functions that expects a function object, such as sorted()'s 'key' argument"
   ]
  },
  {
   "cell_type": "code",
   "execution_count": null,
   "metadata": {
    "slideshow": {
     "slide_type": "subslide"
    }
   },
   "outputs": [],
   "source": [
    "sorted([[3, 4], [3, 5], [1, 2], [7, 3]], key=lambda x: x[1])"
   ]
  },
  {
   "cell_type": "code",
   "execution_count": null,
   "metadata": {
    "slideshow": {
     "slide_type": "subslide"
    }
   },
   "outputs": [],
   "source": [
    "from collections import defaultdict\n",
    "ice_cream = defaultdict(lambda: 'Vanilla')\n",
    "ice_cream['Sarah'] = 'Chunky Monkey'\n",
    "print(ice_cream['Sarah'])\n",
    "print(ice_cream['Joe'])"
   ]
  },
  {
   "cell_type": "code",
   "execution_count": null,
   "metadata": {
    "slideshow": {
     "slide_type": "subslide"
    }
   },
   "outputs": [],
   "source": [
    "from collections import defaultdict\n",
    "numbp = defaultdict(lambda: 0)\n",
    "numbp['Adam'] = 42\n",
    "print(numbp['Adam'])\n",
    "print(numbp['Eva'])"
   ]
  },
  {
   "cell_type": "code",
   "execution_count": null,
   "metadata": {
    "slideshow": {
     "slide_type": "subslide"
    }
   },
   "outputs": [],
   "source": [
    "from collections import defaultdict\n",
    "numbp = defaultdict(int)\n",
    "numbp['Adam'] = 42\n",
    "print(numbp['Adam'])\n",
    "print(numbp['Eva'])"
   ]
  },
  {
   "cell_type": "markdown",
   "metadata": {
    "slideshow": {
     "slide_type": "subslide"
    }
   },
   "source": [
    "The lambda form is often useful as a closure, such as illustrated in the following example:"
   ]
  },
  {
   "cell_type": "code",
   "execution_count": null,
   "metadata": {
    "slideshow": {
     "slide_type": "subslide"
    }
   },
   "outputs": [],
   "source": [
    "def attribution(name):\n",
    "    return lambda x: x + ' -- ' + name\n",
    "\n",
    "pp = attribution('John')\n",
    "pp('Dinner is in the fridge')"
   ]
  },
  {
   "cell_type": "markdown",
   "metadata": {
    "slideshow": {
     "slide_type": "subslide"
    }
   },
   "source": [
    "The general syntax of a lambda function is quite simple:\n",
    "\n",
    "    lambda argument_list: expression"
   ]
  },
  {
   "cell_type": "markdown",
   "metadata": {
    "slideshow": {
     "slide_type": "subslide"
    }
   },
   "source": [
    "The argument list consists of a comma separated list of arguments and the expression is an arithmetic expression using these arguments\n",
    "\n",
    "You can assign the function to a variable to give it a name."
   ]
  },
  {
   "cell_type": "markdown",
   "metadata": {
    "slideshow": {
     "slide_type": "subslide"
    }
   },
   "source": [
    "\n",
    "    map(function, iterable, ...)\n",
    "\n",
    "Return an iterator that applies function to every item of iterable, yielding the results\n"
   ]
  },
  {
   "cell_type": "markdown",
   "metadata": {
    "slideshow": {
     "slide_type": "subslide"
    }
   },
   "source": [
    "If additional iterable arguments are passed, function must take that many arguments and is applied to the items from all iterables in parallel\n",
    "\n",
    "With multiple iterables, the iterator stops when the shortest iterable is exhausted"
   ]
  },
  {
   "cell_type": "markdown",
   "metadata": {
    "slideshow": {
     "slide_type": "subslide"
    }
   },
   "source": [
    "map is syntactic sugar for a simple list comprehension that applies one function to every member of a list:"
   ]
  },
  {
   "cell_type": "code",
   "execution_count": null,
   "metadata": {
    "slideshow": {
     "slide_type": "subslide"
    }
   },
   "outputs": [],
   "source": [
    "[str(x) for x in range(10)]"
   ]
  },
  {
   "cell_type": "code",
   "execution_count": null,
   "metadata": {
    "slideshow": {
     "slide_type": "subslide"
    }
   },
   "outputs": [],
   "source": [
    "map(str, range(10))"
   ]
  },
  {
   "cell_type": "markdown",
   "metadata": {
    "slideshow": {
     "slide_type": "subslide"
    }
   },
   "source": [
    "So I can write:\n",
    "    \n",
    "    analysed_data = map(analyse, data)"
   ]
  },
  {
   "cell_type": "markdown",
   "metadata": {
    "slideshow": {
     "slide_type": "subslide"
    }
   },
   "source": [
    "![8-queens](8-queens.jpg)"
   ]
  },
  {
   "cell_type": "code",
   "execution_count": null,
   "metadata": {
    "slideshow": {
     "slide_type": "subslide"
    }
   },
   "outputs": [],
   "source": [
    "from itertools import permutations\n",
    "\n",
    "n = width_of_chessboard = 8\n",
    "sqs = list(range(n))\n",
    "\n",
    "Qs = (Q for Q in permutations(sqs)\n",
    "      if n == len({Q[i]+i for i in sqs})\n",
    "           == len({Q[i]-i for i in sqs}))\n",
    "for q in Qs:\n",
    "    print(q)"
   ]
  },
  {
   "cell_type": "code",
   "execution_count": null,
   "metadata": {
    "slideshow": {
     "slide_type": "subslide"
    }
   },
   "outputs": [],
   "source": [
    "sqs = list(range(8))\n",
    "sqs\n"
   ]
  },
  {
   "cell_type": "markdown",
   "metadata": {
    "slideshow": {
     "slide_type": "subslide"
    }
   },
   "source": [
    "![8-rooks](8-rooks.gif)"
   ]
  },
  {
   "cell_type": "code",
   "execution_count": null,
   "metadata": {
    "slideshow": {
     "slide_type": "subslide"
    }
   },
   "outputs": [],
   "source": [
    "from itertools import permutations\n",
    "rooks = permutations(sqs)\n",
    "next(rooks)"
   ]
  },
  {
   "cell_type": "code",
   "execution_count": null,
   "metadata": {
    "slideshow": {
     "slide_type": "subslide"
    }
   },
   "outputs": [],
   "source": [
    "next(rooks)"
   ]
  },
  {
   "cell_type": "code",
   "execution_count": null,
   "metadata": {
    "slideshow": {
     "slide_type": "subslide"
    }
   },
   "outputs": [],
   "source": [
    "next(rooks)"
   ]
  },
  {
   "cell_type": "code",
   "execution_count": null,
   "metadata": {
    "slideshow": {
     "slide_type": "subslide"
    }
   },
   "outputs": [],
   "source": [
    "list(rooks)[34567]"
   ]
  },
  {
   "cell_type": "code",
   "execution_count": null,
   "metadata": {
    "slideshow": {
     "slide_type": "subslide"
    }
   },
   "outputs": [],
   "source": [
    "next(rooks)"
   ]
  },
  {
   "cell_type": "code",
   "execution_count": null,
   "metadata": {
    "slideshow": {
     "slide_type": "subslide"
    }
   },
   "outputs": [],
   "source": [
    "rooks = permutations(sqs)\n",
    "list(rooks)[40319]\n"
   ]
  },
  {
   "cell_type": "code",
   "execution_count": null,
   "metadata": {
    "slideshow": {
     "slide_type": "subslide"
    }
   },
   "outputs": [],
   "source": [
    "import math\n",
    "math.factorial(8)"
   ]
  },
  {
   "cell_type": "code",
   "execution_count": null,
   "metadata": {
    "slideshow": {
     "slide_type": "subslide"
    }
   },
   "outputs": [],
   "source": [
    "diagonal = list(range(8))\n",
    "{r-c for c,r in enumerate(diagonal)}"
   ]
  },
  {
   "cell_type": "code",
   "execution_count": null,
   "metadata": {
    "slideshow": {
     "slide_type": "subslide"
    }
   },
   "outputs": [],
   "source": [
    "{r+c for c,r in enumerate(diagonal)}"
   ]
  },
  {
   "cell_type": "code",
   "execution_count": null,
   "metadata": {
    "slideshow": {
     "slide_type": "subslide"
    }
   },
   "outputs": [],
   "source": [
    "other_diagonal = list(reversed(diagonal))\n",
    "{r-c for c,r in enumerate(other_diagonal)}"
   ]
  },
  {
   "cell_type": "code",
   "execution_count": null,
   "metadata": {
    "slideshow": {
     "slide_type": "subslide"
    }
   },
   "outputs": [],
   "source": [
    "diagonal = list(range(8))\n",
    "{diagonal[i]-i for i in diagonal}"
   ]
  },
  {
   "cell_type": "code",
   "execution_count": null,
   "metadata": {
    "slideshow": {
     "slide_type": "subslide"
    }
   },
   "outputs": [],
   "source": [
    "{diagonal[i]+i for i in diagonal}"
   ]
  },
  {
   "cell_type": "code",
   "execution_count": null,
   "metadata": {
    "slideshow": {
     "slide_type": "subslide"
    }
   },
   "outputs": [],
   "source": [
    "from itertools import permutations\n",
    "\n",
    "n = width_of_chessboard = 8\n",
    "sqs = list(range(n))\n",
    "\n",
    "Qs = (Q for Q in permutations(sqs)\n",
    "      if n == len({Q[i]+i for i in sqs}) == len({Q[i]-i for i in sqs}))"
   ]
  },
  {
   "cell_type": "markdown",
   "metadata": {
    "slideshow": {
     "slide_type": "subslide"
    }
   },
   "source": [
    "# Copying"
   ]
  },
  {
   "cell_type": "code",
   "execution_count": null,
   "metadata": {
    "slideshow": {
     "slide_type": "subslide"
    }
   },
   "outputs": [],
   "source": [
    "a = [1, 2, 3, 4]\n",
    "b = a\n",
    "b is a"
   ]
  },
  {
   "cell_type": "code",
   "execution_count": null,
   "metadata": {
    "slideshow": {
     "slide_type": "subslide"
    }
   },
   "outputs": [],
   "source": [
    "b = a[:]\n",
    "b is a"
   ]
  },
  {
   "cell_type": "code",
   "execution_count": null,
   "metadata": {
    "slideshow": {
     "slide_type": "subslide"
    }
   },
   "outputs": [],
   "source": [
    "d = dict(a=1,b=2)\n",
    "d"
   ]
  },
  {
   "cell_type": "code",
   "execution_count": null,
   "metadata": {
    "slideshow": {
     "slide_type": "subslide"
    }
   },
   "outputs": [],
   "source": [
    "c = d\n",
    "c is d"
   ]
  },
  {
   "cell_type": "code",
   "execution_count": null,
   "metadata": {
    "slideshow": {
     "slide_type": "subslide"
    }
   },
   "outputs": [],
   "source": [
    "c = d.copy()\n",
    "c\n",
    "c is d"
   ]
  },
  {
   "cell_type": "code",
   "execution_count": null,
   "metadata": {
    "slideshow": {
     "slide_type": "subslide"
    }
   },
   "outputs": [],
   "source": [
    "import copy\n",
    "class A:\n",
    "    def __init__(self, hodnota=None):\n",
    "        self.x = hodnota\n",
    "    def __repr__(self):\n",
    "        return('x=%s' % self.x)\n"
   ]
  },
  {
   "cell_type": "code",
   "execution_count": null,
   "metadata": {
    "slideshow": {
     "slide_type": "subslide"
    }
   },
   "outputs": [],
   "source": [
    "a = A(-99) \n",
    "a\n",
    "b_assign = a\n",
    "b_shallow = copy.copy(a)\n",
    "b_deep = copy.deepcopy(a)\n",
    "a.x = 9 \t\t\t\t\n",
    "print('a.x=%s, b_assign.x=%s, b_shallow.x=%s, b_deep.x=%s' % (a.x, b_assign.x, b_shallow.x, b_deep.x))"
   ]
  },
  {
   "cell_type": "code",
   "execution_count": null,
   "metadata": {
    "slideshow": {
     "slide_type": "subslide"
    }
   },
   "outputs": [],
   "source": [
    "a = A([-2,3]) \n",
    "a\n",
    "b_assign = a\n",
    "b_shallow = copy.copy(a)\n",
    "b_deep = copy.deepcopy(a)\n",
    "a.x[0] =  8\n",
    "print('a.x=%s, b_assign.x=%s, b_shallow.x=%s, b_deep.x=%s' % (a.x, b_assign.x, b_shallow.x, b_deep.x))"
   ]
  },
  {
   "cell_type": "code",
   "execution_count": null,
   "metadata": {
    "slideshow": {
     "slide_type": "subslide"
    }
   },
   "outputs": [],
   "source": [
    "a = [4,3,5,['pokus',2], A(-9)]\n",
    "a\n",
    "b_assign = a\n",
    "b_shallow = copy.copy(a)\n",
    "b_deep = copy.deepcopy(a)\n",
    "a[3] = 999; a[4].x = -6\n",
    "print('a=%s, b_assign.x=%s, b_shallow.x=%s, b_deep.x=%s' % (a, b_assign, b_shallow, b_deep))"
   ]
  },
  {
   "cell_type": "code",
   "execution_count": null,
   "metadata": {
    "slideshow": {
     "slide_type": "subslide"
    }
   },
   "outputs": [],
   "source": [
    "a = [4,3,5,['pokus',2], A(-9)]\n",
    "a\n",
    "b_assign = a\n",
    "b_shallow = copy.copy(a)\n",
    "b_deep = copy.deepcopy(a)\n",
    "a[3] = 999; a[4].x = -6\n",
    "b_slice = a[0:5]\n",
    "print('a=%s, b_assign.x=%s, b_shallow.x=%s, b_deep.x=%s, b_slice=%s' % (a, b_assign, b_shallow, b_deep, b_slice))"
   ]
  },
  {
   "cell_type": "markdown",
   "metadata": {
    "slideshow": {
     "slide_type": "subslide"
    }
   },
   "source": [
    "# Trees in Python"
   ]
  },
  {
   "cell_type": "code",
   "execution_count": null,
   "metadata": {
    "slideshow": {
     "slide_type": "subslide"
    }
   },
   "outputs": [],
   "source": [
    "class Tree:\n",
    "    def __init__(self, cargo, left=None, right=None):\n",
    "        self.cargo = cargo\n",
    "        self.left = left\n",
    "        self.right = right\n",
    "    def __str__(self):\n",
    "        return str(self.cargo)\n",
    "    \n",
    "left = Tree(2)\n",
    "right = Tree(3)\n",
    "tree1 = Tree(1, left, right)\n",
    "tree2 = Tree(1, Tree(2), Tree(3))\n"
   ]
  },
  {
   "cell_type": "markdown",
   "metadata": {
    "slideshow": {
     "slide_type": "subslide"
    }
   },
   "source": [
    "### Traversing trees"
   ]
  },
  {
   "cell_type": "code",
   "execution_count": null,
   "metadata": {
    "slideshow": {
     "slide_type": "subslide"
    }
   },
   "outputs": [],
   "source": [
    "def total(tree):\n",
    "    if tree == None: return 0\n",
    "    return total(tree.left) + total(tree.right) + tree.cargo\n",
    "\n",
    "tree = Tree('+', Tree(1), Tree('*', Tree(2), Tree(3)))\n",
    "\n",
    "def print_tree(tree):\n",
    "    if tree == None: return\n",
    "    print(tree.cargo, print_tree(tree.left), print_tree(tree.right))\n",
    "\n",
    "print_tree(tree)\t# + 1 * 2 3\n"
   ]
  },
  {
   "cell_type": "code",
   "execution_count": null,
   "metadata": {
    "slideshow": {
     "slide_type": "subslide"
    }
   },
   "outputs": [],
   "source": [
    "def print_tree_postorder(tree):\n",
    "    if tree == None: return\n",
    "    print_tree_postorder(tree.left)\n",
    "    print_tree_postorder(tree.right)\n",
    "    print(tree.cargo)\n",
    "        \n",
    "print_tree_postorder(tree)\n",
    "\n",
    "def print_tree_indented(tree, level=0):\n",
    "    if tree == None: return\n",
    "    print_tree_indented(tree.right, level+1)\n",
    "    print('  ' * level + str(tree.cargo))\n",
    "    print_tree_indented(tree.left, level+1)\n"
   ]
  },
  {
   "cell_type": "code",
   "execution_count": null,
   "metadata": {
    "slideshow": {
     "slide_type": "subslide"
    }
   },
   "outputs": [],
   "source": [
    "class TreeNode(list):\n",
    "    def __init__(self, iterable=(), **attributes):\n",
    "        self.attr = attributes\n",
    "        list.__init__(self, iterable)\n",
    "        \n",
    "    def __repr__(self):\n",
    "        return '%s(%s, %r)' % (type(self).__name__,list.__repr__(self), self.attr)\n"
   ]
  },
  {
   "cell_type": "markdown",
   "metadata": {
    "slideshow": {
     "slide_type": "subslide"
    }
   },
   "source": [
    "### Autovivification \n",
    "\n",
    "automatic creation of a reference to a name when referencing undefined value"
   ]
  },
  {
   "cell_type": "code",
   "execution_count": null,
   "metadata": {
    "slideshow": {
     "slide_type": "subslide"
    }
   },
   "outputs": [],
   "source": [
    "from collections import defaultdict\n",
    "def tree(): return defaultdict(tree)\n"
   ]
  },
  {
   "cell_type": "code",
   "execution_count": null,
   "metadata": {
    "slideshow": {
     "slide_type": "subslide"
    }
   },
   "outputs": [],
   "source": [
    "# a tree as a dictionary\n",
    "t1 = {40 : {30:{}, 50:{}}}\n",
    "t2 = {40: {30:{20:{}}, 50:{60:{}, 70:{}}}}\n",
    "t2"
   ]
  },
  {
   "cell_type": "code",
   "execution_count": null,
   "metadata": {
    "slideshow": {
     "slide_type": "subslide"
    }
   },
   "outputs": [],
   "source": [
    "# functions are first-class citizens\n",
    "def sqr(x):\n",
    "    return x*x\n",
    "def cube(x):\n",
    "    return x*x*x\n",
    "a = {'hello':sqr, 'world':cube}\n",
    "m = a['hello'](5)\n",
    "n = a['world'](10)\n"
   ]
  },
  {
   "cell_type": "code",
   "execution_count": null,
   "metadata": {
    "slideshow": {
     "slide_type": "subslide"
    }
   },
   "outputs": [],
   "source": [
    "# defaultdict\n",
    "from collections import defaultdict\n",
    "a = defaultdict()\n",
    "a['hello'] = 1\n",
    "a['hello']"
   ]
  },
  {
   "cell_type": "code",
   "execution_count": null,
   "metadata": {
    "slideshow": {
     "slide_type": "subslide"
    }
   },
   "outputs": [],
   "source": [
    "a['world']"
   ]
  },
  {
   "cell_type": "code",
   "execution_count": null,
   "metadata": {
    "slideshow": {
     "slide_type": "subslide"
    }
   },
   "outputs": [],
   "source": [
    "def always_one():\n",
    "    return 1\n",
    "\n",
    "a = defaultdict(always_one)\n",
    "a['hello'] = 10\n",
    "a['world']"
   ]
  },
  {
   "cell_type": "code",
   "execution_count": null,
   "metadata": {
    "slideshow": {
     "slide_type": "subslide"
    }
   },
   "outputs": [],
   "source": [
    "from collections import defaultdict\n",
    "def tree(): return defaultdict(tree)\n",
    "\n",
    "a = tree()\n",
    "# an instance of defaultdict, which has\n",
    "# function tree() as the constructor of\n",
    "# its value for non-existent keys\n",
    "# (similarly to aways_one)\n"
   ]
  },
  {
   "cell_type": "code",
   "execution_count": null,
   "metadata": {
    "slideshow": {
     "slide_type": "subslide"
    }
   },
   "outputs": [],
   "source": [
    "a[50]\n",
    "# key 50 is added to the dictionary, another\n",
    "# instance of the defaultdict as its value"
   ]
  },
  {
   "cell_type": "code",
   "execution_count": null,
   "metadata": {
    "slideshow": {
     "slide_type": "subslide"
    }
   },
   "outputs": [],
   "source": [
    "a[50][40]\n",
    "# a[50] is an instance defaultdict\n",
    "# a[50][40] indexes this instance using key 40\n",
    "# which does not exist\n",
    "# the key is added to this instance\n",
    "# and its value is set to the value returned\n",
    "# when calling tree() - yet another instance\n",
    "# of default dict"
   ]
  },
  {
   "cell_type": "code",
   "execution_count": null,
   "metadata": {
    "slideshow": {
     "slide_type": "subslide"
    }
   },
   "outputs": [],
   "source": [
    "a[50][60]\n",
    "a[50][70]\n",
    "a[50][40][20]\n",
    "a[50][40][25]\n",
    "a[50][40][25][23]\n",
    "a"
   ]
  },
  {
   "cell_type": "code",
   "execution_count": null,
   "metadata": {
    "slideshow": {
     "slide_type": "subslide"
    }
   },
   "outputs": [],
   "source": [
    "users = tree()\n",
    "users['harold']['username'] = 'hrldcpr'\n",
    "users['handler']['username'] = 'matthandlersux'\n",
    "\n",
    "import json\n",
    "print(json.dumps(users))\n"
   ]
  },
  {
   "cell_type": "code",
   "execution_count": null,
   "metadata": {
    "slideshow": {
     "slide_type": "subslide"
    }
   },
   "outputs": [],
   "source": [
    "taxonomy = tree()\n",
    "taxonomy['Animalia']['Chordata']['Mammalia']['Carnivora']['Felidae']['Felis']['cat']\n",
    "taxonomy['Animalia']['Chordata']['Mammalia']['Carnivora']['Felidae']['Panthera']['lion']\n",
    "taxonomy['Animalia']['Chordata']['Mammalia']['Carnivora']['Canidae']['Canis']['dog']\n",
    "taxonomy['Animalia']['Chordata']['Mammalia']['Carnivora']['Canidae']['Canis']['coyote']\n",
    "taxonomy['Plantae']['Solanales']['Solanaceae']['Solanum']['tomato']\n",
    "taxonomy['Plantae']['Solanales']['Solanaceae']['Solanum']['potato']\n",
    "taxonomy['Plantae']['Solanales']['Convolvulaceae']['Ipomoea']['sweet potato']"
   ]
  },
  {
   "cell_type": "code",
   "execution_count": null,
   "metadata": {
    "slideshow": {
     "slide_type": "subslide"
    }
   },
   "outputs": [],
   "source": [
    "def dicts(t): return {k: dicts(t[k]) for k in t}\n",
    "import pprint\n",
    "pprint.pprint(dicts(taxonomy))\n",
    " "
   ]
  },
  {
   "cell_type": "code",
   "execution_count": null,
   "metadata": {
    "slideshow": {
     "slide_type": "subslide"
    }
   },
   "outputs": [],
   "source": [
    "def add(t, keys):\n",
    "    for key in keys:\n",
    "        t = t[key]\n",
    "\n",
    "add(taxonomy, \n",
    "        'Animalia,Chordata,Mammalia,Cetacea,Balaenopteridae,Balaenoptera,blue whale'.split(','))\n",
    "\n",
    "pprint.pprint(dicts(taxonomy))\n"
   ]
  },
  {
   "cell_type": "markdown",
   "metadata": {
    "slideshow": {
     "slide_type": "slide"
    }
   },
   "source": [
    "## Misc"
   ]
  },
  {
   "cell_type": "markdown",
   "metadata": {
    "slideshow": {
     "slide_type": "subslide"
    }
   },
   "source": [
    "### Finding Monday from a Date\n",
    "\n",
    "If you have a date and want to normalize(say to previous or next Monday), you could do the following:"
   ]
  },
  {
   "cell_type": "code",
   "execution_count": null,
   "metadata": {
    "slideshow": {
     "slide_type": "subslide"
    }
   },
   "outputs": [],
   "source": [
    "import datetime\n",
    "some_date = datetime.date.today()\n",
    "previous_monday = some_date - datetime.timedelta(days=some_date.weekday())\n",
    "print(previous_monday)\n",
    "next_monday = some_date + datetime.timedelta(days=-some_date.weekday(), weeks=1)\n",
    "print(next_monday)"
   ]
  },
  {
   "cell_type": "markdown",
   "metadata": {
    "slideshow": {
     "slide_type": "subslide"
    }
   },
   "source": [
    "## Strip various html tags"
   ]
  },
  {
   "cell_type": "code",
   "execution_count": null,
   "metadata": {
    "slideshow": {
     "slide_type": "subslide"
    }
   },
   "outputs": [],
   "source": [
    "from html.parser import HTMLParser\n",
    "\n",
    "class HTMLStrip(HTMLParser):\n",
    "\n",
    "\n",
    "    def __init__(self):\n",
    "        self.reset()\n",
    "        self.ls = []\n",
    "\n",
    "    def handle_data(self, d):\n",
    "        self.ls.append(d)\n",
    "\n",
    "    def get_data(self):\n",
    "        return ''.join(self.ls)\n",
    "\n",
    "    @staticmethod\n",
    "    def strip(snippet):\n",
    "        html_strip = HTMLStrip()\n",
    "        html_strip.feed(snippet)\n",
    "        clean_text = html_strip.get_data()\n",
    "        return clean_text\n",
    "\n",
    "snippet = HTMLStrip.strip(html_snippet)"
   ]
  },
  {
   "cell_type": "markdown",
   "metadata": {
    "slideshow": {
     "slide_type": "subslide"
    }
   },
   "source": [
    "\n",
    "## Escape HTML"
   ]
  },
  {
   "cell_type": "code",
   "execution_count": null,
   "metadata": {
    "slideshow": {
     "slide_type": "subslide"
    }
   },
   "outputs": [],
   "source": [
    "import html\n",
    "escaped_snippet = html.escape(html_snippet)\n",
    "html_snippet = html.unescape(escaped_snippet)"
   ]
  },
  {
   "cell_type": "code",
   "execution_count": null,
   "metadata": {
    "slideshow": {
     "slide_type": "subslide"
    }
   },
   "outputs": [],
   "source": [
    "si = 'hello',"
   ]
  },
  {
   "cell_type": "code",
   "execution_count": null,
   "metadata": {
    "slideshow": {
     "slide_type": "subslide"
    }
   },
   "outputs": [],
   "source": [
    "print(si)"
   ]
  },
  {
   "cell_type": "code",
   "execution_count": null,
   "metadata": {
    "slideshow": {
     "slide_type": "subslide"
    }
   },
   "outputs": [],
   "source": [
    "empty = ()"
   ]
  },
  {
   "cell_type": "code",
   "execution_count": null,
   "metadata": {
    "slideshow": {
     "slide_type": "subslide"
    }
   },
   "outputs": [],
   "source": [
    "print(empty)"
   ]
  },
  {
   "cell_type": "code",
   "execution_count": null,
   "metadata": {
    "slideshow": {
     "slide_type": "subslide"
    }
   },
   "outputs": [],
   "source": [
    "a = set('abracadabra')"
   ]
  },
  {
   "cell_type": "code",
   "execution_count": null,
   "metadata": {
    "slideshow": {
     "slide_type": "fragment"
    }
   },
   "outputs": [],
   "source": [
    "a"
   ]
  },
  {
   "cell_type": "code",
   "execution_count": null,
   "metadata": {
    "slideshow": {
     "slide_type": "fragment"
    }
   },
   "outputs": [],
   "source": [
    "b = set('alacazam')\n",
    "b"
   ]
  },
  {
   "cell_type": "code",
   "execution_count": null,
   "metadata": {
    "slideshow": {
     "slide_type": "fragment"
    }
   },
   "outputs": [],
   "source": [
    "a ^ b"
   ]
  },
  {
   "cell_type": "code",
   "execution_count": null,
   "metadata": {
    "slideshow": {
     "slide_type": "subslide"
    }
   },
   "outputs": [],
   "source": [
    "a = {x for x in 'abracadabra' if x not in 'abc'}"
   ]
  },
  {
   "cell_type": "code",
   "execution_count": null,
   "metadata": {
    "slideshow": {
     "slide_type": "fragment"
    }
   },
   "outputs": [],
   "source": [
    "a"
   ]
  },
  {
   "cell_type": "markdown",
   "metadata": {
    "slideshow": {
     "slide_type": "slide"
    }
   },
   "source": [
    "## yield from"
   ]
  },
  {
   "cell_type": "code",
   "execution_count": null,
   "metadata": {
    "slideshow": {
     "slide_type": "subslide"
    }
   },
   "outputs": [],
   "source": [
    "def accumulate():\n",
    "    tally = 0\n",
    "    while 1:\n",
    "        next = yield\n",
    "        if next is None:\n",
    "            return tally\n",
    "        tally += next\n",
    "\n",
    "def gather_tallies(tallies):\n",
    "    while True:\n",
    "        tally = yield from accumulate()\n",
    "        tallies.append(tally)"
   ]
  },
  {
   "cell_type": "code",
   "execution_count": null,
   "metadata": {
    "slideshow": {
     "slide_type": "subslide"
    }
   },
   "outputs": [],
   "source": [
    "tallies = []\n",
    "acc = gather_tallies(tallies)\n",
    "next(acc) # Ensure the accumulator is ready to accept values\n",
    "for i in range(4):\n",
    "    acc.send(i)"
   ]
  },
  {
   "cell_type": "code",
   "execution_count": null,
   "metadata": {
    "slideshow": {
     "slide_type": "fragment"
    }
   },
   "outputs": [],
   "source": [
    "for i in range(5):\n",
    "    acc.send(i)\n",
    "    \n",
    "acc.send(None) # Finish the second tally\n",
    "tallies"
   ]
  },
  {
   "cell_type": "code",
   "execution_count": null,
   "metadata": {
    "slideshow": {
     "slide_type": "subslide"
    }
   },
   "outputs": [],
   "source": [
    "for i, v in enumerate(['tic', 'tac', 'toe']):\n",
    "    print(i, v)\n"
   ]
  },
  {
   "cell_type": "code",
   "execution_count": null,
   "metadata": {
    "slideshow": {
     "slide_type": "subslide"
    }
   },
   "outputs": [],
   "source": [
    "from time import sleep\n",
    "from tqdm import tqdm\n",
    "for i in tqdm(range(1000)):\n",
    "    sleep(0.01)"
   ]
  }
 ],
 "metadata": {
  "anaconda-cloud": {},
  "celltoolbar": "Slideshow",
  "kernelspec": {
   "display_name": "Python 3 (ipykernel)",
   "language": "python",
   "name": "python3"
  },
  "language_info": {
   "codemirror_mode": {
    "name": "ipython",
    "version": 3
   },
   "file_extension": ".py",
   "mimetype": "text/x-python",
   "name": "python",
   "nbconvert_exporter": "python",
   "pygments_lexer": "ipython3",
   "version": "3.9.13"
  },
  "livereveal": {
   "controls": true,
   "height": 855,
   "history": true,
   "minScale": 1,
   "progress": true,
   "scroll": false,
   "slideNumber": true,
   "start_slideshow_at": "selected",
   "theme": "simple",
   "transition": "linear",
   "width": 1140
  }
 },
 "nbformat": 4,
 "nbformat_minor": 1
}
