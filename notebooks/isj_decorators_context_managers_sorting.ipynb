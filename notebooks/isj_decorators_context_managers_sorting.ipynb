{
 "cells": [
  {
   "cell_type": "code",
   "execution_count": null,
   "metadata": {
    "slideshow": {
     "slide_type": "slide"
    }
   },
   "outputs": [],
   "source": [
    "def add_question(question, pool, quiz=[]):\n",
    "    quiz.append(pool[question])\n",
    "    return quiz"
   ]
  },
  {
   "cell_type": "code",
   "execution_count": null,
   "metadata": {
    "slideshow": {
     "slide_type": "slide"
    }
   },
   "outputs": [],
   "source": [
    "def gen_quiz(qpool, *i, **kwargs):\n",
    "    altcodes = kwargs['altcodes']\n",
    "    quiz = kwargs['quiz']"
   ]
  },
  {
   "cell_type": "markdown",
   "metadata": {
    "slideshow": {
     "slide_type": "slide"
    }
   },
   "source": [
    "# Python Decorators"
   ]
  },
  {
   "cell_type": "code",
   "execution_count": 10,
   "metadata": {
    "hide_input": false,
    "slideshow": {
     "slide_type": "subslide"
    }
   },
   "outputs": [
    {
     "data": {
      "text/plain": [
       "'Hello, Sunshine'"
      ]
     },
     "execution_count": 10,
     "metadata": {},
     "output_type": "execute_result"
    }
   ],
   "source": [
    "def greet(name):\n",
    "    return 'Hello, ' + name\n",
    "def apply(func, arg):\n",
    "    return func(arg)\n",
    "apply(greet, 'Sunshine')"
   ]
  },
  {
   "cell_type": "code",
   "execution_count": 11,
   "metadata": {
    "hide_input": false,
    "slideshow": {
     "slide_type": "subslide"
    }
   },
   "outputs": [
    {
     "name": "stdout",
     "output_type": "stream",
     "text": [
      "('harsher punishment for parole violators',)\n",
      "{'and_also': 'world peace'}\n"
     ]
    },
    {
     "data": {
      "text/plain": [
       "'That would be harsher punishment for parole violators and, of course, world peace'"
      ]
     },
     "execution_count": 11,
     "metadata": {},
     "output_type": "execute_result"
    }
   ],
   "source": [
    "def most_important_thing(said, and_also):\n",
    "    return 'That would be ' + said + ' and, of course, ' + and_also\n",
    "def apply(func, *args, **kwargs):\n",
    "    print(args)\n",
    "    print(kwargs)\n",
    "    return func(*args, **kwargs)\n",
    "gracie_hart = 'harsher punishment for parole violators'\n",
    "apply(most_important_thing, gracie_hart, and_also = 'world peace')"
   ]
  },
  {
   "cell_type": "markdown",
   "metadata": {
    "slideshow": {
     "slide_type": "subslide"
    }
   },
   "source": [
    "http://tooblippe.github.io/insightstack-blog/2014/05/05/decorators/"
   ]
  },
  {
   "cell_type": "markdown",
   "metadata": {
    "slideshow": {
     "slide_type": "subslide"
    }
   },
   "source": [
    "This document captures the essential elements of decorators, based on the work of others.  The text here is brief, please consult the references for more details"
   ]
  },
  {
   "cell_type": "markdown",
   "metadata": {
    "slideshow": {
     "slide_type": "subslide"
    }
   },
   "source": [
    "## Decorators, why?"
   ]
  },
  {
   "cell_type": "markdown",
   "metadata": {
    "slideshow": {
     "slide_type": "subslide"
    }
   },
   "source": [
    "- add functionality to existing functions and classes.\n",
    "- do timing on functions.\n",
    "- perform pre- and post-formatting on data.\n",
    "- diagnostics and testing.\n",
    "- perform monkey patching.\n"
   ]
  },
  {
   "cell_type": "markdown",
   "metadata": {
    "slideshow": {
     "slide_type": "subslide"
    }
   },
   "source": [
    "## Decorator concepts"
   ]
  },
  {
   "cell_type": "markdown",
   "metadata": {
    "slideshow": {
     "slide_type": "subslide"
    }
   },
   "source": [
    "In http://simeonfranklin.com/blog/2012/jul/1/python-decorators-in-12-steps/ Franklin provides the ground work for building up to the punchline"
   ]
  },
  {
   "cell_type": "markdown",
   "metadata": {
    "slideshow": {
     "slide_type": "subslide"
    }
   },
   "source": [
    "1\\. It all starts with Python functions that has a name, an optional list of parameters (positional and named/default) and can return a value."
   ]
  },
  {
   "cell_type": "markdown",
   "metadata": {
    "slideshow": {
     "slide_type": "subslide"
    }
   },
   "source": [
    "2\\. Variables defined inside a function has scope only inside the function."
   ]
  },
  {
   "cell_type": "markdown",
   "metadata": {
    "slideshow": {
     "slide_type": "subslide"
    }
   },
   "source": [
    "3\\. Variable names are resolved (for access) with the [LEGB](http://nbviewer.ipython.org/github/rasbt/python_reference/blob/master/tutorials/scope_resolution_legb_rule.ipynb) (local, enclosing, global, built-in) rule. The first name found is used.  Inner scopes have read access to outer scopes, but not write/change access."
   ]
  },
  {
   "cell_type": "markdown",
   "metadata": {
    "slideshow": {
     "slide_type": "subslide"
    }
   },
   "source": [
    "4\\. Variables have lifetime only in the scope that exists at any moment."
   ]
  },
  {
   "cell_type": "markdown",
   "metadata": {
    "slideshow": {
     "slide_type": "subslide"
    }
   },
   "source": [
    "5\\. Variables passed as function parameters become local variables in the function."
   ]
  },
  {
   "cell_type": "markdown",
   "metadata": {
    "slideshow": {
     "slide_type": "subslide"
    }
   },
   "source": [
    "6\\. Python allows nested functions, with the normal scoping rules. In this code `inner` is a local variable in the function `outer`, it just happens to be a function:"
   ]
  },
  {
   "cell_type": "code",
   "execution_count": 12,
   "metadata": {
    "code_folding": [],
    "hide_input": false,
    "slideshow": {
     "slide_type": "subslide"
    }
   },
   "outputs": [
    {
     "name": "stdout",
     "output_type": "stream",
     "text": [
      "1\n"
     ]
    }
   ],
   "source": [
    "def outer():\n",
    "    x = 1\n",
    "    def inner():\n",
    "        print(x)\n",
    "    inner()\n",
    "    \n",
    "outer()    "
   ]
  },
  {
   "cell_type": "markdown",
   "metadata": {
    "hide_input": false,
    "slideshow": {
     "slide_type": "subslide"
    }
   },
   "source": [
    "7\\. Functions are objects that/(whose names) can be passed as variables to functions and can be returned from functions. "
   ]
  },
  {
   "cell_type": "code",
   "execution_count": 13,
   "metadata": {
    "hide_input": false,
    "slideshow": {
     "slide_type": "subslide"
    }
   },
   "outputs": [
    {
     "data": {
      "text/plain": [
       "3"
      ]
     },
     "execution_count": 13,
     "metadata": {},
     "output_type": "execute_result"
    }
   ],
   "source": [
    "def add(x, y):\n",
    "    return x + y\n",
    "def apply(func, x, y):\n",
    "    return func(x, y)\n",
    "apply(add, 2, 1)"
   ]
  },
  {
   "cell_type": "markdown",
   "metadata": {
    "slideshow": {
     "slide_type": "subslide"
    }
   },
   "source": [
    "In this example, `inner` is redefined every time when `outer()` is executed. The function `outer` returns the function name `inner` which can be called with `()`."
   ]
  },
  {
   "cell_type": "code",
   "execution_count": 1,
   "metadata": {
    "hide_input": false,
    "slideshow": {
     "slide_type": "subslide"
    }
   },
   "outputs": [
    {
     "name": "stdout",
     "output_type": "stream",
     "text": [
      "<function outer at 0x000001DE2E2A74C0>\n",
      "Starting outer\n",
      "<function outer.<locals>.inner at 0x000001DE2E2A7670>\n",
      "Starting outer\n",
      "Starting outer\n",
      "Inside inner\n"
     ]
    }
   ],
   "source": [
    "def outer():\n",
    "    print('Starting outer')\n",
    "    def inner():\n",
    "        print('Inside inner')\n",
    "    return inner\n",
    "\n",
    "print(outer)\n",
    "print(outer())\n",
    "outer()\n",
    "outer()()\n"
   ]
  },
  {
   "cell_type": "markdown",
   "metadata": {
    "slideshow": {
     "slide_type": "subslide"
    }
   },
   "source": [
    "Python supports function closure, which means that non-global functions remember what their enclosing namespaces looked like at definition time, even if the enclosing environment (function in this case) goes out of scope.   In this example the variable `x` goes out of scope when `outer()` returns `inner` to the variable `foo`, but `inner` still remembers the value when `foo()` is executed."
   ]
  },
  {
   "cell_type": "code",
   "execution_count": 15,
   "metadata": {
    "hide_input": false,
    "slideshow": {
     "slide_type": "subslide"
    }
   },
   "outputs": [
    {
     "name": "stdout",
     "output_type": "stream",
     "text": [
      "(<cell at 0x000001FC3242A198: int object at 0x00000000563936A0>,)\n",
      "1\n"
     ]
    }
   ],
   "source": [
    "def outer():\n",
    "    x = 1\n",
    "    def inner():\n",
    "        print(x)\n",
    "    return inner\n",
    "foo = outer()\n",
    "# x is out of scope at this point\n",
    "print(foo.__closure__) \n",
    "foo()"
   ]
  },
  {
   "cell_type": "markdown",
   "metadata": {
    "slideshow": {
     "slide_type": "subslide"
    }
   },
   "source": [
    "Here is an example of how closure can build custom functions:"
   ]
  },
  {
   "cell_type": "code",
   "execution_count": 9,
   "metadata": {
    "hide_input": false,
    "slideshow": {
     "slide_type": "subslide"
    }
   },
   "outputs": [
    {
     "name": "stdout",
     "output_type": "stream",
     "text": [
      "1\n",
      "2\n"
     ]
    }
   ],
   "source": [
    "def outer(x):\n",
    "    def inner():\n",
    "        print(x)\n",
    "    return inner\n",
    "print1 = outer(1)\n",
    "print2 = outer(2)\n",
    "print1()\n",
    "print2()\n"
   ]
  },
  {
   "cell_type": "markdown",
   "metadata": {
    "slideshow": {
     "slide_type": "subslide"
    }
   },
   "source": [
    "9\\. A decorator is a function that takes a function name as an argument and returns a replacement function, which can be called elsewhere. Here is the principle at work for a function with no parameters:"
   ]
  },
  {
   "cell_type": "code",
   "execution_count": 2,
   "metadata": {
    "hide_input": false,
    "slideshow": {
     "slide_type": "subslide"
    }
   },
   "outputs": [
    {
     "name": "stdout",
     "output_type": "stream",
     "text": [
      "before some_func - do whatever you want before\n",
      "after some_func - do whatever you want after\n"
     ]
    },
    {
     "data": {
      "text/plain": [
       "2"
      ]
     },
     "execution_count": 2,
     "metadata": {},
     "output_type": "execute_result"
    }
   ],
   "source": [
    "def outer(some_func):\n",
    "    def inner():\n",
    "        print('before some_func - do whatever you want before')\n",
    "        ret = some_func()\n",
    "        print('after some_func - do whatever you want after')\n",
    "        return ret + 1\n",
    "    return inner\n",
    "def foo():\n",
    "    return 1\n",
    "decorated = outer(foo)\n",
    "decorated()"
   ]
  },
  {
   "cell_type": "markdown",
   "metadata": {
    "slideshow": {
     "slide_type": "subslide"
    }
   },
   "source": [
    "If we want to keep the `foo` function name, just reassign it to the decorated function, then calling `foo` will call the decorated function.\n",
    "\n",
    "Caveat IPython cell memory!  Run the following cell a few times...."
   ]
  },
  {
   "cell_type": "code",
   "execution_count": 5,
   "metadata": {
    "hide_input": false,
    "slideshow": {
     "slide_type": "subslide"
    }
   },
   "outputs": [
    {
     "name": "stdout",
     "output_type": "stream",
     "text": [
      "<function outer.<locals>.inner at 0x0000025C404A59D0>\n",
      "before some_func - do whatever you want before\n",
      "before some_func - do whatever you want before\n",
      "before some_func - do whatever you want before\n",
      "after some_func - do whatever you want after\n",
      "after some_func - do whatever you want after\n",
      "after some_func - do whatever you want after\n"
     ]
    },
    {
     "data": {
      "text/plain": [
       "4"
      ]
     },
     "execution_count": 5,
     "metadata": {},
     "output_type": "execute_result"
    }
   ],
   "source": [
    "foo = outer(foo) # now becomes outer(foo), same as decorated above\n",
    "print(foo)\n",
    "foo() "
   ]
  },
  {
   "cell_type": "markdown",
   "metadata": {
    "slideshow": {
     "slide_type": "subslide"
    }
   },
   "source": [
    "10\\. The @ symbol applies a decorator to a function, as in \n",
    "\n",
    "    @decoratorname\n",
    "    def function():\n",
    "        pass"
   ]
  },
  {
   "cell_type": "markdown",
   "metadata": {
    "slideshow": {
     "slide_type": "subslide"
    }
   },
   "source": [
    "11\\. `*args` and `**kwargs` provides the means to pass along any number of function parameters.  This allows one to wrap/decorate any function, irrespective of its signature.  \n",
    "By using `*args` (list of function arguments) and `**kwargs` (dictionary of function keyword arguments) the decorator can be applied to functions and class methods alike, with any number of arguments.  The `*args` list  and `**kwargs` dictionary are just unrolled into the new `func` call."
   ]
  },
  {
   "cell_type": "markdown",
   "metadata": {
    "slideshow": {
     "slide_type": "subslide"
    }
   },
   "source": [
    "12\\. Simple example: printing function parameters before calling a function."
   ]
  },
  {
   "cell_type": "code",
   "execution_count": 21,
   "metadata": {
    "hide_input": false,
    "slideshow": {
     "slide_type": "subslide"
    }
   },
   "outputs": [],
   "source": [
    "def logger(func):\n",
    "    def inner(*args, **kwargs): \n",
    "        print('Arguments were: {}, {}'.format(args, kwargs))\n",
    "        rtnVal = func(*args, **kwargs)\n",
    "        print('Return value is: {}'.format(rtnVal))\n",
    "        return rtnVal\n",
    "    return inner"
   ]
  },
  {
   "cell_type": "code",
   "execution_count": 23,
   "metadata": {
    "hide_input": false,
    "slideshow": {
     "slide_type": "subslide"
    }
   },
   "outputs": [
    {
     "name": "stdout",
     "output_type": "stream",
     "text": [
      "Arguments were: (5, 4), {}\n",
      "Return value is: 20\n",
      "Arguments were: (2,), {}\n",
      "Return value is: 2\n",
      "Arguments were: (), {}\n",
      "Return value is: 2\n"
     ]
    },
    {
     "data": {
      "text/plain": [
       "2"
      ]
     },
     "execution_count": 23,
     "metadata": {},
     "output_type": "execute_result"
    }
   ],
   "source": [
    "@logger\n",
    "def foo1(x,y=1):\n",
    "    return x * y\n",
    "@logger\n",
    "def foo2():\n",
    "    return 2\n",
    "\n",
    "foo1(5,4)\n",
    "foo1(2)\n",
    "foo2()\n"
   ]
  },
  {
   "cell_type": "markdown",
   "metadata": {
    "slideshow": {
     "slide_type": "subslide"
    }
   },
   "source": [
    "13\\. Here is an example by [Farhad](http://thecodeship.com/patterns/guide-to-python-function-decorators/) of the decorator applied to a class method:"
   ]
  },
  {
   "cell_type": "code",
   "execution_count": 24,
   "metadata": {
    "hide_input": false,
    "slideshow": {
     "slide_type": "subslide"
    }
   },
   "outputs": [
    {
     "name": "stdout",
     "output_type": "stream",
     "text": [
      "<bound method p_decorate.<locals>.inner of <__main__.Person object at 0x000001FC324E6588>>\n"
     ]
    }
   ],
   "source": [
    "def p_decorate(func):\n",
    "   def inner(*args, **kwargs):\n",
    "       return \"<p>{0}</p>\".format(func(*args, **kwargs))\n",
    "   return inner\n",
    "\n",
    "class Person(object):\n",
    "    def __init__(self):\n",
    "        self.name = \"John\"\n",
    "        self.family = \"Doe\"\n",
    "\n",
    "    @p_decorate\n",
    "    def get_fullname(self):\n",
    "        return self.name+\" \"+self.family\n",
    "\n",
    "my_person = Person()\n",
    "\n",
    "print(my_person.get_fullname)"
   ]
  },
  {
   "cell_type": "markdown",
   "metadata": {
    "slideshow": {
     "slide_type": "subslide"
    }
   },
   "source": [
    "### Passing arguments to decorators"
   ]
  },
  {
   "cell_type": "markdown",
   "metadata": {
    "slideshow": {
     "slide_type": "subslide"
    }
   },
   "source": [
    "Decorators can be passed arguments by using an *additional* level of function nesting around the decorators seen thus far.\n",
    "\n",
    "This [Farhad](http://thecodeship.com/patterns/guide-to-python-function-decorators/) example passes arguments to the decorator function:\n"
   ]
  },
  {
   "cell_type": "code",
   "execution_count": 25,
   "metadata": {
    "hide_input": false,
    "slideshow": {
     "slide_type": "subslide"
    }
   },
   "outputs": [
    {
     "name": "stdout",
     "output_type": "stream",
     "text": [
      "<p><strong>Hello John</strong></p>\n"
     ]
    }
   ],
   "source": [
    "def tags(tag_name):\n",
    "    def tags_decorator(func):\n",
    "        def inner(name):\n",
    "            return '<{0}>{1}</{0}>'.format(tag_name, func(name))\n",
    "        return inner\n",
    "    return tags_decorator\n",
    "\n",
    "@tags('p')\n",
    "@tags('strong')\n",
    "def get_text(name):\n",
    "    return 'Hello '+name\n",
    "\n",
    "print(get_text('John'))\n"
   ]
  },
  {
   "cell_type": "markdown",
   "metadata": {
    "slideshow": {
     "slide_type": "subslide"
    }
   },
   "source": [
    "You can also pass conditionals to decorators to change behaviour."
   ]
  },
  {
   "cell_type": "code",
   "execution_count": 26,
   "metadata": {
    "hide_input": false,
    "slideshow": {
     "slide_type": "subslide"
    }
   },
   "outputs": [
    {
     "name": "stdout",
     "output_type": "stream",
     "text": [
      "True\n",
      "skipped function call\n",
      "False\n",
      "in myFunc\n"
     ]
    }
   ],
   "source": [
    "def skipIf(conditional, message):\n",
    "    def dec(func):\n",
    "        def inner(*args, **kwargs):\n",
    "            if conditional:\n",
    "                print(message)\n",
    "            else:\n",
    "                return func(*args, **kwargs)\n",
    "        return inner\n",
    "    return dec\n",
    "\n",
    "logical = [True, False]\n",
    "for log in logical:\n",
    "    print(log)\n",
    "    @skipIf(log, 'skipped function call')\n",
    "    def myFunc():\n",
    "        print('in myFunc')\n",
    "    myFunc()"
   ]
  },
  {
   "cell_type": "markdown",
   "metadata": {
    "slideshow": {
     "slide_type": "subslide"
    }
   },
   "source": [
    "## Decorators and function attributes"
   ]
  },
  {
   "cell_type": "markdown",
   "metadata": {
    "slideshow": {
     "slide_type": "subslide"
    }
   },
   "source": [
    "The decorating wrapper as shown above overwrites the function's attributes, so the wrapped function's attributes are lost."
   ]
  },
  {
   "cell_type": "code",
   "execution_count": 6,
   "metadata": {
    "hide_input": false,
    "slideshow": {
     "slide_type": "subslide"
    }
   },
   "outputs": [
    {
     "name": "stdout",
     "output_type": "stream",
     "text": [
      "inner\n",
      "None\n",
      "__main__\n"
     ]
    }
   ],
   "source": [
    "def tags(tag_name):\n",
    "    def tags_decorator(func):\n",
    "        def inner(name):\n",
    "            return \"<{0}>{1}</{0}>\".format(tag_name, func(name))\n",
    "        return inner\n",
    "    return tags_decorator\n",
    "\n",
    "@tags(\"p\")\n",
    "def get_text(name):\n",
    "    \"\"\"returns some text\"\"\"\n",
    "    return \"Hello \"+name\n",
    "\n",
    "print(get_text.__name__) # get_text\n",
    "print(get_text.__doc__) # returns some text\n",
    "print(get_text.__module__) # __main__\n"
   ]
  },
  {
   "cell_type": "markdown",
   "metadata": {
    "slideshow": {
     "slide_type": "subslide"
    }
   },
   "source": [
    "The functools module contains `functools.wraps`, a decorator for updating the attributes of the wrapping function to those of the original function. This is as simple as decorating the inner function with `@wraps(func)`. [Farhad's](http://thecodeship.com/patterns/guide-to-python-function-decorators/) example:"
   ]
  },
  {
   "cell_type": "code",
   "execution_count": 27,
   "metadata": {
    "hide_input": false,
    "slideshow": {
     "slide_type": "subslide"
    }
   },
   "outputs": [
    {
     "name": "stdout",
     "output_type": "stream",
     "text": [
      "get_text\n",
      "returns some text\n",
      "__main__\n"
     ]
    }
   ],
   "source": [
    "from functools import wraps\n",
    "\n",
    "def tags(tag_name):\n",
    "    def tags_decorator(func):\n",
    "        @wraps(func)\n",
    "        def inner(name):\n",
    "            return \"<{0}>{1}</{0}>\".format(tag_name, func(name))\n",
    "        return inner\n",
    "    return tags_decorator\n",
    "\n",
    "@tags(\"p\")\n",
    "def get_text(name):\n",
    "    \"\"\"returns some text\"\"\"\n",
    "    return \"Hello \"+name\n",
    "\n",
    "print(get_text.__name__) # get_text\n",
    "print(get_text.__doc__) # returns some text\n",
    "print(get_text.__module__) # __main__\n"
   ]
  },
  {
   "cell_type": "markdown",
   "metadata": {
    "slideshow": {
     "slide_type": "subslide"
    }
   },
   "source": [
    "Graham Dumpleton created a library called [`wrapt`](https://pypi.python.org/pypi/wrapt), going much beyond `wraps`. Dumpleton writes: \"To  provide a transparent object proxy for Python, which can be used as the basis for the construction of function wrappers and decorator functions. \n",
    "It therefore goes way beyond existing mechanisms such as functools.wraps() to ensure that decorators preserve introspectability, signatures, type checking abilities etc. The decorators that can be constructed using this module will work in far more scenarios than typical decorators and provide more predictable and consistent behaviour.\""
   ]
  },
  {
   "cell_type": "markdown",
   "metadata": {
    "slideshow": {
     "slide_type": "subslide"
    }
   },
   "source": [
    "## Decorator classes"
   ]
  },
  {
   "cell_type": "markdown",
   "metadata": {
    "slideshow": {
     "slide_type": "subslide"
    }
   },
   "source": [
    "The decorator wrapper must be a callable, such as a function (shown above) or a class with a `__call__()` member function. Hence classes can also be used as decorators.  Class decorators are slightly more involved than function decorators, but implements the same functionality. See [Eckel's blogs](https://www.artima.com/weblogs/viewpost.jsp?thread=240845) \n",
    "\n",
    "When using the class as a decorator, the class is initialised and remembers the original function, whereas function decorators reassign the original function name to the newly wrapped function name.\n",
    "\n",
    "Use `functools.update_wrapper()` to make available the wrapped functions attributes to the decorator wrapping class.\n"
   ]
  },
  {
   "cell_type": "code",
   "execution_count": 10,
   "metadata": {
    "hide_input": false,
    "slideshow": {
     "slide_type": "subslide"
    }
   },
   "outputs": [
    {
     "name": "stdout",
     "output_type": "stream",
     "text": [
      "inside myDecorator.__init__()\n",
      "Finished decorating aFunction()\n",
      "\n",
      "Entering aFunction\n",
      "inside aFunction()\n",
      "Exited aFunction\n",
      "\n",
      "Wrapped function name is aFunction\n",
      "Wrapped docstring is \"aFunction does aThing\"\n"
     ]
    }
   ],
   "source": [
    "from functools import update_wrapper\n",
    "\n",
    "class myDecorator(object):\n",
    "\n",
    "    def __init__(self, f):\n",
    "        print('inside myDecorator.__init__()')\n",
    "        self.f = f\n",
    "        update_wrapper(self, f)\n",
    "\n",
    "    def __call__(self):\n",
    "        print(\"Entering\", self.f.__name__)\n",
    "        self.f()\n",
    "        print(\"Exited\", self.f.__name__)\n",
    "\n",
    "@myDecorator\n",
    "def aFunction():\n",
    "    \"\"\"aFunction does aThing\"\"\"\n",
    "    print('inside aFunction()')\n",
    "\n",
    "print('Finished decorating aFunction()\\n')\n",
    "\n",
    "aFunction()\n",
    "\n",
    "print('\\nWrapped function name is {}'.format(aFunction.__name__))\n",
    "print('Wrapped docstring is \"{}\"'.format(aFunction.__doc__))"
   ]
  },
  {
   "cell_type": "markdown",
   "metadata": {
    "slideshow": {
     "slide_type": "subslide"
    }
   },
   "source": [
    "\n",
    "Class decorators can also have parameters. This time the decorator class implementation is a lot more complex than the decorator function implementation."
   ]
  },
  {
   "cell_type": "code",
   "execution_count": null,
   "metadata": {
    "hide_input": false,
    "slideshow": {
     "slide_type": "subslide"
    }
   },
   "outputs": [],
   "source": [
    "class decoratorWithArguments(object):\n",
    "\n",
    "    def __init__(self, arg1, arg2, arg3):\n",
    "        \"\"\"\n",
    "        If there are decorator arguments, the function\n",
    "        to be decorated is not passed to the constructor!\n",
    "        \"\"\"\n",
    "        print('Inside __init__()')\n",
    "        self.arg1 = arg1\n",
    "        self.arg2 = arg2\n",
    "        self.arg3 = arg3\n",
    "\n",
    "    def __call__(self, f):\n",
    "        \"\"\"\n",
    "        If there are decorator arguments, __call__() is only called\n",
    "        once, as part of the decoration process! You can only give\n",
    "        it a single argument, which is the function object.\n",
    "        \"\"\"\n",
    "        print('Inside __call__()')\n",
    "        def wrapped_f(*args):\n",
    "            print('Inside wrapped_f()')\n",
    "            print('Decorator arguments: {} {} {} '.format(self.arg1, self.arg2, self.arg3))\n",
    "            f(*args)\n",
    "            print('After f(*args)')\n",
    "        return wrapped_f\n",
    "\n",
    "@decoratorWithArguments(\"hello\", \"world\", 42)\n",
    "def sayHello(a1, a2, a3, a4):\n",
    "    print('sayHello arguments: {} {} {} {}'.format(a1, a2, a3, a4))\n",
    "\n",
    "print('After decoration')\n",
    "\n",
    "print('Preparing to call sayHello()')\n",
    "sayHello(\"say\", \"hello\", \"argument\", \"list\")\n",
    "print('after first sayHello() call')\n",
    "sayHello(\"a\", \"different\", \"set of\", \"arguments\")\n",
    "print('after second sayHello() call')"
   ]
  },
  {
   "cell_type": "markdown",
   "metadata": {
    "slideshow": {
     "slide_type": "subslide"
    }
   },
   "source": [
    "This seems overly complex and confusing, but I guess it might be required for some sophisticated applications. In [Eckel's](https://www.artima.com/weblogs/viewpost.jsp?thread=240845) own words:\n",
    "\n",
    "\"Now the process of decoration calls the constructor and then immediately invokes `__call__()`, which can only take a single argument (the function object) and must return the decorated function object that replaces the original. Notice that `__call__()` is now only invoked once, during decoration, and after that the decorated function that you return from `__call__()` is used for the actual calls.\"\n",
    "\n",
    "\"Although this behavior makes sense -- the constructor is now used to capture the decorator arguments, but the object `__call__()` can no longer be used as the decorated function call, so you must instead use `__call__()` to perform the decoration -- it is nonetheless surprising the first time you see it because it's acting so much differently than the no-argument case, and you must code the decorator very differently from the no-argument case.\""
   ]
  },
  {
   "cell_type": "markdown",
   "metadata": {
    "slideshow": {
     "slide_type": "subslide"
    }
   },
   "source": [
    "## Decorating classes"
   ]
  },
  {
   "cell_type": "markdown",
   "metadata": {
    "slideshow": {
     "slide_type": "subslide"
    }
   },
   "source": [
    "All the examples thus far decorated/wrapped functions.  Can classes be decorated?  Based on this blog by [da Palma](http://andrefsp.wordpress.com/2012/08/23/writing-a-class-decorator-in-python/), it seems that there are two options: (1) decorating a class by decorating each of its member functions and (2) where you write a class decorator and select which methods to decorate passing their names as the decorator arguments.\n",
    "I repeat his code below exactly as blogged."
   ]
  },
  {
   "cell_type": "code",
   "execution_count": null,
   "metadata": {
    "hide_input": false,
    "slideshow": {
     "slide_type": "subslide"
    }
   },
   "outputs": [],
   "source": [
    "def method_decorator(fn):\n",
    "    \"Example of a method decorator\"\n",
    "    def decorator(*args, **kwargs):\n",
    "        print(\"\\tInside the decorator\")\n",
    "        return fn(*args, **kwargs)\n",
    "\n",
    "    return decorator\n",
    "\n",
    "class MyFirstClass(object):\n",
    "    \"\"\"\n",
    "    This class has all its methods decorated\n",
    "    \"\"\"\n",
    "    @method_decorator\n",
    "    def first_method(self, *args, **kwargs):\n",
    "        print(\"\\t\\tthis is a the MyFirstClass.first_method\")\n",
    "\n",
    "    @method_decorator\n",
    "    def second_method(self, *args, **kwargs):\n",
    "        print(\"\\t\\tthis is the MyFirstClass.second_method\")\n",
    "\n",
    "if __name__ == \"__main__\":\n",
    "    print(\"::: With decorated methods :::\")\n",
    "    x = MyFirstClass()\n",
    "    x.first_method()\n",
    "    x.second_method()"
   ]
  },
  {
   "cell_type": "code",
   "execution_count": null,
   "metadata": {
    "hide_input": false,
    "slideshow": {
     "slide_type": "subslide"
    }
   },
   "outputs": [],
   "source": [
    "def method_decorator(fn):\n",
    "    \"Example of a method decorator\"\n",
    "    def decorator(*args, **kwargs):\n",
    "        print(\"\\tInside the decorator\")\n",
    "        return fn(*args, **kwargs)\n",
    "\n",
    "    return decorator\n",
    "\n",
    "\n",
    "def class_decorator(*method_names):\n",
    "    def class_rebuilder(cls):\n",
    "        \"The class decorator example\"\n",
    "        class NewClass(cls):\n",
    "            \"This is the overwritten class\"\n",
    "            def __getattribute__(self, attr_name):\n",
    "                obj = super(NewClass, self).__getattribute__(attr_name)\n",
    "                if hasattr(obj, '__call__') and attr_name in method_names:\n",
    "                    return method_decorator(obj)\n",
    "                return obj\n",
    "\n",
    "        return NewClass\n",
    "    return class_rebuilder\n",
    "\n",
    "\n",
    "@class_decorator('first_method', 'second_method')\n",
    "class MySecondClass(object):\n",
    "    \"\"\"\n",
    "    This class is decorated\n",
    "    \"\"\"\n",
    "    def first_method(self, *args, **kwargs):\n",
    "        print(\"\\t\\tthis is a the MySecondClass.first_method\")\n",
    "\n",
    "    def second_method(self, *args, **kwargs):\n",
    "        print(\"\\t\\tthis is the MySecondClass.second_method\")\n",
    "\n",
    "if __name__ == \"__main__\":\n",
    "    print(\"::: With a decorated class :::\")\n",
    "    z = MySecondClass()\n",
    "    z.first_method()\n",
    "    z.second_method()"
   ]
  },
  {
   "cell_type": "markdown",
   "metadata": {
    "slideshow": {
     "slide_type": "subslide"
    }
   },
   "source": [
    "## Dumpleton's `warpt` module"
   ]
  },
  {
   "cell_type": "markdown",
   "metadata": {
    "slideshow": {
     "slide_type": "subslide"
    }
   },
   "source": [
    "I discoved [Dumpleton's work](http://wrapt.readthedocs.org/en/latest/) in his \n",
    "[Pycon 2014 video](https://www.youtube.com/watch?v=7jGtDGxgwEY), after all of the above was written. The writeup above is still valid but it is recommended that you use the [wrapt module](https://pypi.python.org/pypi/wrapt) for production work on decorators, wrappers and monkey patching. This module provides the required  robustness to decorators to behave as expected (e.g., as functions) under all conditions.  \n",
    "\n",
    "Dumpleton shows in his talk how the techniques described above have weaknesses when it comes to accessing the wrapped function's attributes and descriptors. During the talk, Dumpleton smiled and made the remark \"totally losing you at this point, I guess\" and \"I will let you digest that one...\". This is indeed the case when he goes into the very deep details of fixing the weaknesses of the simple decorators.  Fortunately you don't have to understand the inner details to use the [wrapt module](https://pypi.python.org/pypi/wrapt).\n",
    "\n",
    "Dumpleton's estimate is that 90% of all decorator requirements can be met by simple function closure wrappers (as described above) - but you lose significant introspection functionality. He recommends that you use [wrapt](http://wrapt.readthedocs.org/en/latest/) for developing libraries that will be used by other people."
   ]
  },
  {
   "cell_type": "markdown",
   "metadata": {
    "slideshow": {
     "slide_type": "subslide"
    }
   },
   "source": [
    "The `wrapt` module results in more compact code and full introspection functionality; no `inner` function coding is required."
   ]
  },
  {
   "cell_type": "code",
   "execution_count": null,
   "metadata": {
    "hide_input": false,
    "slideshow": {
     "slide_type": "subslide"
    }
   },
   "outputs": [],
   "source": [
    "import wrapt\n",
    "\n",
    "@wrapt.decorator\n",
    "def pass_through(wrapped, instance, args, kwargs):\n",
    "    return wrapped(*args, **kwargs)\n",
    "\n",
    "@pass_through\n",
    "def function():\n",
    "    \"\"\"Function docstring\"\"\"\n",
    "    print('Using wrapt with a decorator function and no decorator arguments')\n",
    "\n",
    "function()\n",
    "print('Function name'.format(function.__name__))\n",
    "print('Function doctring'.format(function.__doc__))\n"
   ]
  },
  {
   "cell_type": "code",
   "execution_count": null,
   "metadata": {
    "hide_input": false,
    "slideshow": {
     "slide_type": "subslide"
    }
   },
   "outputs": [],
   "source": [
    "import wrapt\n",
    "\n",
    "class with_arguments(object):\n",
    "\n",
    "    def __init__(self, myarg1, myarg2):\n",
    "        self.myarg1 = myarg1\n",
    "        self.myarg2 = myarg2\n",
    "\n",
    "    @wrapt.decorator\n",
    "    def __call__(self, wrapped, instance, args, kwargs):\n",
    "        return wrapped(*args, **kwargs)\n",
    "\n",
    "@with_arguments(1, 2)\n",
    "def function():\n",
    "    print('Using wrapt with a decorator class and decorator arguments')\n",
    "\n",
    "function()"
   ]
  },
  {
   "cell_type": "markdown",
   "metadata": {
    "slideshow": {
     "slide_type": "subslide"
    }
   },
   "source": [
    "`wrapt` decorators can be enabled and disabled by setting a flag.  If enabled, the wrapped function is returned, if disabled, the original function is returned."
   ]
  },
  {
   "cell_type": "code",
   "execution_count": null,
   "metadata": {
    "hide_input": false,
    "slideshow": {
     "slide_type": "subslide"
    }
   },
   "outputs": [],
   "source": [
    "for ENABLED in [True, False]:\n",
    "    print('\\nDecorator enabled is {}'.format(ENABLED))\n",
    "\n",
    "    @wrapt.decorator(enabled=ENABLED)\n",
    "    def pass_through(wrapped, instance, args, kwargs):\n",
    "        print('In decorator, before calling function')\n",
    "        wraptfun = wrapped(*args, **kwargs)\n",
    "        print('In decorator, after calling function')\n",
    "        return wraptfun\n",
    " \n",
    "    @pass_through\n",
    "    def function():\n",
    "        print('Executing function')\n",
    "    print(type(function))\n",
    "    function()\n",
    "\n"
   ]
  },
  {
   "cell_type": "markdown",
   "metadata": {
    "slideshow": {
     "slide_type": "subslide"
    }
   },
   "source": [
    "## Decorator applications"
   ]
  },
  {
   "cell_type": "markdown",
   "metadata": {
    "slideshow": {
     "slide_type": "subslide"
    }
   },
   "source": [
    "### Adding names to `__all__`"
   ]
  },
  {
   "cell_type": "markdown",
   "metadata": {
    "slideshow": {
     "slide_type": "subslide"
    }
   },
   "source": [
    "<http://code.activestate.com/recipes/576993-public-decorator-adds-an-item-to-__all__/>\n",
    "The DRY principle says, \"Don't repeat yourself\". A Python module typically defines a global variable named \"__all__\" that holds the names of everything the author wants visible. This means you have to type each function or class name a second time, and you have to maintain the contents of __all__ manually. The `@public` decorator fixes that.    \n",
    "    "
   ]
  },
  {
   "cell_type": "code",
   "execution_count": null,
   "metadata": {
    "hide_input": false,
    "slideshow": {
     "slide_type": "subslide"
    }
   },
   "outputs": [],
   "source": [
    "import sys\n",
    "\n",
    "def public(f):\n",
    "    \"\"\"\"Use a decorator to avoid retyping function/class names.\n",
    "\n",
    "    * Based on an idea by Duncan Booth:\n",
    "    http://groups.google.com/group/comp.lang.python/msg/11cbb03e09611b8a\n",
    "    * Improved via a suggestion by Dave Angel:\n",
    "    http://groups.google.com/group/comp.lang.python/msg/3d400fb22d8a42e1\n",
    "    \"\"\"\n",
    "    all = sys.modules[f.__module__].__dict__.setdefault('__all__', [])\n",
    "    if f.__name__ not in all:  # Prevent duplicates if run from an IDE.\n",
    "        all.append(f.__name__)\n",
    "    return f\n",
    "public(public)  # Emulate decorating ourself\n"
   ]
  },
  {
   "cell_type": "markdown",
   "metadata": {
    "slideshow": {
     "slide_type": "subslide"
    }
   },
   "source": [
    "I've seen two techniques for exporting variables. One is to have a simple assignment somewhere (usually at the beginning or end of the module): `__all__ = [ 'foo', 'bar' ]`\n",
    "\n",
    "This separates the exportation from the item's definition, so other people do this:\n",
    "     __all__ = []\n",
    "     ... \n",
    "     def foo(...): \n",
    "     ... \n",
    "     __all__.append('foo')\n",
    "     class bar(...):\n",
    "     ... \n",
    "     __all__.append('bar')\n",
    "\n",
    "This is better, but it still puts the code at the bottom of the item's declaration.\n",
    "\n",
    "My solution is this:\n",
    "\n",
    "    import public from my_utilites\n",
    "\n",
    "    @public def foo(...): ...\n",
    "\n",
    "    @public class bar(...): ...\n"
   ]
  },
  {
   "cell_type": "code",
   "execution_count": null,
   "metadata": {
    "slideshow": {
     "slide_type": "subslide"
    }
   },
   "outputs": [],
   "source": [
    "# minitask 8\n",
    "\n",
    "@deprecated\n",
    "def some_old_function(x, y):\n",
    "    return x + y\n",
    "\n",
    "# Calling:\n",
    "some_old_function(1,y=2)\n",
    "\n",
    "# should print:\n",
    "# Call to deprecated function: some_old_function\n",
    "# with args: (1,)\n",
    "# with kwargs: {'y': 2}\n",
    "# returning: 3"
   ]
  },
  {
   "cell_type": "markdown",
   "metadata": {
    "slideshow": {
     "slide_type": "subslide"
    }
   },
   "source": [
    "### Context managers\n",
    "see later"
   ]
  },
  {
   "cell_type": "markdown",
   "metadata": {
    "slideshow": {
     "slide_type": "subslide"
    }
   },
   "source": [
    "### Timing with decorators"
   ]
  },
  {
   "cell_type": "code",
   "execution_count": 30,
   "metadata": {
    "hide_input": false,
    "slideshow": {
     "slide_type": "subslide"
    }
   },
   "outputs": [
    {
     "name": "stdout",
     "output_type": "stream",
     "text": [
      "fn=myFunction time=1.790000533219427e-05\n",
      "0.5028432109278609\n"
     ]
    }
   ],
   "source": [
    "import math\n",
    "import time\n",
    "\n",
    "def time_dec(func):\n",
    "  def inner(*args, **kwargs):\n",
    "      t = time.clock()\n",
    "      res = func(*args, **kwargs)\n",
    "      print('fn={} time={}'.format(func.__name__, time.clock()-t))\n",
    "      return res\n",
    "  return inner\n",
    "\n",
    "@time_dec\n",
    "def myFunction(a):\n",
    "    return math.atan(a)\n",
    "    \n",
    "print(myFunction(0.55))    "
   ]
  },
  {
   "cell_type": "markdown",
   "metadata": {
    "slideshow": {
     "slide_type": "subslide"
    }
   },
   "source": [
    "### Chaining decorators\n",
    "\n",
    "Chaining decorators is simply wrapping decorators within decorators, within decorators...."
   ]
  },
  {
   "cell_type": "code",
   "execution_count": 31,
   "metadata": {
    "hide_input": false,
    "slideshow": {
     "slide_type": "subslide"
    }
   },
   "outputs": [
    {
     "name": "stdout",
     "output_type": "stream",
     "text": [
      "<b><i>hello world</i></b>\n"
     ]
    }
   ],
   "source": [
    "def makebold(fn):\n",
    "    def inner(*args, **kwargs):\n",
    "        return \"<b>\" + fn(*args, **kwargs) + \"</b>\"\n",
    "    return inner\n",
    "\n",
    "def makeitalic(fn):\n",
    "    def inner(*args, **kwargs):\n",
    "        return \"<i>\" + fn(*args, **kwargs) + \"</i>\"\n",
    "    return inner\n",
    "\n",
    "@makebold\n",
    "@makeitalic\n",
    "def hello():\n",
    "    return 'hello world'\n",
    "\n",
    "print(hello())"
   ]
  },
  {
   "cell_type": "markdown",
   "metadata": {
    "hide_input": true,
    "slideshow": {
     "slide_type": "subslide"
    }
   },
   "source": [
    "### Counting the number of times a function is called"
   ]
  },
  {
   "cell_type": "code",
   "execution_count": 42,
   "metadata": {
    "hide_input": false,
    "scrolled": true,
    "slideshow": {
     "slide_type": "subslide"
    }
   },
   "outputs": [
    {
     "name": "stdout",
     "output_type": "stream",
     "text": [
      "2\n"
     ]
    }
   ],
   "source": [
    "number_of_runs = 0\n",
    "\n",
    "def count(func):\n",
    "    def inner(*args, **kwargs):\n",
    "        global number_of_runs\n",
    "        number_of_runs += 1\n",
    "        return func(*args, **kwargs)\n",
    "    return inner\n",
    "\n",
    "@count\n",
    "def my_function():\n",
    "    pass\n",
    "\n",
    "number_of_runs = 0  \n",
    "my_function()\n",
    "my_function()\n",
    "\n",
    "print(number_of_runs)    "
   ]
  },
  {
   "cell_type": "markdown",
   "metadata": {
    "slideshow": {
     "slide_type": "subslide"
    }
   },
   "source": [
    "### Redirecting stdout to logger"
   ]
  },
  {
   "cell_type": "code",
   "execution_count": null,
   "metadata": {
    "hide_input": false,
    "slideshow": {
     "slide_type": "subslide"
    }
   },
   "outputs": [],
   "source": [
    "import logging\n",
    "import sys\n",
    "\n",
    "class LogPrinter:\n",
    "    '''LogPrinter class which serves to emulates a file object and logs\n",
    "       whatever it gets sent to a Logger object at the INFO level.'''\n",
    "    def __init__(self):\n",
    "        '''Grabs the specific logger to use for logprinting.'''\n",
    "        self.ilogger = logging.getLogger('logprinter')\n",
    "        il = self.ilogger\n",
    "        logging.basicConfig()\n",
    "        il.setLevel(logging.INFO)\n",
    "        hdlr = logging.FileHandler('logprinter.log')\n",
    "        formatter = logging.Formatter('%(asctime)s %(levelname)s %(message)s')\n",
    "        hdlr.setFormatter(formatter)\n",
    "        self.ilogger.addHandler(hdlr) \n",
    "\n",
    "    def write(self, text):\n",
    "        '''Logs written output to a specific logger'''\n",
    "        self.ilogger.info(text)\n",
    "\n",
    "def logprintinfo(func):\n",
    "    '''Wraps a method so that any calls made to print get logged instead'''\n",
    "    def pwrapper(*arg, **kwargs):\n",
    "        stdobak = sys.stdout\n",
    "        lpinstance = LogPrinter()\n",
    "        sys.stdout = lpinstance\n",
    "        try:\n",
    "            return func(*arg, **kwargs)\n",
    "        finally:\n",
    "            sys.stdout = stdobak\n",
    "    return pwrapper\n",
    "\n",
    "@logprintinfo\n",
    "def somePrintingFunc():\n",
    "    print('Hello output')\n",
    "    \n",
    "somePrintingFunc()\n",
    "\n",
    "import os.path    \n",
    "if os.path.sep == '/':\n",
    "    !cat logprinter.log\n",
    "else:\n",
    "    !type logprinter.log\n"
   ]
  },
  {
   "cell_type": "markdown",
   "metadata": {
    "slideshow": {
     "slide_type": "subslide"
    }
   },
   "source": [
    "### A decorator-based build system"
   ]
  },
  {
   "cell_type": "markdown",
   "metadata": {
    "slideshow": {
     "slide_type": "subslide"
    }
   },
   "source": [
    "[Bruce Eckel](https://www.artima.com/weblogs/viewpost.jsp?thread=241209) built a build system using python decorators. His motivation is that build systems really need a language and that `make` and `ant` do not supply sufficient capability in this area.  In my own view [CMake](http://www.cmake.org/) is the better way to go here - is has a horrible language, but it works."
   ]
  },
  {
   "cell_type": "markdown",
   "metadata": {
    "slideshow": {
     "slide_type": "subslide"
    }
   },
   "source": [
    "### Repository of decorators"
   ]
  },
  {
   "cell_type": "markdown",
   "metadata": {
    "slideshow": {
     "slide_type": "subslide"
    }
   },
   "source": [
    "<https://wiki.python.org/moin/PythonDecoratorLibrary> has a large number of decorators for many different applications. The following is a list of some of these.  The code won't work here, because some of the decorators are quite long and must be included in your code."
   ]
  },
  {
   "cell_type": "markdown",
   "metadata": {
    "slideshow": {
     "slide_type": "subslide"
    }
   },
   "source": [
    "Use the `accepts` decorator for type checking:  \n",
    "\n",
    "    @accepts(uint, utf8string)\n",
    "    def myMethod(ID, name):\n",
    "        print(ID, name)\n",
    "\n",
    "    myMethod(4, 'string')"
   ]
  },
  {
   "cell_type": "markdown",
   "metadata": {
    "slideshow": {
     "slide_type": "subslide"
    }
   },
   "source": [
    "Implement singletons:  \n",
    "\n",
    "    @singleton\n",
    "    class Highlander:\n",
    "        x = 100\n",
    "\n",
    "    Highlander() is Highlander() is Highlander #=> True\n",
    "    id(Highlander()) == id(Highlander) #=> True\n",
    "    Highlander().x == Highlander.x == 100 #=> True\n",
    "    Highlander.x = 50\n",
    "    Highlander().x == Highlander.x == 50 #=> True"
   ]
  },
  {
   "cell_type": "markdown",
   "metadata": {
    "slideshow": {
     "slide_type": "subslide"
    }
   },
   "source": [
    "Smart deprecation warnings (with valid filenames, line numbers, etc.)\n",
    "\n",
    "    @deprecated\n",
    "    def my_func():\n",
    "        pass\n",
    "\n",
    "    my_func()"
   ]
  },
  {
   "cell_type": "code",
   "execution_count": null,
   "metadata": {
    "slideshow": {
     "slide_type": "subslide"
    }
   },
   "outputs": [],
   "source": [
    "import deprecation\n",
    "\n",
    "__version__ = '1.8'\n",
    "\n",
    "@deprecation.deprecated(deprecated_in=\"1.0\", removed_in=\"2.0\",\n",
    "                        current_version=__version__,\n",
    "                        details=\"Use the bar function instead\")\n",
    "def foo():\n",
    "    \"\"\"Do some stuff\"\"\"\n",
    "    return 1\n",
    "\n",
    "foo()"
   ]
  },
  {
   "cell_type": "markdown",
   "metadata": {
    "slideshow": {
     "slide_type": "subslide"
    }
   },
   "source": [
    "Easy Dump of Function Arguments\n",
    "\n",
    "    @dump_args\n",
    "    def f1(a,b,c):\n",
    "        print a + b + c\n",
    "\n",
    "    f1(1, 2, 3)"
   ]
  },
  {
   "cell_type": "markdown",
   "metadata": {
    "slideshow": {
     "slide_type": "subslide"
    }
   },
   "source": [
    "State machine implementations  \n",
    "<https://wiki.python.org/moin/PythonDecoratorLibrary#State_Machine_Implementaion>  \n",
    "<https://wiki.python.org/moin/State%20Machine%20via%20Decorators>"
   ]
  },
  {
   "cell_type": "markdown",
   "metadata": {
    "slideshow": {
     "slide_type": "subslide"
    }
   },
   "source": [
    "Access control prevents users from getting access to places where they are not authorised to go.\n",
    "\n",
    "    @LoginCheck\n",
    "    def display_members_page():\n",
    "        print 'This is the members page'"
   ]
  },
  {
   "cell_type": "markdown",
   "metadata": {
    "slideshow": {
     "slide_type": "subslide"
    }
   },
   "source": [
    "## References"
   ]
  },
  {
   "cell_type": "markdown",
   "metadata": {
    "slideshow": {
     "slide_type": "subslide"
    }
   },
   "source": [
    "Pycon 2014 videos:  \n",
    "[Myers: Decorators: A Powerful Weapon in your Python Arsenal](https://www.youtube.com/watch?v=9oyr0mocZTg)  \n",
    "[Dumpleton: Advanced methods for creating decorators](https://www.youtube.com/watch?v=7jGtDGxgwEY)  \n",
    "[Harrison: Hands-on Intermediate Python](https://www.youtube.com/watch?v=29iDgal40hc)\n",
    "\n",
    "The definitive work on decorators:  \n",
    "[Dumpleton: wrapt package](https://pypi.python.org/pypi/wrapt)  \n",
    "[Dumpleton: wrapt documentation](http://wrapt.readthedocs.org/en/latest/)  \n",
    "\n",
    "Decorator repository:  \n",
    "[wiki.python.org](https://wiki.python.org/moin/PythonDecoratorLibrary)  \n",
    "\n",
    "Blogs:  \n",
    "[Knupp: Improve Your Python: Decorators Explained](https://www.jeffknupp.com/blog/2013/11/29/improve-your-python-decorators-explained/)  \n",
    "[Franklin: Understanding Python Decorators in 12 Easy Steps!](http://simeonfranklin.com/blog/2012/jul/1/python-decorators-in-12-steps/)  \n",
    "[Eckel: Decorators I: Introduction to Python Decorators](https://www.artima.com/weblogs/viewpost.jsp?thread=240808)  \n",
    "[Eckel: Python Decorators II: Decorator Arguments](https://www.artima.com/weblogs/viewpost.jsp?thread=240845)  \n",
    "[Eckel: Python Decorators III: A Decorator-Based Build System](https://www.artima.com/weblogs/viewpost.jsp?thread=241209)  \n",
    "[Farhat: A guide to Python's function decorators](http://thecodeship.com/patterns/guide-to-python-function-decorators/)  \n",
    "[Yasoob: Python decorators finally demystified](http://freepythontips.wordpress.com/2013/12/05/python-decorators-finally-demystified/)  \n",
    "[Simionato: PyPI decorator module](https://pypi.python.org/pypi/decorator)  \n",
    "[da Palma: Writing a class decorator in Python](http://andrefsp.wordpress.com/2012/08/23/writing-a-class-decorator-in-python/)  \n",
    "[Harrison: Guide to learning Python decorators](http://hairysun.com/books/decorators/)  \n",
    "[Hellman: contextlib – Context manager utilities](http://pymotw.com/2/contextlib/)  \n",
    "[Context managers in Python](http://pypix.com/python/context-managers/)  \n",
    "[Python wiki: PythonDecorators](https://wiki.python.org/moin/PythonDecorators)  \n",
    "[Chaining decorators](https://stackoverflow.com/questions/739654/how-can-i-make-a-chain-of-function-decorators-in-python)  \n",
    "[Some common uses](https://stackoverflow.com/questions/489720/what-are-some-common-uses-for-python-decorators)  \n",
    "[Python decorators finally demystified](http://freepythontips.wordpress.com/2013/12/05/python-decorators-finally-demystified/)  \n",
    "\n",
    "[Advanced Use of Python Decorators and Metaclasses](http://lgiordani.com/blog/2014/10/14/decorators-and-metaclasses/)\n"
   ]
  },
  {
   "cell_type": "markdown",
   "metadata": {
    "slideshow": {
     "slide_type": "slide"
    }
   },
   "source": [
    "# Performance analysis of Python programs"
   ]
  },
  {
   "cell_type": "markdown",
   "metadata": {
    "slideshow": {
     "slide_type": "subslide"
    }
   },
   "source": [
    "https://wiki.python.org/moin/PythonSpeed/PerformanceTips#Profiling_Code"
   ]
  },
  {
   "cell_type": "markdown",
   "metadata": {
    "slideshow": {
     "slide_type": "subslide"
    }
   },
   "source": [
    "**cProfile** and **profile** modules provide deterministic profiling of Python programs"
   ]
  },
  {
   "cell_type": "markdown",
   "metadata": {
    "slideshow": {
     "slide_type": "subslide"
    }
   },
   "source": [
    "A profile is a set of statistics that describes how often and for how long various parts of the program executed"
   ]
  },
  {
   "cell_type": "markdown",
   "metadata": {
    "slideshow": {
     "slide_type": "subslide"
    }
   },
   "source": [
    "These statistics can be formatted into reports via the pstats module"
   ]
  },
  {
   "cell_type": "markdown",
   "metadata": {
    "slideshow": {
     "slide_type": "subslide"
    }
   },
   "source": [
    "**cProfile** is recommended for most users; it’s a C extension with reasonable overhead that makes it suitable for profiling long-running programs"
   ]
  },
  {
   "cell_type": "markdown",
   "metadata": {
    "slideshow": {
     "slide_type": "subslide"
    }
   },
   "source": [
    "**profile**, a pure Python module whose interface is imitated by cProfile, but which adds significant overhead to profiled programs"
   ]
  },
  {
   "cell_type": "markdown",
   "metadata": {
    "slideshow": {
     "slide_type": "subslide"
    }
   },
   "source": [
    "The profiler modules are designed to provide an execution profile for a given program, not for benchmarking purposes\n",
    "\n",
    "For that, there is **timeit** for reasonably accurate results"
   ]
  },
  {
   "cell_type": "markdown",
   "metadata": {
    "slideshow": {
     "slide_type": "subslide"
    }
   },
   "source": [
    "The most basic starting point in the profile module is **run()**\n",
    "\n",
    "It takes a string statement as argument, and creates a report of the time spent executing different lines of code while running the statement"
   ]
  },
  {
   "cell_type": "code",
   "execution_count": null,
   "metadata": {
    "hide_input": false,
    "slideshow": {
     "slide_type": "subslide"
    }
   },
   "outputs": [],
   "source": [
    "def f(n):\n",
    "    if n == 0:\n",
    "        return 0\n",
    "    elif n == 1:\n",
    "        return 1\n",
    "    else:\n",
    "        return f(n-1) + f(n-2)"
   ]
  },
  {
   "cell_type": "code",
   "execution_count": 35,
   "metadata": {
    "hide_input": false,
    "slideshow": {
     "slide_type": "subslide"
    }
   },
   "outputs": [
    {
     "name": "stdout",
     "output_type": "stream",
     "text": [
      "6765\n",
      "         21929 function calls (39 primitive calls) in 0.016 seconds\n",
      "\n",
      "   Ordered by: standard name\n",
      "\n",
      "   ncalls  tottime  percall  cumtime  percall filename:lineno(function)\n",
      "  21891/1    0.015    0.000    0.015    0.015 <ipython-input-35-4fcef3f86d3a>:3(fib)\n",
      "        1    0.000    0.000    0.016    0.016 <string>:1(<module>)\n",
      "        3    0.000    0.000    0.001    0.000 iostream.py:195(schedule)\n",
      "        2    0.000    0.000    0.000    0.000 iostream.py:308(_is_master_process)\n",
      "        2    0.000    0.000    0.000    0.000 iostream.py:321(_schedule_flush)\n",
      "        2    0.000    0.000    0.001    0.001 iostream.py:384(write)\n",
      "        3    0.000    0.000    0.000    0.000 iostream.py:91(_event_pipe)\n",
      "        3    0.001    0.000    0.001    0.000 socket.py:438(send)\n",
      "        3    0.000    0.000    0.000    0.000 threading.py:1062(_wait_for_tstate_lock)\n",
      "        3    0.000    0.000    0.000    0.000 threading.py:1104(is_alive)\n",
      "        3    0.000    0.000    0.000    0.000 threading.py:506(is_set)\n",
      "        1    0.000    0.000    0.016    0.016 {built-in method builtins.exec}\n",
      "        2    0.000    0.000    0.000    0.000 {built-in method builtins.isinstance}\n",
      "        1    0.000    0.000    0.001    0.001 {built-in method builtins.print}\n",
      "        2    0.000    0.000    0.000    0.000 {built-in method nt.getpid}\n",
      "        3    0.000    0.000    0.000    0.000 {method 'acquire' of '_thread.lock' objects}\n",
      "        3    0.000    0.000    0.000    0.000 {method 'append' of 'collections.deque' objects}\n",
      "        1    0.000    0.000    0.000    0.000 {method 'disable' of '_lsprof.Profiler' objects}\n",
      "\n",
      "\n"
     ]
    }
   ],
   "source": [
    "import cProfile\n",
    "\n",
    "def fib(n):\n",
    "    # from http://en.literateprograms.org/Fibonacci_numbers_(Python)\n",
    "    if n == 0:\n",
    "        return 0\n",
    "    elif n == 1:\n",
    "        return 1\n",
    "    else:\n",
    "        return fib(n-1) + fib(n-2)\n",
    "cProfile.run('print(fib(20))')"
   ]
  },
  {
   "cell_type": "code",
   "execution_count": 36,
   "metadata": {
    "hide_input": false,
    "slideshow": {
     "slide_type": "subslide"
    }
   },
   "outputs": [
    {
     "name": "stdout",
     "output_type": "stream",
     "text": [
      "[0, 1, 1, 2, 3, 5, 8, 13, 21, 34, 55, 89, 144, 233, 377, 610, 987, 1597, 2584, 4181, 6765]\n",
      "         57391 function calls (101 primitive calls) in 0.025 seconds\n",
      "\n",
      "   Ordered by: standard name\n",
      "\n",
      "   ncalls  tottime  percall  cumtime  percall filename:lineno(function)\n",
      " 57291/21    0.024    0.000    0.024    0.001 <ipython-input-35-4fcef3f86d3a>:3(fib)\n",
      "     21/1    0.000    0.000    0.024    0.024 <ipython-input-36-7507b303ea3f>:3(fib_seq)\n",
      "        1    0.000    0.000    0.025    0.025 <string>:1(<module>)\n",
      "        3    0.000    0.000    0.000    0.000 iostream.py:195(schedule)\n",
      "        2    0.000    0.000    0.000    0.000 iostream.py:308(_is_master_process)\n",
      "        2    0.000    0.000    0.000    0.000 iostream.py:321(_schedule_flush)\n",
      "        2    0.000    0.000    0.000    0.000 iostream.py:384(write)\n",
      "        3    0.000    0.000    0.000    0.000 iostream.py:91(_event_pipe)\n",
      "        3    0.000    0.000    0.000    0.000 socket.py:438(send)\n",
      "        3    0.000    0.000    0.000    0.000 threading.py:1062(_wait_for_tstate_lock)\n",
      "        3    0.000    0.000    0.000    0.000 threading.py:1104(is_alive)\n",
      "        3    0.000    0.000    0.000    0.000 threading.py:506(is_set)\n",
      "        1    0.000    0.000    0.025    0.025 {built-in method builtins.exec}\n",
      "        2    0.000    0.000    0.000    0.000 {built-in method builtins.isinstance}\n",
      "        1    0.000    0.000    0.000    0.000 {built-in method builtins.print}\n",
      "        2    0.000    0.000    0.000    0.000 {built-in method nt.getpid}\n",
      "        3    0.000    0.000    0.000    0.000 {method 'acquire' of '_thread.lock' objects}\n",
      "        3    0.000    0.000    0.000    0.000 {method 'append' of 'collections.deque' objects}\n",
      "       21    0.000    0.000    0.000    0.000 {method 'append' of 'list' objects}\n",
      "        1    0.000    0.000    0.000    0.000 {method 'disable' of '_lsprof.Profiler' objects}\n",
      "       20    0.000    0.000    0.000    0.000 {method 'extend' of 'list' objects}\n",
      "\n",
      "\n"
     ]
    }
   ],
   "source": [
    "import cProfile\n",
    "\n",
    "def fib_seq(n):\n",
    "    seq = [ ]\n",
    "    if n > 0:\n",
    "        seq.extend(fib_seq(n-1))\n",
    "    seq.append(fib(n))\n",
    "    return seq\n",
    "\n",
    "cProfile.run('print(fib_seq(20))')"
   ]
  },
  {
   "cell_type": "code",
   "execution_count": 37,
   "metadata": {
    "hide_input": true,
    "slideshow": {
     "slide_type": "subslide"
    }
   },
   "outputs": [
    {
     "name": "stdout",
     "output_type": "stream",
     "text": [
      "[0, 1, 1, 2, 3, 5, 8, 13, 21, 34, 55, 89, 144, 233, 377, 610, 987, 1597, 2584, 4181, 6765]\n",
      "         57391 function calls (101 primitive calls) in 0.039 seconds\n",
      "\n",
      "   Ordered by: standard name\n",
      "\n",
      "   ncalls  tottime  percall  cumtime  percall filename:lineno(function)\n",
      "     21/1    0.000    0.000    0.038    0.038 <ipython-input-37-5160d081fe66>:12(fib_seq)\n",
      " 57291/21    0.038    0.000    0.038    0.002 <ipython-input-37-5160d081fe66>:3(fib)\n",
      "        1    0.000    0.000    0.039    0.039 <string>:1(<module>)\n",
      "        3    0.000    0.000    0.001    0.000 iostream.py:195(schedule)\n",
      "        2    0.000    0.000    0.000    0.000 iostream.py:308(_is_master_process)\n",
      "        2    0.000    0.000    0.000    0.000 iostream.py:321(_schedule_flush)\n",
      "        2    0.000    0.000    0.001    0.001 iostream.py:384(write)\n",
      "        3    0.000    0.000    0.000    0.000 iostream.py:91(_event_pipe)\n",
      "        3    0.001    0.000    0.001    0.000 socket.py:438(send)\n",
      "        3    0.000    0.000    0.000    0.000 threading.py:1062(_wait_for_tstate_lock)\n",
      "        3    0.000    0.000    0.000    0.000 threading.py:1104(is_alive)\n",
      "        3    0.000    0.000    0.000    0.000 threading.py:506(is_set)\n",
      "        1    0.000    0.000    0.039    0.039 {built-in method builtins.exec}\n",
      "        2    0.000    0.000    0.000    0.000 {built-in method builtins.isinstance}\n",
      "        1    0.000    0.000    0.001    0.001 {built-in method builtins.print}\n",
      "        2    0.000    0.000    0.000    0.000 {built-in method nt.getpid}\n",
      "        3    0.000    0.000    0.000    0.000 {method 'acquire' of '_thread.lock' objects}\n",
      "        3    0.000    0.000    0.000    0.000 {method 'append' of 'collections.deque' objects}\n",
      "       21    0.000    0.000    0.000    0.000 {method 'append' of 'list' objects}\n",
      "        1    0.000    0.000    0.000    0.000 {method 'disable' of '_lsprof.Profiler' objects}\n",
      "       20    0.000    0.000    0.000    0.000 {method 'extend' of 'list' objects}\n",
      "\n",
      "\n"
     ]
    }
   ],
   "source": [
    "import cProfile\n",
    "\n",
    "def fib(n):\n",
    "    # from http://en.literateprograms.org/Fibonacci_numbers_(Python)\n",
    "    if n == 0:\n",
    "        return 0\n",
    "    elif n == 1:\n",
    "        return 1\n",
    "    else:\n",
    "        return fib(n-1) + fib(n-2)\n",
    "\n",
    "def fib_seq(n):\n",
    "    seq = [ ]\n",
    "    if n > 0:\n",
    "        seq.extend(fib_seq(n-1))\n",
    "    seq.append(fib(n))\n",
    "    return seq\n",
    "\n",
    "cProfile.run('print(fib_seq(20))')"
   ]
  },
  {
   "cell_type": "code",
   "execution_count": null,
   "metadata": {
    "slideshow": {
     "slide_type": "subslide"
    }
   },
   "outputs": [],
   "source": [
    "class m1:\n",
    "    def __init__(self, function):\n",
    "        self.function = function\n",
    "        self.m = {}\n",
    "    def __call__(self, *args):\n",
    "        try:\n",
    "            return self.m[args]\n",
    "        except KeyError:\n",
    "            self.m[args] = self.function(*args)\n",
    "            return self.m[args]\n"
   ]
  },
  {
   "cell_type": "code",
   "execution_count": null,
   "metadata": {
    "slideshow": {
     "slide_type": "subslide"
    }
   },
   "outputs": [],
   "source": [
    "class memoize:\n",
    "    def __init__(self, function):\n",
    "        self.function = function\n",
    "        self.memoized = {}\n",
    "    def __call__(self, *args):\n",
    "        try:\n",
    "            return self.memoized[args]\n",
    "        except KeyError:\n",
    "            self.memoized[args] = self.function(*args)\n",
    "            return self.memoized[args]\n"
   ]
  },
  {
   "cell_type": "code",
   "execution_count": null,
   "metadata": {
    "slideshow": {
     "slide_type": "subslide"
    }
   },
   "outputs": [],
   "source": [
    "import collections\n",
    "import functools\n",
    "\n",
    "class memoized(object):\n",
    "   '''Decorator. Caches a function's return value each time it is called.\n",
    "   If called later with the same arguments, the cached value is returned\n",
    "   (not reevaluated).\n",
    "   '''\n",
    "   def __init__(self, func):\n",
    "      self.func = func\n",
    "      self.cache = {}\n",
    "   def __call__(self, *args):\n",
    "      if not isinstance(args, collections.Hashable):\n",
    "         # uncacheable. a list, for instance.\n",
    "         # better to not cache than blow up.\n",
    "         return self.func(*args)\n",
    "      if args in self.cache:\n",
    "         return self.cache[args]\n",
    "      else:\n",
    "         value = self.func(*args)\n",
    "         self.cache[args] = value\n",
    "         return value\n",
    "   def __repr__(self):\n",
    "      '''Return the function's docstring.'''\n",
    "      return self.func.__doc__\n",
    "   def __get__(self, obj, objtype):\n",
    "      '''Support instance methods.'''\n",
    "      return functools.partial(self.__call__, obj)"
   ]
  },
  {
   "cell_type": "code",
   "execution_count": 38,
   "metadata": {
    "slideshow": {
     "slide_type": "subslide"
    }
   },
   "outputs": [],
   "source": [
    "# note that this decorator ignores **kwargs\n",
    "def memoize(obj):\n",
    "    cache = obj.cache = {}\n",
    "\n",
    "    @functools.wraps(obj)\n",
    "    def memoizer(*args, **kwargs):\n",
    "        if args not in cache:\n",
    "            cache[args] = obj(*args, **kwargs)\n",
    "        return cache[args]\n",
    "    return memoizer"
   ]
  },
  {
   "cell_type": "code",
   "execution_count": 39,
   "metadata": {
    "slideshow": {
     "slide_type": "subslide"
    }
   },
   "outputs": [],
   "source": [
    "# note that this decorator ignores **kwargs\n",
    "def memoize(obj):\n",
    "    cache = obj.cache = {}\n",
    "\n",
    "    @functools.wraps(obj)\n",
    "    def memoizer(*args, **kwargs):\n",
    "        if args not in cache:\n",
    "            cache[args] = obj(*args, **kwargs)\n",
    "        return cache[args]\n",
    "    return memoizer"
   ]
  },
  {
   "cell_type": "code",
   "execution_count": null,
   "metadata": {
    "slideshow": {
     "slide_type": "subslide"
    }
   },
   "outputs": [],
   "source": [
    "def memoize(obj):\n",
    "    cache = obj.cache = {}\n",
    "\n",
    "    @functools.wraps(obj)\n",
    "    def memoizer(*args, **kwargs):\n",
    "        key = str(args) + str(kwargs)\n",
    "        if key not in cache:\n",
    "            cache[key] = obj(*args, **kwargs)\n",
    "        return cache[key]\n",
    "    return memoizer"
   ]
  },
  {
   "cell_type": "code",
   "execution_count": 12,
   "metadata": {
    "slideshow": {
     "slide_type": "subslide"
    }
   },
   "outputs": [],
   "source": [
    "class memoize(dict):\n",
    "    def __init__(self, func):\n",
    "        self.func = func\n",
    "\n",
    "    def __call__(self, *args):\n",
    "        return self[args]\n",
    "\n",
    "    def __missing__(self, key):\n",
    "        result = self[key] = self.func(*key)\n",
    "        return result\n"
   ]
  },
  {
   "cell_type": "code",
   "execution_count": 14,
   "metadata": {
    "hide_input": false,
    "slideshow": {
     "slide_type": "subslide"
    }
   },
   "outputs": [
    {
     "name": "stdout",
     "output_type": "stream",
     "text": [
      "6765\n",
      "         121 function calls (43 primitive calls) in 0.001 seconds\n",
      "\n",
      "   Ordered by: standard name\n",
      "\n",
      "   ncalls  tottime  percall  cumtime  percall filename:lineno(function)\n",
      "     21/1    0.000    0.000    0.000    0.000 1962496786.py:3(fib)\n",
      "     39/1    0.000    0.000    0.000    0.000 648314380.py:5(__call__)\n",
      "     21/1    0.000    0.000    0.000    0.000 648314380.py:8(__missing__)\n",
      "        1    0.000    0.000    0.001    0.001 <string>:1(<module>)\n",
      "        3    0.000    0.000    0.001    0.000 iostream.py:206(schedule)\n",
      "        2    0.000    0.000    0.000    0.000 iostream.py:418(_is_master_process)\n",
      "        2    0.000    0.000    0.000    0.000 iostream.py:437(_schedule_flush)\n",
      "        2    0.000    0.000    0.001    0.000 iostream.py:500(write)\n",
      "        3    0.000    0.000    0.000    0.000 iostream.py:96(_event_pipe)\n",
      "        3    0.001    0.000    0.001    0.000 socket.py:474(send)\n",
      "        3    0.000    0.000    0.000    0.000 threading.py:1059(_wait_for_tstate_lock)\n",
      "        3    0.000    0.000    0.000    0.000 threading.py:1113(is_alive)\n",
      "        3    0.000    0.000    0.000    0.000 threading.py:529(is_set)\n",
      "        1    0.000    0.000    0.001    0.001 {built-in method builtins.exec}\n",
      "        2    0.000    0.000    0.000    0.000 {built-in method builtins.isinstance}\n",
      "        2    0.000    0.000    0.000    0.000 {built-in method builtins.len}\n",
      "        1    0.000    0.000    0.001    0.001 {built-in method builtins.print}\n",
      "        2    0.000    0.000    0.000    0.000 {built-in method nt.getpid}\n",
      "        3    0.000    0.000    0.000    0.000 {method 'acquire' of '_thread.lock' objects}\n",
      "        3    0.000    0.000    0.000    0.000 {method 'append' of 'collections.deque' objects}\n",
      "        1    0.000    0.000    0.000    0.000 {method 'disable' of '_lsprof.Profiler' objects}\n",
      "\n",
      "\n"
     ]
    }
   ],
   "source": [
    "import cProfile\n",
    "\n",
    "@memoize\n",
    "def fib(n):\n",
    "    # from http://en.literateprograms.org/Fibonacci_numbers_(Python)\n",
    "    if n == 0:\n",
    "        return 0\n",
    "    elif n == 1:\n",
    "        return 1\n",
    "    else:\n",
    "        return fib(n-1) + fib(n-2)\n",
    "\n",
    "cProfile.run('print(fib(20))')"
   ]
  },
  {
   "cell_type": "code",
   "execution_count": null,
   "metadata": {
    "hide_input": true,
    "slideshow": {
     "slide_type": "subslide"
    }
   },
   "outputs": [],
   "source": [
    "import cProfile\n",
    "\n",
    "@memoize\n",
    "def fib(n):\n",
    "    # from http://en.literateprograms.org/Fibonacci_numbers_(Python)\n",
    "    if n == 0:\n",
    "        return 0\n",
    "    elif n == 1:\n",
    "        return 1\n",
    "    else:\n",
    "        return fib(n-1) + fib(n-2)\n",
    "\n",
    "def fib_seq(n):\n",
    "    seq = [ ]\n",
    "    if n > 0:\n",
    "        seq.extend(fib_seq(n-1))\n",
    "    seq.append(fib(n))\n",
    "    return seq\n",
    "\n",
    "cProfile.run('print(fib_seq(20))')"
   ]
  },
  {
   "cell_type": "markdown",
   "metadata": {
    "slideshow": {
     "slide_type": "subslide"
    }
   },
   "source": [
    "Sometimes, instead of constructing a complex expression for **run()**, it is easier to build a simple expression and pass it parameters through a context, using **runctx()**"
   ]
  },
  {
   "cell_type": "code",
   "execution_count": null,
   "metadata": {
    "hide_input": false,
    "slideshow": {
     "slide_type": "subslide"
    }
   },
   "outputs": [],
   "source": [
    "import cProfile\n",
    "\n",
    "@memoize\n",
    "def fib(n):\n",
    "    # from http://en.literateprograms.org/Fibonacci_numbers_(Python)\n",
    "    if n == 0:\n",
    "        return 0\n",
    "    elif n == 1:\n",
    "        return 1\n",
    "    else:\n",
    "        return fib(n-1) + fib(n-2)\n",
    "\n",
    "def fib_seq(n):\n",
    "    seq = [ ]\n",
    "    if n > 0:\n",
    "        seq.extend(fib_seq(n-1))\n",
    "    seq.append(fib(n))\n",
    "    return seq\n",
    "\n",
    "cProfile.runctx('print(fib_seq(n))', globals(), {'n':20})"
   ]
  },
  {
   "cell_type": "markdown",
   "metadata": {
    "slideshow": {
     "slide_type": "subslide"
    }
   },
   "source": [
    "In this example, the value of **n** is passed through the local variable context instead of being embedded directly in the statement passed to **runctx()**"
   ]
  },
  {
   "cell_type": "markdown",
   "metadata": {
    "collapsed": true,
    "slideshow": {
     "slide_type": "subslide"
    }
   },
   "source": [
    "https://docs.python.org/3/library/functools.html#functools.lru_cache"
   ]
  },
  {
   "cell_type": "code",
   "execution_count": 15,
   "metadata": {
    "slideshow": {
     "slide_type": "subslide"
    }
   },
   "outputs": [],
   "source": [
    "from functools import lru_cache\n",
    "\n",
    "@lru_cache(maxsize=None)\n",
    "def fib(n):\n",
    "    if n < 2:\n",
    "        return n\n",
    "    return fib(n-1) + fib(n-2)"
   ]
  },
  {
   "cell_type": "code",
   "execution_count": 16,
   "metadata": {
    "slideshow": {
     "slide_type": "subslide"
    }
   },
   "outputs": [
    {
     "data": {
      "text/plain": [
       "[0, 1, 1, 2, 3, 5, 8, 13, 21, 34, 55, 89, 144, 233, 377, 610]"
      ]
     },
     "execution_count": 16,
     "metadata": {},
     "output_type": "execute_result"
    }
   ],
   "source": [
    "[fib(n) for n in range(16)]"
   ]
  },
  {
   "cell_type": "code",
   "execution_count": 17,
   "metadata": {
    "slideshow": {
     "slide_type": "subslide"
    }
   },
   "outputs": [
    {
     "data": {
      "text/plain": [
       "CacheInfo(hits=28, misses=16, maxsize=None, currsize=16)"
      ]
     },
     "execution_count": 17,
     "metadata": {},
     "output_type": "execute_result"
    }
   ],
   "source": [
    "fib.cache_info()"
   ]
  },
  {
   "cell_type": "code",
   "execution_count": 18,
   "metadata": {
    "slideshow": {
     "slide_type": "subslide"
    }
   },
   "outputs": [],
   "source": [
    "def cisla1(n=10**3):\n",
    "    res = '0'\n",
    "    for i in range(1,n):\n",
    "        res = res + '; ' + str(i)\n",
    "    return res"
   ]
  },
  {
   "cell_type": "code",
   "execution_count": 19,
   "metadata": {
    "slideshow": {
     "slide_type": "subslide"
    }
   },
   "outputs": [],
   "source": [
    "def cisla2(n=10**3):\n",
    "    res = '; '.join(str(i) for i in range(n))\n",
    "    return res"
   ]
  },
  {
   "cell_type": "code",
   "execution_count": 46,
   "metadata": {},
   "outputs": [
    {
     "name": "stdout",
     "output_type": "stream",
     "text": [
      "0; 1; 2; 3; 4; 5; 6; 7; 8; 9; 10; 11; 12; 13; 14; 15; 16; 17; 18; 19; 20; 21; 22; 23; 24; 25; 26; 27; 28; 29; 30; 31; 32; 33; 34; 35; 36; 37; 38; 39; 40; 41; 42; 43; 44; 45; 46; 47; 48; 49; 50; 51; 52; 53; 54; 55; 56; 57; 58; 59; 60; 61; 62; 63; 64; 65; 66; 67; 68; 69; 70; 71; 72; 73; 74; 75; 76; 77; 78; 79; 80; 81; 82; 83; 84; 85; 86; 87; 88; 89; 90; 91; 92; 93; 94; 95; 96; 97; 98; 99; 100; 101; 102; 103; 104; 105; 106; 107; 108; 109; 110; 111; 112; 113; 114; 115; 116; 117; 118; 119; 120; 121; 122; 123; 124; 125; 126; 127; 128; 129; 130; 131; 132; 133; 134; 135; 136; 137; 138; 139; 140; 141; 142; 143; 144; 145; 146; 147; 148; 149; 150; 151; 152; 153; 154; 155; 156; 157; 158; 159; 160; 161; 162; 163; 164; 165; 166; 167; 168; 169; 170; 171; 172; 173; 174; 175; 176; 177; 178; 179; 180; 181; 182; 183; 184; 185; 186; 187; 188; 189; 190; 191; 192; 193; 194; 195; 196; 197; 198; 199; 200; 201; 202; 203; 204; 205; 206; 207; 208; 209; 210; 211; 212; 213; 214; 215; 216; 217; 218; 219; 220; 221; 222; 223; 224; 225; 226; 227; 228; 229; 230; 231; 232; 233; 234; 235; 236; 237; 238; 239; 240; 241; 242; 243; 244; 245; 246; 247; 248; 249; 250; 251; 252; 253; 254; 255; 256; 257; 258; 259; 260; 261; 262; 263; 264; 265; 266; 267; 268; 269; 270; 271; 272; 273; 274; 275; 276; 277; 278; 279; 280; 281; 282; 283; 284; 285; 286; 287; 288; 289; 290; 291; 292; 293; 294; 295; 296; 297; 298; 299; 300; 301; 302; 303; 304; 305; 306; 307; 308; 309; 310; 311; 312; 313; 314; 315; 316; 317; 318; 319; 320; 321; 322; 323; 324; 325; 326; 327; 328; 329; 330; 331; 332; 333; 334; 335; 336; 337; 338; 339; 340; 341; 342; 343; 344; 345; 346; 347; 348; 349; 350; 351; 352; 353; 354; 355; 356; 357; 358; 359; 360; 361; 362; 363; 364; 365; 366; 367; 368; 369; 370; 371; 372; 373; 374; 375; 376; 377; 378; 379; 380; 381; 382; 383; 384; 385; 386; 387; 388; 389; 390; 391; 392; 393; 394; 395; 396; 397; 398; 399; 400; 401; 402; 403; 404; 405; 406; 407; 408; 409; 410; 411; 412; 413; 414; 415; 416; 417; 418; 419; 420; 421; 422; 423; 424; 425; 426; 427; 428; 429; 430; 431; 432; 433; 434; 435; 436; 437; 438; 439; 440; 441; 442; 443; 444; 445; 446; 447; 448; 449; 450; 451; 452; 453; 454; 455; 456; 457; 458; 459; 460; 461; 462; 463; 464; 465; 466; 467; 468; 469; 470; 471; 472; 473; 474; 475; 476; 477; 478; 479; 480; 481; 482; 483; 484; 485; 486; 487; 488; 489; 490; 491; 492; 493; 494; 495; 496; 497; 498; 499; 500; 501; 502; 503; 504; 505; 506; 507; 508; 509; 510; 511; 512; 513; 514; 515; 516; 517; 518; 519; 520; 521; 522; 523; 524; 525; 526; 527; 528; 529; 530; 531; 532; 533; 534; 535; 536; 537; 538; 539; 540; 541; 542; 543; 544; 545; 546; 547; 548; 549; 550; 551; 552; 553; 554; 555; 556; 557; 558; 559; 560; 561; 562; 563; 564; 565; 566; 567; 568; 569; 570; 571; 572; 573; 574; 575; 576; 577; 578; 579; 580; 581; 582; 583; 584; 585; 586; 587; 588; 589; 590; 591; 592; 593; 594; 595; 596; 597; 598; 599; 600; 601; 602; 603; 604; 605; 606; 607; 608; 609; 610; 611; 612; 613; 614; 615; 616; 617; 618; 619; 620; 621; 622; 623; 624; 625; 626; 627; 628; 629; 630; 631; 632; 633; 634; 635; 636; 637; 638; 639; 640; 641; 642; 643; 644; 645; 646; 647; 648; 649; 650; 651; 652; 653; 654; 655; 656; 657; 658; 659; 660; 661; 662; 663; 664; 665; 666; 667; 668; 669; 670; 671; 672; 673; 674; 675; 676; 677; 678; 679; 680; 681; 682; 683; 684; 685; 686; 687; 688; 689; 690; 691; 692; 693; 694; 695; 696; 697; 698; 699; 700; 701; 702; 703; 704; 705; 706; 707; 708; 709; 710; 711; 712; 713; 714; 715; 716; 717; 718; 719; 720; 721; 722; 723; 724; 725; 726; 727; 728; 729; 730; 731; 732; 733; 734; 735; 736; 737; 738; 739; 740; 741; 742; 743; 744; 745; 746; 747; 748; 749; 750; 751; 752; 753; 754; 755; 756; 757; 758; 759; 760; 761; 762; 763; 764; 765; 766; 767; 768; 769; 770; 771; 772; 773; 774; 775; 776; 777; 778; 779; 780; 781; 782; 783; 784; 785; 786; 787; 788; 789; 790; 791; 792; 793; 794; 795; 796; 797; 798; 799; 800; 801; 802; 803; 804; 805; 806; 807; 808; 809; 810; 811; 812; 813; 814; 815; 816; 817; 818; 819; 820; 821; 822; 823; 824; 825; 826; 827; 828; 829; 830; 831; 832; 833; 834; 835; 836; 837; 838; 839; 840; 841; 842; 843; 844; 845; 846; 847; 848; 849; 850; 851; 852; 853; 854; 855; 856; 857; 858; 859; 860; 861; 862; 863; 864; 865; 866; 867; 868; 869; 870; 871; 872; 873; 874; 875; 876; 877; 878; 879; 880; 881; 882; 883; 884; 885; 886; 887; 888; 889; 890; 891; 892; 893; 894; 895; 896; 897; 898; 899; 900; 901; 902; 903; 904; 905; 906; 907; 908; 909; 910; 911; 912; 913; 914; 915; 916; 917; 918; 919; 920; 921; 922; 923; 924; 925; 926; 927; 928; 929; 930; 931; 932; 933; 934; 935; 936; 937; 938; 939; 940; 941; 942; 943; 944; 945; 946; 947; 948; 949; 950; 951; 952; 953; 954; 955; 956; 957; 958; 959; 960; 961; 962; 963; 964; 965; 966; 967; 968; 969; 970; 971; 972; 973; 974; 975; 976; 977; 978; 979; 980; 981; 982; 983; 984; 985; 986; 987; 988; 989; 990; 991; 992; 993; 994; 995; 996; 997; 998; 999\n",
      "0; 1; 2; 3; 4; 5; 6; 7; 8; 9; 10; 11; 12; 13; 14; 15; 16; 17; 18; 19; 20; 21; 22; 23; 24; 25; 26; 27; 28; 29; 30; 31; 32; 33; 34; 35; 36; 37; 38; 39; 40; 41; 42; 43; 44; 45; 46; 47; 48; 49; 50; 51; 52; 53; 54; 55; 56; 57; 58; 59; 60; 61; 62; 63; 64; 65; 66; 67; 68; 69; 70; 71; 72; 73; 74; 75; 76; 77; 78; 79; 80; 81; 82; 83; 84; 85; 86; 87; 88; 89; 90; 91; 92; 93; 94; 95; 96; 97; 98; 99; 100; 101; 102; 103; 104; 105; 106; 107; 108; 109; 110; 111; 112; 113; 114; 115; 116; 117; 118; 119; 120; 121; 122; 123; 124; 125; 126; 127; 128; 129; 130; 131; 132; 133; 134; 135; 136; 137; 138; 139; 140; 141; 142; 143; 144; 145; 146; 147; 148; 149; 150; 151; 152; 153; 154; 155; 156; 157; 158; 159; 160; 161; 162; 163; 164; 165; 166; 167; 168; 169; 170; 171; 172; 173; 174; 175; 176; 177; 178; 179; 180; 181; 182; 183; 184; 185; 186; 187; 188; 189; 190; 191; 192; 193; 194; 195; 196; 197; 198; 199; 200; 201; 202; 203; 204; 205; 206; 207; 208; 209; 210; 211; 212; 213; 214; 215; 216; 217; 218; 219; 220; 221; 222; 223; 224; 225; 226; 227; 228; 229; 230; 231; 232; 233; 234; 235; 236; 237; 238; 239; 240; 241; 242; 243; 244; 245; 246; 247; 248; 249; 250; 251; 252; 253; 254; 255; 256; 257; 258; 259; 260; 261; 262; 263; 264; 265; 266; 267; 268; 269; 270; 271; 272; 273; 274; 275; 276; 277; 278; 279; 280; 281; 282; 283; 284; 285; 286; 287; 288; 289; 290; 291; 292; 293; 294; 295; 296; 297; 298; 299; 300; 301; 302; 303; 304; 305; 306; 307; 308; 309; 310; 311; 312; 313; 314; 315; 316; 317; 318; 319; 320; 321; 322; 323; 324; 325; 326; 327; 328; 329; 330; 331; 332; 333; 334; 335; 336; 337; 338; 339; 340; 341; 342; 343; 344; 345; 346; 347; 348; 349; 350; 351; 352; 353; 354; 355; 356; 357; 358; 359; 360; 361; 362; 363; 364; 365; 366; 367; 368; 369; 370; 371; 372; 373; 374; 375; 376; 377; 378; 379; 380; 381; 382; 383; 384; 385; 386; 387; 388; 389; 390; 391; 392; 393; 394; 395; 396; 397; 398; 399; 400; 401; 402; 403; 404; 405; 406; 407; 408; 409; 410; 411; 412; 413; 414; 415; 416; 417; 418; 419; 420; 421; 422; 423; 424; 425; 426; 427; 428; 429; 430; 431; 432; 433; 434; 435; 436; 437; 438; 439; 440; 441; 442; 443; 444; 445; 446; 447; 448; 449; 450; 451; 452; 453; 454; 455; 456; 457; 458; 459; 460; 461; 462; 463; 464; 465; 466; 467; 468; 469; 470; 471; 472; 473; 474; 475; 476; 477; 478; 479; 480; 481; 482; 483; 484; 485; 486; 487; 488; 489; 490; 491; 492; 493; 494; 495; 496; 497; 498; 499; 500; 501; 502; 503; 504; 505; 506; 507; 508; 509; 510; 511; 512; 513; 514; 515; 516; 517; 518; 519; 520; 521; 522; 523; 524; 525; 526; 527; 528; 529; 530; 531; 532; 533; 534; 535; 536; 537; 538; 539; 540; 541; 542; 543; 544; 545; 546; 547; 548; 549; 550; 551; 552; 553; 554; 555; 556; 557; 558; 559; 560; 561; 562; 563; 564; 565; 566; 567; 568; 569; 570; 571; 572; 573; 574; 575; 576; 577; 578; 579; 580; 581; 582; 583; 584; 585; 586; 587; 588; 589; 590; 591; 592; 593; 594; 595; 596; 597; 598; 599; 600; 601; 602; 603; 604; 605; 606; 607; 608; 609; 610; 611; 612; 613; 614; 615; 616; 617; 618; 619; 620; 621; 622; 623; 624; 625; 626; 627; 628; 629; 630; 631; 632; 633; 634; 635; 636; 637; 638; 639; 640; 641; 642; 643; 644; 645; 646; 647; 648; 649; 650; 651; 652; 653; 654; 655; 656; 657; 658; 659; 660; 661; 662; 663; 664; 665; 666; 667; 668; 669; 670; 671; 672; 673; 674; 675; 676; 677; 678; 679; 680; 681; 682; 683; 684; 685; 686; 687; 688; 689; 690; 691; 692; 693; 694; 695; 696; 697; 698; 699; 700; 701; 702; 703; 704; 705; 706; 707; 708; 709; 710; 711; 712; 713; 714; 715; 716; 717; 718; 719; 720; 721; 722; 723; 724; 725; 726; 727; 728; 729; 730; 731; 732; 733; 734; 735; 736; 737; 738; 739; 740; 741; 742; 743; 744; 745; 746; 747; 748; 749; 750; 751; 752; 753; 754; 755; 756; 757; 758; 759; 760; 761; 762; 763; 764; 765; 766; 767; 768; 769; 770; 771; 772; 773; 774; 775; 776; 777; 778; 779; 780; 781; 782; 783; 784; 785; 786; 787; 788; 789; 790; 791; 792; 793; 794; 795; 796; 797; 798; 799; 800; 801; 802; 803; 804; 805; 806; 807; 808; 809; 810; 811; 812; 813; 814; 815; 816; 817; 818; 819; 820; 821; 822; 823; 824; 825; 826; 827; 828; 829; 830; 831; 832; 833; 834; 835; 836; 837; 838; 839; 840; 841; 842; 843; 844; 845; 846; 847; 848; 849; 850; 851; 852; 853; 854; 855; 856; 857; 858; 859; 860; 861; 862; 863; 864; 865; 866; 867; 868; 869; 870; 871; 872; 873; 874; 875; 876; 877; 878; 879; 880; 881; 882; 883; 884; 885; 886; 887; 888; 889; 890; 891; 892; 893; 894; 895; 896; 897; 898; 899; 900; 901; 902; 903; 904; 905; 906; 907; 908; 909; 910; 911; 912; 913; 914; 915; 916; 917; 918; 919; 920; 921; 922; 923; 924; 925; 926; 927; 928; 929; 930; 931; 932; 933; 934; 935; 936; 937; 938; 939; 940; 941; 942; 943; 944; 945; 946; 947; 948; 949; 950; 951; 952; 953; 954; 955; 956; 957; 958; 959; 960; 961; 962; 963; 964; 965; 966; 967; 968; 969; 970; 971; 972; 973; 974; 975; 976; 977; 978; 979; 980; 981; 982; 983; 984; 985; 986; 987; 988; 989; 990; 991; 992; 993; 994; 995; 996; 997; 998; 999\n"
     ]
    }
   ],
   "source": [
    "print(cisla1())\n",
    "print(cisla2())"
   ]
  },
  {
   "cell_type": "code",
   "execution_count": 47,
   "metadata": {
    "slideshow": {
     "slide_type": "subslide"
    }
   },
   "outputs": [
    {
     "name": "stdout",
     "output_type": "stream",
     "text": [
      "         100006 function calls in 0.069 seconds\n",
      "\n",
      "   Ordered by: standard name\n",
      "\n",
      "   ncalls  tottime  percall  cumtime  percall filename:lineno(function)\n",
      "        1    0.000    0.000    0.069    0.069 4133114832.py:1(cisla2)\n",
      "   100001    0.046    0.000    0.046    0.000 4133114832.py:2(<genexpr>)\n",
      "        1    0.000    0.000    0.069    0.069 <string>:1(<module>)\n",
      "        1    0.000    0.000    0.069    0.069 {built-in method builtins.exec}\n",
      "        1    0.000    0.000    0.000    0.000 {method 'disable' of '_lsprof.Profiler' objects}\n",
      "        1    0.023    0.023    0.069    0.069 {method 'join' of 'str' objects}\n",
      "\n",
      "\n",
      "         4 function calls in 2.328 seconds\n",
      "\n",
      "   Ordered by: standard name\n",
      "\n",
      "   ncalls  tottime  percall  cumtime  percall filename:lineno(function)\n",
      "        1    2.328    2.328    2.328    2.328 1327181862.py:1(cisla1)\n",
      "        1    0.000    0.000    2.328    2.328 <string>:1(<module>)\n",
      "        1    0.000    0.000    2.328    2.328 {built-in method builtins.exec}\n",
      "        1    0.000    0.000    0.000    0.000 {method 'disable' of '_lsprof.Profiler' objects}\n",
      "\n",
      "\n"
     ]
    }
   ],
   "source": [
    "import cProfile\n",
    "\n",
    "cProfile.runctx('cisla2(10**5)', globals(), locals())\n",
    "cProfile.runctx('cisla1(10**5)', globals(), locals())"
   ]
  },
  {
   "cell_type": "markdown",
   "metadata": {
    "slideshow": {
     "slide_type": "slide"
    }
   },
   "source": [
    "## Memory profiler"
   ]
  },
  {
   "cell_type": "code",
   "execution_count": null,
   "metadata": {
    "slideshow": {
     "slide_type": "subslide"
    }
   },
   "outputs": [],
   "source": [
    "pip install memory_profiler\n",
    "\n",
    "conda install memory_profiler"
   ]
  },
  {
   "cell_type": "code",
   "execution_count": null,
   "metadata": {
    "slideshow": {
     "slide_type": "subslide"
    }
   },
   "outputs": [],
   "source": [
    "# %load memory_test.py\n",
    "from memory_profiler import profile\n",
    "import random\n",
    "\n",
    "@profile\n",
    "def memory_test():\n",
    "    numbers = [random.randint(0, 1000) for x in range(10**5)]\n",
    "    biggest = max(numbers)\n",
    "    return biggest\n",
    "\n",
    "memory_test()\n"
   ]
  },
  {
   "cell_type": "code",
   "execution_count": null,
   "metadata": {
    "slideshow": {
     "slide_type": "subslide"
    }
   },
   "outputs": [],
   "source": [
    "%run memory_test.py"
   ]
  },
  {
   "cell_type": "markdown",
   "metadata": {
    "slideshow": {
     "slide_type": "slide"
    }
   },
   "source": [
    "## Context managers\n",
    "\n",
    "http://effbot.org/zone/python-with-statement.htm"
   ]
  },
  {
   "cell_type": "code",
   "execution_count": null,
   "metadata": {
    "slideshow": {
     "slide_type": "subslide"
    }
   },
   "outputs": [],
   "source": [
    "def set_things_up():\n",
    "    global bond_girl\n",
    "    bond_girl = 'Fiona Volpe'\n",
    "    print('James meets', bond_girl)\n",
    "    \n",
    "def do_something():\n",
    "    print('James has sex with', bond_girl)\n",
    "    \n",
    "def tear_things_down():\n",
    "    print('The villain kills', bond_girl)\n",
    "    print('James is sad but free')"
   ]
  },
  {
   "cell_type": "code",
   "execution_count": 21,
   "metadata": {
    "slideshow": {
     "slide_type": "subslide"
    }
   },
   "outputs": [
    {
     "ename": "NameError",
     "evalue": "name 'set_things_up' is not defined",
     "output_type": "error",
     "traceback": [
      "\u001b[1;31m---------------------------------------------------------------------------\u001b[0m",
      "\u001b[1;31mNameError\u001b[0m                                 Traceback (most recent call last)",
      "\u001b[1;32m~\\AppData\\Local\\Temp/ipykernel_2888/2813336754.py\u001b[0m in \u001b[0;36m<module>\u001b[1;34m\u001b[0m\n\u001b[1;32m----> 1\u001b[1;33m \u001b[0mset_things_up\u001b[0m\u001b[1;33m(\u001b[0m\u001b[1;33m)\u001b[0m\u001b[1;33m\u001b[0m\u001b[1;33m\u001b[0m\u001b[0m\n\u001b[0m\u001b[0;32m      2\u001b[0m \u001b[1;32mtry\u001b[0m\u001b[1;33m:\u001b[0m\u001b[1;33m\u001b[0m\u001b[1;33m\u001b[0m\u001b[0m\n\u001b[0;32m      3\u001b[0m     \u001b[0mdo_something\u001b[0m\u001b[1;33m(\u001b[0m\u001b[1;33m)\u001b[0m\u001b[1;33m\u001b[0m\u001b[1;33m\u001b[0m\u001b[0m\n\u001b[0;32m      4\u001b[0m \u001b[1;32mfinally\u001b[0m\u001b[1;33m:\u001b[0m\u001b[1;33m\u001b[0m\u001b[1;33m\u001b[0m\u001b[0m\n\u001b[0;32m      5\u001b[0m     \u001b[0mtear_things_down\u001b[0m\u001b[1;33m(\u001b[0m\u001b[1;33m)\u001b[0m\u001b[1;33m\u001b[0m\u001b[1;33m\u001b[0m\u001b[0m\n",
      "\u001b[1;31mNameError\u001b[0m: name 'set_things_up' is not defined"
     ]
    }
   ],
   "source": [
    "set_things_up()\n",
    "try:\n",
    "    do_something()\n",
    "finally:\n",
    "    tear_things_down()"
   ]
  },
  {
   "cell_type": "markdown",
   "metadata": {
    "slideshow": {
     "slide_type": "subslide"
    }
   },
   "source": [
    "If you do this a lot, it would be quite convenient if you could put the “set things up” and “tear things down” code in a library function, to make it easy to reuse. "
   ]
  },
  {
   "cell_type": "code",
   "execution_count": 20,
   "metadata": {
    "slideshow": {
     "slide_type": "subslide"
    }
   },
   "outputs": [
    {
     "ename": "NameError",
     "evalue": "name 'set_things_up' is not defined",
     "output_type": "error",
     "traceback": [
      "\u001b[1;31m---------------------------------------------------------------------------\u001b[0m",
      "\u001b[1;31mNameError\u001b[0m                                 Traceback (most recent call last)",
      "\u001b[1;32m~\\AppData\\Local\\Temp/ipykernel_2888/3651476649.py\u001b[0m in \u001b[0;36m<module>\u001b[1;34m\u001b[0m\n\u001b[0;32m      9\u001b[0m     \u001b[0mprint\u001b[0m\u001b[1;33m(\u001b[0m\u001b[1;34m'James has sex with'\u001b[0m\u001b[1;33m,\u001b[0m \u001b[0mbond_girl\u001b[0m\u001b[1;33m)\u001b[0m\u001b[1;33m\u001b[0m\u001b[1;33m\u001b[0m\u001b[0m\n\u001b[0;32m     10\u001b[0m \u001b[1;33m\u001b[0m\u001b[0m\n\u001b[1;32m---> 11\u001b[1;33m \u001b[0mcontrolled_execution\u001b[0m\u001b[1;33m(\u001b[0m\u001b[0mdo_something\u001b[0m\u001b[1;33m)\u001b[0m\u001b[1;33m\u001b[0m\u001b[1;33m\u001b[0m\u001b[0m\n\u001b[0m",
      "\u001b[1;32m~\\AppData\\Local\\Temp/ipykernel_2888/3651476649.py\u001b[0m in \u001b[0;36mcontrolled_execution\u001b[1;34m(callback)\u001b[0m\n\u001b[0;32m      1\u001b[0m \u001b[1;32mdef\u001b[0m \u001b[0mcontrolled_execution\u001b[0m\u001b[1;33m(\u001b[0m\u001b[0mcallback\u001b[0m\u001b[1;33m)\u001b[0m\u001b[1;33m:\u001b[0m\u001b[1;33m\u001b[0m\u001b[1;33m\u001b[0m\u001b[0m\n\u001b[1;32m----> 2\u001b[1;33m     \u001b[0mset_things_up\u001b[0m\u001b[1;33m(\u001b[0m\u001b[1;33m)\u001b[0m\u001b[1;33m\u001b[0m\u001b[1;33m\u001b[0m\u001b[0m\n\u001b[0m\u001b[0;32m      3\u001b[0m     \u001b[1;32mtry\u001b[0m\u001b[1;33m:\u001b[0m\u001b[1;33m\u001b[0m\u001b[1;33m\u001b[0m\u001b[0m\n\u001b[0;32m      4\u001b[0m         \u001b[0mcallback\u001b[0m\u001b[1;33m(\u001b[0m\u001b[1;33m)\u001b[0m\u001b[1;33m\u001b[0m\u001b[1;33m\u001b[0m\u001b[0m\n\u001b[0;32m      5\u001b[0m     \u001b[1;32mfinally\u001b[0m\u001b[1;33m:\u001b[0m\u001b[1;33m\u001b[0m\u001b[1;33m\u001b[0m\u001b[0m\n",
      "\u001b[1;31mNameError\u001b[0m: name 'set_things_up' is not defined"
     ]
    }
   ],
   "source": [
    "def controlled_execution(callback):\n",
    "    set_things_up()\n",
    "    try:\n",
    "        callback()\n",
    "    finally:\n",
    "        tear_things_down()\n",
    "\n",
    "def do_something():\n",
    "    print('James has sex with', bond_girl)\n",
    "\n",
    "controlled_execution(do_something)"
   ]
  },
  {
   "cell_type": "markdown",
   "metadata": {
    "collapsed": true,
    "slideshow": {
     "slide_type": "subslide"
    }
   },
   "source": [
    "That’s a bit verbose, especially if you need to modify local variables\n",
    "\n",
    "Another approach is to use a one-shot generator, and use the for-in statement to “wrap” the code"
   ]
  },
  {
   "cell_type": "code",
   "execution_count": null,
   "metadata": {
    "slideshow": {
     "slide_type": "subslide"
    }
   },
   "outputs": [],
   "source": [
    "def controlled_execution():\n",
    "    set_things_up()\n",
    "    try:\n",
    "        yield bond_girl\n",
    "    finally:\n",
    "        tear_things_down()\n",
    "\n",
    "def do_something_with_thing(bond_girl):\n",
    "    print('James has sex with', bond_girl)\n",
    "        \n",
    "for thing in controlled_execution():\n",
    "    do_something_with_thing(thing)"
   ]
  },
  {
   "cell_type": "markdown",
   "metadata": {
    "slideshow": {
     "slide_type": "subslide"
    }
   },
   "source": [
    " It’s a bit weird to use a loop construct when you know that you only want to execute something once"
   ]
  },
  {
   "cell_type": "code",
   "execution_count": null,
   "metadata": {
    "slideshow": {
     "slide_type": "subslide"
    }
   },
   "outputs": [],
   "source": [
    "class controlled_execution: \n",
    "    def __enter__(self): \n",
    "        set_things_up()\n",
    "        return bond_girl\n",
    "    def __exit__(self, type, value, traceback): \n",
    "        tear_things_down()\n",
    "\n",
    "def do_something_with_thing(bond_girl):\n",
    "    print('James has sex with', bond_girl)\n",
    "        \n",
    "with controlled_execution() as thing:\n",
    "    do_something_with_thing(thing)\n"
   ]
  },
  {
   "cell_type": "markdown",
   "metadata": {
    "slideshow": {
     "slide_type": "subslide"
    }
   },
   "source": [
    "When the “with” statement is executed, Python evaluates the expression, calls the `__enter__` method on the resulting value (which is called a “context guard”), and assigns whatever `__enter__` returns to the variable given by as"
   ]
  },
  {
   "cell_type": "markdown",
   "metadata": {
    "slideshow": {
     "slide_type": "subslide"
    }
   },
   "source": [
    "Python will then execute the code body, and no matter what happens in that code, call the guard object’s `__exit__` method"
   ]
  },
  {
   "cell_type": "code",
   "execution_count": 49,
   "metadata": {
    "slideshow": {
     "slide_type": "subslide"
    }
   },
   "outputs": [
    {
     "name": "stdout",
     "output_type": "stream",
     "text": [
      "import math\n",
      "\n",
      "import concurrent.futures\n",
      "\n",
      "\n",
      "\n",
      "PRIMES = [\n",
      "\n",
      "    112272535095293,\n",
      "\n",
      "    112582705942171,\n",
      "\n",
      "    112272535095293,\n",
      "\n",
      "    115280095190773,\n",
      "\n",
      "    115797848077099,\n",
      "\n",
      "    1099726899285419]\n",
      "\n",
      "\n",
      "\n",
      "def is_prime(n):\n",
      "\n",
      "    if n % 2 == 0:\n",
      "\n",
      "        return False\n",
      "\n",
      "\n",
      "\n",
      "    sqrt_n = int(math.floor(math.sqrt(n)))\n",
      "\n",
      "    for i in range(3, sqrt_n + 1, 2):\n",
      "\n",
      "        if n % i == 0:\n",
      "\n",
      "            return False\n",
      "\n",
      "    return True\n",
      "\n",
      "\n",
      "\n",
      "def main():\n",
      "\n",
      "    with concurrent.futures.ProcessPoolExecutor() as executor:\n",
      "\n",
      "        for number, prime in zip(PRIMES, executor.map(is_prime, PRIMES)):\n",
      "\n",
      "            print('%d is prime: %s' % (number, prime))\n",
      "\n",
      "\n",
      "\n",
      "if __name__ == '__main__':\n",
      "\n",
      "    main()\n",
      "\n"
     ]
    }
   ],
   "source": [
    "with open('pr.py', 'r') as f:\n",
    "    for line in f:\n",
    "        print(line)\n"
   ]
  },
  {
   "cell_type": "code",
   "execution_count": 22,
   "metadata": {
    "slideshow": {
     "slide_type": "subslide"
    }
   },
   "outputs": [
    {
     "data": {
      "text/plain": [
       "<_io.TextIOWrapper name='pr.py' mode='r' encoding='cp1250'>"
      ]
     },
     "execution_count": 22,
     "metadata": {},
     "output_type": "execute_result"
    }
   ],
   "source": [
    "f = open(\"pr.py\") \n",
    "f\n"
   ]
  },
  {
   "cell_type": "code",
   "execution_count": 51,
   "metadata": {
    "slideshow": {
     "slide_type": "fragment"
    }
   },
   "outputs": [
    {
     "data": {
      "text/plain": [
       "<_io.TextIOWrapper name='pr.py' mode='r' encoding='cp1250'>"
      ]
     },
     "execution_count": 51,
     "metadata": {},
     "output_type": "execute_result"
    }
   ],
   "source": [
    "f.__enter__()"
   ]
  },
  {
   "cell_type": "code",
   "execution_count": 23,
   "metadata": {
    "slideshow": {
     "slide_type": "subslide"
    }
   },
   "outputs": [
    {
     "data": {
      "text/plain": [
       "'import ma'"
      ]
     },
     "execution_count": 23,
     "metadata": {},
     "output_type": "execute_result"
    }
   ],
   "source": [
    "f.read(9)"
   ]
  },
  {
   "cell_type": "code",
   "execution_count": 53,
   "metadata": {
    "slideshow": {
     "slide_type": "subslide"
    }
   },
   "outputs": [
    {
     "ename": "NameError",
     "evalue": "name 'input_file_path' is not defined",
     "output_type": "error",
     "traceback": [
      "\u001b[1;31m---------------------------------------------------------------------------\u001b[0m",
      "\u001b[1;31mNameError\u001b[0m                                 Traceback (most recent call last)",
      "\u001b[1;32m<ipython-input-53-edd1e4d6fa74>\u001b[0m in \u001b[0;36m<module>\u001b[1;34m\u001b[0m\n\u001b[1;32m----> 1\u001b[1;33m \u001b[1;32mwith\u001b[0m \u001b[0mopen\u001b[0m\u001b[1;33m(\u001b[0m\u001b[0minput_file_path\u001b[0m\u001b[1;33m)\u001b[0m \u001b[1;32mas\u001b[0m \u001b[0minputfile\u001b[0m\u001b[1;33m,\u001b[0m \u001b[0mopen\u001b[0m\u001b[1;33m(\u001b[0m\u001b[0moutput_file_path\u001b[0m\u001b[1;33m,\u001b[0m \u001b[1;34m'w'\u001b[0m\u001b[1;33m)\u001b[0m \u001b[1;32mas\u001b[0m \u001b[0moutputfile\u001b[0m\u001b[1;33m:\u001b[0m\u001b[1;33m\u001b[0m\u001b[1;33m\u001b[0m\u001b[0m\n\u001b[0m\u001b[0;32m      2\u001b[0m     \u001b[1;32mfor\u001b[0m \u001b[0mline\u001b[0m \u001b[1;32min\u001b[0m \u001b[0minputfile\u001b[0m\u001b[1;33m:\u001b[0m\u001b[1;33m\u001b[0m\u001b[1;33m\u001b[0m\u001b[0m\n\u001b[0;32m      3\u001b[0m         \u001b[0moutputfile\u001b[0m\u001b[1;33m.\u001b[0m\u001b[0mwrite\u001b[0m\u001b[1;33m(\u001b[0m\u001b[0mprocess\u001b[0m\u001b[1;33m(\u001b[0m\u001b[0mline\u001b[0m\u001b[1;33m)\u001b[0m\u001b[1;33m)\u001b[0m\u001b[1;33m\u001b[0m\u001b[1;33m\u001b[0m\u001b[0m\n",
      "\u001b[1;31mNameError\u001b[0m: name 'input_file_path' is not defined"
     ]
    }
   ],
   "source": [
    "with open(input_file_path) as inputfile, open(output_file_path, 'w') as outputfile:\n",
    "    for line in inputfile:\n",
    "        outputfile.write(process(line))"
   ]
  },
  {
   "cell_type": "code",
   "execution_count": 24,
   "metadata": {
    "slideshow": {
     "slide_type": "subslide"
    }
   },
   "outputs": [
    {
     "ename": "ValueError",
     "evalue": "I/O operation on closed file.",
     "output_type": "error",
     "traceback": [
      "\u001b[1;31m---------------------------------------------------------------------------\u001b[0m",
      "\u001b[1;31mValueError\u001b[0m                                Traceback (most recent call last)",
      "\u001b[1;32m~\\AppData\\Local\\Temp/ipykernel_2888/1504075537.py\u001b[0m in \u001b[0;36m<module>\u001b[1;34m\u001b[0m\n\u001b[0;32m      1\u001b[0m \u001b[0mf\u001b[0m\u001b[1;33m.\u001b[0m\u001b[0m__exit__\u001b[0m\u001b[1;33m(\u001b[0m\u001b[1;32mNone\u001b[0m\u001b[1;33m,\u001b[0m \u001b[1;32mNone\u001b[0m\u001b[1;33m,\u001b[0m \u001b[1;32mNone\u001b[0m\u001b[1;33m)\u001b[0m\u001b[1;33m\u001b[0m\u001b[1;33m\u001b[0m\u001b[0m\n\u001b[1;32m----> 2\u001b[1;33m \u001b[0mf\u001b[0m\u001b[1;33m.\u001b[0m\u001b[0mread\u001b[0m\u001b[1;33m(\u001b[0m\u001b[1;36m10\u001b[0m\u001b[1;33m)\u001b[0m\u001b[1;33m\u001b[0m\u001b[1;33m\u001b[0m\u001b[0m\n\u001b[0m",
      "\u001b[1;31mValueError\u001b[0m: I/O operation on closed file."
     ]
    }
   ],
   "source": [
    "f.__exit__(None, None, None)\n",
    "f.read(10)"
   ]
  },
  {
   "cell_type": "markdown",
   "metadata": {
    "slideshow": {
     "slide_type": "subslide"
    }
   },
   "source": [
    "As an extra bonus, the __exit__ method can look at the exception, if any, and suppress it or act on it as necessary"
   ]
  },
  {
   "cell_type": "markdown",
   "metadata": {
    "slideshow": {
     "slide_type": "subslide"
    }
   },
   "source": [
    "To suppress the exception, just return a true value\n",
    "\n",
    "For example, the following __exit__ method swallows any TypeError, but lets all other exceptions through:"
   ]
  },
  {
   "cell_type": "code",
   "execution_count": null,
   "metadata": {
    "slideshow": {
     "slide_type": "subslide"
    }
   },
   "outputs": [],
   "source": [
    "def __exit__(self, type, value, traceback):\n",
    "    return isinstance(value, TypeError)"
   ]
  },
  {
   "cell_type": "markdown",
   "metadata": {
    "slideshow": {
     "slide_type": "subslide"
    }
   },
   "source": [
    "## contextlib"
   ]
  },
  {
   "cell_type": "markdown",
   "metadata": {
    "slideshow": {
     "slide_type": "subslide"
    }
   },
   "source": [
    "    @contextlib.contextmanager\n",
    "\n",
    "This function is a decorator that can be used to define a factory function for with statement context managers, without needing to create a class or separate __enter__() and __exit__() methods\n",
    "\n",
    "    "
   ]
  },
  {
   "cell_type": "markdown",
   "metadata": {
    "slideshow": {
     "slide_type": "subslide"
    }
   },
   "source": [
    "A simple example (not recommended as a real way of generating HTML!)"
   ]
  },
  {
   "cell_type": "code",
   "execution_count": 55,
   "metadata": {
    "slideshow": {
     "slide_type": "subslide"
    }
   },
   "outputs": [
    {
     "name": "stdout",
     "output_type": "stream",
     "text": [
      "<h1>\n",
      "foo\n",
      "</h1>\n"
     ]
    }
   ],
   "source": [
    "from contextlib import contextmanager\n",
    "\n",
    "@contextmanager\n",
    "def tag(name):\n",
    "    print(\"<%s>\" % name)\n",
    "    yield\n",
    "    print(\"</%s>\" % name)\n",
    "\n",
    "with tag(\"h1\"):\n",
    "   print(\"foo\")"
   ]
  },
  {
   "cell_type": "markdown",
   "metadata": {
    "slideshow": {
     "slide_type": "subslide"
    }
   },
   "source": [
    "The function being decorated must return a generator-iterator when called\n",
    "\n",
    "This iterator must yield exactly one value, which will be bound to the targets in the with statement’s as clause, if any"
   ]
  },
  {
   "cell_type": "markdown",
   "metadata": {
    "slideshow": {
     "slide_type": "subslide"
    }
   },
   "source": [
    "At the point where the generator yields, the block nested in the with statement is executed\n",
    "\n",
    "The generator is then resumed after the block is exited"
   ]
  },
  {
   "cell_type": "code",
   "execution_count": null,
   "metadata": {
    "slideshow": {
     "slide_type": "subslide"
    }
   },
   "outputs": [],
   "source": [
    "import threading, subprocess\n",
    "\n",
    "doproc = lambda: subprocess.Popen([\"python\", \"-c\", \"'a=1'\"], \n",
    "                                  stdout=subprocess.PIPE).communicate()\n",
    "\n",
    "def dothread():\n",
    "    def run():\n",
    "        a = 1\n",
    "    th = threading.Thread(target=run)\n",
    "    th.start()\n",
    "    th.join()\n",
    "\n",
    "%time junk = [dothread() for _ in range(500)]"
   ]
  },
  {
   "cell_type": "code",
   "execution_count": null,
   "metadata": {
    "slideshow": {
     "slide_type": "subslide"
    }
   },
   "outputs": [],
   "source": [
    "%time junk = [doproc() for _ in range(500)]"
   ]
  },
  {
   "cell_type": "code",
   "execution_count": null,
   "metadata": {
    "slideshow": {
     "slide_type": "subslide"
    }
   },
   "outputs": [],
   "source": [
    "import contextlib\n",
    "import time\n",
    "\n",
    "@contextlib.contextmanager\n",
    "def time_print(task_name):\n",
    "    t = time.time()\n",
    "    try:\n",
    "        yield\n",
    "    finally:\n",
    "        print(task_name, \"took\", time.time() - t, \"seconds.\")\n",
    "\n",
    "with time_print(\"processes\"):\n",
    "    [doproc() for _ in range(500)]\n",
    "\n",
    "with time_print(\"threads\"):\n",
    "    [dothread() for _ in range(500)]"
   ]
  },
  {
   "cell_type": "markdown",
   "metadata": {
    "slideshow": {
     "slide_type": "slide"
    }
   },
   "source": [
    "# Sorting\n",
    "\n",
    "https://wiki.python.org/moin/HowTo/Sorting"
   ]
  },
  {
   "cell_type": "markdown",
   "metadata": {
    "slideshow": {
     "slide_type": "subslide"
    }
   },
   "source": [
    "Python lists have a built-in sort() method that modifies the list in-place and a sorted() built-in function that builds a new sorted list from an iterable. "
   ]
  },
  {
   "cell_type": "code",
   "execution_count": 25,
   "metadata": {
    "slideshow": {
     "slide_type": "subslide"
    }
   },
   "outputs": [
    {
     "name": "stdout",
     "output_type": "stream",
     "text": [
      "[1, 2, 3, 4, 5]\n",
      "[5, 2, 3, 1, 4]\n",
      "[1, 2, 3, 4, 5]\n"
     ]
    }
   ],
   "source": [
    "a = [5, 2, 3, 1, 4]\n",
    "print(sorted(a))\n",
    "print(a)\n",
    "a.sort()\n",
    "print(a)"
   ]
  },
  {
   "cell_type": "code",
   "execution_count": 26,
   "metadata": {
    "slideshow": {
     "slide_type": "subslide"
    }
   },
   "outputs": [
    {
     "data": {
      "text/plain": [
       "[1, 2, 3, 4, 5]"
      ]
     },
     "execution_count": 26,
     "metadata": {},
     "output_type": "execute_result"
    }
   ],
   "source": [
    "sorted({1: 'D', 2: 'B', 3: 'B', 4: 'E', 5: 'A'})"
   ]
  },
  {
   "cell_type": "code",
   "execution_count": 8,
   "metadata": {
    "slideshow": {
     "slide_type": "subslide"
    }
   },
   "outputs": [
    {
     "data": {
      "text/plain": [
       "['a', 'Andrew', 'from', 'is', 'string', 'test', 'This']"
      ]
     },
     "execution_count": 8,
     "metadata": {},
     "output_type": "execute_result"
    }
   ],
   "source": [
    "sorted(\"This is a test string from Andrew\".split(), key=str.lower)"
   ]
  },
  {
   "cell_type": "markdown",
   "metadata": {
    "slideshow": {
     "slide_type": "subslide"
    }
   },
   "source": [
    "The value of the key parameter should be a function that takes a single argument and returns a key to use for sorting purposes\n",
    "\n",
    "This technique is fast because the key function is called exactly once for each input record"
   ]
  },
  {
   "cell_type": "markdown",
   "metadata": {
    "slideshow": {
     "slide_type": "subslide"
    }
   },
   "source": [
    "A common pattern is to sort complex objects using some of the object's indices as a key"
   ]
  },
  {
   "cell_type": "code",
   "execution_count": 30,
   "metadata": {
    "slideshow": {
     "slide_type": "subslide"
    }
   },
   "outputs": [
    {
     "data": {
      "text/plain": [
       "[('dave', 'B', 10), ('jane', 'B', 12), ('john', 'A', 15)]"
      ]
     },
     "execution_count": 30,
     "metadata": {},
     "output_type": "execute_result"
    }
   ],
   "source": [
    "student_tuples = [\n",
    "        ('john', 'A', 15),\n",
    "        ('jane', 'B', 12),\n",
    "        ('dave', 'B', 10),\n",
    "]\n",
    "sorted(student_tuples, key=lambda student: student[2])   # sort by age"
   ]
  },
  {
   "cell_type": "markdown",
   "metadata": {
    "slideshow": {
     "slide_type": "subslide"
    }
   },
   "source": [
    "The same technique works for objects with named attributes"
   ]
  },
  {
   "cell_type": "code",
   "execution_count": 29,
   "metadata": {
    "slideshow": {
     "slide_type": "subslide"
    }
   },
   "outputs": [
    {
     "data": {
      "text/plain": [
       "[('dave', 'B', 10), ('jane', 'B', 12), ('john', 'A', 15)]"
      ]
     },
     "execution_count": 29,
     "metadata": {},
     "output_type": "execute_result"
    }
   ],
   "source": [
    "class Student:\n",
    "        def __init__(self, name, grade, age):\n",
    "                self.name = name\n",
    "                self.grade = grade\n",
    "                self.age = age\n",
    "        def __repr__(self):\n",
    "                return repr((self.name, self.grade, self.age))\n",
    "        def weighted_grade(self):\n",
    "                return 'CBA'.index(self.grade) / float(self.age)\n",
    "\n",
    "student_objects = [\n",
    "        Student('john', 'A', 15),\n",
    "        Student('jane', 'B', 12),\n",
    "        Student('dave', 'B', 10),\n",
    "]\n",
    "sorted(student_objects, key=lambda student: student.age)   # sort by age"
   ]
  },
  {
   "cell_type": "markdown",
   "metadata": {
    "slideshow": {
     "slide_type": "subslide"
    }
   },
   "source": [
    "The key-function patterns shown above are very common, so Python provides convenience functions to make accessor functions easier and faster\n",
    "\n",
    "The operator module has itemgetter, attrgetter, and a methodcaller function"
   ]
  },
  {
   "cell_type": "markdown",
   "metadata": {
    "slideshow": {
     "slide_type": "subslide"
    }
   },
   "source": [
    "Using those functions, the above examples become simpler and faster"
   ]
  },
  {
   "cell_type": "code",
   "execution_count": 28,
   "metadata": {
    "slideshow": {
     "slide_type": "subslide"
    }
   },
   "outputs": [
    {
     "ename": "NameError",
     "evalue": "name 'student_tuples' is not defined",
     "output_type": "error",
     "traceback": [
      "\u001b[1;31m---------------------------------------------------------------------------\u001b[0m",
      "\u001b[1;31mNameError\u001b[0m                                 Traceback (most recent call last)",
      "\u001b[1;32m~\\AppData\\Local\\Temp/ipykernel_2888/2498274855.py\u001b[0m in \u001b[0;36m<module>\u001b[1;34m\u001b[0m\n\u001b[0;32m      1\u001b[0m \u001b[1;32mfrom\u001b[0m \u001b[0moperator\u001b[0m \u001b[1;32mimport\u001b[0m \u001b[0mitemgetter\u001b[0m\u001b[1;33m,\u001b[0m \u001b[0mattrgetter\u001b[0m\u001b[1;33m,\u001b[0m \u001b[0mmethodcaller\u001b[0m\u001b[1;33m\u001b[0m\u001b[1;33m\u001b[0m\u001b[0m\n\u001b[0;32m      2\u001b[0m \u001b[1;33m\u001b[0m\u001b[0m\n\u001b[1;32m----> 3\u001b[1;33m \u001b[0msorted\u001b[0m\u001b[1;33m(\u001b[0m\u001b[0mstudent_tuples\u001b[0m\u001b[1;33m,\u001b[0m \u001b[0mkey\u001b[0m\u001b[1;33m=\u001b[0m\u001b[0mitemgetter\u001b[0m\u001b[1;33m(\u001b[0m\u001b[1;36m2\u001b[0m\u001b[1;33m)\u001b[0m\u001b[1;33m)\u001b[0m\u001b[1;33m\u001b[0m\u001b[1;33m\u001b[0m\u001b[0m\n\u001b[0m",
      "\u001b[1;31mNameError\u001b[0m: name 'student_tuples' is not defined"
     ]
    }
   ],
   "source": [
    "from operator import itemgetter, attrgetter, methodcaller\n",
    "\n",
    "sorted(student_tuples, key=itemgetter(2))"
   ]
  },
  {
   "cell_type": "code",
   "execution_count": 62,
   "metadata": {
    "slideshow": {
     "slide_type": "fragment"
    }
   },
   "outputs": [
    {
     "data": {
      "text/plain": [
       "[('dave', 'B', 10), ('jane', 'B', 12), ('john', 'A', 15)]"
      ]
     },
     "execution_count": 62,
     "metadata": {},
     "output_type": "execute_result"
    }
   ],
   "source": [
    "sorted(student_objects, key=attrgetter('age'))"
   ]
  },
  {
   "cell_type": "markdown",
   "metadata": {
    "slideshow": {
     "slide_type": "subslide"
    }
   },
   "source": [
    "The operator module functions allow multiple levels of sorting\n",
    "\n",
    "For example, to sort by grade then by age"
   ]
  },
  {
   "cell_type": "code",
   "execution_count": 63,
   "metadata": {
    "slideshow": {
     "slide_type": "subslide"
    }
   },
   "outputs": [
    {
     "data": {
      "text/plain": [
       "[('john', 'A', 15), ('dave', 'B', 10), ('jane', 'B', 12)]"
      ]
     },
     "execution_count": 63,
     "metadata": {},
     "output_type": "execute_result"
    }
   ],
   "source": [
    "sorted(student_tuples, key=itemgetter(1,2))\n"
   ]
  },
  {
   "cell_type": "code",
   "execution_count": null,
   "metadata": {
    "slideshow": {
     "slide_type": "notes"
    }
   },
   "outputs": [],
   "source": [
    "sorted(student_objects, key=attrgetter('grade', 'age'))"
   ]
  },
  {
   "cell_type": "markdown",
   "metadata": {
    "slideshow": {
     "slide_type": "subslide"
    }
   },
   "source": [
    "The third function from the operator module, methodcaller is used in the following example in which the weighted grade of each student is shown before sorting on it"
   ]
  },
  {
   "cell_type": "code",
   "execution_count": 64,
   "metadata": {
    "slideshow": {
     "slide_type": "subslide"
    }
   },
   "outputs": [
    {
     "data": {
      "text/plain": [
       "[('john', 0.13333333333333333), ('jane', 0.08333333333333333), ('dave', 0.1)]"
      ]
     },
     "execution_count": 64,
     "metadata": {},
     "output_type": "execute_result"
    }
   ],
   "source": [
    "[(student.name, student.weighted_grade()) for student in student_objects]"
   ]
  },
  {
   "cell_type": "code",
   "execution_count": 65,
   "metadata": {
    "slideshow": {
     "slide_type": "fragment"
    }
   },
   "outputs": [
    {
     "data": {
      "text/plain": [
       "[('jane', 'B', 12), ('dave', 'B', 10), ('john', 'A', 15)]"
      ]
     },
     "execution_count": 65,
     "metadata": {},
     "output_type": "execute_result"
    }
   ],
   "source": [
    "sorted(student_objects, key=methodcaller('weighted_grade'))"
   ]
  },
  {
   "cell_type": "markdown",
   "metadata": {
    "slideshow": {
     "slide_type": "subslide"
    }
   },
   "source": [
    "Both list.sort() and sorted() accept a reverse parameter with a boolean value\n",
    "\n",
    "This is using to flag descending sorts\n",
    "\n",
    "For example, to get the student data in reverse age order"
   ]
  },
  {
   "cell_type": "code",
   "execution_count": 66,
   "metadata": {
    "slideshow": {
     "slide_type": "subslide"
    }
   },
   "outputs": [
    {
     "data": {
      "text/plain": [
       "[('john', 'A', 15), ('jane', 'B', 12), ('dave', 'B', 10)]"
      ]
     },
     "execution_count": 66,
     "metadata": {},
     "output_type": "execute_result"
    }
   ],
   "source": [
    "sorted(student_tuples, key=itemgetter(2), reverse=True)"
   ]
  },
  {
   "cell_type": "code",
   "execution_count": 67,
   "metadata": {
    "slideshow": {
     "slide_type": "fragment"
    }
   },
   "outputs": [
    {
     "data": {
      "text/plain": [
       "[('john', 'A', 15), ('jane', 'B', 12), ('dave', 'B', 10)]"
      ]
     },
     "execution_count": 67,
     "metadata": {},
     "output_type": "execute_result"
    }
   ],
   "source": [
    "sorted(student_objects, key=attrgetter('age'), reverse=True)"
   ]
  },
  {
   "cell_type": "markdown",
   "metadata": {
    "slideshow": {
     "slide_type": "subslide"
    }
   },
   "source": [
    "Sorts are guaranteed to be stable\n",
    "\n",
    "That means that when multiple records have the same key, their original order is preserved"
   ]
  },
  {
   "cell_type": "code",
   "execution_count": 31,
   "metadata": {
    "slideshow": {
     "slide_type": "subslide"
    }
   },
   "outputs": [
    {
     "data": {
      "text/plain": [
       "[('blue', 1), ('blue', 2), ('red', 2), ('red', 1)]"
      ]
     },
     "execution_count": 31,
     "metadata": {},
     "output_type": "execute_result"
    }
   ],
   "source": [
    "data = [('red', 2), ('blue', 1), ('red', 1), ('blue', 2)]\n",
    "sorted(data, key=itemgetter(0))"
   ]
  },
  {
   "cell_type": "code",
   "execution_count": 69,
   "metadata": {
    "slideshow": {
     "slide_type": "fragment"
    }
   },
   "outputs": [
    {
     "data": {
      "text/plain": [
       "[('dave', 'B', 10), ('jane', 'B', 12), ('john', 'A', 15)]"
      ]
     },
     "execution_count": 69,
     "metadata": {},
     "output_type": "execute_result"
    }
   ],
   "source": [
    "sorted(student_objects, key=attrgetter('age'))"
   ]
  },
  {
   "cell_type": "markdown",
   "metadata": {
    "slideshow": {
     "slide_type": "subslide"
    }
   },
   "source": [
    "This wonderful property lets you build complex sorts in a series of sorting steps\n",
    "\n",
    "For example, to sort the student data by descending grade and then ascending age, do the age sort first and then sort again using grade "
   ]
  },
  {
   "cell_type": "code",
   "execution_count": 34,
   "metadata": {
    "slideshow": {
     "slide_type": "subslide"
    }
   },
   "outputs": [
    {
     "name": "stdout",
     "output_type": "stream",
     "text": [
      "[('dave', 'B', 10), ('jane', 'B', 12), ('john', 'A', 15)]\n",
      "[('dave', 'B', 10), ('jane', 'B', 12), ('john', 'A', 15)]\n"
     ]
    }
   ],
   "source": [
    "s = sorted(student_objects, key=attrgetter('age'))  # sort on secondary key\n",
    "print(s)\n",
    "print(sorted(s, key=attrgetter('grade'), reverse=True))    # now sort on primary key, descending"
   ]
  },
  {
   "cell_type": "markdown",
   "metadata": {
    "slideshow": {
     "slide_type": "subslide"
    }
   },
   "source": [
    "The Timsort algorithm used in Python does multiple sorts efficiently because it can take advantage of any ordering already present in a dataset. "
   ]
  },
  {
   "cell_type": "markdown",
   "metadata": {
    "slideshow": {
     "slide_type": "subslide"
    }
   },
   "source": [
    "The reverse parameter still maintains sort stability (i.e. records with equal keys retain the original order)\n",
    "\n",
    "Interestingly, that effect can be simulated without the parameter by using the builtin reversed function twice\n",
    "\n",
    "    "
   ]
  },
  {
   "cell_type": "code",
   "execution_count": 71,
   "metadata": {
    "slideshow": {
     "slide_type": "subslide"
    }
   },
   "outputs": [
    {
     "name": "stdout",
     "output_type": "stream",
     "text": [
      "[('red', 2), ('red', 1), ('blue', 2), ('blue', 1)]\n",
      "[('red', 2), ('red', 1), ('blue', 2), ('blue', 1)]\n"
     ]
    }
   ],
   "source": [
    "data = [('red', 1), ('blue', 1), ('red', 2), ('blue', 2)]\n",
    "print(sorted(data, reverse=True))\n",
    "print(list(reversed(sorted(reversed(data)))))\n"
   ]
  },
  {
   "cell_type": "markdown",
   "metadata": {
    "slideshow": {
     "slide_type": "subslide"
    }
   },
   "source": [
    "To create a standard sort order for a class, just add the appropriate rich comparison methods"
   ]
  },
  {
   "cell_type": "code",
   "execution_count": 72,
   "metadata": {
    "slideshow": {
     "slide_type": "subslide"
    }
   },
   "outputs": [
    {
     "data": {
      "text/plain": [
       "[('dave', 'B', 10), ('jane', 'B', 12), ('john', 'A', 15)]"
      ]
     },
     "execution_count": 72,
     "metadata": {},
     "output_type": "execute_result"
    }
   ],
   "source": [
    "Student.__eq__ = lambda self, other: self.age == other.age\n",
    "Student.__ne__ = lambda self, other: self.age != other.age\n",
    "Student.__lt__ = lambda self, other: self.age < other.age\n",
    "Student.__le__ = lambda self, other: self.age <= other.age\n",
    "Student.__gt__ = lambda self, other: self.age > other.age\n",
    "Student.__ge__ = lambda self, other: self.age >= other.age\n",
    "sorted(student_objects)\n"
   ]
  },
  {
   "cell_type": "markdown",
   "metadata": {
    "slideshow": {
     "slide_type": "subslide"
    }
   },
   "source": [
    "For general purpose comparisons, the recommended approach is to define all six rich comparison operators\n",
    "\n",
    "The functools.total_ordering class decorator makes this easy to implement"
   ]
  },
  {
   "cell_type": "code",
   "execution_count": null,
   "metadata": {
    "slideshow": {
     "slide_type": "subslide"
    }
   },
   "outputs": [],
   "source": [
    "import functools\n",
    "import inspect\n",
    "from pprint import pprint\n",
    "\n",
    "@functools.total_ordering\n",
    "class MyObject:\n",
    "\n",
    "    def __init__(self, val):\n",
    "        self.val = val\n",
    "\n",
    "    def __eq__(self, other):\n",
    "        print('  testing __eq__({}, {})'.format(\n",
    "            self.val, other.val))\n",
    "        return self.val == other.val\n",
    "\n",
    "    def __gt__(self, other):\n",
    "        print('  testing __gt__({}, {})'.format(\n",
    "            self.val, other.val))\n",
    "        return self.val > other.val"
   ]
  },
  {
   "cell_type": "code",
   "execution_count": 73,
   "metadata": {
    "slideshow": {
     "slide_type": "subslide"
    }
   },
   "outputs": [
    {
     "name": "stdout",
     "output_type": "stream",
     "text": [
      "Methods:\n",
      "\n"
     ]
    },
    {
     "ename": "NameError",
     "evalue": "name 'pprint' is not defined",
     "output_type": "error",
     "traceback": [
      "\u001b[1;31m---------------------------------------------------------------------------\u001b[0m",
      "\u001b[1;31mNameError\u001b[0m                                 Traceback (most recent call last)",
      "\u001b[1;32m<ipython-input-73-d730cd0ae5d5>\u001b[0m in \u001b[0;36m<module>\u001b[1;34m\u001b[0m\n\u001b[0;32m      1\u001b[0m \u001b[0mprint\u001b[0m\u001b[1;33m(\u001b[0m\u001b[1;34m'Methods:\\n'\u001b[0m\u001b[1;33m)\u001b[0m\u001b[1;33m\u001b[0m\u001b[1;33m\u001b[0m\u001b[0m\n\u001b[1;32m----> 2\u001b[1;33m \u001b[0mpprint\u001b[0m\u001b[1;33m(\u001b[0m\u001b[0minspect\u001b[0m\u001b[1;33m.\u001b[0m\u001b[0mgetmembers\u001b[0m\u001b[1;33m(\u001b[0m\u001b[0mMyObject\u001b[0m\u001b[1;33m,\u001b[0m \u001b[0minspect\u001b[0m\u001b[1;33m.\u001b[0m\u001b[0misfunction\u001b[0m\u001b[1;33m)\u001b[0m\u001b[1;33m)\u001b[0m\u001b[1;33m\u001b[0m\u001b[1;33m\u001b[0m\u001b[0m\n\u001b[0m\u001b[0;32m      3\u001b[0m \u001b[1;33m\u001b[0m\u001b[0m\n\u001b[0;32m      4\u001b[0m \u001b[0ma\u001b[0m \u001b[1;33m=\u001b[0m \u001b[0mMyObject\u001b[0m\u001b[1;33m(\u001b[0m\u001b[1;36m1\u001b[0m\u001b[1;33m)\u001b[0m\u001b[1;33m\u001b[0m\u001b[1;33m\u001b[0m\u001b[0m\n\u001b[0;32m      5\u001b[0m \u001b[0mb\u001b[0m \u001b[1;33m=\u001b[0m \u001b[0mMyObject\u001b[0m\u001b[1;33m(\u001b[0m\u001b[1;36m2\u001b[0m\u001b[1;33m)\u001b[0m\u001b[1;33m\u001b[0m\u001b[1;33m\u001b[0m\u001b[0m\n",
      "\u001b[1;31mNameError\u001b[0m: name 'pprint' is not defined"
     ]
    }
   ],
   "source": [
    "print('Methods:\\n')\n",
    "pprint(inspect.getmembers(MyObject, inspect.isfunction))\n",
    "\n",
    "a = MyObject(1)\n",
    "b = MyObject(2)\n",
    "\n",
    "print('\\nComparisons:')\n",
    "for expr in ['a < b', 'a <= b', 'a == b', 'a >= b', 'a > b']:\n",
    "    print('\\n{:<6}:'.format(expr))\n",
    "    result = eval(expr)\n",
    "    print('  result of {}: {}'.format(expr, result))"
   ]
  },
  {
   "cell_type": "markdown",
   "metadata": {
    "slideshow": {
     "slide_type": "subslide"
    }
   },
   "source": [
    "Key functions need not access data internal to objects being sorted\n",
    "\n",
    "A key function can also access external resources"
   ]
  },
  {
   "cell_type": "markdown",
   "metadata": {
    "slideshow": {
     "slide_type": "subslide"
    }
   },
   "source": [
    "For instance, if the student grades are stored in a dictionary, they can be used to sort a separate list of student names"
   ]
  },
  {
   "cell_type": "code",
   "execution_count": 74,
   "metadata": {
    "slideshow": {
     "slide_type": "subslide"
    }
   },
   "outputs": [
    {
     "data": {
      "text/plain": [
       "['jane', 'dave', 'john']"
      ]
     },
     "execution_count": 74,
     "metadata": {},
     "output_type": "execute_result"
    }
   ],
   "source": [
    "    students = ['dave', 'john', 'jane']\n",
    "    newgrades = {'john': 'F', 'jane':'A', 'dave': 'C'}\n",
    "    sorted(students, key=newgrades.__getitem__)"
   ]
  },
  {
   "cell_type": "code",
   "execution_count": 76,
   "metadata": {
    "slideshow": {
     "slide_type": "subslide"
    }
   },
   "outputs": [
    {
     "data": {
      "text/plain": [
       "['john', 'dave', 'jane']"
      ]
     },
     "execution_count": 76,
     "metadata": {},
     "output_type": "execute_result"
    }
   ],
   "source": [
    "from random import random\n",
    "sorted(students, key=lambda _:random())"
   ]
  }
 ],
 "metadata": {
  "anaconda-cloud": {},
  "celltoolbar": "Slideshow",
  "kernelspec": {
   "display_name": "Python 3 (ipykernel)",
   "language": "python",
   "name": "python3"
  },
  "language_info": {
   "codemirror_mode": {
    "name": "ipython",
    "version": 3
   },
   "file_extension": ".py",
   "mimetype": "text/x-python",
   "name": "python",
   "nbconvert_exporter": "python",
   "pygments_lexer": "ipython3",
   "version": "3.9.13"
  },
  "livereveal": {
   "controls": true,
   "height": 855,
   "history": true,
   "minScale": 1,
   "progress": true,
   "scroll": false,
   "slideNumber": true,
   "start_slideshow_at": "selected",
   "theme": "simple",
   "transition": "linear",
   "width": 1140
  }
 },
 "nbformat": 4,
 "nbformat_minor": 1
}
