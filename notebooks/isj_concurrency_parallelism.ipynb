{
 "cells": [
  {
   "cell_type": "markdown",
   "metadata": {
    "slideshow": {
     "slide_type": "slide"
    }
   },
   "source": [
    "# Concurrency and Parallelism"
   ]
  },
  {
   "cell_type": "markdown",
   "metadata": {
    "slideshow": {
     "slide_type": "subslide"
    }
   },
   "source": [
    "## Resources\n",
    "\n",
    "- Concurrency is not parallelism (Rob Pike, Heroku's Waza talk, 2012) - https://blog.golang.org/concurrency-is-not-parallelism\n",
    "\n",
    "- Latency vs. Throughput\n",
    "    - https://community.cadence.com/cadence_blogs_8/b/sd/archive/2010/09/13/understanding-latency-vs-throughput\n",
    "    - http://www.futurechips.org/thoughts-for-researchers/clarifying-throughput-vs-latency.html\n",
    "\n",
    "- IO- vs. CPU-bound\n",
    "    - https://conferences.oreilly.com/oscon/oscon2014/public/schedule/detail/34040\n",
    "    - http://stackoverflow.com/questions/868568/what-do-the-terms-cpu-bound-and-i-o-bound-mean\n",
    "    \n",
    "- Processes vs. Threads\n",
    "    - http://stackoverflow.com/questions/200469/what-is-the-difference-between-a-process-and-a-thread\n",
    "    - https://www.ploggingdev.com/2017/01/multiprocessing-and-multithreading-in-python-3/\n",
    "    - https://www.blog.pythonlibrary.org/2016/08/02/python-201-a-multiprocessing-tutorial/\n",
    "    \n",
    "- Apache vs. Nginx\n",
    "    - https://www.rootusers.com/linux-web-server-performance-benchmark-2016-results/\n",
    "    \n",
    "- GIL\n",
    "    - http://www.dabeaz.com/python/UnderstandingGIL.pdf\n",
    "    - http://python-notes.curiousefficiency.org/en/latest/python3/multicore_python.html\n",
    "    - https://lwn.net/Articles/689548/\n",
    "\n",
    "- AsyncIO\n",
    "    - http://masnun.rocks/2016/10/06/async-python-the-different-forms-of-concurrency/\n",
    "    - https://snarky.ca/how-the-heck-does-async-await-work-in-python-3-5/\n",
    "    "
   ]
  },
  {
   "cell_type": "markdown",
   "metadata": {
    "slideshow": {
     "slide_type": "subslide"
    }
   },
   "source": [
    "## asyncio\n",
    "- https://understandingdata.com/posts/asynchronous-web-scraping-in-python/\n",
    "- https://builtin.com/data-science/asyncio-python"
   ]
  },
  {
   "cell_type": "markdown",
   "metadata": {
    "slideshow": {
     "slide_type": "subslide"
    }
   },
   "source": [
    "## What to improve\n",
    "\n",
    "**Latency** and/or **Throughput**\n"
   ]
  },
  {
   "cell_type": "markdown",
   "metadata": {
    "slideshow": {
     "slide_type": "subslide"
    }
   },
   "source": [
    "## Latency\n",
    "\n",
    "the time required to perform some action or to produce some result\n",
    "\n",
    "measured in units of time - hours, minutes, seconds, nanoseconds or clock periods"
   ]
  },
  {
   "cell_type": "markdown",
   "metadata": {
    "slideshow": {
     "slide_type": "subslide"
    }
   },
   "source": [
    "## Throughput\n",
    "\n",
    "the number of such actions executed or results produced per unit of time\n",
    "\n",
    "- measured in units of whatever is being produced (cars, motorcycles, I/O samples, memory words, iterations) per unit of time\n",
    "\n",
    "The term **memory bandwidth** is sometimes used to specify the throughput of memory systems\n"
   ]
  },
  {
   "cell_type": "markdown",
   "metadata": {
    "slideshow": {
     "slide_type": "subslide"
    }
   },
   "source": [
    "# Water pipe example\n",
    "\n",
    "When you go to buy a water pipe, there are two completely independent parameters that you look at:\n",
    "\n",
    "- diameter\n",
    "- length"
   ]
  },
  {
   "cell_type": "markdown",
   "metadata": {
    "slideshow": {
     "slide_type": "subslide"
    }
   },
   "source": [
    "# Water pipe example\n",
    "\n",
    "When you go to buy a water pipe, there are two completely independent parameters that you look at:\n",
    "\n",
    "- diameter - determines the throughput of the pipe\n",
    "- length - determines the latency, i.e., the time it will take for a water droplet to travel across the pipe"
   ]
  },
  {
   "cell_type": "markdown",
   "metadata": {
    "slideshow": {
     "slide_type": "subslide"
    }
   },
   "source": [
    "## Pizza delivery example\n",
    "\n",
    "**Two different delivery strategies for pizza company**\n",
    "\n",
    "Do you want your pizza hot?\n",
    "\n",
    "Or do you want your pizza to be inexpensive?"
   ]
  },
  {
   "cell_type": "markdown",
   "metadata": {
    "slideshow": {
     "slide_type": "subslide"
    }
   },
   "source": [
    "## Pizza delivery example\n",
    "\n",
    "**Two different delivery strategies for pizza company**\n",
    "\n",
    "Do you want your pizza hot?\n",
    "- Low latency\n",
    "\n",
    "Or do you want your pizza to be inexpensive?\n",
    "- High throughput – lots of pizzas per hour "
   ]
  },
  {
   "cell_type": "markdown",
   "metadata": {
    "slideshow": {
     "slide_type": "subslide"
    }
   },
   "source": [
    "## Latency and Throughput are independent\n",
    "\n",
    "A system consists of 8 service stations that take 1 unit of time each\n",
    "\n",
    "- If each job must go through each station, the throughput can be 1 job per unit time, while the\n",
    "latency is 8\n",
    "\n",
    "- If each job needs only 1 service station and any service station will do, the throughput can be 8 jobs per unit time, and the latency is 1"
   ]
  },
  {
   "cell_type": "markdown",
   "metadata": {
    "slideshow": {
     "slide_type": "subslide"
    }
   },
   "source": [
    "### The modern world is parallel\n",
    " Multicore. \n",
    "\n",
    " Networks. \n",
    "\n",
    " Clouds of CPUs. \n",
    "\n",
    " Loads of users. \n",
    "\n",
    " Our technology should help. \n",
    "\n",
    " That's where concurrency comes in. "
   ]
  },
  {
   "cell_type": "markdown",
   "metadata": {
    "slideshow": {
     "slide_type": "subslide"
    }
   },
   "source": [
    "### Concurrency\n",
    " Programming as the composition of independently executing processes. \n",
    "\n",
    " (Processes in the general sense, not Linux processes. Famously hard to define.) "
   ]
  },
  {
   "cell_type": "markdown",
   "metadata": {
    "slideshow": {
     "slide_type": "subslide"
    }
   },
   "source": [
    "### Parallelism\n",
    " Programming as the simultaneous execution of (possibly related) computations. "
   ]
  },
  {
   "cell_type": "markdown",
   "metadata": {
    "slideshow": {
     "slide_type": "subslide"
    }
   },
   "source": [
    "### Concurrency vs. parallelism\n",
    " Concurrency is about **dealing with** lots of things at once. \n",
    "\n",
    " Parallelism is about **doing** lots of things at once. \n",
    "\n",
    " Not the same, but related. "
   ]
  },
  {
   "cell_type": "markdown",
   "metadata": {
    "slideshow": {
     "slide_type": "subslide"
    }
   },
   "source": [
    "### Concurrency vs. parallelism\n",
    "\n",
    " Concurrency is about structure, parallelism is about execution. \n",
    "\n",
    " Concurrency provides a way to structure a solution to solve a problem that may (but not necessarily) be parallelizable. "
   ]
  },
  {
   "cell_type": "markdown",
   "metadata": {
    "slideshow": {
     "slide_type": "subslide"
    }
   },
   "source": [
    "### An analogy\n",
    " Concurrent: Mouse, keyboard, display, and disk drivers. \n",
    "\n",
    " Parallel: Vector dot product. "
   ]
  },
  {
   "cell_type": "markdown",
   "metadata": {
    "slideshow": {
     "slide_type": "subslide"
    }
   },
   "source": [
    "### Concurrency plus communication\n",
    " Concurrency is a way to structure a program by breaking it into pieces that can be executed independently. \n",
    "\n",
    " Communication is the means to coordinate the independent executions. "
   ]
  },
  {
   "cell_type": "markdown",
   "metadata": {
    "slideshow": {
     "slide_type": "subslide"
    }
   },
   "source": [
    "### Our problem\n",
    " Move a pile of obsolete language manuals to the incinerator. \n",
    "\n",
    "![](isj_concurrency_parallelism/gophersimple1.jpg) With only one gopher this will take too long. "
   ]
  },
  {
   "cell_type": "markdown",
   "metadata": {
    "slideshow": {
     "slide_type": "subslide"
    }
   },
   "source": [
    "### More gophers!\n",
    "![](isj_concurrency_parallelism/gophersimple3.jpg) More gophers are not enough; they need more carts. "
   ]
  },
  {
   "cell_type": "markdown",
   "metadata": {
    "slideshow": {
     "slide_type": "subslide"
    }
   },
   "source": [
    "### More gophers and more carts\n",
    "![](isj_concurrency_parallelism/gophersimple2.jpg) This will go faster, but there will be bottlenecks at the pile and incinerator. \n",
    "\n",
    " Also need to synchronize the gophers. \n",
    "\n",
    " A message (that is, a communication between the gophers) will do. "
   ]
  },
  {
   "cell_type": "markdown",
   "metadata": {
    "slideshow": {
     "slide_type": "subslide"
    }
   },
   "source": [
    "### Double everything\n",
    " Remove the bottleneck; make them really independent. \n",
    "\n",
    "![](isj_concurrency_parallelism/gophersimple4.jpg) This will consume input twice as fast. "
   ]
  },
  {
   "cell_type": "markdown",
   "metadata": {
    "slideshow": {
     "slide_type": "subslide"
    }
   },
   "source": [
    "### Concurrent composition\n",
    "![](isj_concurrency_parallelism/gophersimple4.jpg) The concurrent composition of two gopher procedures. "
   ]
  },
  {
   "cell_type": "markdown",
   "metadata": {
    "slideshow": {
     "slide_type": "subslide"
    }
   },
   "source": [
    "### Concurrent composition\n",
    " This design is not automatically parallel! \n",
    "\n",
    " What if only one gopher is moving at a time? \n",
    "\n",
    " Then it's still concurrent (that's in the design), just not parallel. \n",
    "\n",
    " However, it's automatically parallelizable! \n",
    "\n",
    " Moreover the concurrent composition suggests other models. "
   ]
  },
  {
   "cell_type": "markdown",
   "metadata": {
    "slideshow": {
     "slide_type": "subslide"
    }
   },
   "source": [
    "### Another design\n",
    "![](isj_concurrency_parallelism/gophercomplex0.jpg) Three gophers in action, but with likely delays. \n",
    "\n",
    " Each gopher is an independently executing procedure, \n",
    "\n",
    " plus coordination (communication). "
   ]
  },
  {
   "cell_type": "markdown",
   "metadata": {
    "slideshow": {
     "slide_type": "subslide"
    }
   },
   "source": [
    "### Finer-grained concurrency\n",
    " Add another gopher procedure to return the empty carts. \n",
    "\n",
    "![](isj_concurrency_parallelism/gophercomplex1.jpg) Four gophers in action for better flow, each doing one simple task. \n",
    "\n",
    " If we arrange everything right (implausible but not impossible), that's four times faster than our original one-gopher design. "
   ]
  },
  {
   "cell_type": "markdown",
   "metadata": {
    "slideshow": {
     "slide_type": "subslide"
    }
   },
   "source": [
    "### Observation\n",
    " We improved performance by adding a concurrent procedure to the existing design. \n",
    "\n",
    " More gophers doing more work; it runs better. \n",
    "\n",
    " This is a deeper insight than mere parallelism. "
   ]
  },
  {
   "cell_type": "markdown",
   "metadata": {
    "slideshow": {
     "slide_type": "subslide"
    }
   },
   "source": [
    "### Concurrent procedures\n",
    " Four distinct gopher procedures: \n",
    "\n",
    "\n",
    "* load books onto cart\n",
    "* move cart to incinerator\n",
    "* unload cart into incinerator\n",
    "* return empty cart\n",
    "\n",
    " Different concurrent designs enable different ways to parallelize. "
   ]
  },
  {
   "cell_type": "markdown",
   "metadata": {
    "slideshow": {
     "slide_type": "subslide"
    }
   },
   "source": [
    "### More parallelization!\n",
    " We can now parallelize on the other axis; the concurrent design makes it easy. Eight gophers, all busy. \n",
    "\n",
    "![](isj_concurrency_parallelism/gophercomplex2.jpg)"
   ]
  },
  {
   "cell_type": "markdown",
   "metadata": {
    "slideshow": {
     "slide_type": "subslide"
    }
   },
   "source": [
    "### Or maybe no parallelization at all\n",
    " Keep in mind, even if only one gopher is active at a time (zero parallelism), it's still a correct and concurrent solution. \n",
    "\n",
    "![](isj_concurrency_parallelism/gophercomplex2.jpg)"
   ]
  },
  {
   "cell_type": "markdown",
   "metadata": {
    "slideshow": {
     "slide_type": "subslide"
    }
   },
   "source": [
    "### Another design\n",
    " Here's another way to structure the problem as the concurrent composition of gopher procedures. \n",
    "\n",
    " Two gopher procedures, plus a staging pile. \n",
    "\n",
    "![](isj_concurrency_parallelism/gophercomplex3.jpg)"
   ]
  },
  {
   "cell_type": "markdown",
   "metadata": {
    "slideshow": {
     "slide_type": "subslide"
    }
   },
   "source": [
    "### Parallelize the usual way\n",
    " Run more concurrent procedures to get more throughput. \n",
    "\n",
    "![](isj_concurrency_parallelism/gophercomplex4.jpg)"
   ]
  },
  {
   "cell_type": "markdown",
   "metadata": {
    "slideshow": {
     "slide_type": "subslide"
    }
   },
   "source": [
    "### Or a different way\n",
    " Bring the staging pile to the multi-gopher concurrent model: \n",
    "\n",
    "![](isj_concurrency_parallelism/gophercomplex5.jpg)"
   ]
  },
  {
   "cell_type": "markdown",
   "metadata": {
    "slideshow": {
     "slide_type": "subslide"
    }
   },
   "source": [
    "### Full on optimization\n",
    " Use all our techniques. Sixteen gophers hard at work! \n",
    "\n",
    "![](isj_concurrency_parallelism/gophercomplex6.jpg)"
   ]
  },
  {
   "cell_type": "markdown",
   "metadata": {
    "slideshow": {
     "slide_type": "subslide"
    }
   },
   "source": [
    "### Lesson\n",
    " There are many ways to break the processing down. \n",
    "\n",
    " That's concurrent design. \n",
    "\n",
    " Once we have the breakdown, parallelization can fall out and correctness is easy. "
   ]
  },
  {
   "cell_type": "markdown",
   "metadata": {
    "slideshow": {
     "slide_type": "subslide"
    }
   },
   "source": [
    "### Back to Computing\n",
    " In our book transport problem, substitute: \n",
    "\n",
    "\n",
    "* book pile => web content\n",
    "* gopher => CPU\n",
    "* cart => marshaling, rendering, or networking\n",
    "* incinerator => proxy, browser, or other consumer\n",
    "\n",
    " It becomes a concurrent design for a scalable web service. \n",
    "\n",
    " Gophers serving web content. "
   ]
  },
  {
   "cell_type": "markdown",
   "metadata": {
    "slideshow": {
     "slide_type": "subslide"
    }
   },
   "source": [
    "![Subs](isj_concurrency_parallelism/what-is-async-how-does-it-work-and-when-should-i-use-it-13-638.jpg)"
   ]
  },
  {
   "cell_type": "markdown",
   "metadata": {
    "slideshow": {
     "slide_type": "subslide"
    }
   },
   "source": [
    "![Subs](isj_concurrency_parallelism/what-is-async-how-does-it-work-and-when-should-i-use-it-14-638.jpg)"
   ]
  },
  {
   "cell_type": "markdown",
   "metadata": {
    "slideshow": {
     "slide_type": "subslide"
    }
   },
   "source": [
    "## Process vs. Thread\n",
    "\n",
    "Threads share the address space of the process that created it; processes have their own address space."
   ]
  },
  {
   "cell_type": "markdown",
   "metadata": {
    "slideshow": {
     "slide_type": "subslide"
    }
   },
   "source": [
    "## Process vs. Thread\n",
    "Threads have direct access to the data segment of its process; processes have their own copy of the data segment of the parent process."
   ]
  },
  {
   "cell_type": "markdown",
   "metadata": {
    "slideshow": {
     "slide_type": "subslide"
    }
   },
   "source": [
    "## Process vs. Thread\n",
    "Threads can directly communicate with other threads of its process; processes must use interprocess communication to communicate with sibling processes."
   ]
  },
  {
   "cell_type": "markdown",
   "metadata": {
    "slideshow": {
     "slide_type": "subslide"
    }
   },
   "source": [
    "## Process vs. Thread\n",
    "Threads have a relatively small overhead; processes have considerable overhead."
   ]
  },
  {
   "cell_type": "markdown",
   "metadata": {
    "slideshow": {
     "slide_type": "subslide"
    }
   },
   "source": [
    "## Process vs. Thread\n",
    "New threads are easily created; new processes require duplication of the parent process."
   ]
  },
  {
   "cell_type": "markdown",
   "metadata": {
    "slideshow": {
     "slide_type": "subslide"
    }
   },
   "source": [
    "## Process vs. Thread\n",
    "Threads can exercise considerable control over threads of the same process; processes can only exercise control over child processes."
   ]
  },
  {
   "cell_type": "markdown",
   "metadata": {
    "slideshow": {
     "slide_type": "subslide"
    }
   },
   "source": [
    "## Process vs. Thread\n",
    "Changes to the main thread (cancellation, priority change, etc.) may affect the behavior of the other threads of the process; changes to the parent process do not affect child processes."
   ]
  },
  {
   "cell_type": "markdown",
   "metadata": {
    "slideshow": {
     "slide_type": "subslide"
    }
   },
   "source": [
    "## Context Switching\n",
    "\n",
    "= the process of storing and restoring the state (more specifically, the execution context) of a process or thread so that execution can be resumed from the same point at a later time\n",
    "\n",
    "– saving and loading registers and memory maps, updating various tables and lists"
   ]
  },
  {
   "cell_type": "markdown",
   "metadata": {
    "slideshow": {
     "slide_type": "subslide"
    }
   },
   "source": [
    "## OS vs. Green/Light-weight\n",
    "\n",
    "**Green threads** / **Light-weight processes** are scheduled by a VM instead of natively by the underlying OS\n",
    "\n"
   ]
  },
  {
   "cell_type": "markdown",
   "metadata": {
    "slideshow": {
     "slide_type": "subslide"
    }
   },
   "source": [
    "![Web Server Use 2017](isj_concurrency_parallelism/web_server_use_2017.PNG)"
   ]
  },
  {
   "cell_type": "markdown",
   "metadata": {
    "slideshow": {
     "slide_type": "subslide"
    }
   },
   "source": [
    "## Apache vs. Nginx\n",
    "\n",
    "Usually, Apache creates a new process for each new request\n",
    "\n",
    "NGINX uses asynchronous event-driven architecture – which essentially means it doesn’t need to spawn a new process for each request\n",
    "\n",
    "Instead, each NGINX process can serve numerous requests, translating to a reduced impact on hardware and performance\n",
    "\n",
    "NGINX can cope with around four times more requests per second"
   ]
  },
  {
   "cell_type": "markdown",
   "metadata": {
    "slideshow": {
     "slide_type": "subslide"
    }
   },
   "source": [
    "![web-server-performance-benchmark-4-cpu-cores-2.jpg](isj_concurrency_parallelism/web-server-performance-benchmark-4-cpu-cores-2.jpg)"
   ]
  },
  {
   "cell_type": "markdown",
   "metadata": {
    "slideshow": {
     "slide_type": "subslide"
    }
   },
   "source": [
    "![web-server-benchmark-memory-usage.jpg](isj_concurrency_parallelism/web-server-benchmark-memory-usage.jpg)"
   ]
  },
  {
   "cell_type": "markdown",
   "metadata": {
    "slideshow": {
     "slide_type": "subslide"
    }
   },
   "source": [
    "## Multitasking\n",
    "\n",
    "- **Cooperative** - tasks voluntarily yield control periodically or when idle in order to enable multiple applications to be run simultaneously\n",
    "\n",
    "- **Preemptive** - involves the use of an interrupt mechanism which suspends the currently executing process and invokes a scheduler to determine which process should execute next"
   ]
  },
  {
   "cell_type": "markdown",
   "metadata": {
    "slideshow": {
     "slide_type": "subslide"
    }
   },
   "source": [
    "## Task communication\n",
    "- Shared memory\n",
    "- Message passing"
   ]
  },
  {
   "cell_type": "markdown",
   "metadata": {
    "slideshow": {
     "slide_type": "subslide"
    }
   },
   "source": [
    "## Shared memory\n",
    "- Exclusive access\n",
    "- Locking\n",
    "- Deadlock"
   ]
  },
  {
   "cell_type": "markdown",
   "metadata": {
    "slideshow": {
     "slide_type": "subslide"
    }
   },
   "source": [
    "## Python - threading\n",
    "\n",
    "https://docs.python.org/library/threading.html\n",
    "\n",
    "- interface for OS threads\n",
    "- Thread\n",
    "- Lock - exclusive access\n",
    "- RLock - a synchronization primitive that may be acquired multiple times by the same thread\n",
    "- Condition - synchronization"
   ]
  },
  {
   "cell_type": "code",
   "execution_count": 1,
   "metadata": {
    "code_folding": [
     7,
     19
    ],
    "slideshow": {
     "slide_type": "subslide"
    }
   },
   "outputs": [
    {
     "name": "stdout",
     "output_type": "stream",
     "text": [
      "Starting thread : Thread-5 (process_queue)\n",
      "Starting thread : Thread-6 (process_queue)\n",
      "Finished thread : Thread-6 (process_queue)\n",
      "Finished thread : Thread-5 (process_queue)\n",
      "Execution time = 0.04897\n"
     ]
    }
   ],
   "source": [
    "import threading\n",
    "from queue import Queue\n",
    "import time\n",
    "import shutil\n",
    "\n",
    "print_lock = threading.Lock()\n",
    "\n",
    "def copy_op(file_data):\n",
    "    with print_lock:\n",
    "        print(\"Starting thread : {}\".format(threading.current_thread().name))\n",
    "\n",
    "    mydata = threading.local()\n",
    "    mydata.ip, mydata.op = next(iter(file_data.items()))\n",
    "\n",
    "    shutil.copy(mydata.ip, mydata.op)\n",
    "\n",
    "    with print_lock:\n",
    "        print(\"Finished thread : {}\".format(threading.current_thread().name))\n",
    "\n",
    "def process_queue():\n",
    "    while True:\n",
    "        file_data = compress_queue.get()\n",
    "        copy_op(file_data)\n",
    "        compress_queue.task_done()\n",
    "\n",
    "compress_queue = Queue()\n",
    "\n",
    "output_names = [{'v1.avi' : 'v11.avi'},{'v2.avi' : 'v22.avi'}]\n",
    "\n",
    "for i in range(2):\n",
    "    t = threading.Thread(target=process_queue)\n",
    "    t.daemon = True\n",
    "    t.start()\n",
    "\n",
    "start = time.time()\n",
    "\n",
    "for file_data in output_names:\n",
    "    compress_queue.put(file_data)\n",
    "\n",
    "compress_queue.join()\n",
    "\n",
    "print(\"Execution time = {0:.5f}\".format(time.time() - start))"
   ]
  },
  {
   "cell_type": "code",
   "execution_count": 2,
   "metadata": {
    "code_folding": [
     8,
     24,
     34
    ],
    "slideshow": {
     "slide_type": "subslide"
    }
   },
   "outputs": [
    {
     "ename": "ModuleNotFoundError",
     "evalue": "No module named 'requests'",
     "output_type": "error",
     "traceback": [
      "\u001b[0;31m---------------------------------------------------------------------------\u001b[0m",
      "\u001b[0;31mModuleNotFoundError\u001b[0m                       Traceback (most recent call last)",
      "Cell \u001b[0;32mIn[2], line 3\u001b[0m\n\u001b[1;32m      1\u001b[0m \u001b[38;5;28;01mimport\u001b[39;00m \u001b[38;5;21;01mthreading\u001b[39;00m\n\u001b[1;32m      2\u001b[0m \u001b[38;5;28;01mfrom\u001b[39;00m \u001b[38;5;21;01mqueue\u001b[39;00m \u001b[38;5;28;01mimport\u001b[39;00m Queue\n\u001b[0;32m----> 3\u001b[0m \u001b[38;5;28;01mimport\u001b[39;00m \u001b[38;5;21;01mrequests\u001b[39;00m\n\u001b[1;32m      4\u001b[0m \u001b[38;5;28;01mimport\u001b[39;00m \u001b[38;5;21;01mbs4\u001b[39;00m\n\u001b[1;32m      5\u001b[0m \u001b[38;5;28;01mimport\u001b[39;00m \u001b[38;5;21;01mtime\u001b[39;00m\n",
      "\u001b[0;31mModuleNotFoundError\u001b[0m: No module named 'requests'"
     ]
    }
   ],
   "source": [
    "\n",
    "import threading\n",
    "from queue import Queue\n",
    "import requests\n",
    "import bs4\n",
    "import time\n",
    "\n",
    "print_lock = threading.Lock()\n",
    "\n",
    "def get_url(current_url):\n",
    "\n",
    "    with print_lock:\n",
    "        print(\"\\nStarting thread {}\".format(threading.current_thread().name))\n",
    "    res = requests.get(current_url)\n",
    "    res.raise_for_status()\n",
    "\n",
    "    current_page = bs4.BeautifulSoup(res.text,\"html.parser\")\n",
    "    current_title = current_page.select('title')[0].getText()\n",
    "\n",
    "    with print_lock:\n",
    "        print(\"{}\\n\".format(threading.current_thread().name))\n",
    "        print(\"{}\\n\".format(current_title))\n",
    "        print(\"\\nFinished fetching : {}\".format(current_url))\n",
    "\n",
    "def process_queue():\n",
    "    while True:\n",
    "        current_url = url_queue.get()\n",
    "        get_url(current_url)\n",
    "        url_queue.task_done()\n",
    "\n",
    "url_queue = Queue()\n",
    "\n",
    "url_list = [\"https://www.google.com\"]*5\n",
    "\n",
    "for i in range(2):\n",
    "    t = threading.Thread(target=process_queue)\n",
    "    t.daemon = True\n",
    "    t.start()\n",
    "\n",
    "start = time.time()\n",
    "\n",
    "for current_url in url_list:\n",
    "    url_queue.put(current_url)\n",
    "\n",
    "url_queue.join()\n",
    "\n",
    "print(threading.enumerate())\n",
    "\n",
    "print(\"Execution time = {0:.5f}\".format(time.time() - start))"
   ]
  },
  {
   "cell_type": "code",
   "execution_count": 3,
   "metadata": {
    "code_folding": [
     6,
     18,
     32
    ],
    "slideshow": {
     "slide_type": "subslide"
    }
   },
   "outputs": [
    {
     "name": "stdout",
     "output_type": "stream",
     "text": [
      "[6458901531, 9914236195, 14071826345]\n",
      "Execution time = 1.35991\n"
     ]
    }
   ],
   "source": [
    "import threading\n",
    "from queue import Queue\n",
    "import time\n",
    "\n",
    "list_lock = threading.Lock()\n",
    "\n",
    "def find_rand(num):\n",
    "    sum_of_primes = 0\n",
    "\n",
    "    ix = 2\n",
    "\n",
    "    while ix <= num:\n",
    "        if is_prime(ix):\n",
    "            sum_of_primes += ix\n",
    "        ix += 1\n",
    "\n",
    "    sum_primes_list.append(sum_of_primes)\n",
    "\n",
    "def is_prime(num):\n",
    "    if num <= 1:\n",
    "        return False\n",
    "    elif num <= 3:\n",
    "        return True\n",
    "    elif num%2 == 0 or num%3 == 0:\n",
    "        return False\n",
    "    i = 5\n",
    "    while i*i <= num:\n",
    "        if num%i == 0 or num%(i+2) == 0:\n",
    "            return False\n",
    "        i += 6\n",
    "    return True\n",
    "\n",
    "def process_queue():\n",
    "    while True:\n",
    "        rand_num = min_nums.get()\n",
    "        find_rand(rand_num)\n",
    "        min_nums.task_done()\n",
    "\n",
    "min_nums = Queue()\n",
    "\n",
    "rand_list = [400000, 500000, 600000]\n",
    "sum_primes_list = list()\n",
    "\n",
    "for i in range(2):\n",
    "    t = threading.Thread(target=process_queue)\n",
    "    t.daemon = True\n",
    "    t.start()\n",
    "\n",
    "start = time.time()\n",
    "\n",
    "for rand_num in rand_list:\n",
    "    min_nums.put(rand_num)\n",
    "\n",
    "min_nums.join()\n",
    "\n",
    "end_time = time.time()\n",
    "\n",
    "sum_primes_list.sort()\n",
    "print(sum_primes_list)\n",
    "\n",
    "print(\"Execution time = {0:.5f}\".format(end_time - start))"
   ]
  },
  {
   "cell_type": "markdown",
   "metadata": {
    "slideshow": {
     "slide_type": "subslide"
    }
   },
   "source": [
    "## Global Interpreter Lock (GIL)\n",
    "\n",
    "- The GIL ensures that only one thread runs in the interpreter at once\n",
    "\n",
    "- Simplifies many low-level details (memory management, callouts to C extensions, etc.)\n",
    "\n",
    "- Every attempt to remove the GIL from CPython has cost single-threaded programs too much performance to be worth the gains for multithreading"
   ]
  },
  {
   "cell_type": "markdown",
   "metadata": {
    "slideshow": {
     "slide_type": "subslide"
    }
   },
   "source": [
    "## GIL\n",
    "\n",
    "- https://github.com/python/cpython/blob/master/Python/ceval_gil.h\n",
    "- https://github.com/python/cpython/blob/master/Python/ceval.c\n",
    "\n",
    "Whenever a thread begins sleeping or awaiting network I/O, there is a chance for another thread to take the GIL and execute some Python code (cooperative multitasking)\n",
    "\n",
    "CPython also has preemptive multitasking: If a thread runs uninterrupted gil_interval microseconds in Python 3, then it gives up the GIL and another thread may run\n"
   ]
  },
  {
   "cell_type": "code",
   "execution_count": null,
   "metadata": {},
   "outputs": [],
   "source": [
    "# Dot products, using pure python, slowed by GIL\n",
    "\n",
    "import threading\n",
    "from queue import Queue\n",
    "import time\n",
    "import numpy as np\n",
    "\n",
    "list_lock = threading.Lock()\n",
    "\n",
    "def matrix_product(A, B):\n",
    "    C = [[0 for i in range(len(B[0]))] for j in range(len(A))]\n",
    "    for i in range(len(A)):\n",
    "        for j in range(len(B[0])):\n",
    "            for k in range(len(B)):\n",
    "                C[i][j] += A[i][k] * B[k][j]\n",
    "    return C\n",
    "\n",
    "def compute_cubic(m):\n",
    "    return matrix_product(matrix_product(m,m), m)\n",
    "def process_queue():\n",
    "    while True:\n",
    "        matrix = matrix_q.get()\n",
    "        compute_cubic(matrix)\n",
    "        matrix_q.task_done()\n",
    "\n",
    "matrix_q = Queue()\n",
    "\n",
    "dim = 10_000\n",
    "matrix_list = [np.random.rand(dim,dim).tolist(),\n",
    "               np.random.rand(dim,dim).tolist(),\n",
    "               np.random.rand(dim,dim).tolist(),\n",
    "               np.random.rand(dim,dim).tolist()]\n",
    "sum_primes_list = list()\n",
    "\n",
    "for i in range(4):\n",
    "    t = threading.Thread(target=process_queue)\n",
    "    t.daemon = True\n",
    "    t.start()\n",
    "\n",
    "start = time.time()\n",
    "\n",
    "for m in matrix_list:\n",
    "    matrix_q.put(m)\n",
    "\n",
    "matrix_q.join()\n",
    "\n",
    "end_time = time.time()\n",
    "\n",
    "\n",
    "print(\"Execution time = {0:.5f}\".format(end_time - start))"
   ]
  },
  {
   "cell_type": "code",
   "execution_count": 1,
   "metadata": {},
   "outputs": [
    {
     "ename": "KeyboardInterrupt",
     "evalue": "",
     "output_type": "error",
     "traceback": [
      "\u001b[0;31m---------------------------------------------------------------------------\u001b[0m",
      "\u001b[0;31mKeyboardInterrupt\u001b[0m                         Traceback (most recent call last)",
      "Cell \u001b[0;32mIn[1], line 38\u001b[0m\n\u001b[1;32m     35\u001b[0m \u001b[38;5;28;01mfor\u001b[39;00m m \u001b[38;5;129;01min\u001b[39;00m matrix_list:\n\u001b[1;32m     36\u001b[0m     matrix_q\u001b[38;5;241m.\u001b[39mput(m)\n\u001b[0;32m---> 38\u001b[0m \u001b[43mmatrix_q\u001b[49m\u001b[38;5;241;43m.\u001b[39;49m\u001b[43mjoin\u001b[49m\u001b[43m(\u001b[49m\u001b[43m)\u001b[49m\n\u001b[1;32m     40\u001b[0m end_time \u001b[38;5;241m=\u001b[39m time\u001b[38;5;241m.\u001b[39mtime()\n\u001b[1;32m     43\u001b[0m \u001b[38;5;28mprint\u001b[39m(\u001b[38;5;124m\"\u001b[39m\u001b[38;5;124mExecution time = \u001b[39m\u001b[38;5;132;01m{0:.5f}\u001b[39;00m\u001b[38;5;124m\"\u001b[39m\u001b[38;5;241m.\u001b[39mformat(end_time \u001b[38;5;241m-\u001b[39m start))\n",
      "File \u001b[0;32m~/miniconda3/envs/isj/lib/python3.11/queue.py:90\u001b[0m, in \u001b[0;36mQueue.join\u001b[0;34m(self)\u001b[0m\n\u001b[1;32m     88\u001b[0m \u001b[38;5;28;01mwith\u001b[39;00m \u001b[38;5;28mself\u001b[39m\u001b[38;5;241m.\u001b[39mall_tasks_done:\n\u001b[1;32m     89\u001b[0m     \u001b[38;5;28;01mwhile\u001b[39;00m \u001b[38;5;28mself\u001b[39m\u001b[38;5;241m.\u001b[39munfinished_tasks:\n\u001b[0;32m---> 90\u001b[0m         \u001b[38;5;28;43mself\u001b[39;49m\u001b[38;5;241;43m.\u001b[39;49m\u001b[43mall_tasks_done\u001b[49m\u001b[38;5;241;43m.\u001b[39;49m\u001b[43mwait\u001b[49m\u001b[43m(\u001b[49m\u001b[43m)\u001b[49m\n",
      "File \u001b[0;32m~/miniconda3/envs/isj/lib/python3.11/threading.py:320\u001b[0m, in \u001b[0;36mCondition.wait\u001b[0;34m(self, timeout)\u001b[0m\n\u001b[1;32m    318\u001b[0m \u001b[38;5;28;01mtry\u001b[39;00m:    \u001b[38;5;66;03m# restore state no matter what (e.g., KeyboardInterrupt)\u001b[39;00m\n\u001b[1;32m    319\u001b[0m     \u001b[38;5;28;01mif\u001b[39;00m timeout \u001b[38;5;129;01mis\u001b[39;00m \u001b[38;5;28;01mNone\u001b[39;00m:\n\u001b[0;32m--> 320\u001b[0m         \u001b[43mwaiter\u001b[49m\u001b[38;5;241;43m.\u001b[39;49m\u001b[43macquire\u001b[49m\u001b[43m(\u001b[49m\u001b[43m)\u001b[49m\n\u001b[1;32m    321\u001b[0m         gotit \u001b[38;5;241m=\u001b[39m \u001b[38;5;28;01mTrue\u001b[39;00m\n\u001b[1;32m    322\u001b[0m     \u001b[38;5;28;01melse\u001b[39;00m:\n",
      "\u001b[0;31mKeyboardInterrupt\u001b[0m: "
     ]
    }
   ],
   "source": [
    "# Dot products, using numpy, not locked by GIL\n",
    "# !python -m pip install numpy\n",
    "\n",
    "import threading\n",
    "from queue import Queue\n",
    "import time\n",
    "import numpy as np\n",
    "\n",
    "list_lock = threading.Lock()\n",
    "\n",
    "def compute_cubic(m):\n",
    "    return np.dot(np.dot(m,m.T), m.T)\n",
    "def process_queue():\n",
    "    while True:\n",
    "        matrix = matrix_q.get()\n",
    "        compute_cubic(matrix)\n",
    "        matrix_q.task_done()\n",
    "\n",
    "matrix_q = Queue()\n",
    "\n",
    "dim = 10_000\n",
    "matrix_list = [np.random.rand(dim,dim),\n",
    "               np.random.rand(dim,dim),\n",
    "               np.random.rand(dim,dim),\n",
    "               np.random.rand(dim,dim)]\n",
    "sum_primes_list = list()\n",
    "\n",
    "for i in range(4):\n",
    "    t = threading.Thread(target=process_queue)\n",
    "    t.daemon = True\n",
    "    t.start()\n",
    "\n",
    "start = time.time()\n",
    "\n",
    "for m in matrix_list:\n",
    "    matrix_q.put(m)\n",
    "\n",
    "matrix_q.join()\n",
    "\n",
    "end_time = time.time()\n",
    "\n",
    "\n",
    "print(\"Execution time = {0:.5f}\".format(end_time - start))"
   ]
  },
  {
   "cell_type": "markdown",
   "metadata": {
    "slideshow": {
     "slide_type": "subslide"
    }
   },
   "source": [
    "## Thread-safe\n",
    "\n",
    "If a thread can lose the GIL at any moment, you must make your code thread-safe\n",
    "\n",
    "Python programmers think differently about thread safety than C or Java programmers do, however, because many Python operations are “atomic”"
   ]
  },
  {
   "cell_type": "markdown",
   "metadata": {
    "slideshow": {
     "slide_type": "subslide"
    }
   },
   "source": [
    "## Atomic operations\n",
    "An example of an atomic operation is calling sort() on a list of primitive objects like numbers or strings\n",
    "\n",
    "A thread cannot be interrupted in the middle of sorting, and other threads never see a partly-sorted list, nor see stale data from before the list was sorted\n"
   ]
  },
  {
   "cell_type": "markdown",
   "metadata": {
    "slideshow": {
     "slide_type": "subslide"
    }
   },
   "source": [
    "## Atomic operations\n",
    "Atomic operations simplify our lives, but there are surprises\n",
    "\n",
    "For example, += seems simpler than sort(), but += is not atomic!\n",
    "\n",
    "How can you know which operations are atomic and which are not?"
   ]
  },
  {
   "cell_type": "code",
   "execution_count": 2,
   "metadata": {
    "slideshow": {
     "slide_type": "subslide"
    }
   },
   "outputs": [
    {
     "name": "stdout",
     "output_type": "stream",
     "text": [
      "  3           0 RESUME                   0\n",
      "\n",
      "  5           2 LOAD_GLOBAL              0 (n)\n",
      "             14 LOAD_CONST               1 (1)\n",
      "             16 BINARY_OP               13 (+=)\n",
      "             20 STORE_GLOBAL             0 (n)\n",
      "             22 LOAD_CONST               0 (None)\n",
      "             24 RETURN_VALUE\n"
     ]
    }
   ],
   "source": [
    "n = 0\n",
    "\n",
    "def foo():\n",
    "    global n\n",
    "    n += 1\n",
    "     \n",
    "import dis\n",
    "dis.dis(foo)"
   ]
  },
  {
   "cell_type": "code",
   "execution_count": 3,
   "metadata": {
    "slideshow": {
     "slide_type": "subslide"
    }
   },
   "outputs": [
    {
     "name": "stdout",
     "output_type": "stream",
     "text": [
      "  3           0 RESUME                   0\n",
      "\n",
      "  4           2 LOAD_GLOBAL              0 (lst)\n",
      "             14 LOAD_METHOD              1 (sort)\n",
      "             36 PRECALL                  0\n",
      "             40 CALL                     0\n",
      "             50 POP_TOP\n",
      "             52 LOAD_CONST               0 (None)\n",
      "             54 RETURN_VALUE\n"
     ]
    }
   ],
   "source": [
    "lst = [4, 1, 3, 2]\n",
    "\n",
    "def foo():\n",
    "    lst.sort()\n",
    "    \n",
    "dis.dis(foo)"
   ]
  },
  {
   "cell_type": "code",
   "execution_count": 4,
   "metadata": {
    "slideshow": {
     "slide_type": "subslide"
    }
   },
   "outputs": [
    {
     "name": "stdout",
     "output_type": "stream",
     "text": [
      "[42, None, 'hello']\n"
     ]
    }
   ],
   "source": [
    "from multiprocessing import Process, Pipe\n",
    "# Pipe is much faster than Queue\n",
    "\n",
    "def ff(conn):\n",
    "    conn.send([42, None, 'hello'])\n",
    "    conn.close()\n",
    "\n",
    "parent_conn, child_conn = Pipe()\n",
    "p = Process(target=ff, args=(child_conn,))\n",
    "p.start()\n",
    "print(parent_conn.recv())   # prints \"[42, None, 'hello']\"\n",
    "p.join() "
   ]
  },
  {
   "cell_type": "code",
   "execution_count": 5,
   "metadata": {
    "slideshow": {
     "slide_type": "subslide"
    }
   },
   "outputs": [
    {
     "name": "stdout",
     "output_type": "stream",
     "text": [
      "{1: '1', '2': 2, 0.25: None}\n",
      "[9, 8, 7, 6, 5, 4, 3, 2, 1, 0]\n"
     ]
    }
   ],
   "source": [
    "from multiprocessing import Process, Manager\n",
    "\n",
    "def f(d, l):\n",
    "    d[1] = '1'\n",
    "    d['2'] = 2\n",
    "    d[0.25] = None\n",
    "    l.reverse()\n",
    "\n",
    "if __name__ == '__main__':\n",
    "    manager = Manager()\n",
    "\n",
    "    d = manager.dict()\n",
    "    l = manager.list(range(10))\n",
    "\n",
    "    p = Process(target=f,args=(d, l))\n",
    "    p.start()\n",
    "    p.join()\n",
    "    print(d), print(l)"
   ]
  },
  {
   "cell_type": "code",
   "execution_count": null,
   "metadata": {
    "slideshow": {
     "slide_type": "subslide"
    }
   },
   "outputs": [],
   "source": [
    "import os\n",
    " \n",
    "from multiprocessing import Process\n",
    " \n",
    "def doubler(number):\n",
    "    \"\"\"\n",
    "    A doubling function that can be used by a process\n",
    "    \"\"\"\n",
    "    result = number * 2\n",
    "    proc = os.getpid()\n",
    "    print('{0} doubled to {1} by process id: {2}'.format(\n",
    "        number, result, proc))\n",
    " \n",
    "numbers = [5, 10, 15, 20, 25]\n",
    "procs = []\n",
    " \n",
    "for index, number in enumerate(numbers):\n",
    "    proc = Process(target=doubler, args=(number,))\n",
    "    procs.append(proc)\n",
    "    proc.start()\n",
    " \n",
    "for proc in procs:\n",
    "    proc.join()"
   ]
  },
  {
   "cell_type": "code",
   "execution_count": null,
   "metadata": {
    "slideshow": {
     "slide_type": "subslide"
    }
   },
   "outputs": [],
   "source": [
    "import os\n",
    " \n",
    "from multiprocessing import Process, current_process\n",
    " \n",
    " \n",
    "def doubler(number):\n",
    "    \"\"\"\n",
    "    A doubling function that can be used by a process\n",
    "    \"\"\"\n",
    "    result = number * 2\n",
    "    proc_name = current_process().name\n",
    "    print('{0} doubled to {1} by: {2}'.format(\n",
    "        number, result, proc_name))\n",
    " \n",
    " \n",
    "numbers = [5, 10, 15, 20, 25]\n",
    "procs = []\n",
    "proc = Process(target=doubler, args=(5,))\n",
    "\n",
    "for index, number in enumerate(numbers):\n",
    "    proc = Process(target=doubler, args=(number,))\n",
    "    procs.append(proc)\n",
    "    proc.start()\n",
    "\n",
    "proc = Process(target=doubler, name='Test', args=(2,))\n",
    "proc.start()\n",
    "procs.append(proc)\n",
    "\n",
    "for proc in procs:\n",
    "    proc.join()"
   ]
  },
  {
   "cell_type": "code",
   "execution_count": null,
   "metadata": {
    "slideshow": {
     "slide_type": "subslide"
    }
   },
   "outputs": [],
   "source": [
    "from multiprocessing import Process, Lock\n",
    " \n",
    " \n",
    "def printer(item, lock):\n",
    "    \"\"\"\n",
    "    Prints out the item that was passed in\n",
    "    \"\"\"\n",
    "    lock.acquire()\n",
    "    try:\n",
    "        print(item)\n",
    "    finally:\n",
    "        lock.release()\n",
    " \n",
    "if __name__ == '__main__':\n",
    "    lock = Lock()\n",
    "    items = ['tango', 'foxtrot', 10]\n",
    "    for item in items:\n",
    "        p = Process(target=printer, args=(item, lock))\n",
    "        p.start()"
   ]
  },
  {
   "cell_type": "code",
   "execution_count": 6,
   "metadata": {
    "slideshow": {
     "slide_type": "subslide"
    }
   },
   "outputs": [
    {
     "name": "stderr",
     "output_type": "stream",
     "text": [
      "[INFO/Process-4] child process calling self.run()\n"
     ]
    },
    {
     "name": "stdout",
     "output_type": "stream",
     "text": [
      "tango\n"
     ]
    },
    {
     "name": "stderr",
     "output_type": "stream",
     "text": [
      "[INFO/Process-5] child process calling self.run()\n",
      "[INFO/Process-4] process shutting down\n"
     ]
    },
    {
     "name": "stdout",
     "output_type": "stream",
     "text": [
      "foxtrot\n"
     ]
    },
    {
     "name": "stderr",
     "output_type": "stream",
     "text": [
      "[INFO/Process-5] process shutting down\n",
      "[INFO/Process-4] process exiting with exitcode 0\n",
      "[INFO/Process-5] process exiting with exitcode 0\n",
      "[INFO/Process-6] child process calling self.run()\n"
     ]
    },
    {
     "name": "stdout",
     "output_type": "stream",
     "text": [
      "10\n"
     ]
    },
    {
     "name": "stderr",
     "output_type": "stream",
     "text": [
      "[INFO/Process-6] process shutting down\n",
      "[INFO/Process-6] process exiting with exitcode 0\n"
     ]
    }
   ],
   "source": [
    "import logging\n",
    "import multiprocessing\n",
    " \n",
    "from multiprocessing import Process, Lock\n",
    " \n",
    "def printer(item, lock):\n",
    "    \"\"\"\n",
    "    Prints out the item that was passed in\n",
    "    \"\"\"\n",
    "    lock.acquire()\n",
    "    try:\n",
    "        print(item)\n",
    "    finally:\n",
    "        lock.release()\n",
    " \n",
    "if __name__ == '__main__':\n",
    "    lock = Lock()\n",
    "    items = ['tango', 'foxtrot', 10]\n",
    "    multiprocessing.log_to_stderr()\n",
    "    logger = multiprocessing.get_logger()\n",
    "    logger.setLevel(logging.INFO)\n",
    "    for item in items:\n",
    "        p = Process(target=printer, args=(item, lock))\n",
    "        p.start()\n",
    "        \n",
    "    logger.setLevel(logging.CRITICAL)"
   ]
  },
  {
   "cell_type": "code",
   "execution_count": null,
   "metadata": {
    "slideshow": {
     "slide_type": "subslide"
    }
   },
   "outputs": [],
   "source": [
    "# Creator-Consumer: multiprocessing example with Queue\n",
    "\n",
    "from multiprocessing import Process, Queue\n",
    " \n",
    "sentinel = -1\n",
    " \n",
    "def creator(data, q):\n",
    "    \"\"\"\n",
    "    Creates data to be consumed and waits for the consumer\n",
    "    to finish processing\n",
    "    \"\"\"\n",
    "    print('Creating data and putting it on the queue')\n",
    "    for item in data:\n",
    "        print('putting in {}'.format(item))\n",
    "        q.put(item)\n",
    " \n",
    " \n",
    "def my_consumer(q):\n",
    "    \"\"\"\n",
    "    Consumes some data and works on it\n",
    " \n",
    "    In this case, all it does is double the input\n",
    "    \"\"\"\n",
    "    while True:\n",
    "        data = q.get()\n",
    "        print('data found to be processed: {}'.format(data))\n",
    "        processed = data * 2\n",
    "        print(processed)\n",
    " \n",
    "        if data is sentinel:\n",
    "            break\n",
    " \n",
    " \n",
    "if __name__ == '__main__':\n",
    "    q = Queue()\n",
    "    data = [5, 10, 13, -1]\n",
    "    process_one = Process(target=creator, args=(data, q))\n",
    "    process_two = Process(target=my_consumer, args=(q,))\n",
    "    process_one.start()\n",
    "    process_two.start()\n",
    " \n",
    "    q.close()\n",
    "    q.join_thread()\n",
    " \n",
    "    process_one.join()\n",
    "    process_two.join()"
   ]
  },
  {
   "cell_type": "markdown",
   "metadata": {
    "slideshow": {
     "slide_type": "subslide"
    }
   },
   "source": [
    "## The Pool Class\n",
    "\n",
    "The Pool class is used to represent a pool of worker processes\n",
    "\n",
    "It has methods which can allow you to offload tasks to the worker processes."
   ]
  },
  {
   "cell_type": "code",
   "execution_count": null,
   "metadata": {
    "slideshow": {
     "slide_type": "subslide"
    }
   },
   "outputs": [],
   "source": [
    "from multiprocessing import Pool\n",
    " \n",
    "def doubler(number):\n",
    "    return number * 2\n",
    " \n",
    "numbers = [5, 10, 20]\n",
    "pool = Pool(processes=3)\n",
    "print(pool.map(doubler, numbers))"
   ]
  },
  {
   "cell_type": "markdown",
   "metadata": {
    "collapsed": true,
    "slideshow": {
     "slide_type": "slide"
    }
   },
   "source": [
    "## concurrent.futures\n",
    "\n",
    "https://docs.python.org/3/library/concurrent.futures.html"
   ]
  },
  {
   "cell_type": "markdown",
   "metadata": {
    "slideshow": {
     "slide_type": "subslide"
    }
   },
   "source": [
    "a high-level interface for asynchronously executing callables"
   ]
  },
  {
   "cell_type": "markdown",
   "metadata": {
    "slideshow": {
     "slide_type": "subslide"
    }
   },
   "source": [
    "The asynchronous execution can be performed with threads, using ThreadPoolExecutor, or separate processes, using ProcessPoolExecutor"
   ]
  },
  {
   "cell_type": "markdown",
   "metadata": {
    "slideshow": {
     "slide_type": "subslide"
    }
   },
   "source": [
    "In both case, we get a pool of threads or processes and we can submit tasks to this pool\n",
    "\n",
    "The pool would assign tasks to the available resources (threads or pools) and schedule them to run"
   ]
  },
  {
   "cell_type": "markdown",
   "metadata": {
    "slideshow": {
     "slide_type": "subslide"
    }
   },
   "source": [
    "http://masnun.com/2016/03/29/python-a-quick-introduction-to-the-concurrent-futures-module.html"
   ]
  },
  {
   "cell_type": "code",
   "execution_count": 2,
   "metadata": {
    "slideshow": {
     "slide_type": "subslide"
    }
   },
   "outputs": [
    {
     "name": "stdout",
     "output_type": "stream",
     "text": [
      "False\n",
      "True\n",
      "Result: hello\n"
     ]
    }
   ],
   "source": [
    "from concurrent.futures import ThreadPoolExecutor\n",
    "from time import sleep\n",
    " \n",
    "def return_after_5_secs(message):\n",
    "    sleep(5)\n",
    "    return message\n",
    " \n",
    "pool = ThreadPoolExecutor(max_workers=3)\n",
    " \n",
    "future = pool.submit(return_after_5_secs, (\"hello\"))\n",
    "print(future.done())\n",
    "sleep(6)\n",
    "print(future.done())\n",
    "print(\"Result: \" + future.result())"
   ]
  },
  {
   "cell_type": "markdown",
   "metadata": {
    "slideshow": {
     "slide_type": "subslide"
    }
   },
   "source": [
    "When we submit() a task, we get back a Future"
   ]
  },
  {
   "cell_type": "markdown",
   "metadata": {
    "slideshow": {
     "slide_type": "subslide"
    }
   },
   "source": [
    "The Future object has a method – done() which tells us if the future has resolved, that is a value has been set for that particular future object\n"
   ]
  },
  {
   "cell_type": "markdown",
   "metadata": {
    "slideshow": {
     "slide_type": "subslide"
    }
   },
   "source": [
    "When a task finishes (returns a value or is interrupted by an exception), the thread pool executor sets the value to the future object"
   ]
  },
  {
   "cell_type": "code",
   "execution_count": 4,
   "metadata": {
    "slideshow": {
     "slide_type": "subslide"
    }
   },
   "outputs": [
    {
     "name": "stdout",
     "output_type": "stream",
     "text": [
      "False\n",
      "False\n"
     ]
    }
   ],
   "source": [
    "from concurrent.futures import ProcessPoolExecutor\n",
    "from time import sleep\n",
    " \n",
    "def return_after_5_secs(message):\n",
    "    sleep(5)\n",
    "    return message\n",
    " \n",
    "pool = ProcessPoolExecutor(3)\n",
    " \n",
    "future = pool.submit(return_after_5_secs, (\"hello\"))\n",
    "print(future.done())\n",
    "sleep(5)\n",
    "print(future.done())"
   ]
  },
  {
   "cell_type": "code",
   "execution_count": 11,
   "metadata": {
    "slideshow": {
     "slide_type": "subslide"
    }
   },
   "outputs": [],
   "source": [
    "# Nothing is happening, why?\n",
    "def wait_on_future():\n",
    "    f = executor.submit(pow, 5, 2)\n",
    "    print(f.result())\n",
    "    print(\"DONE!\")\n",
    "\n",
    "\n",
    "executor = ThreadPoolExecutor(max_workers=1)\n",
    "t = executor.submit(wait_on_future)"
   ]
  },
  {
   "cell_type": "code",
   "execution_count": 5,
   "metadata": {
    "slideshow": {
     "slide_type": "subslide"
    }
   },
   "outputs": [],
   "source": [
    "# What is the problem over here?\n",
    "from concurrent.futures import ThreadPoolExecutor\n",
    "import time\n",
    "def wait_on_b():\n",
    "    time.sleep(5)\n",
    "    print(b.result())\n",
    "    return 5\n",
    "\n",
    "def wait_on_a():\n",
    "    time.sleep(5)\n",
    "    print(a.result())\n",
    "    return 6\n",
    "\n",
    "executor = ThreadPoolExecutor(max_workers=2)\n",
    "a = executor.submit(wait_on_b)\n",
    "b = executor.submit(wait_on_a)"
   ]
  },
  {
   "cell_type": "code",
   "execution_count": 6,
   "metadata": {
    "slideshow": {
     "slide_type": "subslide"
    }
   },
   "outputs": [
    {
     "name": "stdout",
     "output_type": "stream",
     "text": [
      "8\n",
      "4\n"
     ]
    }
   ],
   "source": [
    "executor = ThreadPoolExecutor() \n",
    "print(executor._max_workers)\n",
    "executor = ProcessPoolExecutor() \n",
    "print(executor._max_workers)"
   ]
  },
  {
   "cell_type": "markdown",
   "metadata": {
    "slideshow": {
     "slide_type": "subslide"
    }
   },
   "source": [
    "__Changed in version 3.5__:   \n",
    "If max_workers is None or not given, it will default to the number of processors on the machine, multiplied by 5, assuming that ThreadPoolExecutor is often used to overlap I/O instead of CPU work and the number of workers should be higher than the number of workers for ProcessPoolExecutor\n",
    "\n",
    "__Changed in version 3.8__:  \n",
    "Default value of max_workers is changed to `min(32, os.cpu_count() + 4)`. This default value preserves at least 5 workers for I/O bound tasks. It utilizes at most 32 CPU cores for CPU bound tasks which release the GIL. And it avoids using very large resources implicitly on many-core machines."
   ]
  },
  {
   "cell_type": "code",
   "execution_count": 15,
   "metadata": {
    "slideshow": {
     "slide_type": "subslide"
    }
   },
   "outputs": [],
   "source": [
    "import concurrent.futures\n",
    "import urllib.request\n",
    "\n",
    "URLS = ['http://www.foxnews.com/',\n",
    "        'http://www.cnn.com/',\n",
    "        'http://europe.wsj.com/',\n",
    "        'http://www.bbc.co.uk/',\n",
    "        'http://www.dw.com/']\n",
    "\n",
    "# Retrieve a single page and report the url and contents\n",
    "def load_url(url, timeout):\n",
    "    with urllib.request.urlopen(url, timeout=timeout) as conn:\n",
    "        return conn.read()"
   ]
  },
  {
   "cell_type": "markdown",
   "metadata": {
    "slideshow": {
     "slide_type": "subslide"
    }
   },
   "source": [
    "The __as_completed() method__ takes an iterable of Future objects and starts yielding values as soon as the futures start resolving.\n",
    "\n",
    "In contrast, the __map() method__ returns the results in the order in which we pass the iterables, once all are done."
   ]
  },
  {
   "cell_type": "code",
   "execution_count": 11,
   "metadata": {
    "slideshow": {
     "slide_type": "subslide"
    }
   },
   "outputs": [
    {
     "name": "stdout",
     "output_type": "stream",
     "text": [
      "['Return of 0', 'Return of 2', 'Return of 1', 'Return of 3', 'Return of 4']\n"
     ]
    }
   ],
   "source": [
    "from concurrent.futures import ThreadPoolExecutor, wait, as_completed\n",
    "from time import sleep\n",
    "from random import randint\n",
    " \n",
    "def return_after_5_secs(num):\n",
    "    sleep(randint(1, 5))\n",
    "    return \"Return of {}\".format(num)\n",
    " \n",
    "pool = ThreadPoolExecutor(5)\n",
    "\n",
    "#1. \n",
    "#print([f for f in pool.map(return_after_5_secs, range(5))])\n",
    "\n",
    "#2. \n",
    "futures = []\n",
    "for x in range(5):\n",
    "    futures.append(pool.submit(return_after_5_secs, x))\n",
    "\n",
    "# print([f.result() for f in futures])    \n",
    "    \n",
    "# classic wait is like map\n",
    "# wait(futures) \n",
    "# print([f.result() for f in futures])\n",
    "\n",
    "#3.\n",
    "# as_completed\n",
    "print([f.result() for f in as_completed(futures)])\n",
    "\n",
    "\n"
   ]
  },
  {
   "cell_type": "code",
   "execution_count": 16,
   "metadata": {
    "slideshow": {
     "slide_type": "subslide"
    }
   },
   "outputs": [
    {
     "name": "stdout",
     "output_type": "stream",
     "text": [
      "'http://europe.wsj.com/' generated an exception: HTTP Error 403: Forbidden\n",
      "'http://www.cnn.com/' page is 1851184 bytes\n",
      "'http://www.foxnews.com/' page is 535370 bytes\n",
      "'http://www.dw.com/' page is 13050 bytes\n",
      "'http://www.bbc.co.uk/' page is 523511 bytes\n"
     ]
    }
   ],
   "source": [
    "import concurrent\n",
    "# We can use a with statement to ensure threads are cleaned up promptly\n",
    "with concurrent.futures.ThreadPoolExecutor(max_workers=5) as executor:\n",
    "    # Start the load operations and mark each future with its URL\n",
    "    future_to_url = {executor.submit(load_url, url, 60): url for url in URLS}\n",
    "    for future in concurrent.futures.as_completed(future_to_url):\n",
    "        url = future_to_url[future]\n",
    "        try:\n",
    "            data = future.result()\n",
    "        except Exception as exc:\n",
    "            print('%r generated an exception: %s' % (url, exc))\n",
    "        else:\n",
    "            print('%r page is %d bytes' % (url, len(data)))"
   ]
  },
  {
   "cell_type": "markdown",
   "metadata": {
    "slideshow": {
     "slide_type": "subslide"
    }
   },
   "source": [
    "ProcessPoolExecutor side-steps the Global Interpreter Lock but also means that __only picklable (serializable with pickle library) objects__ can be executed and returned"
   ]
  },
  {
   "cell_type": "code",
   "execution_count": null,
   "metadata": {
    "slideshow": {
     "slide_type": "subslide"
    }
   },
   "outputs": [],
   "source": [
    "# %load pr.py\n",
    "import math\n",
    "import concurrent.futures\n",
    "\n",
    "PRIMES = [\n",
    "    112272535095293,\n",
    "    112582705942171,\n",
    "    112272535095293,\n",
    "    115280095190773,\n",
    "    115797848077099,\n",
    "    1099726899285419]"
   ]
  },
  {
   "cell_type": "code",
   "execution_count": null,
   "metadata": {
    "slideshow": {
     "slide_type": "subslide"
    }
   },
   "outputs": [],
   "source": [
    "def is_prime(n):\n",
    "    if n % 2 == 0:\n",
    "        return False\n",
    "\n",
    "    sqrt_n = int(math.floor(math.sqrt(n)))\n",
    "    for i in range(3, sqrt_n + 1, 2):\n",
    "        if n % i == 0:\n",
    "            return False\n",
    "    return True"
   ]
  },
  {
   "cell_type": "code",
   "execution_count": null,
   "metadata": {
    "slideshow": {
     "slide_type": "subslide"
    }
   },
   "outputs": [],
   "source": [
    "# with context manager for futures!\n",
    "def main():\n",
    "    with concurrent.futures.ProcessPoolExecutor() as executor:\n",
    "        for number, prime in zip(PRIMES, executor.map(is_prime, PRIMES)):\n",
    "            print('%d is prime: %s' % (number, prime))\n",
    "\n",
    "if __name__ == '__main__':\n",
    "    main()"
   ]
  },
  {
   "cell_type": "markdown",
   "metadata": {
    "slideshow": {
     "slide_type": "subslide"
    }
   },
   "source": [
    "## Coroutines\n",
    "- Coroutines are computer program components that generalize subroutines for non-preemptive multitasking, by allowing multiple entry points for suspending and resuming execution at certain locations\n",
    "\n",
    "- Functions whose execution you can pause\n",
    "\n",
    "- Connection to generators"
   ]
  },
  {
   "cell_type": "code",
   "execution_count": 17,
   "metadata": {
    "slideshow": {
     "slide_type": "subslide"
    }
   },
   "outputs": [],
   "source": [
    "def eager_range(up_to):  \n",
    "    \"\"\"Create a list of integers, from 0 to up_to, exclusive.\"\"\"\n",
    "    sequence = []\n",
    "    index = 0\n",
    "    while index < up_to:\n",
    "        sequence.append(index)\n",
    "        index += 1\n",
    "    return sequence"
   ]
  },
  {
   "cell_type": "code",
   "execution_count": 18,
   "metadata": {
    "slideshow": {
     "slide_type": "subslide"
    }
   },
   "outputs": [],
   "source": [
    "def lazy_range(up_to):  \n",
    "    \"\"\"Generator to return the sequence of integers from 0 to up_to, exclusive.\"\"\"\n",
    "    index = 0\n",
    "    while index < up_to:\n",
    "        yield index\n",
    "        index += 1"
   ]
  },
  {
   "cell_type": "code",
   "execution_count": 20,
   "metadata": {
    "slideshow": {
     "slide_type": "subslide"
    }
   },
   "outputs": [
    {
     "name": "stdout",
     "output_type": "stream",
     "text": [
      "0\n",
      "1\n",
      "2\n",
      "3\n",
      "4\n"
     ]
    }
   ],
   "source": [
    "if __name__ == '__main__':  \n",
    "    iterator = lazy_range(5)\n",
    "    print(next(iterator))  # 0\n",
    "    print(next(iterator))  # 1\n",
    "    for x in iterator:\n",
    "        print(x)  # 2,3,4\n",
    "    print(next(iterator))  # StopIteration\n"
   ]
  },
  {
   "cell_type": "code",
   "execution_count": 21,
   "metadata": {},
   "outputs": [
    {
     "name": "stdout",
     "output_type": "stream",
     "text": [
      "0\n",
      "2\n",
      "3\n",
      "2\n",
      "3\n",
      "4\n"
     ]
    }
   ],
   "source": [
    "# simple coroutine\n",
    "def jumping_range(up_to):  \n",
    "    \"\"\"Generator for the sequence of integers from 0 to up_to, exclusive.\n",
    "\n",
    "    Sending a value into the generator will shift the sequence by that amount.\n",
    "    \"\"\"\n",
    "    index = 0\n",
    "    while index < up_to:\n",
    "        jump = yield index\n",
    "        if jump is None:\n",
    "            jump = 1\n",
    "        index += jump\n",
    "\n",
    "\n",
    "if __name__ == '__main__':  \n",
    "    iterator = jumping_range(5)\n",
    "    print(next(iterator))  # 0\n",
    "    print(iterator.send(2))  # 2\n",
    "    print(next(iterator))  # 3\n",
    "    print(iterator.send(-1))  # 2\n",
    "    for x in iterator:\n",
    "        print(x)  # 3, 4"
   ]
  },
  {
   "cell_type": "code",
   "execution_count": 23,
   "metadata": {
    "slideshow": {
     "slide_type": "subslide"
    }
   },
   "outputs": [
    {
     "name": "stdout",
     "output_type": "stream",
     "text": [
      "0\n",
      "1\n",
      "2\n",
      "3\n",
      "4\n"
     ]
    },
    {
     "ename": "StopIteration",
     "evalue": "",
     "output_type": "error",
     "traceback": [
      "\u001b[0;31m---------------------------------------------------------------------------\u001b[0m",
      "\u001b[0;31mStopIteration\u001b[0m                             Traceback (most recent call last)",
      "Cell \u001b[0;32mIn[23], line 20\u001b[0m\n\u001b[1;32m     18\u001b[0m \u001b[38;5;28;01mfor\u001b[39;00m x \u001b[38;5;129;01min\u001b[39;00m iterator:\n\u001b[1;32m     19\u001b[0m     \u001b[38;5;28mprint\u001b[39m(x)  \u001b[38;5;66;03m# 2,3,4\u001b[39;00m\n\u001b[0;32m---> 20\u001b[0m \u001b[38;5;28mprint\u001b[39m(\u001b[38;5;28;43mnext\u001b[39;49m\u001b[43m(\u001b[49m\u001b[43miterator\u001b[49m\u001b[43m)\u001b[49m)  \u001b[38;5;66;03m# StopIteration\u001b[39;00m\n",
      "\u001b[0;31mStopIteration\u001b[0m: "
     ]
    }
   ],
   "source": [
    "def lazy_range(up_to):  \n",
    "    \"\"\"Generator to return the sequence of integers from 0 to up_to, exclusive.\"\"\"\n",
    "    index = 0\n",
    "    def gratuitous_refactor():\n",
    "        nonlocal index \n",
    "        while index < up_to:\n",
    "            yield index\n",
    "            index += 1\n",
    "            #if index>3:\n",
    "            #    raise ValueError(\"Hello!\")\n",
    "    #yield from gratuitous_refactor() # syntax for delegating to a subgenerator\n",
    "    for n in gratuitous_refactor():\n",
    "        yield n\n",
    "if __name__ == '__main__':  \n",
    "    iterator = lazy_range(5)\n",
    "    print(next(iterator))  # 0\n",
    "    print(next(iterator))  # 1\n",
    "    for x in iterator:\n",
    "        print(x)  # 2,3,4\n",
    "    print(next(iterator))  # StopIteration"
   ]
  },
  {
   "cell_type": "code",
   "execution_count": null,
   "metadata": {},
   "outputs": [],
   "source": [
    "def lazy_range(up_to):  \n",
    "    \"\"\"Generator to return the sequence of integers from 0 to up_to, exclusive.\"\"\"\n",
    "    index = 0\n",
    "    def gratuitous_refactor():\n",
    "        nonlocal index \n",
    "        while index < up_to:\n",
    "            yield index\n",
    "            index += 1\n",
    "    for x in gratuitous_refactor():\n",
    "        yield x\n",
    "    # Is it just syntax sugar for this form?\n",
    "\n",
    "if __name__ == '__main__':  \n",
    "    iterator = lazy_range(5)\n",
    "    print(next(iterator))  # 0\n",
    "    print(next(iterator))  # 1\n",
    "    for x in iterator:\n",
    "        print(x)  # 2,3,4\n",
    "    print(next(iterator))  # StopIteration"
   ]
  },
  {
   "cell_type": "code",
   "execution_count": null,
   "metadata": {},
   "outputs": [],
   "source": [
    "def lazy_range(up_to):  \n",
    "    \"\"\"Generator to return the sequence of integers from 0 to up_to, exclusive.\"\"\"\n",
    "    index = 0\n",
    "    def gratuitous_refactor():\n",
    "        nonlocal index \n",
    "        while index < up_to:\n",
    "            offset = yield index\n",
    "            if offset is None:\n",
    "                offset = 0 \n",
    "            index += 1 - offset\n",
    "    itr = gratuitous_refactor()\n",
    "    for x in itr:\n",
    "        y = yield x\n",
    "        itr.send(y)\n",
    "        \n",
    "        \n",
    "    # Is it just syntax sugar for \"for\"?\n",
    "    # 1. How to send data back to generator?\n",
    "    # Is it just syntax sugar for \"for\" with send?\n",
    "\n",
    "\n",
    "if __name__ == '__main__':  \n",
    "    iterator = lazy_range(5)\n",
    "    #iterator.send(None)\n",
    "    print(next(iterator))  # 0\n",
    "    print(next(iterator))  # 1\n",
    "    for x in iterator:\n",
    "        print(x)  # 2,3,4\n",
    "    print(next(iterator))  # StopIteration"
   ]
  },
  {
   "cell_type": "markdown",
   "metadata": {},
   "source": [
    "https://stackoverflow.com/questions/9708902/in-practice-what-are-the-main-uses-for-the-yield-from-syntax-in-python-3-3"
   ]
  },
  {
   "cell_type": "code",
   "execution_count": null,
   "metadata": {
    "slideshow": {
     "slide_type": "subslide"
    }
   },
   "outputs": [],
   "source": [
    "def bottom():  \n",
    "    # Returning the yield lets the value that goes up the call stack to come right back\n",
    "    # down.\n",
    "    return (yield 42)\n",
    "\n",
    "def middle():  \n",
    "    return (yield from bottom())\n",
    "\n",
    "def top():  \n",
    "    return (yield from middle())\n",
    "\n",
    "# Get the generator.\n",
    "gen = top()  \n",
    "value = next(gen)  \n",
    "print(value)  # Prints '42'.  \n",
    "try:  \n",
    "    value = gen.send(value * 2)\n",
    "except StopIteration as exc:  \n",
    "    value = exc.value\n",
    "print(value)  # Prints '84'.  "
   ]
  },
  {
   "cell_type": "markdown",
   "metadata": {
    "slideshow": {
     "slide_type": "subslide"
    }
   },
   "source": [
    "## Asyncio - motivation\n",
    "\n",
    "- Processes are costly to spawn\n",
    "- So for I/O, Threads are chosen largely\n",
    "- We know that I/O depends on external stuff - slow disks or nasty network lags make I/O often unpredictable"
   ]
  },
  {
   "cell_type": "markdown",
   "metadata": {
    "slideshow": {
     "slide_type": "subslide"
    }
   },
   "source": [
    "## Asyncio - motivation\n",
    "- Let’s assume that we are using threads for I/O bound operation\n",
    "- 3 threads are doing different I/O tasks\n",
    "- The interpreter would need to switch between the concurrent threads and give each of them some time in turns\n",
    "- Let’s call the threads - T1, T2 and T3"
   ]
  },
  {
   "cell_type": "markdown",
   "metadata": {
    "slideshow": {
     "slide_type": "subslide"
    }
   },
   "source": [
    "## Asyncio - motivation\n",
    "- The three threads have started their I/O operation\n",
    "- T3 completes it first. T2 and T1 are still waiting for I/O\n",
    "- The Python interpreter switches to T1 but it’s still waiting\n",
    "- Fine, so it moves to T2, it’s still waiting and then it moves to T3 which is ready and executes the code"
   ]
  },
  {
   "cell_type": "markdown",
   "metadata": {
    "slideshow": {
     "slide_type": "subslide"
    }
   },
   "source": [
    "## Asyncio - motivation\n",
    "- T3 was ready but the interpreter switched between T2 and T1 first\n",
    "- That incurred switching costs which we could have avoided if the interpreter first moved to T3"
   ]
  },
  {
   "cell_type": "markdown",
   "metadata": {
    "slideshow": {
     "slide_type": "subslide"
    }
   },
   "source": [
    "## What is asyncio\n",
    "- Asyncio provides an event loop (along with other good stuff)\n",
    "- The event loop tracks different I/O events and switches to tasks which are ready and pauses the ones which are waiting on I/O\n",
    "- No waste time on tasks which are not ready to run right now"
   ]
  },
  {
   "cell_type": "markdown",
   "metadata": {
    "slideshow": {
     "slide_type": "subslide"
    }
   },
   "source": [
    "## What is asyncio\n",
    "- We have functions that run async, I/O operations\n",
    "- We give our functions to the event loop and ask it to run those for us\n",
    "- The event loop gives us back a Future object, it’s like a promise that we will get something back in the future\n",
    "- We hold on to the promise, time to time check if it has a value (when we feel impatient) and finally when the future has a value, we use it in some other operations"
   ]
  },
  {
   "cell_type": "code",
   "execution_count": 2,
   "metadata": {},
   "outputs": [],
   "source": [
    "import asyncio\n",
    "\n",
    "# only for python notebook, which already runs event \n",
    "import nest_asyncio\n",
    "nest_asyncio.apply()\n",
    "#\n"
   ]
  },
  {
   "cell_type": "code",
   "execution_count": 26,
   "metadata": {
    "slideshow": {
     "slide_type": "subslide"
    }
   },
   "outputs": [
    {
     "name": "stdout",
     "output_type": "stream",
     "text": [
      "Loop: 1 Time: 2023-04-27 09:35:42.362080\n",
      "Loop: 2 Time: 2023-04-27 09:35:42.362147\n",
      "Loop: 1 Time: 2023-04-27 09:35:43.363566\n",
      "Loop: 2 Time: 2023-04-27 09:35:47.367109\n",
      "Loop: 1 Time: 2023-04-27 09:35:48.364740\n",
      "Loop: 1 Time: 2023-04-27 09:35:51.368303\n",
      "Loop: 2 Time: 2023-04-27 09:35:52.368864\n",
      "Loop: 2 Time: 2023-04-27 09:35:54.371437\n",
      "Loop: 1 Time: 2023-04-27 09:35:56.370967\n",
      "Loop: 1 Time: 2023-04-27 09:35:56.371230\n",
      "Loop: 2 Time: 2023-04-27 09:35:57.374612\n",
      "Loop: 1 Time: 2023-04-27 09:36:00.375125\n",
      "Loop: 2 Time: 2023-04-27 09:36:00.375391\n",
      "Loop: 2 Time: 2023-04-27 09:36:00.375494\n",
      "Loop: 1 Time: 2023-04-27 09:36:02.377692\n",
      "Loop: 2 Time: 2023-04-27 09:36:05.379011\n",
      "Loop: 2 Time: 2023-04-27 09:36:05.379716\n",
      "Loop: 1 Time: 2023-04-27 09:36:06.379116\n",
      "Loop: 2 Time: 2023-04-27 09:36:06.380638\n",
      "Loop: 2 Time: 2023-04-27 09:36:10.385014\n",
      "Loop: 1 Time: 2023-04-27 09:36:11.381505\n",
      "Loop: 1 Time: 2023-04-27 09:36:12.382846\n",
      "Loop: 2 Time: 2023-04-27 09:36:12.386158\n",
      "Loop: 2 Time: 2023-04-27 09:36:12.386200\n",
      "Loop: 2 Time: 2023-04-27 09:36:12.386218\n",
      "Loop: 1 Time: 2023-04-27 09:36:16.387472\n",
      "Loop: 2 Time: 2023-04-27 09:36:16.387733\n",
      "Loop: 2 Time: 2023-04-27 09:36:19.391029\n",
      "Loop: 1 Time: 2023-04-27 09:36:20.388841\n",
      "Loop: 2 Time: 2023-04-27 09:36:20.392333\n",
      "Loop: 1 Time: 2023-04-27 09:36:23.392710\n",
      "Loop: 2 Time: 2023-04-27 09:36:25.395213\n",
      "Loop: 2 Time: 2023-04-27 09:36:25.395457\n",
      "Loop: 1 Time: 2023-04-27 09:36:28.396819\n",
      "Loop: 2 Time: 2023-04-27 09:36:28.397085\n",
      "Loop: 2 Time: 2023-04-27 09:36:28.397188\n",
      "Loop: 1 Time: 2023-04-27 09:36:30.399402\n",
      "Loop: 2 Time: 2023-04-27 09:36:33.400742\n",
      "True\n",
      "None\n"
     ]
    }
   ],
   "source": [
    "\n",
    "import datetime\n",
    "import random\n",
    "\n",
    "\n",
    "async def my_sleep_func():\n",
    "    await asyncio.sleep(random.randint(0, 5))\n",
    "\n",
    "\n",
    "async def display_date(num, loop):\n",
    "    end_time = loop.time() + 50.0\n",
    "    while True:\n",
    "        print(\"Loop: {} Time: {}\".format(num, datetime.datetime.now()))\n",
    "        if (loop.time() + 1.0) >= end_time:\n",
    "            break\n",
    "        await my_sleep_func()\n",
    "    if num==2:\n",
    "        loop.stop()\n",
    "\n",
    "loop = asyncio.get_event_loop()\n",
    "\n",
    "asyncio.ensure_future(display_date(1, loop))\n",
    "asyncio.ensure_future(display_date(2, loop))\n",
    "\n",
    "loop.run_forever()\n",
    "print(loop.is_running())"
   ]
  },
  {
   "cell_type": "markdown",
   "metadata": {
    "slideshow": {
     "slide_type": "subslide"
    }
   },
   "source": [
    "## Walk through the code\n",
    "- an async function `display_date` takes a number (as an identifier) and the event loop as parameters\n",
    "- the function has an infinite loop that breaks after 50 secs\n",
    "- during this 50 sec period, it repeatedly prints out the time and takes a nap\n",
    "- the `await` function can wait on other async functions (coroutines) to complete\n",
    "\n",
    "```python\n",
    "async def my_sleep_func():\n",
    "    await asyncio.sleep(random.randint(0, 5))\n",
    "\n",
    "\n",
    "async def display_date(num, loop):\n",
    "    end_time = loop.time() + 50.0\n",
    "    while True:\n",
    "        print(\"Loop: {} Time: {}\".format(num, datetime.datetime.now()))\n",
    "        if (loop.time() + 1.0) >= end_time:\n",
    "            break\n",
    "        await my_sleep_func()\n",
    "    if num==2:\n",
    "        loop.stop()\n",
    "```"
   ]
  },
  {
   "cell_type": "markdown",
   "metadata": {
    "slideshow": {
     "slide_type": "subslide"
    }
   },
   "source": [
    "## Walk through the code\n",
    "- pass the function to event loop (using the `ensure_future` method).\n",
    "- start running the event loop\n",
    "\n",
    "```python\n",
    "loop = asyncio.get_event_loop()\n",
    "\n",
    "asyncio.ensure_future(display_date(1, loop))\n",
    "asyncio.ensure_future(display_date(2, loop))\n",
    "\n",
    "loop.run_forever()\n",
    "```"
   ]
  },
  {
   "cell_type": "markdown",
   "metadata": {
    "slideshow": {
     "slide_type": "subslide"
    }
   },
   "source": [
    "## Walk through the code\n",
    "- Whenever the await call is made, asyncio understands that the function is probably going to need some time\n",
    "- It pauses the execution, starts monitoring any I/O event related to it and allows tasks to run\n",
    "- When asyncio notices that paused function’s I/O is ready, it resumes the function"
   ]
  },
  {
   "cell_type": "code",
   "execution_count": 3,
   "metadata": {
    "slideshow": {
     "slide_type": "subslide"
    }
   },
   "outputs": [
    {
     "name": "stdout",
     "output_type": "stream",
     "text": [
      "boiling kettle is done\n",
      "cleaning cups is done\n",
      "Executed in 5.00 seconds.\n"
     ]
    }
   ],
   "source": [
    "# minitask 7\n",
    "import asyncio\n",
    "import time\n",
    "\n",
    "async def perform_task(duration, task_name):\n",
    "    await asyncio.sleep(duration)\n",
    "    print(task_name, 'is done')\n",
    "\n",
    "async def main():\n",
    "    await perform_task(3, 'boiling kettle')\n",
    "    await perform_task(2, 'cleaning cups')\n",
    "    \n",
    "s = time.perf_counter()\n",
    "asyncio.run(main())\n",
    "elapsed = time.perf_counter() - s\n",
    "print(f\"Executed in {elapsed:0.2f} seconds.\")"
   ]
  },
  {
   "cell_type": "markdown",
   "metadata": {
    "slideshow": {
     "slide_type": "subslide"
    }
   },
   "source": [
    "## minitask 7\n",
    "změňte kód ve funkci main tak, aby úkoly probíhaly souběžně (postaví se voda, mezitím se umyjí hrnky, dovaří se voda), aby tedy na výstupu bylo:\n",
    "```\n",
    "boiling kettle starting , cleaning cups starting, cleaning cups is done, boiling kettle is done  \n",
    "Executed in 3.02 seconds.  \n",
    "```\n",
    "```python\n",
    "\n",
    "async def perform_task(duration, task_name):\n",
    "    await asyncio.sleep(duration)\n",
    "    print(task_name, 'is done')\n",
    "\n",
    "async def main():\n",
    "    await perform_task(3, 'boiling kettle')\n",
    "    await perform_task(2, 'cleaning cups')\n",
    "    \n",
    "s = time.perf_counter() # followed by asyncio.run(main()), etc like on prev slide.\n",
    "asyncio.run(main())\n",
    "elapsed = time.perf_counter() - s\n",
    "print(f\"Executed in {elapsed:0.2f} seconds.\")\n",
    "```"
   ]
  },
  {
   "cell_type": "code",
   "execution_count": 4,
   "metadata": {
    "slideshow": {
     "slide_type": "subslide"
    }
   },
   "outputs": [
    {
     "name": "stdout",
     "output_type": "stream",
     "text": [
      "cleaning cups is done\n",
      "boiling kettle is done\n",
      "Executed in 3.00 seconds.\n"
     ]
    }
   ],
   "source": [
    "# minitask 7\n",
    "import asyncio\n",
    "import time\n",
    "\n",
    "async def perform_task(duration, task_name):\n",
    "    await asyncio.sleep(duration)\n",
    "    print(task_name, 'is done')\n",
    "\n",
    "async def main():\n",
    "    task1 = asyncio.create_task(\n",
    "        perform_task(3, 'boiling kettle'))\n",
    "\n",
    "    task2 = asyncio.create_task(\n",
    "        perform_task(2, 'cleaning cups'))\n",
    "    \n",
    "    await task1\n",
    "    await task2\n",
    "    \n",
    "s = time.perf_counter()\n",
    "asyncio.run(main())\n",
    "elapsed = time.perf_counter() - s\n",
    "print(f\"Executed in {elapsed:0.2f} seconds.\")"
   ]
  },
  {
   "cell_type": "code",
   "execution_count": null,
   "metadata": {
    "slideshow": {
     "slide_type": "subslide"
    }
   },
   "outputs": [],
   "source": [
    "import asyncio\n",
    "\n",
    "# only for python notebook, which already runs event \n",
    "import nest_asyncio\n",
    "nest_asyncio.apply()\n",
    "#\n"
   ]
  },
  {
   "cell_type": "code",
   "execution_count": 5,
   "metadata": {
    "slideshow": {
     "slide_type": "subslide"
    }
   },
   "outputs": [
    {
     "name": "stdout",
     "output_type": "stream",
     "text": [
      "Python 3.11.3\n",
      "cleaning cups is done\n",
      "boiling kettle is done\n",
      "Executed in 3.00 seconds.\n"
     ]
    }
   ],
   "source": [
    "# alternative async with syntax for python 3.11\n",
    "!python --version\n",
    "# minitask 7\n",
    "import asyncio\n",
    "import time\n",
    "\n",
    "async def perform_task(duration, task_name):\n",
    "    await asyncio.sleep(duration)\n",
    "    print(task_name, 'is done')\n",
    "\n",
    "async def main():\n",
    "\n",
    "    async with asyncio.TaskGroup() as tg:\n",
    "        task1 = tg.create_task(\n",
    "            perform_task(3, 'boiling kettle'))\n",
    "\n",
    "        task2 = tg.create_task(\n",
    "            perform_task(2, 'cleaning cups'))\n",
    "\n",
    "    # The await is implicit when the context manager exits.\n",
    "    \n",
    "s = time.perf_counter()\n",
    "asyncio.run(main())\n",
    "elapsed = time.perf_counter() - s\n",
    "print(f\"Executed in {elapsed:0.2f} seconds.\")"
   ]
  },
  {
   "cell_type": "code",
   "execution_count": 6,
   "metadata": {
    "slideshow": {
     "slide_type": "subslide"
    }
   },
   "outputs": [
    {
     "name": "stdout",
     "output_type": "stream",
     "text": [
      "Status: 200\n",
      "Content-type: text/html; charset=utf-8\n",
      "Body: <!doctype html> ...\n"
     ]
    }
   ],
   "source": [
    "import aiohttp\n",
    "import asyncio\n",
    "\n",
    "async def main():\n",
    "\n",
    "    async with aiohttp.ClientSession() as session:\n",
    "        async with session.get('http://python.org') as response:\n",
    "\n",
    "            print(\"Status:\", response.status)\n",
    "            print(\"Content-type:\", response.headers['content-type'])\n",
    "\n",
    "            html = await response.text()\n",
    "            print(\"Body:\", html[:15], \"...\")\n",
    "\n",
    "# for MS Windows\n",
    "#asyncio.set_event_loop_policy(asyncio.WindowsSelectorEventLoopPolicy())\n",
    "\n",
    "asyncio.run(main())"
   ]
  },
  {
   "cell_type": "code",
   "execution_count": null,
   "metadata": {
    "slideshow": {
     "slide_type": "subslide"
    }
   },
   "outputs": [],
   "source": [
    "movies_list = ['tt2935510','tt7131622','tt5463162','tt4758646','tt3640424','tt6024606','tt1596363','tt3707106','tt2713180','tt2193215','tt2024544','tt0816711','tt1764234','tt1402488','tt1210166','tt0478304','tt1001526','tt0361748','tt0421715','tt0887883','tt0443680','tt0496806','tt0449467','tt0356910','tt0349903','tt0332452','tt0165982','tt0270288','tt0240772','tt0266987','tt0236493','tt0208092','tt0137523','tt0120601','tt0119643','tt0120102','tt0118972','tt0117665','tt0114746','tt0114369','tt0110322','tt0110148','tt0109783','tt0108399','tt0107302','tt0105265','tt0104009','tt0104567','tt0103074','tt0101268','tt0097478','tt0097136','tt0118930','tt0093407','tt0093638','tt0093640','tt0093231']\n",
    "import time\n",
    "import aiohttp\n",
    "from aiohttp import ClientSession\n",
    "\n",
    "async def get_html_by_movie_id_new(movie_id, session):\n",
    "    url = f\"https://www.imdb.com/title/{movie_id}/fullcredits\"\n",
    "    response = await session.request(method=\"GET\", url=url)\n",
    "    html = await response.text()\n",
    "    return html\n",
    "\n",
    "async def scrape_all_titles(movies_list):\n",
    "    async with ClientSession() as session:\n",
    "        tasks = []\n",
    "        for movie_id in movies_list:\n",
    "            tasks.append(get_html_by_movie_id_new(movie_id,session))\n",
    "        result = await asyncio.gather(*tasks)\n",
    "    return result\n",
    "\n",
    "#if __name__ == \"__main__\":    \n",
    "s = time.perf_counter()\n",
    "result = await scrape_all_titles(movies_list)\n",
    "elapsed = time.perf_counter() - s\n",
    "print(f\"Executed in {elapsed:0.2f} seconds.\")"
   ]
  },
  {
   "cell_type": "markdown",
   "metadata": {
    "slideshow": {
     "slide_type": "subslide"
    }
   },
   "source": [
    "## Example of asyncio use - HTTP server japronto\n",
    "- https://github.com/squeaky-pl/japronto\n",
    "- https://medium.freecodecamp.com/million-requests-per-second-with-python-95c137af319\n",
    "- based on uvloop - an ultra fast implementation of asyncio event loop on top of libuv -  https://github.com/MagicStack/uvloop\n",
    "![japronto](isj_concurrency_parallelism/japronto.png)\n"
   ]
  },
  {
   "cell_type": "markdown",
   "metadata": {
    "slideshow": {
     "slide_type": "subslide"
    }
   },
   "source": [
    "## Rule of Thumb from SO\n",
    "https://stackoverflow.com/questions/27435284/multiprocessing-vs-multithreading-vs-asyncio\n",
    "```python\n",
    "if io_bound:\n",
    "    if io_very_slow:\n",
    "        print(\"Use Asyncio\")\n",
    "    else:\n",
    "        print(\"Use Threads\")\n",
    "else:\n",
    "    print(\"Multi Processing\")\n",
    "```\n",
    "\n",
    "* CPU Bound => Multi Processing\n",
    "* I/O Bound, Fast I/O, Limited Number of Connections => Multi Threading\n",
    "* I/O Bound, Slow I/O, Many connections => Asyncio"
   ]
  }
 ],
 "metadata": {
  "anaconda-cloud": {},
  "celltoolbar": "Slideshow",
  "image.base64": {
   "image.base64/what-is-async-how-does-it-work-and-when-should-i-use-it-3-638.jpg": "data:image/jpeg;base64,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"
  },
  "kernelspec": {
   "display_name": "Python 3 (ipykernel)",
   "language": "python",
   "name": "python3"
  },
  "language_info": {
   "codemirror_mode": {
    "name": "ipython",
    "version": 3
   },
   "file_extension": ".py",
   "mimetype": "text/x-python",
   "name": "python",
   "nbconvert_exporter": "python",
   "pygments_lexer": "ipython3",
   "version": "3.11.3"
  },
  "livereveal": {
   "controls": true,
   "height": 855,
   "history": true,
   "minScale": 1,
   "progress": true,
   "scroll": false,
   "slideNumber": true,
   "start_slideshow_at": "selected",
   "theme": "simple",
   "transition": "linear",
   "width": 1140
  }
 },
 "nbformat": 4,
 "nbformat_minor": 1
}
