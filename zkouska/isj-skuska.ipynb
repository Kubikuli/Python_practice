{
 "cells": [
  {
   "cell_type": "markdown",
   "metadata": {},
   "source": [
    "# ISJ Príprava na skúšku\n",
    "Úlohy nie sú nejako sorted podľa rokov, skôr viac random. Odpovede nemusia byť vždy správne, neberte to ako 100% istotu. "
   ]
  },
  {
   "cell_type": "markdown",
   "metadata": {},
   "source": [
    "## Úlohy typu \"Čo tento program vypíše a prečo?\""
   ]
  },
  {
   "cell_type": "markdown",
   "metadata": {},
   "source": [
    "### Úloha 1"
   ]
  },
  {
   "cell_type": "code",
   "execution_count": 6,
   "metadata": {},
   "outputs": [
    {
     "name": "stdout",
     "output_type": "stream",
     "text": [
      "even\n"
     ]
    }
   ],
   "source": [
    "def e_o(num): return 'eovdedn'[num % 2::2]\n",
    "print(e_o(2))"
   ]
  },
  {
   "cell_type": "markdown",
   "metadata": {},
   "source": [
    "Všetko spočíva v riadku [num % 2::2] (tech tip: [**(num % 2)**::2]). Využívame tzv. extended slicing - [start:stop:step]. V tomto prípade máme start = num % 2, stop nemáme, takže ideme do konca stringu, step = 2. Teda zoberieme každý druhý prvok od indexu num % 2 až po koniec zoznamu."
   ]
  },
  {
   "cell_type": "markdown",
   "metadata": {},
   "source": [
    "### Úloha 2"
   ]
  },
  {
   "cell_type": "code",
   "execution_count": 13,
   "metadata": {},
   "outputs": [
    {
     "name": "stdout",
     "output_type": "stream",
     "text": [
      "4\n"
     ]
    }
   ],
   "source": [
    "print(sum(x > 5 for x in range(10)))"
   ]
  },
  {
   "cell_type": "markdown",
   "metadata": {},
   "source": [
    "x > 5 for x in range(10) - je tzv. generator object, ktorý vracia True alebo False pre každý prvok v rozsahu 0 až 9. V tomto prípade vráti True pre prvky 6, 7, 8 a 9. Funkcia sum ráta TRUE ako 1, čiže keď máme 4x TRUE tak nam vráti 4."
   ]
  },
  {
   "cell_type": "markdown",
   "metadata": {},
   "source": [
    "### Úloha 3"
   ]
  },
  {
   "cell_type": "code",
   "execution_count": 17,
   "metadata": {},
   "outputs": [
    {
     "name": "stdout",
     "output_type": "stream",
     "text": [
      "[3, 42, 5, 2, 8]\n"
     ]
    }
   ],
   "source": [
    "print(sorted([8, 3, 2, 42, 5], key=lambda x: 0 if x == 42 or x % 2 else x))"
   ]
  },
  {
   "cell_type": "markdown",
   "metadata": {},
   "source": [
    "V prvom rade kľuč je lambda funkcia (funkcia ktora nema definiciu). Táto funkcia nam returnuje číslo 0 pokial je vstupny parameter (samotny prvok poľa) nepárny alebo 42, inak vráti sam seba. Mapovanie teda bude:\n",
    "\n",
    "8 -> 8,\n",
    "3 -> 0,\n",
    "2 -> 2,\n",
    "42 -> 0,\n",
    "5 -> 0,\n",
    "\n",
    "Následovne sa to zoradí, ALE pokial sa prvky rovnajú (maju rovnaký key), tak sa zoradia podľa indexu v pôvodnom poli. Teda výsledok bude:\n",
    "[3, 42, 5, 2, 8]"
   ]
  },
  {
   "cell_type": "markdown",
   "metadata": {},
   "source": [
    "### Úloha 4"
   ]
  },
  {
   "cell_type": "code",
   "execution_count": 6,
   "metadata": {},
   "outputs": [
    {
     "name": "stdout",
     "output_type": "stream",
     "text": [
      "eyu\n"
     ]
    }
   ],
   "source": [
    "s = {\"Python\": 1991, \"Perl\": 1987, \"Ruby\": 1995}\n",
    "print(\"\".join(c[1] for c in sorted(s, key=s.get)))"
   ]
  },
  {
   "cell_type": "markdown",
   "metadata": {},
   "source": [
    "V prvom rade sortujeme zoznam S podla druheho prvku t.j datumu. Zoznam nám teda ostane [Perl, Python, Ruby]. c for c[1] nám označuje, že chceme dostať prvý charaktér (POZOR - Prvý char neni prvý v poradi, ale druhý, začína sa od nuly).\n",
    "Ostanú nám teda písmená eyu. "
   ]
  },
  {
   "cell_type": "markdown",
   "metadata": {},
   "source": [
    "Alternatívne zadanie:"
   ]
  },
  {
   "cell_type": "code",
   "execution_count": 7,
   "metadata": {},
   "outputs": [
    {
     "name": "stdout",
     "output_type": "stream",
     "text": [
      "O\n",
      "L\n",
      "+\n"
     ]
    }
   ],
   "source": [
    "\n",
    "s = { 'FORTRAN' : '1954', 'ALGOL' : '1954', 'C++'  : '1985' }\n",
    "a = (c[1] for c in sorted(s, key=s.get))\n",
    "for u in a:\n",
    "    print(u)\n"
   ]
  },
  {
   "cell_type": "markdown",
   "metadata": {},
   "source": [
    "Pri tomto si treba dávať pozor, lebo poodobne ako v predchádzajúcom prípade, sa zoradí podľa kľuču, ale ak sa kľuče rovnajú, tak sa nezoradia a ostanú tak, ako boli v pôvodnom poli."
   ]
  },
  {
   "cell_type": "markdown",
   "metadata": {},
   "source": [
    "### Úloha 5"
   ]
  },
  {
   "cell_type": "code",
   "execution_count": 4,
   "metadata": {},
   "outputs": [
    {
     "name": "stdout",
     "output_type": "stream",
     "text": [
      "Entering E\n",
      "Entering B\n",
      "No super in C\n",
      "Leaving B\n",
      "Leaving E\n"
     ]
    }
   ],
   "source": [
    "class A(object):\n",
    "  def __init__(self):\n",
    "    print('Entering A')\n",
    "    super().__init__()\n",
    "    print('Leaving A')\n",
    "    \n",
    "class B(A):\n",
    "  def __init__(self):\n",
    "    print('Entering B')\n",
    "    super().__init__()\n",
    "    print('Leaving B')\n",
    "    \n",
    "class C(A):\n",
    "  def __init__(self):\n",
    "    print('No super in C')\n",
    "    \n",
    "class D(object):\n",
    "  def __init__(self):\n",
    "    print('Entering D')\n",
    "    super().__init__()\n",
    "    print('Leaving D')\n",
    "\n",
    "class E(B,C,D):\n",
    "  def __init__(self):\n",
    "    print('Entering E')\n",
    "    super().__init__()\n",
    "    print('Leaving E')    \n",
    "    \n",
    "e = E()\n"
   ]
  },
  {
   "cell_type": "markdown",
   "metadata": {},
   "source": [
    "Alternatívne zadanie:"
   ]
  },
  {
   "cell_type": "code",
   "execution_count": 34,
   "metadata": {},
   "outputs": [
    {
     "name": "stdout",
     "output_type": "stream",
     "text": [
      "Third starts\n",
      "First starts\n",
      "Second starts\n",
      "Second ends\n",
      "First ends\n",
      "Third ends\n"
     ]
    },
    {
     "data": {
      "text/plain": [
       "<__main__.Third at 0x10fbf6420>"
      ]
     },
     "execution_count": 34,
     "metadata": {},
     "output_type": "execute_result"
    }
   ],
   "source": [
    "class First(object):\n",
    "    def __init__(self):\n",
    "        print(\"First starts\")\n",
    "        super().__init__()\n",
    "        print(\"First ends\")\n",
    " \n",
    " \n",
    "class Second(object):\n",
    "    def __init__(self):\n",
    "        print(\"Second starts\")\n",
    "        super().__init__()\n",
    "        print(\"Second ends\")\n",
    " \n",
    " \n",
    "class Third(First, Second):\n",
    "    def __init__(self):\n",
    "        print(\"Third starts\")\n",
    "        super().__init__()\n",
    "        print(\"Third ends\")\n",
    " \n",
    " \n",
    "Third()"
   ]
  },
  {
   "cell_type": "markdown",
   "metadata": {},
   "source": [
    "### Úloha 6"
   ]
  },
  {
   "cell_type": "code",
   "execution_count": 6,
   "metadata": {},
   "outputs": [
    {
     "name": "stdout",
     "output_type": "stream",
     "text": [
      "[(1, 2, 3, 4), (2, 3, 4, 5), (3, 4, 5, 6)]\n"
     ]
    }
   ],
   "source": [
    "def ng(a, n):\n",
    "    z = (a[i:] for i in range(n))\n",
    "    return zip(*z)\n",
    "\n",
    "print(list(ng([1, 2, 3, 4, 5, 6], 4)))"
   ]
  },
  {
   "cell_type": "markdown",
   "metadata": {},
   "source": [
    "Tu opať používame extended slicing, začíname od indexu i, ktorý je v podstate loop od 0 do čísla n. Toto používame v generátor funkcií z. Ked túto samotnú funkciu zavolame, dostaneme \n",
    "[[1, 2, 3, 4, 5, 6], [2, 3, 4, 5, 6], [3, 4, 5, 6], [4, 5, 6]].\n",
    "\n",
    "Keď to však hodime do ZIP funkcie, ktorá robí z viacerých zoznamov jeden zoznam, a to tak, že z prveho zoznamu zobere prvé, z druhého druhé a pod. tak dostaneme:\n",
    "[(1, 2, 3, 4), (2, 3, 4, 5), (3, 4, 5, 6)]"
   ]
  },
  {
   "cell_type": "markdown",
   "metadata": {},
   "source": [
    "Alternatívne zadanie:"
   ]
  },
  {
   "cell_type": "code",
   "execution_count": 2,
   "metadata": {},
   "outputs": [
    {
     "name": "stdout",
     "output_type": "stream",
     "text": [
      "('f', 'f', 'f')\n",
      "('l', 'o', 'l')\n",
      "('o', 'e', 'i')\n"
     ]
    }
   ],
   "source": [
    "words = ('flower', 'foe', 'flight')\n",
    "for i in zip(*words):\n",
    "    print(i)"
   ]
  },
  {
   "cell_type": "markdown",
   "metadata": {},
   "source": [
    "### Úloha 7"
   ]
  },
  {
   "cell_type": "code",
   "execution_count": 1,
   "metadata": {},
   "outputs": [
    {
     "name": "stdout",
     "output_type": "stream",
     "text": [
      "True False\n"
     ]
    }
   ],
   "source": [
    "def myr(p, n):\n",
    "    for i in range(n):\n",
    "        yield p + 2**i\n",
    "myr1 = myr(3, 3)\n",
    "print (5 in myr1, 4 in myr1)"
   ]
  },
  {
   "cell_type": "markdown",
   "metadata": {},
   "source": [
    "### Úloha 8"
   ]
  },
  {
   "cell_type": "code",
   "execution_count": 6,
   "metadata": {},
   "outputs": [
    {
     "name": "stdout",
     "output_type": "stream",
     "text": [
      "[1.0, 1.5, 2.0]\n"
     ]
    }
   ],
   "source": [
    "def running_average(list):\n",
    "    count = 0\n",
    "    sum = 0\n",
    "    for i in range(1, len(list)):\n",
    "        sum += list[i]\n",
    "        count += 1\n",
    "        yield sum/count\n",
    "\n",
    "ra = print(list(running_average([\"age\", 1, 2, 3])))"
   ]
  },
  {
   "cell_type": "markdown",
   "metadata": {},
   "source": [
    "### Úloha 9"
   ]
  },
  {
   "cell_type": "code",
   "execution_count": 1,
   "metadata": {},
   "outputs": [
    {
     "name": "stdout",
     "output_type": "stream",
     "text": [
      "[7, 8]\n",
      "(1, 2)\n",
      "[7, 5]\n"
     ]
    }
   ],
   "source": [
    "def func(x):\n",
    "    x[1] = 5\n",
    "    x = (1,2)\n",
    "    print(x)\n",
    "\n",
    "x = [7,8]\n",
    "print(x)\n",
    "func(x)\n",
    "print(x)"
   ]
  },
  {
   "cell_type": "markdown",
   "metadata": {},
   "source": [
    "V tomto prípade sa trošku ukazuje mierna esoterika pythonu. Totiž:\n",
    "\n",
    "x[1] = 5 prepíše index 1 premennej x **globálne**, lebo sa to ráta ako pointer\n",
    "\n",
    "**AVŠAK**\n",
    "\n",
    "x = (1,2) už prepíše len lokálnu premennú x, lebo sa to ráta ako nová premenná"
   ]
  },
  {
   "cell_type": "markdown",
   "metadata": {},
   "source": [
    "### Úloha 10"
   ]
  },
  {
   "cell_type": "code",
   "execution_count": 1,
   "metadata": {},
   "outputs": [
    {
     "name": "stdout",
     "output_type": "stream",
     "text": [
      "Inner ZeroDivisionError\n",
      "Finally block\n"
     ]
    }
   ],
   "source": [
    "try:\n",
    "    for i in range(3):\n",
    "        try:\n",
    "            1 / 0\n",
    "            print(\"Devided by zero\")\n",
    "        except ZeroDivisionError:\n",
    "            print(\"Inner ZeroDivisionError\")\n",
    "            raise KeyError(\"Zero\")\n",
    "        except KeyError:\n",
    "            print(\"Inner KeyError\")\n",
    "        finally:\n",
    "            print(\"Finally block\")\n",
    "            break\n",
    "except ZeroDivisionError: \n",
    "    print(\"Outer ZeroDivisionError\")   "
   ]
  },
  {
   "cell_type": "markdown",
   "metadata": {},
   "source": [
    "### Úloha 11"
   ]
  },
  {
   "cell_type": "code",
   "execution_count": 1,
   "metadata": {},
   "outputs": [
    {
     "name": "stdout",
     "output_type": "stream",
     "text": [
      "[1, 2, 3, 4] None\n"
     ]
    }
   ],
   "source": [
    "a = [1, 2, 3]\n",
    "b = a.append(4)\n",
    "print(a, b)"
   ]
  },
  {
   "cell_type": "markdown",
   "metadata": {},
   "source": [
    "b neni nová premenná"
   ]
  },
  {
   "cell_type": "markdown",
   "metadata": {},
   "source": [
    "### Úloha 12"
   ]
  },
  {
   "cell_type": "code",
   "execution_count": 8,
   "metadata": {},
   "outputs": [
    {
     "name": "stdout",
     "output_type": "stream",
     "text": [
      "9.0 <class 'float'>\n"
     ]
    }
   ],
   "source": [
    "def f(n):\n",
    "    return n * 2 if n < 10 else n / 2\n",
    "\n",
    "r = f(f(9))\n",
    "print(r, type(r))"
   ]
  },
  {
   "cell_type": "markdown",
   "metadata": {},
   "source": [
    "### Úloha 13"
   ]
  },
  {
   "cell_type": "code",
   "execution_count": 9,
   "metadata": {},
   "outputs": [
    {
     "name": "stdout",
     "output_type": "stream",
     "text": [
      "[True, 0, 1, 2, 3, 4, 5, 6, 7]\n"
     ]
    }
   ],
   "source": [
    "function = [all]\n",
    "for number in range(8):\n",
    "    def my_function(n=number):\n",
    "        return n\n",
    "    function.append(my_function)\n",
    "\n",
    "resolts = [func([{()}]) if func is function[0] else func() for func in function]\n",
    "print(resolts)"
   ]
  },
  {
   "cell_type": "markdown",
   "metadata": {},
   "source": [
    "*Pozn.: Autor pri prepisovaní tohto kódu dostal stroke*\n",
    "\n",
    "*Pozn2.: Autor absolutne nevie čo toto robí, a pretu tu poskytuje vysvetlenie od ChatGPT*\n",
    "\n",
    "\n",
    "Tento kód používa Python a zahŕňa niekoľko zaujímavých konceptov, vrátane uzávierok (closures) a spracovania funkcií v cykle. Poďme sa na to pozrieť krok za krokom:\n",
    "\n",
    "1. Inicializácia zoznamu funkcií:\n",
    "\n",
    "    ```python\n",
    "    functions = [all]\n",
    "    ```\n",
    "\n",
    "    Tu sa vytvorí zoznam function, ktorý obsahuje jednu položku: vstavanú funkciu all.\n",
    "\n",
    "2. Vytvorenie a pridanie funkcií do zoznamu:\n",
    "     ```python\n",
    "            for number in range(8):\n",
    "                def my_function(n=number):\n",
    "            return n\n",
    "        function.append(my_function)\n",
    "    ```\n",
    "    V tomto cykle sa osemkrát definovaná funkcia my_function pridá do zoznamu function. Každá definícia funkcie my_function je uzavretá (closure) s hodnotou number, ktorá je priradená argumentu n.\n",
    "\n",
    "3. Vytvorenie zoznamu výsledkov:\n",
    "    ```python\n",
    "    resolts = [func([{()}]) if func is function[0] else func() for func in function]\n",
    "\n",
    "    ```\n",
    "    Tu sa vytvára zoznam resolts pomocou zoznamovej komprehencie. Pre každý func v function:\n",
    "\n",
    "    - Ak je func prvý prvok zoznamu (t.j. all), potom sa zavolá func([{()}]). Vstavaná funkcia all testuje, či sú všetky prvky iterovateľného objektu pravdivé. {()} je prázdna množina, ktorá je hodnotená ako pravdivá, takže výsledok bude True.\n",
    "    - Pre ostatné funkcie (ktoré sú funkciami my_function), sa zavolá func()."
   ]
  },
  {
   "cell_type": "markdown",
   "metadata": {},
   "source": [
    "### Úloha 14"
   ]
  },
  {
   "cell_type": "code",
   "execution_count": 33,
   "metadata": {},
   "outputs": [
    {
     "name": "stdout",
     "output_type": "stream",
     "text": [
      "[1, 2] [1, 2]\n"
     ]
    }
   ],
   "source": [
    "def add_q(q, retl=[]):\n",
    "    retl.append(q)\n",
    "    return retl\n",
    "\n",
    "print(add_q(1), add_q(2))"
   ]
  },
  {
   "cell_type": "markdown",
   "metadata": {},
   "source": [
    "## Príklady úloh \"Naprogramujte\""
   ]
  },
  {
   "cell_type": "markdown",
   "metadata": {},
   "source": [
    "### Definujte generátorovou funkci running_avg, která dostane jako parametr iterovatelný objekt, první hodnotu bude ignorovat a pro další bude vracet klouzavý průměr (vždy průměr všech předchozích čísel), tedy například list ( running avg(['age' , 12,20,1] ) ) == [12.0, 16.0, 11.0] "
   ]
  },
  {
   "cell_type": "code",
   "execution_count": 3,
   "metadata": {},
   "outputs": [
    {
     "name": "stdout",
     "output_type": "stream",
     "text": [
      "[12.0, 16.0, 11.0]\n"
     ]
    }
   ],
   "source": [
    "def running_avg(param):\n",
    "    count = 0\n",
    "    sum = 0\n",
    "    for i in range(1, len(param)):\n",
    "        sum += param[i]\n",
    "        count += 1\n",
    "        yield sum/count\n",
    "\n",
    "print(list(running_avg([\"age\", 12, 20,1])))"
   ]
  },
  {
   "cell_type": "markdown",
   "metadata": {},
   "source": [
    "### Definujte dekorátor retry s parametry num_retries , exception_to_check, sleep_time, který v případě, že dekorovaná funkce vrátí výjimku danou druhým parametrem, počká (pomocí time.sleep) definovaný počet sekund a potom zkusí dekorovanou funkci spustit znovu (maximální počet pokusů je dán 1. parametrem)."
   ]
  },
  {
   "cell_type": "code",
   "execution_count": 6,
   "metadata": {},
   "outputs": [
    {
     "name": "stdout",
     "output_type": "stream",
     "text": [
      "Attempt\n",
      "1.0\n"
     ]
    }
   ],
   "source": [
    "import time\n",
    "\n",
    "def retry(num_retries, exception_to_check, sleep_time):\n",
    "    def wrapper(func):\n",
    "        def wrapped(*args, **kwargs):\n",
    "            for _ in range(num_retries):\n",
    "                print(\"Attempt\") # TOTO NENI V ZADANI, LEN PRE DEBUG\n",
    "                try:\n",
    "                    return func(*args, **kwargs)\n",
    "                except exception_to_check:\n",
    "                    time.sleep(sleep_time)\n",
    "        return wrapped\n",
    "    return wrapper\n",
    "\n",
    "@retry(3, ZeroDivisionError, 1)\n",
    "def divide(x, y):\n",
    "    return x / y\n",
    "\n",
    "print(divide(1, 0)) # 3x za sebou vypise ATTEMPT a porom None t.j 3 krat sa to zopakovalo a nakoniec vratilo None\n",
    "print(divide(1, 1)) # 1x vypise ATTEMPT a vrati 1.0 t.j prvy pokus bol uspesny "
   ]
  },
  {
   "cell_type": "markdown",
   "metadata": {},
   "source": [
    "### Definujte třídu AnagramStr, podtřídu str, která bude místo zadaného řetězce vnitřně reprezentovat jeho uspořádané znaky, tedy např. AnagramStr ( ' sister ' ) == AnagramStr ( resist ' ) bude True a print (AnagramStr ( 'sister ' ) ) vypíše: eirsst "
   ]
  },
  {
   "cell_type": "code",
   "execution_count": 4,
   "metadata": {},
   "outputs": [
    {
     "name": "stdout",
     "output_type": "stream",
     "text": [
      "True\n",
      "False\n",
      "eirsst\n"
     ]
    }
   ],
   "source": [
    "class AnagramStr(str):\n",
    "    def __new__(self, content):\n",
    "        # Seřadíme znaky ve vstupním řetězci\n",
    "        sorted_content = ''.join(sorted(content))\n",
    "        # Vytvoříme nový objekt typu str s tímto obsahem\n",
    "        return super().__new__(self, sorted_content)\n",
    "\n",
    "\n",
    "print(AnagramStr(\"abc\") == AnagramStr(\"cba\")) # True\n",
    "print(AnagramStr(\"abc\") == AnagramStr(\"def\")) # False\n",
    "print (AnagramStr ('sister'))"
   ]
  },
  {
   "cell_type": "markdown",
   "metadata": {},
   "source": [
    "### Mějme v jazyce Python funkci mutually_exclusive definovanou jako: \n",
    "\n",
    "```python\n",
    "def mutually_exclusive(a,b,c): \n",
    "    return a != b and b != c and a != c \n",
    "```\n",
    "Potom: a=1; b=2; c=3; mutually_exclusive(a,b,c) vrátí True \n",
    "\n",
    "a=-3; b=2; c=3; mutually_exclusive(a,b,c) Vrátí False.  \n",
    "\n",
    "Změňte definici funkce mutuany_exclusive tak, aby mohla dostat libovolný počet hodnot typu int (typ nemusíte testovat) a co nejefektivněji vyhodnotila, zda mají všechny navzájem různé hodnoty či ne."
   ]
  },
  {
   "cell_type": "code",
   "execution_count": 13,
   "metadata": {},
   "outputs": [
    {
     "name": "stdout",
     "output_type": "stream",
     "text": [
      "True\n",
      "False\n"
     ]
    }
   ],
   "source": [
    "def mutally_exclusive(*args):\n",
    "    if len(list(args)) != len(set(args)):\n",
    "        return False\n",
    "    return True\n",
    "\n",
    "print(mutally_exclusive(1, 2, 3)) # True\n",
    "print(mutally_exclusive(1, 2, 1)) # False"
   ]
  },
  {
   "cell_type": "markdown",
   "metadata": {},
   "source": [
    "## Príklady rôznych úloh"
   ]
  },
  {
   "cell_type": "markdown",
   "metadata": {},
   "source": [
    "## Dekorator"
   ]
  },
  {
   "cell_type": "code",
   "execution_count": 17,
   "metadata": {},
   "outputs": [
    {
     "name": "stdout",
     "output_type": "stream",
     "text": [
      "Function foo was called 1 times\n",
      "foo\n",
      "Function foo was called 2 times\n",
      "foo\n",
      "Function foo was called 3 times\n",
      "foo\n",
      "Function foo was called 4 times\n",
      "foo\n",
      "Function foo was called 5 times\n",
      "foo\n"
     ]
    }
   ],
   "source": [
    "def exec_count():  # Meno dekoratora, podľa tohto ho vieme volať \n",
    "    def wrapper(func): # Tunak bereme ako parameter funkciu, ktoru chceme dekorovat (v nasom pripade semka pride funkcia foo)\n",
    "        def inner(*args, **kwargs): \n",
    "            inner.count += 1  \n",
    "            print(f'Function {func.__name__} was called {inner.count} times')\n",
    "            return func(*args, **kwargs)  # Tu volame funkciu, ktoru chceme dekorovat\n",
    "        inner.count = 0\n",
    "        return inner\n",
    "    return wrapper\n",
    "\n",
    "@exec_count()\n",
    "def foo():\n",
    "    print('foo')\n",
    "\n",
    "for i in range(5):\n",
    "    foo()\n"
   ]
  },
  {
   "cell_type": "markdown",
   "metadata": {},
   "source": [
    "## Tabuľka special funckií:\n",
    "\n",
    "### Matematické operácie:\n",
    "\n",
    "| Metoda    | Nazov Funkcie        | Popis | \n",
    "|-----------|----------------------|-------|\n",
    "| Scítanie  | `__add__(self, other)` | a+b   |  \n",
    "| Odčítanie | `__sub__(self, other)` | a-b   |  \n",
    "| Násobenie | `__mul__(self, other)` | a*b   | \n",
    "| Delenie   | `__truediv__ (self, other)` | a/b   | \n",
    "| Mocnina    | `__pow__(self, other)` | a**b   |\n",
    "\n",
    "### Iné operácie:\n",
    "| Metoda    | Nazov Funkcie        | Popis | \n",
    "|-----------|----------------------|-------|\n",
    "| Navrátenie reprezentácie objektu ako string  | `__str__(self)` | Vráti objekt ako string |  \n",
    "| Hash | `__hash__(self)` | Navráca číslo (int) reprezentucúce hash objektu |\n",
    "| Porovnanie | `__eq__(self, other)` | Porovnáva dva objekty |\n",
    "\n",
    "### Lifecycle metódy:\n",
    "| Metoda    | Nazov Funkcie        | Popis | \n",
    "|-----------|----------------------|-------|\n",
    "| New  | `__new__(self, ...)` |   |  \n",
    "| Hash | `__hash__(self)` | Navráca číslo (int) reprezentucúce hash objektu |\n",
    "| Porovnanie | `__eq__(self, other)` | Porovnáva dva objekty |\n",
    "\n",
    "\n"
   ]
  },
  {
   "cell_type": "markdown",
   "metadata": {},
   "source": [
    "### (2021/22 - 2.) 4 Pomocí sorted/sort utřiďte obsah slovníku podle délky seznamu, případně podle 3. prvku a nebo podle 2. prvku."
   ]
  },
  {
   "cell_type": "code",
   "execution_count": null,
   "metadata": {},
   "outputs": [
    {
     "name": "stdout",
     "output_type": "stream",
     "text": [
      "[(('1', 'b', 'C'), [1, 2]), (('2', 'A', 'c'), [2, 3]), (('4', 'e', 'b'), [2, 3]), (('2', 'a', 'b'), [2, 3]), (('3', 'c', 'd'), [0, 0, 0])]\n"
     ]
    }
   ],
   "source": [
    "d = {\n",
    "    ('1','b','C'): [1,2],\n",
    "    ('2','A','c'): [2,3],\n",
    "    ('3','c','d'): [0,0,0],\n",
    "    ('4','e','b'): [2,3],\n",
    "    ('2','a','b'): [2,3]\n",
    "}\n",
    "\n",
    "result = sorted(\n",
    "    d.items(),\n",
    "    key=lambda item: (\n",
    "        len(item[1]),                            # 1) délka seznamu (vzestupně)\n",
    "        -ord(item[0][2].casefold()),             # 2) 3. prvek klíče (sestupně, case-insensitive)\n",
    "        -ord(item[0][1].casefold())              # 3) 2. prvek klíče (sestupně, case-insensitive)\n",
    "    )\n",
    ")\n",
    "\n",
    "print(result)\n"
   ]
  },
  {
   "cell_type": "markdown",
   "metadata": {},
   "source": [
    " Mějme obecný iterovatelný objekt f (například soubor). Doplňte následující kód\n",
    "tak, aby byl do proměnné header načtený první prvek z f (v případě souboru se jedná o\n",
    "hlavičku - první řádek) a aby se v cyklu zpracovaly zbylé prvky. Slovně vymezte omezení,\n",
    "která vaše řešení má."
   ]
  },
  {
   "cell_type": "code",
   "execution_count": null,
   "metadata": {},
   "outputs": [],
   "source": [
    "it = iter(f)\n",
    "header = next(it)\n",
    "for v in it:\n",
    "    ..."
   ]
  },
  {
   "cell_type": "markdown",
   "metadata": {},
   "source": [
    "První prvek musí existovat: Pokud je objekt f prázdný (např. prázdný soubor nebo prázdný seznam), pokus o zavolání next(it) vyvolá výjimku StopIteration. Měli bychom zajistit, že první prvek existuje, nebo tuto situaci ošetřit.\n",
    "\n",
    "Neobnovitelnost iterátoru: Po zavolání next(it) se pohybujeme vpřed v iterátoru, což znamená, že první prvek už nemůžeme načíst znovu. To je typické pro iterátory, které nemají přístup k předchozím hodnotám.\n",
    "\n"
   ]
  },
  {
   "cell_type": "markdown",
   "metadata": {},
   "source": [
    "### Co vypíše následující kod v Pythonu a proč?"
   ]
  },
  {
   "cell_type": "code",
   "execution_count": 23,
   "metadata": {},
   "outputs": [
    {
     "name": "stdout",
     "output_type": "stream",
     "text": [
      "[[1, 2, 3], [4, 'a', 6], 'b']\n",
      "[[1, 2, 3], [4, 'a', 6], [7, 8, 9]]\n"
     ]
    }
   ],
   "source": [
    "a = [[1, 2, 3], [4, 5, 6], [7, 8, 9]]\n",
    "b = list(a)\n",
    "b[1][1] = 'a'\n",
    "b[2] = 'b'\n",
    "print(b)\n",
    "print(a)"
   ]
  },
  {
   "cell_type": "markdown",
   "metadata": {},
   "source": [
    "### REGEX"
   ]
  },
  {
   "cell_type": "code",
   "execution_count": 6,
   "metadata": {},
   "outputs": [
    {
     "name": "stdout",
     "output_type": "stream",
     "text": [
      "Apple Orange Banana Strawberry Peach\n"
     ]
    }
   ],
   "source": [
    "import re\n",
    "camel_re = re.compile(r'(?<=[a-z])(?=[A-Z])')\n",
    "fruits='AppleOrangeBananaStrawberryPeach'\n",
    "print(re.sub(camel_re, ' ', fruits)) # Apple Orange Banana Strawberry Peach"
   ]
  },
  {
   "cell_type": "markdown",
   "metadata": {},
   "source": [
    "### MIDTERM 2024/25"
   ]
  },
  {
   "cell_type": "code",
   "execution_count": 33,
   "metadata": {},
   "outputs": [
    {
     "name": "stdout",
     "output_type": "stream",
     "text": [
      "['my', 'VAT', 'Parser', 'Moje']\n"
     ]
    }
   ],
   "source": [
    "slova = re.split(r'(?<=[a-z])(?=[A-Z])|(?<=[A-Z])(?=[A-Z][a-z])', 'myVATParserMoje')\n",
    "\n",
    "print(slova)"
   ]
  },
  {
   "cell_type": "code",
   "execution_count": 40,
   "metadata": {},
   "outputs": [
    {
     "name": "stdout",
     "output_type": "stream",
     "text": [
      "[3, 1, 2]\n"
     ]
    }
   ],
   "source": [
    "def find_dupes(*numbers):\n",
    "    seen = set()\n",
    "    duplicates = []\n",
    "    added = set()\n",
    "    \n",
    "    for num in numbers:\n",
    "        if num in seen and num not in added:\n",
    "            duplicates.append(num)\n",
    "            added.add(num)\n",
    "        seen.add(num)\n",
    "    \n",
    "    return duplicates[::-1]  # Reverse the order\n",
    "\n",
    "\n",
    "print(find_dupes(1, 2, 3, 2, 1, 3, 4, 5, 1))"
   ]
  },
  {
   "cell_type": "code",
   "execution_count": 41,
   "metadata": {},
   "outputs": [
    {
     "name": "stdout",
     "output_type": "stream",
     "text": [
      "['adg', 'adh', 'adi', 'aeg', 'aeh', 'aei', 'afg', 'afh', 'afi', 'bdg', 'bdh', 'bdi', 'beg', 'beh', 'bei', 'bfg', 'bfh', 'bfi', 'cdg', 'cdh', 'cdi', 'ceg', 'ceh', 'cei', 'cfg', 'cfh', 'cfi']\n"
     ]
    }
   ],
   "source": [
    "from itertools import product\n",
    "d2l = {'2': 'abc', '3':'def', '4':'ghi', '5':'jkl', '6':'mno', '7':'pqrs'}\n",
    "\n",
    "digits = '234'\n",
    "\n",
    "final = [''.join(p) for p in product(*(d2l[d] for d in digits))]\n",
    "\n",
    "print(final)"
   ]
  },
  {
   "cell_type": "markdown",
   "metadata": {},
   "source": [
    "### Older midterms"
   ]
  },
  {
   "cell_type": "code",
   "execution_count": 19,
   "metadata": {},
   "outputs": [
    {
     "name": "stdout",
     "output_type": "stream",
     "text": [
      "{'London': 'Brno', 'Berlin': 'Brno', 'Split': 'Ostrava'}\n"
     ]
    }
   ],
   "source": [
    "import collections\n",
    "flights = [('Brno', 'London'), ('Ostrava', 'Split'), ('Brno', 'Berlin')]\n",
    "routes = collections.defaultdict(list)\n",
    "\n",
    "for (origin, destination) in flights:\n",
    "    routes[origin].append(destination)\n",
    "\n",
    "reversed_routes = {destination: origin for origin, destinations in routes.items() for destination in destinations}\n",
    "\n",
    "print(reversed_routes)"
   ]
  },
  {
   "cell_type": "code",
   "execution_count": 37,
   "metadata": {},
   "outputs": [
    {
     "name": "stdout",
     "output_type": "stream",
     "text": [
      "Cyril\n",
      "Ada\n"
     ]
    }
   ],
   "source": [
    "teststr1 = 'Ada;Bob;Bob;Ada;Cyril;Ada;Cyril'\n",
    "teststr2 = 'Dan@Ada@Ada@Dan@Cyril@Ed@Frank'\n",
    "\n",
    "used_by_both = set(name for name in teststr1.split(';') if name in teststr2.split('@'))\n",
    "\n",
    "for en in used_by_both:\n",
    "    print(en)"
   ]
  },
  {
   "cell_type": "code",
   "execution_count": null,
   "metadata": {},
   "outputs": [
    {
     "name": "stdout",
     "output_type": "stream",
     "text": [
      "{'p': 365, 'r': 34, 's': 3}\n"
     ]
    }
   ],
   "source": [
    "mcase = {'P': 300, 'R': 34, 'p': 65, 's': 3}\n",
    "\n",
    "mcase_frequency = {elem.lower(): sum(v for k, v in mcase.items() if k.lower() == elem.lower()) for elem in mcase}\n",
    "print(mcase_frequency)"
   ]
  },
  {
   "cell_type": "code",
   "execution_count": 7,
   "metadata": {},
   "outputs": [
    {
     "name": "stdout",
     "output_type": "stream",
     "text": [
      "entering E\n",
      "entering B\n",
      "entering A\n",
      "no super() in C\n",
      "leaving A\n",
      "leaving B\n",
      "leaving E\n"
     ]
    }
   ],
   "source": [
    "class A(object):\n",
    "    def __init__(self):\n",
    "        print(\"entering A\")\n",
    "        super().__init__()\n",
    "        print(\"leaving A\")\n",
    "\n",
    "class B(A):\n",
    "    def __init__(self):\n",
    "        print(\"entering B\")\n",
    "        super().__init__()\n",
    "        print(\"leaving B\")\n",
    "\n",
    "class C(object):\n",
    "    def __init__(self):\n",
    "        print(\"no super() in C\")\n",
    "\n",
    "class D(object):\n",
    "    def __init__(self):\n",
    "        print(\"entering D\")\n",
    "        super().__init__()\n",
    "        print(\"leaving D\")\n",
    "\n",
    "class E(B, C, D):\n",
    "    def __init__(self):\n",
    "        print(\"entering E\")\n",
    "        super().__init__()\n",
    "        print(\"leaving E\")\n",
    "\n",
    "e = E()\n"
   ]
  },
  {
   "cell_type": "code",
   "execution_count": 21,
   "metadata": {},
   "outputs": [
    {
     "name": "stdout",
     "output_type": "stream",
     "text": [
      "([4], [8, 9])\n",
      "([4], [2, 3])\n"
     ]
    }
   ],
   "source": [
    "def dupl_with_given_key(iterable, key= lambda x: x):\n",
    "    seen = [] \n",
    "    for item in iterable:\n",
    "        if key(item) in seen:\n",
    "            yield item  \n",
    "        else:\n",
    "            seen.append(key(item))  \n",
    "\n",
    "print(tuple(dupl_with_given_key([[1], [2,3], [4], [5,6,7], [8,9]], key=len)))\n",
    "# Výstup: ([4], [8, 9])\n",
    "print(tuple(dupl_with_given_key([[2,3], [4], [1], [4], [2,3]])))\n",
    "# Výstup: ([4], [2, 3])"
   ]
  },
  {
   "cell_type": "code",
   "execution_count": 15,
   "metadata": {},
   "outputs": [
    {
     "name": "stdout",
     "output_type": "stream",
     "text": [
      "12 -5 $345 -18 $9 4mm $25\n"
     ]
    }
   ],
   "source": [
    "import re\n",
    "text = '12 -5 345 -18 9 4mm 25'\n",
    "pat = r'(?<=[^\\-]\\b)(?=\\d+?\\b)'\n",
    "print(re.sub(pat, '$', text))"
   ]
  },
  {
   "cell_type": "markdown",
   "metadata": {},
   "source": [
    "Changelog:\n",
    "- 2-6-2024 - Vytvorenie dokumentu\n",
    "- 11.5.2025 - fixed AnagramStr, added some examples, regex and midterm 2025\n",
    "\n",
    "\n",
    "Authors:\n",
    "- HiImMilan \n",
    "- Kubikuli\n",
    "\n",
    "\n",
    "### Chýbaju Ti tu nejaké zadania / máš nové úlohy? Pridaj ích sem, pridaj to do changelogu a pridaj si meno do autora."
   ]
  }
 ],
 "metadata": {
  "kernelspec": {
   "display_name": "3.11.7",
   "language": "python",
   "name": "python3"
  },
  "language_info": {
   "codemirror_mode": {
    "name": "ipython",
    "version": 3
   },
   "file_extension": ".py",
   "mimetype": "text/x-python",
   "name": "python",
   "nbconvert_exporter": "python",
   "pygments_lexer": "ipython3",
   "version": "3.11.7"
  }
 },
 "nbformat": 4,
 "nbformat_minor": 2
}
